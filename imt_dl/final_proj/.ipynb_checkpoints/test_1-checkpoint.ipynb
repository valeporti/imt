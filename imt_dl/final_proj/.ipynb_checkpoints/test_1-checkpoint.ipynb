{
 "cells": [
  {
   "cell_type": "code",
   "execution_count": 2,
   "metadata": {},
   "outputs": [
    {
     "name": "stderr",
     "output_type": "stream",
     "text": [
      "Using TensorFlow backend.\n"
     ]
    }
   ],
   "source": [
    "from keras import layers, models\n",
    "from keras import initializers , preprocessing\n",
    "import numpy as np\n",
    "import re"
   ]
  },
  {
   "cell_type": "code",
   "execution_count": 3,
   "metadata": {},
   "outputs": [
    {
     "name": "stdout",
     "output_type": "stream",
     "text": [
      "abcdefghijklmnopqrstuvwxyz0123456789-,;.!?:'\"/\\|_@#$%^&*~`+-=<>()[]{}\n",
      "\n",
      "70\n"
     ]
    }
   ],
   "source": [
    "# Alphabet\n",
    "# \"abcdefghijklmnopqrstuvwxyz0123456789-,;.!?:'\\\"/\\\\|_@#$%^&*~`+-=<>()[]{}\"\n",
    "letters = \"abcdefghijklmnopqrstuvwxyz\"\n",
    "numbers = \"0123456789\"\n",
    "other_char = \"-,;.!?:'\\\"/\\\\|_@#$%^&*~`+-=<>()[]{}\" # original: -,;.!?:’’’/\\|_@#$%ˆ&* ̃‘+-=<>()[]{}, changed: -,;.!?:’/\\|_@#$%ˆ&* ̃‘+-=<>()[]{}\n",
    "new_line = \"\\n\"\n",
    "\n",
    "final_string = letters + numbers + other_char + new_line\n",
    "print(final_string)\n",
    "print(len(final_string))"
   ]
  },
  {
   "cell_type": "code",
   "execution_count": 4,
   "metadata": {},
   "outputs": [],
   "source": [
    "# Get text\n",
    "\n",
    "text = \"hel o\""
   ]
  },
  {
   "cell_type": "code",
   "execution_count": 5,
   "metadata": {},
   "outputs": [],
   "source": [
    "# Character Quantization\n",
    "\n",
    "# [70 rows (the alphabet), text lenght columns]\n",
    "\n",
    "def quantize_text(alphabet, text):\n",
    "    results = np.zeros((len(alphabet), len(text)))\n",
    "    for i, char in enumerate(text):\n",
    "        if char.lower() in alphabet:\n",
    "            results[alphabet.index(char.lower()), i] = 1\n",
    "    return results\n",
    "\n",
    "quantized_text = quantize_text(final_string, text)"
   ]
  },
  {
   "cell_type": "code",
   "execution_count": 6,
   "metadata": {},
   "outputs": [
    {
     "name": "stdout",
     "output_type": "stream",
     "text": [
      "[[0. 0. 0. 0. 0.]\n",
      " [0. 0. 0. 0. 0.]\n",
      " [0. 0. 0. 0. 0.]\n",
      " [0. 0. 0. 0. 0.]\n",
      " [0. 1. 0. 0. 0.]\n",
      " [0. 0. 0. 0. 0.]\n",
      " [0. 0. 0. 0. 0.]\n",
      " [1. 0. 0. 0. 0.]\n",
      " [0. 0. 0. 0. 0.]\n",
      " [0. 0. 0. 0. 0.]\n",
      " [0. 0. 0. 0. 0.]\n",
      " [0. 0. 1. 0. 0.]\n",
      " [0. 0. 0. 0. 0.]\n",
      " [0. 0. 0. 0. 0.]\n",
      " [0. 0. 0. 0. 1.]\n",
      " [0. 0. 0. 0. 0.]\n",
      " [0. 0. 0. 0. 0.]\n",
      " [0. 0. 0. 0. 0.]\n",
      " [0. 0. 0. 0. 0.]\n",
      " [0. 0. 0. 0. 0.]\n",
      " [0. 0. 0. 0. 0.]\n",
      " [0. 0. 0. 0. 0.]\n",
      " [0. 0. 0. 0. 0.]\n",
      " [0. 0. 0. 0. 0.]\n",
      " [0. 0. 0. 0. 0.]\n",
      " [0. 0. 0. 0. 0.]\n",
      " [0. 0. 0. 0. 0.]\n",
      " [0. 0. 0. 0. 0.]\n",
      " [0. 0. 0. 0. 0.]\n",
      " [0. 0. 0. 0. 0.]\n",
      " [0. 0. 0. 0. 0.]\n",
      " [0. 0. 0. 0. 0.]\n",
      " [0. 0. 0. 0. 0.]\n",
      " [0. 0. 0. 0. 0.]\n",
      " [0. 0. 0. 0. 0.]\n",
      " [0. 0. 0. 0. 0.]\n",
      " [0. 0. 0. 0. 0.]\n",
      " [0. 0. 0. 0. 0.]\n",
      " [0. 0. 0. 0. 0.]\n",
      " [0. 0. 0. 0. 0.]\n",
      " [0. 0. 0. 0. 0.]\n",
      " [0. 0. 0. 0. 0.]\n",
      " [0. 0. 0. 0. 0.]\n",
      " [0. 0. 0. 0. 0.]\n",
      " [0. 0. 0. 0. 0.]\n",
      " [0. 0. 0. 0. 0.]\n",
      " [0. 0. 0. 0. 0.]\n",
      " [0. 0. 0. 0. 0.]\n",
      " [0. 0. 0. 0. 0.]\n",
      " [0. 0. 0. 0. 0.]\n",
      " [0. 0. 0. 0. 0.]\n",
      " [0. 0. 0. 0. 0.]\n",
      " [0. 0. 0. 0. 0.]\n",
      " [0. 0. 0. 0. 0.]\n",
      " [0. 0. 0. 0. 0.]\n",
      " [0. 0. 0. 0. 0.]\n",
      " [0. 0. 0. 0. 0.]\n",
      " [0. 0. 0. 0. 0.]\n",
      " [0. 0. 0. 0. 0.]\n",
      " [0. 0. 0. 0. 0.]\n",
      " [0. 0. 0. 0. 0.]\n",
      " [0. 0. 0. 0. 0.]\n",
      " [0. 0. 0. 0. 0.]\n",
      " [0. 0. 0. 0. 0.]\n",
      " [0. 0. 0. 0. 0.]\n",
      " [0. 0. 0. 0. 0.]\n",
      " [0. 0. 0. 0. 0.]\n",
      " [0. 0. 0. 0. 0.]\n",
      " [0. 0. 0. 0. 0.]\n",
      " [0. 0. 0. 0. 0.]]\n"
     ]
    }
   ],
   "source": [
    "print(quantized_text)\n"
   ]
  },
  {
   "cell_type": "code",
   "execution_count": 7,
   "metadata": {},
   "outputs": [],
   "source": [
    "# type of text\n",
    "# __label__2 This is my first PDA/Organizer: I purchased this about 4 months ago and it really is easy to use especially if you are familiar with Microsoft Word and Excel. I use it to copy files from my PC that I want to have handy. The only thing I wish it had is a backlight. But that hasn't come into play too often. I usually have to charge it every 2 or 3 days. I recommend this product if you are not worried about having a lot accessories to go with it, because they are not that many available.\n",
    "# __label__1 Piece of Crap: I have ordered thousands of items in my lifetime, and bar none, this is the biggest piece of crap I have ever received. It is supposed to come completely put together, but when it arrived, there were no less than 10 little parts that had come off the screen assembly and one screen that was loose and all of its parts dangling. The first thing that happenned is that I cut myself on one of the screens because the protective side had come off. I was bleeding for quite some time. The second thing I noticed was the extremely poor quality of the material and assembly. I am very handy by nature, but even I had to give up trying to put this piece of junk back together again. Plus it was not worth it, even if I had put it together again, all I would have then had was a piece of crap fireplace screen.\n",
    "# data from  https://www.kaggle.com/bittlingmayer/amazonreviews\n",
    "\n",
    "dir_name = './data/'\n",
    "test_file_name = 'test.ft.txt'\n",
    "train_file_name = 'train.ft.txt'\n",
    "\n",
    "\n",
    "def getListOfLabelsAndLinesFromFile(file_name): # label 1 = 0, label 2 = 1\n",
    "    \n",
    "    labels = []\n",
    "    lines = []\n",
    "    total_labels = []\n",
    "    count = 0\n",
    "    file = open(file_name, 'r')\n",
    "    for line in file:\n",
    "        match = re.match('(__label__([0-9])) (.*)', line)\n",
    "        if match:\n",
    "            label = int(match.group(2))\n",
    "            text = match.group(3)\n",
    "            if not label in total_labels: total_labels.append(label)\n",
    "            labels.append(label - 1)\n",
    "            lines.append(text)\n",
    "        else:\n",
    "            print('---- ERROR ----')\n",
    "        count += 1\n",
    "    file.close()\n",
    "    return { 'labels': labels, 'lines': lines, 'total_labels': total_labels, 'total_lines': count }\n",
    "\n",
    "train_data_info = getListOfLabelsAndLinesFromFile(dir_name + train_file_name)\n",
    "test_data_info = getListOfLabelsAndLinesFromFile(dir_name + test_file_name)\n"
   ]
  },
  {
   "cell_type": "code",
   "execution_count": 7,
   "metadata": {},
   "outputs": [
    {
     "name": "stdout",
     "output_type": "stream",
     "text": [
      "WARNING:tensorflow:From /home/valeporti/.local/lib/python3.6/site-packages/tensorflow/python/framework/op_def_library.py:263: colocate_with (from tensorflow.python.framework.ops) is deprecated and will be removed in a future version.\n",
      "Instructions for updating:\n",
      "Colocations handled automatically by placer.\n",
      "WARNING:tensorflow:From /home/valeporti/.local/lib/python3.6/site-packages/keras/backend/tensorflow_backend.py:3445: calling dropout (from tensorflow.python.ops.nn_ops) with keep_prob is deprecated and will be removed in a future version.\n",
      "Instructions for updating:\n",
      "Please use `rate` instead of `keep_prob`. Rate should be set to `rate = 1 - keep_prob`.\n",
      "_________________________________________________________________\n",
      "Layer (type)                 Output Shape              Param #   \n",
      "=================================================================\n",
      "embedding_1 (Embedding)      (None, 1014, 128)         8960      \n",
      "_________________________________________________________________\n",
      "conv1d_1 (Conv1D)            (None, 1008, 256)         229632    \n",
      "_________________________________________________________________\n",
      "max_pooling1d_1 (MaxPooling1 (None, 336, 256)          0         \n",
      "_________________________________________________________________\n",
      "conv1d_2 (Conv1D)            (None, 330, 256)          459008    \n",
      "_________________________________________________________________\n",
      "max_pooling1d_2 (MaxPooling1 (None, 110, 256)          0         \n",
      "_________________________________________________________________\n",
      "conv1d_3 (Conv1D)            (None, 108, 256)          196864    \n",
      "_________________________________________________________________\n",
      "conv1d_4 (Conv1D)            (None, 106, 256)          196864    \n",
      "_________________________________________________________________\n",
      "conv1d_5 (Conv1D)            (None, 104, 256)          196864    \n",
      "_________________________________________________________________\n",
      "conv1d_6 (Conv1D)            (None, 102, 256)          196864    \n",
      "_________________________________________________________________\n",
      "max_pooling1d_3 (MaxPooling1 (None, 34, 256)           0         \n",
      "_________________________________________________________________\n",
      "flatten_1 (Flatten)          (None, 8704)              0         \n",
      "_________________________________________________________________\n",
      "dense_1 (Dense)              (None, 1024)              8913920   \n",
      "_________________________________________________________________\n",
      "dropout_1 (Dropout)          (None, 1024)              0         \n",
      "_________________________________________________________________\n",
      "dense_2 (Dense)              (None, 1024)              1049600   \n",
      "_________________________________________________________________\n",
      "dropout_2 (Dropout)          (None, 1024)              0         \n",
      "_________________________________________________________________\n",
      "dense_3 (Dense)              (None, 1)                 1025      \n",
      "=================================================================\n",
      "Total params: 11,449,601\n",
      "Trainable params: 11,449,601\n",
      "Non-trainable params: 0\n",
      "_________________________________________________________________\n"
     ]
    }
   ],
   "source": [
    "# Create Model\n",
    "# https://medium.com/@romannempyre/sentiment-analysis-using-1d-convolutional-neural-networks-part-1-f8b6316489a2\n",
    "# https://github.com/chaitjo/character-level-cnn\n",
    "# https://missinglink.ai/guides/deep-learning-frameworks/keras-conv1d-working-1d-convolutional-neural-networks-keras/\n",
    "# https://blog.goodaudience.com/introduction-to-1d-convolutional-neural-networks-in-keras-for-time-sequences-3a7ff801a2cf?gi=5c4a324fc922\n",
    "# https://medium.com/@bramblexu/character-level-cnn-with-keras-50391c3adf33\n",
    "\n",
    "# Embedding\n",
    "max_len_text = 1014\n",
    "max_features_for_embedding = 70 \n",
    "output_from_embedding = 128\n",
    "\n",
    "# Large Model\n",
    "initializer_large = { 'mean': 0.0, 'stddev': 0.02}\n",
    "activation_conv = 'relu'\n",
    "conv_output_dim = 256\n",
    "pool_size = 3\n",
    "kernel_size_7 = 7 # first_WITH_maxpool\n",
    "kernel_size_3 = 3 # intermediate_NO_maxpool\n",
    "\n",
    "# Small model\n",
    "initializer_small = { 'mean': 0.0, 'stddev': 0.05}\n",
    "activation_dens = 'relu'\n",
    "dropout_rate = 0.5\n",
    "\n",
    "model = models.Sequential() \n",
    "\n",
    "# AS the one hot approach, leave us with a very sparse and high dimensional matrix, we apply embedding\n",
    "# We specify the maximum input length to our Embedding layer\n",
    "# so we can later flatten the embedded inputs\n",
    "# Embedding ( \n",
    "#    max_features/input_dim = we got just 70 different types of inputs / Size of the vocabulary, \n",
    "#    output_dim = learn N dimensional embeddings for each of the input_dim words/characters,\n",
    "#    input_length needed to flatten = cut the words/characters of each element to that lenght so the max\n",
    "#                                     qty of elements in each phrase will be that one\n",
    "# )    \n",
    "model.add(layers.Embedding(max_features_for_embedding, output_from_embedding, input_length=max_len_text))\n",
    "# After the Embedding layer,\n",
    "# our activations have shape `(samples, maxlen, 8)`.\n",
    "# Output: (batch dimension, input_length, output_dim)\n",
    "\n",
    "# Convolutional Layer 1D\n",
    "# In text \n",
    "# Conv1D(\n",
    "#    filters = dimensionality of the output space\n",
    "#    kernel_size = window_size\n",
    "#    stride = position jumps of the window (defaults to 1)\n",
    "# )\n",
    "initializer_large_model = initializers.RandomNormal(mean=0.0, stddev=0.02, seed=None)\n",
    "model.add(layers.Conv1D(filters=conv_output_dim, kernel_size=kernel_size_7, activation=activation_conv, kernel_initializer=initializer_large_model))\n",
    "\n",
    "# Max Pooling 1D\n",
    "# MaxPool1D(\n",
    "#    pool_size = window size\n",
    "#    strides = by default equals pool_size, so each window doesn't overlap\n",
    "# )\n",
    "model.add(layers.MaxPool1D(pool_size=pool_size))\n",
    "model.add(layers.Conv1D(filters=conv_output_dim, kernel_size=kernel_size_7, activation=activation_conv))\n",
    "model.add(layers.MaxPool1D(pool_size=pool_size))\n",
    "model.add(layers.Conv1D(filters=conv_output_dim, kernel_size=kernel_size_3, activation=activation_conv))\n",
    "model.add(layers.Conv1D(filters=conv_output_dim, kernel_size=kernel_size_3, activation=activation_conv))\n",
    "model.add(layers.Conv1D(filters=conv_output_dim, kernel_size=kernel_size_3, activation=activation_conv))\n",
    "model.add(layers.Conv1D(filters=conv_output_dim, kernel_size=kernel_size_3, activation=activation_conv))\n",
    "model.add(layers.MaxPool1D(pool_size=pool_size))\n",
    "\n",
    "# Second part, full connected layers\n",
    "initializer_large_model = initializers.RandomNormal(mean=0.0, stddev=0.05, seed=None)\n",
    "model.add(layers.Flatten())\n",
    "model.add(layers.Dense(1024, activation=activation_dens, kernel_initializer=initializer_large_model))\n",
    "model.add(layers.Dropout(dropout_rate))\n",
    "model.add(layers.Dense(1024, activation=activation_dens))\n",
    "model.add(layers.Dropout(dropout_rate))\n",
    "\n",
    "# Last layer, according to problem to solve\n",
    "# (just have 2 classes)\n",
    "model.add(layers.Dense(1, activation='sigmoid'))\n",
    "\n",
    "model.summary()"
   ]
  },
  {
   "cell_type": "code",
   "execution_count": 8,
   "metadata": {},
   "outputs": [],
   "source": [
    "# add optimizer and loss function and metrics to return \n",
    "model.compile(optimizer='rmsprop', loss='binary_crossentropy', metrics=['accuracy'])"
   ]
  },
  {
   "cell_type": "code",
   "execution_count": 14,
   "metadata": {},
   "outputs": [
    {
     "name": "stdout",
     "output_type": "stream",
     "text": [
      "<keras_preprocessing.text.Tokenizer object at 0x7f93a99fc828>\n",
      "[[8, 19, 6, 2, 21, 4, 5, 43, 14, 26, 13, 16, 23, 6, 13, 26, 17, 2, 21, 9, 2, 20, 16, 15, 6, 16, 7, 21, 9, 6, 8, 19, 6, 2, 21, 23, 16, 10, 4, 6, 20, 16, 7, 9, 6, 19, 8, 6, 15, 6, 19, 2, 21, 10, 16, 15, 40, 10, 9, 2, 23, 6, 13, 10, 20, 21, 6, 15, 6, 5, 21, 16, 21, 9, 10, 20, 4, 5, 7, 16, 19, 26, 6, 2, 19, 20, 2, 15, 5, 10, 20, 21, 10, 13, 13, 13, 16, 23, 6, 10, 21, 40, 24, 9, 6, 15, 10, 44, 14, 10, 15, 2, 8, 16, 16, 5, 14, 16, 16, 5, 10, 21, 14, 2, 12, 6, 20, 14, 6, 7, 6, 6, 13, 3, 6, 21, 21, 6, 19, 40, 2, 3, 2, 5, 14, 16, 16, 5, 11, 22, 20, 21, 6, 23, 2, 17, 16, 19, 2, 21, 6, 20, 13, 10, 12, 6, 20, 22, 8, 2, 19, 10, 15, 21, 9, 6, 19, 2, 10, 15, 40, 21, 9, 10, 20, 4, 5, 11, 22, 20, 21, 16, 16, 27, 6, 20, 13, 10, 7, 6, 40, 23, 16, 4, 2, 13, 20, 2, 19, 6, 11, 22, 20, 2, 21, 20, 21, 22, 22, 15, 15, 10, 15, 8, 2, 15, 5, 13, 26, 19, 10, 4, 20, 11, 22, 20, 21, 12, 10, 13, 13, 40, 16, 15, 6, 16, 7, 13, 10, 7, 6, 44, 20, 9, 10, 5, 5, 6, 15, 8, 6, 14, 20, 40, 21, 9, 10, 20, 10, 20, 2, 5, 6, 20, 6, 19, 21, 10, 20, 13, 6, 4, 5, 10, 15, 14, 26, 3, 16, 16, 12, 40, 24, 9, 26, 20, 9, 6, 15, 6, 23, 6, 19, 14, 2, 5, 6, 10, 21, 3, 10, 8, 10, 20, 11, 22, 20, 21, 3, 6, 26, 16, 15, 5, 14, 6, 40, 6, 23, 6, 19, 26, 21, 10, 14, 6, 10, 17, 13, 2, 26, 21, 9, 10, 20, 38, 15, 16, 14, 2, 21, 21, 6, 19, 3, 13, 2, 4, 12, 38, 24, 9, 10, 21, 6, 38, 26, 16, 22, 15, 8, 38, 16, 13, 5, 38, 14, 2, 13, 6, 38, 7, 6, 14, 2, 13, 6, 6, 23, 6, 19, 26, 3, 16, 5, 26, 20, 2, 26, 20, 16, 15, 6, 21, 9, 10, 15, 8, 45, 24, 9, 16, 24, 2, 20, 21, 9, 2, 21, 20, 10, 15, 8, 10, 15, 8, 42, 45], [16, 15, 6, 16, 7, 21, 9, 6, 3, 6, 20, 21, 8, 2, 14, 6, 14, 22, 20, 10, 4, 20, 16, 22, 15, 5, 21, 19, 2, 4, 12, 20, 1, 7, 16, 19, 2, 8, 2, 14, 6, 10, 5, 10, 5, 15, 44, 21, 19, 6, 2, 13, 13, 26, 17, 13, 2, 26, 43, 5, 6, 20, 17, 10, 21, 6, 21, 9, 6, 7, 2, 4, 21, 21, 9, 2, 21, 10, 9, 2, 23, 6, 16, 15, 13, 26, 17, 13, 2, 26, 6, 5, 2, 20, 14, 2, 13, 13, 17, 16, 19, 21, 10, 16, 15, 16, 7, 21, 9, 6, 8, 2, 14, 6, 38, 21, 9, 6, 14, 22, 20, 10, 4, 10, 9, 6, 2, 19, 5, 63, 17, 13, 22, 20, 21, 9, 6, 4, 16, 15, 15, 6, 4, 21, 10, 16, 15, 21, 16, 4, 9, 19, 16, 15, 16, 21, 19, 10, 8, 8, 6, 19, 24, 9, 10, 4, 9, 24, 2, 20, 8, 19, 6, 2, 21, 2, 20, 24, 6, 13, 13, 64, 13, 6, 5, 14, 6, 21, 16, 17, 22, 19, 4, 9, 2, 20, 6, 21, 9, 6, 20, 16, 22, 15, 5, 21, 19, 2, 4, 12, 38, 2, 15, 5, 10, 21, 19, 6, 14, 2, 10, 15, 20, 16, 15, 6, 16, 7, 14, 26, 7, 2, 23, 16, 19, 10, 21, 6, 2, 13, 3, 22, 14, 20, 40, 21, 9, 6, 19, 6, 10, 20, 2, 15, 10, 15, 4, 19, 6, 5, 10, 3, 13, 6, 14, 10, 25, 16, 7, 7, 22, 15, 38, 6, 17, 10, 4, 38, 2, 15, 5, 6, 14, 16, 21, 10, 16, 15, 2, 13, 20, 16, 15, 8, 20, 40, 21, 9, 16, 20, 6, 20, 2, 5, 2, 15, 5, 3, 6, 2, 22, 21, 10, 7, 22, 13, 21, 19, 2, 4, 12, 20, 10, 6, 20, 17, 6, 4, 10, 2, 13, 13, 26, 13, 10, 12, 6, 38, 2, 20, 21, 9, 6, 19, 6, 44, 20, 15, 16, 21, 21, 16, 16, 14, 2, 15, 26, 16, 7, 21, 9, 16, 20, 6, 12, 10, 15, 5, 20, 16, 7, 20, 16, 15, 8, 20, 10, 15, 14, 26, 16, 21, 9, 6, 19, 23, 10, 5, 6, 16, 8, 2, 14, 6, 20, 16, 22, 15, 5, 21, 19, 2, 4, 12, 20, 40, 10, 14, 22, 20, 21, 2, 5, 14, 10, 21, 21, 9, 2, 21, 16, 15, 6, 16, 7, 21, 9, 6, 20, 16, 15, 8, 20, 63, 13, 10, 7, 6, 1, 2, 5, 10, 20, 21, 2, 15, 21, 17, 19, 16, 14, 10, 20, 6, 64, 9, 2, 20, 3, 19, 16, 22, 8, 9, 21, 21, 6, 2, 19, 20, 21, 16, 14, 26, 6, 26, 6, 20, 16, 15, 14, 2, 15, 26, 16, 4, 4, 2, 20, 10, 16, 15, 20, 40, 14, 26, 16, 15, 6, 4, 16, 14, 17, 13, 2, 10, 15, 21, 2, 3, 16, 22, 21, 21, 9, 10, 20, 20, 16, 22, 15, 5, 21, 19, 2, 4, 12, 10, 20, 21, 9, 2, 21, 21, 9, 6, 26, 22, 20, 6, 8, 22, 10, 21, 2, 19, 7, 19, 6, 21, 21, 10, 15, 8, 6, 7, 7, 6, 4, 21, 20, 10, 15, 14, 2, 15, 26, 16, 7, 21, 9, 6, 20, 16, 15, 8, 20, 38, 24, 9, 10, 4, 9, 10, 7, 10, 15, 5, 5, 10, 20, 21, 19, 2, 4, 21, 10, 15, 8, 40, 3, 22, 21, 6, 23, 6, 15, 10, 7, 21, 9, 16, 20, 6, 24, 6, 19, 6, 15, 44, 21, 10, 15, 4, 13, 22, 5, 6, 5, 10, 24, 16, 22, 13, 5, 20, 21, 10, 13, 13, 4, 16, 15, 20, 10, 5, 6, 19, 21, 9, 6, 4, 16, 13, 13, 6, 4, 21, 10, 16, 15, 24, 16, 19, 21, 9, 10, 21, 40], [3, 2, 21, 21, 6, 19, 10, 6, 20, 5, 10, 6, 5, 24, 10, 21, 9, 10, 15, 2, 26, 6, 2, 19, 40, 40, 40, 43, 10, 3, 16, 22, 8, 9, 21, 21, 9, 10, 20, 4, 9, 2, 19, 8, 6, 19, 10, 15, 11, 22, 13, 30, 28, 28, 31, 2, 15, 5, 10, 21, 24, 16, 19, 12, 6, 5, 16, 12, 7, 16, 19, 2, 24, 9, 10, 13, 6, 40, 21, 9, 6, 5, 6, 20, 10, 8, 15, 10, 20, 15, 10, 4, 6, 2, 15, 5, 4, 16, 15, 23, 6, 15, 10, 6, 15, 21, 40, 9, 16, 24, 6, 23, 6, 19, 38, 2, 7, 21, 6, 19, 2, 3, 16, 22, 21, 2, 26, 6, 2, 19, 38, 21, 9, 6, 3, 2, 21, 21, 6, 19, 10, 6, 20, 24, 16, 22, 13, 5, 15, 16, 21, 9, 16, 13, 5, 2, 4, 9, 2, 19, 8, 6, 40, 14, 10, 8, 9, 21, 2, 20, 24, 6, 13, 13, 11, 22, 20, 21, 8, 6, 21, 2, 13, 12, 2, 13, 10, 15, 6, 5, 10, 20, 17, 16, 20, 2, 3, 13, 6, 20, 38, 16, 19, 13, 16, 16, 12, 6, 13, 20, 6, 24, 9, 6, 19, 6, 7, 16, 19, 2, 4, 9, 2, 19, 8, 6, 19, 21, 9, 2, 21, 4, 16, 14, 6, 20, 24, 10, 21, 9, 3, 2, 21, 21, 6, 19, 10, 6, 20, 21, 9, 2, 21, 9, 2, 23, 6, 3, 6, 21, 21, 6, 19, 20, 21, 2, 26, 10, 15, 8, 17, 16, 24, 6, 19, 40]]\n"
     ]
    }
   ],
   "source": [
    "# treat the data before passing it to the model\n",
    "# train_data_info \n",
    "# test_data_info \n",
    "# { 'labels': , 'lines': , 'total_labels': , 'total_lines':  }\n",
    "\n",
    "small_file_name = 'small.txt'\n",
    "small_data_info = getListOfLabelsAndLinesFromFile(dir_name + small_file_name)\n",
    "\n",
    "tokenizer = preprocessing.text.Tokenizer(char_level=True, lower=True, filters=final_string)\n",
    "tokenizer.fit_on_texts(final_string)\n",
    "\n",
    "print(tokenizer)\n",
    "sequences = tokenizer.texts_to_sequences(small_data_info['lines'])\n",
    "print(sequences)\n",
    "\n",
    "#one_hot_results = tokenizer.texts_to_matrix(train_data_info['lines'], mode='binary')"
   ]
  },
  {
   "cell_type": "code",
   "execution_count": 10,
   "metadata": {},
   "outputs": [],
   "source": [
    "# Tokenize my way\n",
    "# AVOID.. A LOT OF MEMORY!!!\n",
    "small_file_name = 'small.txt'\n",
    "small_data_info = getListOfLabelsAndLinesFromFile(dir_name + small_file_name)\n",
    "\n",
    "def getAllLinesQuantized(lines, alphabet):\n",
    "    quantized_text = []\n",
    "    for line in lines:\n",
    "        quantized = quantize_text(alphabet, line)\n",
    "        quantized_text.append(quantized)\n",
    "    return quantized_text\n",
    "\n",
    "quantized_text = getAllLinesQuantized(small_data_info['lines'], final_string)\n"
   ]
  },
  {
   "cell_type": "code",
   "execution_count": null,
   "metadata": {},
   "outputs": [],
   "source": [
    "test_inputs = getAllLinesQuantized(test_data_info['lines'], final_string)"
   ]
  },
  {
   "cell_type": "code",
   "execution_count": null,
   "metadata": {},
   "outputs": [],
   "source": []
  },
  {
   "cell_type": "code",
   "execution_count": null,
   "metadata": {},
   "outputs": [],
   "source": [
    "\n",
    "\n",
    "# run the model\n",
    "history = model.fit()"
   ]
  }
 ],
 "metadata": {
  "kernelspec": {
   "display_name": "Python 3",
   "language": "python",
   "name": "python3"
  },
  "language_info": {
   "codemirror_mode": {
    "name": "ipython",
    "version": 3
   },
   "file_extension": ".py",
   "mimetype": "text/x-python",
   "name": "python",
   "nbconvert_exporter": "python",
   "pygments_lexer": "ipython3",
   "version": "3.6.7"
  }
 },
 "nbformat": 4,
 "nbformat_minor": 2
}
