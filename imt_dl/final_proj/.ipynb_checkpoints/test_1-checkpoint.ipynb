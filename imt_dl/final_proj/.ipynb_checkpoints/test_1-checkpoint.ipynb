{
 "cells": [
  {
   "cell_type": "code",
   "execution_count": null,
   "metadata": {},
   "outputs": [],
   "source": [
    "from keras import layers\n",
    "from keras import models\n",
    "import numpy as np"
   ]
  },
  {
   "cell_type": "code",
   "execution_count": 39,
   "metadata": {},
   "outputs": [
    {
     "name": "stdout",
     "output_type": "stream",
     "text": [
      "abcdefghijklmnopqrstuvwxyz0123456789-,;.!?:’/\\|_@#$%ˆ&* ̃‘+-=<>()[]{}\n",
      "\n",
      "70\n"
     ]
    }
   ],
   "source": [
    "# Alphabet\n",
    "\n",
    "letters = \"abcdefghijklmnopqrstuvwxyz\"\n",
    "numbers = \"0123456789\"\n",
    "other_char = \"-,;.!?:’/\\|_@#$%ˆ&* ̃‘+-=<>()[]{}\" # original: -,;.!?:’’’/\\|_@#$%ˆ&* ̃‘+-=<>()[]{}\n",
    "new_line = \"\\n\"\n",
    "\n",
    "final_string = letters + numbers + other_char + new_line\n",
    "print(final_string)\n",
    "print(len(final_string))"
   ]
  },
  {
   "cell_type": "code",
   "execution_count": 36,
   "metadata": {},
   "outputs": [],
   "source": [
    "# Get text\n",
    "\n",
    "text = \"hello\\nallo\""
   ]
  },
  {
   "cell_type": "code",
   "execution_count": 37,
   "metadata": {},
   "outputs": [],
   "source": [
    "# Character Quantization\n",
    "\n",
    "def quantize_text(alphabet, text):\n",
    "    alph_len = len(alphabet)\n",
    "    results = np.zeros((alph_len, len(text)))\n",
    "    for i, char in enumerate(text): \n",
    "        results[alphabet.index(char), i] = 1\n",
    "    return results\n",
    "\n",
    "quantized_text = quantize_text(final_string, text)"
   ]
  },
  {
   "cell_type": "code",
   "execution_count": 42,
   "metadata": {},
   "outputs": [
    {
     "data": {
      "text/plain": [
       "array([0., 0., 0., 0., 0., 0., 1., 0., 0., 0.])"
      ]
     },
     "execution_count": 42,
     "metadata": {},
     "output_type": "execute_result"
    }
   ],
   "source": [
    "quantized_text[0]"
   ]
  },
  {
   "cell_type": "code",
   "execution_count": null,
   "metadata": {},
   "outputs": [],
   "source": [
    "# Create Model\n",
    "\n",
    "model = models.Sequential()\n",
    "model.add(layers.Conv2D(, (3, 3), activation='relu', input_shape=(1024, 256, 1)))\n",
    "model.add(layers.MaxPool2D(()))"
   ]
  }
 ],
 "metadata": {
  "kernelspec": {
   "display_name": "Python 3",
   "language": "python",
   "name": "python3"
  },
  "language_info": {
   "codemirror_mode": {
    "name": "ipython",
    "version": 3
   },
   "file_extension": ".py",
   "mimetype": "text/x-python",
   "name": "python",
   "nbconvert_exporter": "python",
   "pygments_lexer": "ipython3",
   "version": "3.6.7"
  }
 },
 "nbformat": 4,
 "nbformat_minor": 2
}
