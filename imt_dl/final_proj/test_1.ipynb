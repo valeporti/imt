{
 "cells": [
  {
   "cell_type": "code",
   "execution_count": 41,
   "metadata": {},
   "outputs": [],
   "source": [
    "from keras import layers\n",
    "from keras import models\n",
    "from keras import initializers\n",
    "import numpy as np"
   ]
  },
  {
   "cell_type": "code",
   "execution_count": 2,
   "metadata": {},
   "outputs": [
    {
     "name": "stdout",
     "output_type": "stream",
     "text": [
      "abcdefghijklmnopqrstuvwxyz0123456789-,;.!?:’/\\|_@#$%ˆ&* ̃‘+-=<>()[]{}\n",
      "\n",
      "70\n"
     ]
    }
   ],
   "source": [
    "# Alphabet\n",
    "\n",
    "letters = \"abcdefghijklmnopqrstuvwxyz\"\n",
    "numbers = \"0123456789\"\n",
    "other_char = \"-,;.!?:’/\\|_@#$%ˆ&* ̃‘+-=<>()[]{}\" # original: -,;.!?:’’’/\\|_@#$%ˆ&* ̃‘+-=<>()[]{}\n",
    "new_line = \"\\n\"\n",
    "\n",
    "final_string = letters + numbers + other_char + new_line\n",
    "print(final_string)\n",
    "print(len(final_string))"
   ]
  },
  {
   "cell_type": "code",
   "execution_count": 3,
   "metadata": {},
   "outputs": [],
   "source": [
    "# Get text\n",
    "\n",
    "text = \"hello\\nallo\""
   ]
  },
  {
   "cell_type": "code",
   "execution_count": 4,
   "metadata": {},
   "outputs": [],
   "source": [
    "# Character Quantization\n",
    "\n",
    "# [70 rows (the alphabet), text lenght columns]\n",
    "\n",
    "def quantize_text(alphabet, text):\n",
    "    alph_len = len(alphabet)\n",
    "    results = np.zeros((alph_len, len(text)))\n",
    "    for i, char in enumerate(text): \n",
    "        results[alphabet.index(char), i] = 1\n",
    "    return results\n",
    "\n",
    "quantized_text = quantize_text(final_string, text)"
   ]
  },
  {
   "cell_type": "code",
   "execution_count": 9,
   "metadata": {},
   "outputs": [
    {
     "name": "stdout",
     "output_type": "stream",
     "text": [
      "[0. 0. 0. 0. 0. 0. 1. 0. 0. 0.]\n",
      "[0. 0. 0. 0. 0. 0. 0. 0. 0. 0.]\n"
     ]
    }
   ],
   "source": [
    "print(quantized_text[0])\n",
    "print(quantized_text[1])"
   ]
  },
  {
   "cell_type": "code",
   "execution_count": null,
   "metadata": {},
   "outputs": [],
   "source": [
    "# AS the one hot approach, leave us with a very sparse and high dimensional matrix, we apply embedding\n",
    "input_text = layers.Input(shape=(1014,)) # input_text\n",
    "embedding_layer = layers.Embedding(70, 128, input_length=1014) # embedding_layer"
   ]
  },
  {
   "cell_type": "code",
   "execution_count": 48,
   "metadata": {},
   "outputs": [
    {
     "name": "stdout",
     "output_type": "stream",
     "text": [
      "_________________________________________________________________\n",
      "Layer (type)                 Output Shape              Param #   \n",
      "=================================================================\n",
      "embedding_19 (Embedding)     (None, 1014, 128)         8960      \n",
      "_________________________________________________________________\n",
      "conv1d_70 (Conv1D)           (None, 1008, 256)         229632    \n",
      "_________________________________________________________________\n",
      "max_pooling1d_39 (MaxPooling (None, 336, 256)          0         \n",
      "_________________________________________________________________\n",
      "conv1d_71 (Conv1D)           (None, 330, 256)          459008    \n",
      "_________________________________________________________________\n",
      "max_pooling1d_40 (MaxPooling (None, 110, 256)          0         \n",
      "_________________________________________________________________\n",
      "conv1d_72 (Conv1D)           (None, 108, 256)          196864    \n",
      "_________________________________________________________________\n",
      "conv1d_73 (Conv1D)           (None, 106, 256)          196864    \n",
      "_________________________________________________________________\n",
      "conv1d_74 (Conv1D)           (None, 104, 256)          196864    \n",
      "_________________________________________________________________\n",
      "conv1d_75 (Conv1D)           (None, 102, 256)          196864    \n",
      "_________________________________________________________________\n",
      "max_pooling1d_41 (MaxPooling (None, 34, 256)           0         \n",
      "_________________________________________________________________\n",
      "flatten_8 (Flatten)          (None, 8704)              0         \n",
      "_________________________________________________________________\n",
      "dense_19 (Dense)             (None, 1024)              8913920   \n",
      "_________________________________________________________________\n",
      "dropout_8 (Dropout)          (None, 1024)              0         \n",
      "_________________________________________________________________\n",
      "dense_20 (Dense)             (None, 1024)              1049600   \n",
      "_________________________________________________________________\n",
      "dropout_9 (Dropout)          (None, 1024)              0         \n",
      "_________________________________________________________________\n",
      "dense_21 (Dense)             (None, 4)                 4100      \n",
      "=================================================================\n",
      "Total params: 11,452,676\n",
      "Trainable params: 11,452,676\n",
      "Non-trainable params: 0\n",
      "_________________________________________________________________\n"
     ]
    }
   ],
   "source": [
    "# Create Model\n",
    "# https://medium.com/@romannempyre/sentiment-analysis-using-1d-convolutional-neural-networks-part-1-f8b6316489a2\n",
    "# https://github.com/chaitjo/character-level-cnn\n",
    "# https://missinglink.ai/guides/deep-learning-frameworks/keras-conv1d-working-1d-convolutional-neural-networks-keras/\n",
    "# https://blog.goodaudience.com/introduction-to-1d-convolutional-neural-networks-in-keras-for-time-sequences-3a7ff801a2cf?gi=5c4a324fc922\n",
    "\n",
    "model = models.Sequential() \n",
    "\n",
    "# We specify the maximum input length to our Embedding layer\n",
    "# so we can later flatten the embedded inputs\n",
    "# Embedding ( \n",
    "#    max_features/input_dim = we got just 70 different types of inputs / Size of the vocabulary, \n",
    "#    output_dim = learn N dimensional embeddings for each of the input_dim words/characters,\n",
    "#    input_length needed to flatten = cut the words/characters of each element to that lenght so the max\n",
    "#                                     qty of elements in each phrase will be that one\n",
    "# )    \n",
    "model.add(layers.Embedding(70, 128, input_length=1014))\n",
    "# After the Embedding layer,\n",
    "# our activations have shape `(samples, maxlen, 8)`.\n",
    "# Output: (batch dimension, input_length, output_dim)\n",
    "\n",
    "# Convolutional Layer 1D\n",
    "# In text \n",
    "# Conv1D(\n",
    "#    filters = dimensionality of the output space\n",
    "#    kernel_size\n",
    "#    activation\n",
    "#    stride\n",
    "# )\n",
    "initializer_large_model = initializers.RandomNormal(mean=0.0, stddev=0.02, seed=None)\n",
    "model.add(layers.Conv1D(filters=256, kernel_size=7, strides=1, activation='relu', kernel_initializer=initializer_large_model))\n",
    "\n",
    "# Max Pooling 1D\n",
    "model.add(layers.MaxPool1D(pool_size=3))\n",
    "model.add(layers.Conv1D(filters=256, kernel_size=7, strides=1, activation='relu'))\n",
    "model.add(layers.MaxPool1D(pool_size=3))\n",
    "model.add(layers.Conv1D(filters=256, kernel_size=3, strides=1, activation='relu'))\n",
    "model.add(layers.Conv1D(filters=256, kernel_size=3, strides=1, activation='relu'))\n",
    "model.add(layers.Conv1D(filters=256, kernel_size=3, strides=1, activation='relu'))\n",
    "model.add(layers.Conv1D(filters=256, kernel_size=3, strides=1, activation='relu'))\n",
    "model.add(layers.MaxPool1D(pool_size=3))\n",
    "\n",
    "# Second part, full connected layers\n",
    "initializer_large_model = initializers.RandomNormal(mean=0.0, stddev=0.05, seed=None)\n",
    "model.add(layers.Flatten())\n",
    "model.add(layers.Dense(1024, activation='relu', kernel_initializer=initializer_large_model))\n",
    "model.add(layers.Dropout(0.5))\n",
    "model.add(layers.Dense(1024, activation='relu'))\n",
    "model.add(layers.Dropout(0.5))\n",
    "\n",
    "# Last layer, according to problem to solve\n",
    "# (just have 2 classes)\n",
    "model.add(layers.Dense(1, activation='sigmoid'))\n",
    "\n",
    "model.summary()"
   ]
  },
  {
   "cell_type": "code",
   "execution_count": null,
   "metadata": {},
   "outputs": [],
   "source": [
    "# type of text\n",
    "# __label__2 This is my first PDA/Organizer: I purchased this about 4 months ago and it really is easy to use especially if you are familiar with Microsoft Word and Excel. I use it to copy files from my PC that I want to have handy. The only thing I wish it had is a backlight. But that hasn't come into play too often. I usually have to charge it every 2 or 3 days. I recommend this product if you are not worried about having a lot accessories to go with it, because they are not that many available.\n",
    "# __label__1 Piece of Crap: I have ordered thousands of items in my lifetime, and bar none, this is the biggest piece of crap I have ever received. It is supposed to come completely put together, but when it arrived, there were no less than 10 little parts that had come off the screen assembly and one screen that was loose and all of its parts dangling. The first thing that happenned is that I cut myself on one of the screens because the protective side had come off. I was bleeding for quite some time. The second thing I noticed was the extremely poor quality of the material and assembly. I am very handy by nature, but even I had to give up trying to put this piece of junk back together again. Plus it was not worth it, even if I had put it together again, all I would have then had was a piece of crap fireplace screen.\n",
    "# data from  https://www.kaggle.com/bittlingmayer/amazonreviews"
   ]
  }
 ],
 "metadata": {
  "kernelspec": {
   "display_name": "Python 3",
   "language": "python",
   "name": "python3"
  },
  "language_info": {
   "codemirror_mode": {
    "name": "ipython",
    "version": 3
   },
   "file_extension": ".py",
   "mimetype": "text/x-python",
   "name": "python",
   "nbconvert_exporter": "python",
   "pygments_lexer": "ipython3",
   "version": "3.6.7"
  }
 },
 "nbformat": 4,
 "nbformat_minor": 2
}
