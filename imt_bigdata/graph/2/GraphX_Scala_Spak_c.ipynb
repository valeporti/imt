{
 "cells": [
  {
   "cell_type": "markdown",
   "metadata": {},
   "source": [
    "# Tutorial : Analyse avec GraphX \n",
    "\n",
    "Ce notebook couvre les bases de l’analyse à l’aide de l’API GraphX. Le but de ce tutoriel est de vous montrer comment utiliser l’API GraphX pour réaliser une analyse graphique, en utilisant les données de vélo accessibles depuis le portail de la Bay Area Bike parts, analysant plus précisément l'année 2014 des données.\n",
    "\n",
    "Le traitement par à l'aide de graphes est un aspect de l’analyse qui s’applique à un grand nombre de cas d’utilisation. Fondamentalement, le traitement et la théorie des graphes reposent sur la définition des relations entre les différents nœuds et les arêtes (arcs). Les nœuds ou sommets sont les unités tandis que les arêtes définissent les relations entre les nœuds. Cela fonctionne très bien pour les algorithmes d'analyse et de gestion de réseau social comme PageRank.\n",
    "\n",
    "Références supplémentaires\n",
    "\n",
    "Théorie des graphes sur Wikipedia https://fr.wikipedia.org/wiki/Théorie_des_graphes\n",
    "\n",
    "PageRank sur Wikipedia https://fr.wikipedia.org/wiki/PageRank\n",
    "\n",
    "\n",
    "Certains cas d’usage affaires incluent d'étudier les gens les plus importantes (centraux) dans les réseaux sociaux (identifier qui est le plus populaire dans un groupe d’amis), l’importance du classement des articles dans les bibliographies (Quels papiers sont les plus référencés) ou bien encore le classement des pages web.\n",
    "\n",
    "Nous utiliserons ici des données open data sur les trajets à bicyclettes au états unis.\n",
    "\n"
   ]
  },
  {
   "cell_type": "markdown",
   "metadata": {},
   "source": [
    "La première étape consiste à demarrer une session spark. Au passage, on en profite pour importer les librairies spark nécessaires pour importer des données."
   ]
  },
  {
   "cell_type": "code",
   "execution_count": 23,
   "metadata": {},
   "outputs": [
    {
     "data": {
      "text/plain": [
       "sparkConf = org.apache.spark.SparkConf@65c86e7f\n",
       "sc = org.apache.spark.SparkContext@3dc128fa\n"
      ]
     },
     "metadata": {},
     "output_type": "display_data"
    },
    {
     "data": {
      "text/plain": [
       "org.apache.spark.SparkContext@3dc128fa"
      ]
     },
     "execution_count": 23,
     "metadata": {},
     "output_type": "execute_result"
    }
   ],
   "source": [
    "import sys.process._\n",
    "import java.net.URL\n",
    "import java.io.File\n",
    "\n",
    "import org.apache.spark.rdd.RDD\n",
    "import scala.collection.Map\n",
    "\n",
    "import org.apache.spark.{SparkContext, SparkConf}\n",
    "import org.apache.spark.sql.{DataFrame, Row, SQLContext}\n",
    "import org.apache.spark.sql.types._\n",
    "import org.apache.spark.sql._\n",
    "\n",
    "import scala.collection.immutable.WrappedString;\n",
    "import scala.collection.Map\n",
    "\n",
    "// initialisation du contexte spark\n",
    "val sparkConf = new SparkConf().setMaster(\"local\").setAppName(\"graph\")\n",
    "val sc = new SparkContext(sparkConf)"
   ]
  },
  {
   "cell_type": "markdown",
   "metadata": {},
   "source": [
    "La deuxième étape consiste en la lecture des données csv. Ici, la localisation des stations ainsi que les trajets effectués.\n",
    "\n",
    "Il existe plusieurs méthodes pour lire un fichier. On désire récupérer la structure du tableau. \"sqlContext.read\" fait le job.\n",
    "\n",
    "Pour info, on peut obtenir une version RDD en utilisant \"sc.textfile\".\n"
   ]
  },
  {
   "cell_type": "code",
   "execution_count": 24,
   "metadata": {},
   "outputs": [
    {
     "data": {
      "text/plain": [
       "sqlContext = org.apache.spark.sql.SQLContext@648a270\n",
       "stations = [station_id: int, name: string ... 5 more fields]\n",
       "rdd_station = 201408_station_data.csv MapPartitionsRDD[10] at textFile at <console>:82\n",
       "trips = [Trip ID: int, Duration: int ... 9 more fields]\n"
      ]
     },
     "metadata": {},
     "output_type": "display_data"
    },
    {
     "data": {
      "text/plain": [
       "warning: there was one deprecation warning; re-run with -deprecation for details\n"
      ]
     },
     "metadata": {},
     "output_type": "display_data"
    },
    {
     "data": {
      "text/plain": [
       "[Trip ID: int, Duration: int ... 9 more fields]"
      ]
     },
     "execution_count": 24,
     "metadata": {},
     "output_type": "execute_result"
    }
   ],
   "source": [
    "val sqlContext = new org.apache.spark.sql.SQLContext(sc)\n",
    "\n",
    "// lecture du fichiers contenant des info sur les stations\n",
    "val stations = sqlContext.read.format(\"csv\")\n",
    "  .option(\"header\", \"true\")\n",
    "  .option(\"inferSchema\", \"true\")\n",
    "  .load(\"201408_station_data.csv\")\n",
    "\n",
    "// autre façon de lire mais ???\n",
    "val rdd_station = sc.textFile(\"201408_station_data.csv\")\n",
    "\n",
    "// lecture du fichier contenat des trajets.\n",
    "val trips = sqlContext.read.format(\"csv\")\n",
    "  .option(\"header\", \"true\")\n",
    "  .option(\"inferSchema\", \"true\")\n",
    "  .load(\"201408_trip_data.csv\")"
   ]
  },
  {
   "cell_type": "markdown",
   "metadata": {},
   "source": [
    "C'est ici que vous effectuez une sélection (ou pas) des colonnes dans vos données.\n",
    "\n",
    "On peut en profiter pour sélectionner ses colonnes ou bien filtrer ses données\n",
    "\n",
    "Pour exemple, nous allons sélectionner les 2 premières colones du tableau \"stations\" et les colonnes \"Trip ID\", \"Start Station\", \"End Staton\" du tableau \"trips\".\n",
    "\n",
    "Nous avons également donné en example comment récupérer toutes les colonnes. \"sqlContext\" permet d'appliquer d'autres fonctions SQL."
   ]
  },
  {
   "cell_type": "code",
   "execution_count": null,
   "metadata": {},
   "outputs": [],
   "source": [
    "val bikeStations_r = stations.select(\"station_id\", \"name\")\n",
    "val bikeStations = stations.select(\"*\")\n",
    "val tripData = trips.select(\"*\")\n",
    "val tripData_r = trips.select(\"Trip ID\",\"Start Station\", \"End Station\")\n"
   ]
  },
  {
   "cell_type": "markdown",
   "metadata": {},
   "source": [
    "Visualition des données lues.\n",
    "On affiche la première ligne."
   ]
  },
  {
   "cell_type": "code",
   "execution_count": 4,
   "metadata": {},
   "outputs": [
    {
     "name": "stdout",
     "output_type": "stream",
     "text": [
      "+----------+--------------------+---------+-----------+---------+--------+------------+\n",
      "|station_id|                name|      lat|       long|dockcount|landmark|installation|\n",
      "+----------+--------------------+---------+-----------+---------+--------+------------+\n",
      "|         2|San Jose Diridon ...|37.329732|-121.901782|       27|San Jose|    8/6/2013|\n",
      "+----------+--------------------+---------+-----------+---------+--------+------------+\n",
      "only showing top 1 row\n",
      "\n",
      "+----------+--------------------+\n",
      "|station_id|                name|\n",
      "+----------+--------------------+\n",
      "|         2|San Jose Diridon ...|\n",
      "+----------+--------------------+\n",
      "only showing top 1 row\n",
      "\n",
      "+-------+--------+---------------+--------------------+--------------+---------------+--------------------+------------+------+---------------+--------+\n",
      "|Trip ID|Duration|     Start Date|       Start Station|Start Terminal|       End Date|         End Station|End Terminal|Bike #|Subscriber Type|Zip Code|\n",
      "+-------+--------+---------------+--------------------+--------------+---------------+--------------------+------------+------+---------------+--------+\n",
      "| 432946|     406|8/31/2014 22:31|Mountain View Cal...|            28|8/31/2014 22:38|Castro Street and...|          32|    17|     Subscriber|   94040|\n",
      "+-------+--------+---------------+--------------------+--------------+---------------+--------------------+------------+------+---------------+--------+\n",
      "only showing top 1 row\n",
      "\n",
      "+-------+--------------------+--------------------+\n",
      "|Trip ID|       Start Station|         End Station|\n",
      "+-------+--------------------+--------------------+\n",
      "| 432946|Mountain View Cal...|Castro Street and...|\n",
      "+-------+--------------------+--------------------+\n",
      "only showing top 1 row\n",
      "\n"
     ]
    }
   ],
   "source": [
    "bikeStations.show(1) \n",
    "bikeStations_r.show(1)\n",
    "tripData.show(1)\n",
    "tripData_r.show(1)"
   ]
  },
  {
   "cell_type": "markdown",
   "metadata": {},
   "source": [
    "Il peut être utile d’examiner la structure des données lues exact pour s’assurer que vous avez les bons types associés avec les colonnes de droite. Dans ce cas, vous n’avez pas fait toute manipulation donc vous n’aurez rien en dehors de la string.\n",
    "\n",
    "On peut également afficher la structure des données (avec des info sur le type de chaque colonne)\n",
    "\n",
    "On remarque que \"station_id\" et \"Trip ID\" sont des valeurs de type integer."
   ]
  },
  {
   "cell_type": "code",
   "execution_count": 5,
   "metadata": {},
   "outputs": [
    {
     "name": "stdout",
     "output_type": "stream",
     "text": [
      "root\n",
      " |-- station_id: integer (nullable = true)\n",
      " |-- name: string (nullable = true)\n",
      "\n",
      "root\n",
      " |-- Trip ID: integer (nullable = true)\n",
      " |-- Start Station: string (nullable = true)\n",
      " |-- End Station: string (nullable = true)\n",
      "\n"
     ]
    }
   ],
   "source": [
    "bikeStations_r.printSchema()\n",
    "\n",
    "tripData_r.printSchema()"
   ]
  },
  {
   "cell_type": "markdown",
   "metadata": {},
   "source": [
    "Il est temps d'importer GraphX et de créer les graphes."
   ]
  },
  {
   "cell_type": "code",
   "execution_count": 6,
   "metadata": {},
   "outputs": [],
   "source": [
    "import org.apache.spark.graphx._"
   ]
  },
  {
   "cell_type": "markdown",
   "metadata": {},
   "source": [
    "# Construction du graphe\n",
    "\n",
    "Maintenant que vous avez importé vos données, vous devez construire votre graphe. \n",
    "\n",
    "Vous allez construire la structure des sommets (ou nœuds) et la structure des arêtes.\n",
    "Il faut contruire des RDD, le premier RDD contient les sommets. La structure est la suivante : (id et label) \n",
    "Le deuxième contient les arcs et la structure est la suivante : (id_sommet_debut_arc, id_sommet_fin_arc, 1).\n",
    "\n",
    "Les sommets correspondent aux stations et les arêtes à un trajet entre 2 stations.\n",
    "\n",
    "Vous avez peut-être remarqué que vous avez des ID de station à l’intérieur de vos données de bikeStations, mais pas à l’intérieur de vos données de tripData. \n",
    "\n",
    "Cela complique les choses parce que vous devez vérifier que vous disposez des données numériques pour GraphX. Cela signifie que les sommets doivent être identifiables avec une valeur numérique, pas une valeur de chaîne comme nom de la station. C’est pourquoi vous devez effectuer certaines jointures pour s’assurer que vous avez ces ID associée à chaque voyage.\n",
    "\n"
   ]
  },
  {
   "cell_type": "code",
   "execution_count": 7,
   "metadata": {},
   "outputs": [
    {
     "name": "stdout",
     "output_type": "stream",
     "text": [
      "+-------+--------+---------------+--------------------+--------------+---------------+--------------------+------------+------+---------------+--------+----------------+--------------+\n",
      "|Trip ID|Duration|     Start Date|       Start Station|Start Terminal|       End Date|         End Station|End Terminal|Bike #|Subscriber Type|Zip Code|start_station_id|end_station_id|\n",
      "+-------+--------+---------------+--------------------+--------------+---------------+--------------------+------------+------+---------------+--------+----------------+--------------+\n",
      "| 432946|     406|8/31/2014 22:31|Mountain View Cal...|            28|8/31/2014 22:38|Castro Street and...|          32|    17|     Subscriber|   94040|            28.0|          32.0|\n",
      "+-------+--------+---------------+--------------------+--------------+---------------+--------------------+------------+------+---------------+--------+----------------+--------------+\n",
      "only showing top 1 row\n",
      "\n"
     ]
    },
    {
     "data": {
      "text/plain": [
       "justStations = [station_id: float, name: string]\n",
       "completeTripData = [Trip ID: int, Duration: int ... 11 more fields]\n"
      ]
     },
     "metadata": {},
     "output_type": "display_data"
    },
    {
     "data": {
      "text/plain": [
       "[Trip ID: int, Duration: int ... 11 more fields]"
      ]
     },
     "execution_count": 7,
     "metadata": {},
     "output_type": "execute_result"
    }
   ],
   "source": [
    "val justStations = bikeStations\n",
    "  .selectExpr(\"float(station_id) as station_id\", \"name\")\n",
    "  .distinct()\n",
    "\n",
    "val completeTripData = tripData\n",
    "  .join(justStations, tripData(\"Start Station\") === bikeStations(\"name\"))\n",
    "  .withColumnRenamed(\"station_id\", \"start_station_id\")\n",
    "  .drop(\"name\")\n",
    "  .join(justStations, tripData(\"End Station\") === bikeStations(\"name\"))\n",
    "  .withColumnRenamed(\"station_id\", \"end_station_id\")\n",
    "  .drop(\"name\")\n",
    "\n",
    "completeTripData.show(1)"
   ]
  },
  {
   "cell_type": "code",
   "execution_count": 8,
   "metadata": {},
   "outputs": [
    {
     "name": "stdout",
     "output_type": "stream",
     "text": [
      "+-----+\n",
      "|value|\n",
      "+-----+\n",
      "|   13|\n",
      "+-----+\n",
      "only showing top 1 row\n",
      "\n"
     ]
    },
    {
     "data": {
      "text/plain": [
       "stations = [value: bigint]\n"
      ]
     },
     "metadata": {},
     "output_type": "display_data"
    },
    {
     "data": {
      "text/plain": [
       "[value: bigint]"
      ]
     },
     "execution_count": 8,
     "metadata": {},
     "output_type": "execute_result"
    }
   ],
   "source": [
    "val stations = completeTripData\n",
    "  .select(\"start_station_id\", \"end_station_id\")\n",
    "  .rdd\n",
    "  .distinct() // helps filter out duplicate trips\n",
    "  .flatMap(x => Iterable(x(0).asInstanceOf[Number].longValue, x(1).asInstanceOf[Number].longValue)) // helps us maintain types\n",
    "  .distinct()\n",
    "  .toDF() // return to a DF to make merging + joining easier\n",
    "\n",
    "stations.take(1) // this is just a station_id at this point\n",
    "stations.show(1)"
   ]
  },
  {
   "cell_type": "code",
   "execution_count": 9,
   "metadata": {},
   "outputs": [
    {
     "name": "stdout",
     "output_type": "stream",
     "text": [
      "(13,St James Park)\n"
     ]
    },
    {
     "data": {
      "text/plain": [
       "stationVertices = MapPartitionsRDD[298] at map at <console>:58\n"
      ]
     },
     "metadata": {},
     "output_type": "display_data"
    },
    {
     "data": {
      "text/plain": [
       "MapPartitionsRDD[298] at map at <console>:58"
      ]
     },
     "execution_count": 9,
     "metadata": {},
     "output_type": "execute_result"
    }
   ],
   "source": [
    "val stationVertices: RDD[(VertexId, String)] = stations\n",
    "  .join(justStations, stations(\"value\") === justStations(\"station_id\"))\n",
    "  .select(\"station_id\", \"name\")\n",
    "  .rdd\n",
    "  .map(row => (row(0).asInstanceOf[Number].longValue, row(1).asInstanceOf[String])) // maintain type information\n",
    "\n",
    "stationVertices.take(1)\n",
    "\n",
    "stationVertices.take(1).foreach(println)"
   ]
  },
  {
   "cell_type": "code",
   "execution_count": 10,
   "metadata": {},
   "outputs": [
    {
     "name": "stdout",
     "output_type": "stream",
     "text": [
      "Edge(28,32,1)\n"
     ]
    },
    {
     "data": {
      "text/plain": [
       "stationEdges = MapPartitionsRDD[309] at map at <console>:55\n"
      ]
     },
     "metadata": {},
     "output_type": "display_data"
    },
    {
     "data": {
      "text/plain": [
       "MapPartitionsRDD[309] at map at <console>:55"
      ]
     },
     "execution_count": 10,
     "metadata": {},
     "output_type": "execute_result"
    }
   ],
   "source": [
    "val stationEdges:RDD[Edge[Long]] = completeTripData\n",
    "  .select(\"start_station_id\", \"end_station_id\")\n",
    "  .rdd\n",
    "  .map(row => Edge(row(0).asInstanceOf[Number].longValue, row(1).asInstanceOf[Number].longValue, 1))\n",
    "\n",
    "stationEdges.take(1).foreach(println)"
   ]
  },
  {
   "cell_type": "code",
   "execution_count": 11,
   "metadata": {},
   "outputs": [
    {
     "data": {
      "text/plain": [
       "defaultStation = Missing Station\n",
       "stationGraph = org.apache.spark.graphx.impl.GraphImpl@5771f592\n"
      ]
     },
     "metadata": {},
     "output_type": "display_data"
    },
    {
     "data": {
      "text/plain": [
       "org.apache.spark.graphx.impl.GraphImpl@5771f592"
      ]
     },
     "execution_count": 11,
     "metadata": {},
     "output_type": "execute_result"
    }
   ],
   "source": [
    "val defaultStation = (\"Missing Station\") \n",
    "val stationGraph = Graph(stationVertices, stationEdges, defaultStation)\n",
    "stationGraph.cache()"
   ]
  },
  {
   "cell_type": "code",
   "execution_count": 12,
   "metadata": {},
   "outputs": [
    {
     "name": "stdout",
     "output_type": "stream",
     "text": [
      "Total Number of Stations: 67\n",
      "Total Number of Trips: 163546\n",
      "Total Number of Trips in Original Data: 171792\n"
     ]
    }
   ],
   "source": [
    "println(\"Total Number of Stations: \" + stationGraph.numVertices)\n",
    "println(\"Total Number of Trips: \" + stationGraph.numEdges)\n",
    "// sanity check\n",
    "println(\"Total Number of Trips in Original Data: \" + tripData.count)"
   ]
  },
  {
   "cell_type": "code",
   "execution_count": 13,
   "metadata": {},
   "outputs": [
    {
     "name": "stdout",
     "output_type": "stream",
     "text": [
      "San Francisco Caltrain (Townsend at 4th)\n",
      "San Jose Diridon Caltrain Station\n",
      "Mountain View Caltrain Station\n",
      "Redwood City Caltrain Station\n",
      "Embarcadero at Sansome\n",
      "Harry Bridges Plaza (Ferry Building)\n",
      "Market at Sansome\n",
      "San Francisco Caltrain 2 (330 Townsend)\n",
      "2nd at Townsend\n",
      "University and Emerson\n"
     ]
    },
    {
     "data": {
      "text/plain": [
       "ranks = VertexRDDImpl[1171] at RDD at VertexRDD.scala:57\n"
      ]
     },
     "metadata": {},
     "output_type": "display_data"
    },
    {
     "data": {
      "text/plain": [
       "VertexRDDImpl[1171] at RDD at VertexRDD.scala:57"
      ]
     },
     "execution_count": 13,
     "metadata": {},
     "output_type": "execute_result"
    }
   ],
   "source": [
    "val ranks = stationGraph.pageRank(0.0001).vertices\n",
    "ranks\n",
    "  .join(stationVertices)\n",
    "  .sortBy(_._2._1, ascending=false) // sort by the rank\n",
    "  .take(10) // get the top 10\n",
    "  .foreach(x => println(x._2._2))"
   ]
  },
  {
   "cell_type": "code",
   "execution_count": 14,
   "metadata": {},
   "outputs": [
    {
     "name": "stdout",
     "output_type": "stream",
     "text": [
      "There were 1689 trips from Harry Bridges Plaza (Ferry Building) to Embarcadero at Sansome.\n",
      "There were 1527 trips from Townsend at 7th to San Francisco Caltrain (Townsend at 4th).\n",
      "There were 1352 trips from San Francisco Caltrain 2 (330 Townsend) to Townsend at 7th.\n",
      "There were 1128 trips from Embarcadero at Sansome to Steuart at Market.\n",
      "There were 1109 trips from 2nd at Townsend to Harry Bridges Plaza (Ferry Building).\n",
      "There were 1039 trips from 2nd at South Park to Market at Sansome.\n",
      "There were 1007 trips from Harry Bridges Plaza (Ferry Building) to 2nd at Townsend.\n",
      "There were 974 trips from Market at 10th to San Francisco Caltrain (Townsend at 4th).\n",
      "There were 972 trips from Steuart at Market to San Francisco Caltrain (Townsend at 4th).\n",
      "There were 929 trips from San Francisco Caltrain (Townsend at 4th) to Temporary Transbay Terminal (Howard at Beale).\n"
     ]
    }
   ],
   "source": [
    "stationGraph\n",
    "  .groupEdges((edge1, edge2) => edge1 + edge2)\n",
    "  .triplets\n",
    "  .sortBy(_.attr, ascending=false)\n",
    "  .map(triplet => \n",
    "    \"There were \" + triplet.attr.toString + \" trips from \" + triplet.srcAttr + \" to \" + triplet.dstAttr + \".\")\n",
    "  .take(10)\n",
    "  .foreach(println)"
   ]
  },
  {
   "cell_type": "code",
   "execution_count": 15,
   "metadata": {},
   "outputs": [
    {
     "name": "stdout",
     "output_type": "stream",
     "text": [
      "San Francisco Caltrain (Townsend at 4th) has 16540 in degrees.\n",
      "Embarcadero at Sansome has 7891 in degrees.\n",
      "Market at Sansome has 7802 in degrees.\n",
      "Harry Bridges Plaza (Ferry Building) has 7736 in degrees.\n",
      "2nd at Townsend has 7335 in degrees.\n",
      "San Francisco Caltrain 2 (330 Townsend) has 7297 in degrees.\n",
      "Steuart at Market has 6209 in degrees.\n",
      "Townsend at 7th has 6033 in degrees.\n",
      "Temporary Transbay Terminal (Howard at Beale) has 5590 in degrees.\n",
      "Powell Street BART has 5219 in degrees.\n"
     ]
    }
   ],
   "source": [
    "stationGraph\n",
    "  .inDegrees // computes in Degrees\n",
    "  .join(stationVertices)\n",
    "  .sortBy(_._2._1, ascending=false)\n",
    "  .take(10)\n",
    "  .foreach(x => println(x._2._2 + \" has \" + x._2._1 + \" in degrees.\"))"
   ]
  },
  {
   "cell_type": "code",
   "execution_count": 16,
   "metadata": {},
   "outputs": [
    {
     "name": "stdout",
     "output_type": "stream",
     "text": [
      "San Francisco Caltrain (Townsend at 4th) has 12703 out degrees.\n",
      "Harry Bridges Plaza (Ferry Building) has 8157 out degrees.\n",
      "San Francisco Caltrain 2 (330 Townsend) has 6835 out degrees.\n",
      "Embarcadero at Sansome has 6811 out degrees.\n",
      "Market at Sansome has 6749 out degrees.\n",
      "2nd at Townsend has 6679 out degrees.\n",
      "Temporary Transbay Terminal (Howard at Beale) has 6298 out degrees.\n",
      "Steuart at Market has 6159 out degrees.\n",
      "Townsend at 7th has 5423 out degrees.\n",
      "Market at 4th has 5141 out degrees.\n"
     ]
    }
   ],
   "source": [
    "stationGraph\n",
    "  .outDegrees // out degrees\n",
    "  .join(stationVertices)\n",
    "  .sortBy(_._2._1, ascending=false)\n",
    "  .take(10)\n",
    "  .foreach(x => println(x._2._2 + \" has \" + x._2._1 + \" out degrees.\"))"
   ]
  },
  {
   "cell_type": "code",
   "execution_count": 17,
   "metadata": {},
   "outputs": [
    {
     "name": "stdout",
     "output_type": "stream",
     "text": [
      "MLK Library has a in/out degree ratio of 1.9752475247524752\n",
      "Franklin at Maple has a in/out degree ratio of 1.3863636363636365\n",
      "San Francisco Caltrain (Townsend at 4th) has a in/out degree ratio of 1.302054632763914\n",
      "Redwood City Public Library has a in/out degree ratio of 1.2156862745098038\n",
      "Japantown has a in/out degree ratio of 1.186138613861386\n"
     ]
    }
   ],
   "source": [
    "stationGraph\n",
    "  .inDegrees\n",
    "  .join(stationGraph.outDegrees) // join with out Degrees\n",
    "  .join(stationVertices) // join with our other stations\n",
    "  .map(x => (x._2._1._1.toDouble/x._2._1._2.toDouble, x._2._2)) // ratio of in to out\n",
    "  .sortBy(_._1, ascending=false)\n",
    "  .take(5)\n",
    "  .foreach(x => println(x._2 + \" has a in/out degree ratio of \" + x._1))"
   ]
  },
  {
   "cell_type": "code",
   "execution_count": 18,
   "metadata": {},
   "outputs": [
    {
     "name": "stdout",
     "output_type": "stream",
     "text": [
      "St James Park has a in/out degree ratio of 1.0\n",
      "Powell Street BART has a in/out degree ratio of 1.0\n",
      "Palo Alto Caltrain Station has a in/out degree ratio of 1.0\n",
      "Santa Clara at Almaden has a in/out degree ratio of 1.0\n",
      "Powell at Post (Union Square) has a in/out degree ratio of 1.0\n"
     ]
    }
   ],
   "source": [
    "stationGraph\n",
    "  .inDegrees\n",
    "  .join(stationGraph.inDegrees) // join with out Degrees\n",
    "  .join(stationVertices) // join with our other stations\n",
    "  .map(x => (x._2._1._1.toDouble/x._2._1._2.toDouble, x._2._2)) // ratio of in to out\n",
    "  .sortBy(_._1)\n",
    "  .take(5)\n",
    "  .foreach(x => println(x._2 + \" has a in/out degree ratio of \" + x._1))"
   ]
  },
  {
   "cell_type": "code",
   "execution_count": 19,
   "metadata": {},
   "outputs": [
    {
     "data": {
      "text/plain": [
       "drawGraph: [VD, ED](g: org.apache.spark.graphx.Graph[VD,ED])(implicit evidence$1: scala.reflect.ClassTag[VD], implicit evidence$2: scala.reflect.ClassTag[ED])Unit\n"
      ]
     },
     "metadata": {},
     "output_type": "display_data"
    },
    {
     "name": "stdout",
     "output_type": "stream",
     "text": [
      "%html\n",
      "<div id='a679d30da-40f3-4e81-a303-c284ca3ed79c' style='width:960px; height:500px'></div>\n",
      "<style>\n",
      ".node circle { fill: gray; }\n",
      ".node text { font: 10px sans-serif;\n",
      "             text-anchor: middle;\n",
      "             fill: white; }\n",
      "line.link { stroke: gray;\n",
      "            stroke-width: 1.5px; }\n",
      "            </style>\n",
      "\n",
      "<script>\n",
      "var width = 960, height = 500;\n",
      "var svg = d3.select(\"#a679d30da-40f3-4e81-a303-c284ca3ed79c\").append(\"svg\")\n",
      "    .attr(\"width\", width).attr(\"height\", height);\n",
      "var nodes = [{id:19},{id:21},{id:16},{id:22},{id:25},{id:28},{id:29},{id:30},{id:27},{id:24},{id:23},{id:17},{id:18},{id:20},{id:31},{id:26}];\n",
      "var links = [{source:nodes[2],target:nodes[2]},{source:nodes[2],target:nodes[0]},{source:nodes[2],target:nodes[13]},{source:nodes[2],target:nodes[3]},{source:nodes[2],target:nodes[15]},{source:nodes[2],target:nodes[5]},{source:nodes[2],target:nodes[6]},{source:nodes[11],target:nodes[2]},{source:nodes[11],target:nodes[11]},{source:nodes[11],target:nodes[12]},{source:nodes[11],target:nodes[10]},{source:nodes[11],target:nodes[15]},{source:nodes[12],target:nodes[2]},{source:nodes[12],target:nodes[12]},{source:nodes[12],target:nodes[0]},{source:nodes[12],target:nodes[13]},{source:nodes[12],target:nodes[4]},{source:nodes[12],target:nodes[8]},{source:nodes[0],target:nodes[0]},{source:nodes[0],target:nodes[1]},{source:nodes[13],target:nodes[2]},{source:nodes[13],target:nodes[13]},{source:nodes[13],target:nodes[10]},{source:nodes[13],target:nodes[5]},{source:nodes[1],target:nodes[0]},{source:nodes[1],target:nodes[1]},{source:nodes[1],target:nodes[4]},{source:nodes[3],target:nodes[11]},{source:nodes[3],target:nodes[13]},{source:nodes[3],target:nodes[1]},{source:nodes[3],target:nodes[3]},{source:nodes[10],target:nodes[0]},{source:nodes[10],target:nodes[13]},{source:nodes[10],target:nodes[3]},{source:nodes[10],target:nodes[7]},{source:nodes[9],target:nodes[2]},{source:nodes[9],target:nodes[9]},{source:nodes[9],target:nodes[4]},{source:nodes[9],target:nodes[15]},{source:nodes[9],target:nodes[5]},{source:nodes[9],target:nodes[7]},{source:nodes[4],target:nodes[11]},{source:nodes[4],target:nodes[9]},{source:nodes[4],target:nodes[4]},{source:nodes[15],target:nodes[11]},{source:nodes[15],target:nodes[12]},{source:nodes[15],target:nodes[13]},{source:nodes[15],target:nodes[3]},{source:nodes[15],target:nodes[9]},{source:nodes[15],target:nodes[15]},{source:nodes[5],target:nodes[2]},{source:nodes[5],target:nodes[9]},{source:nodes[5],target:nodes[6]},{source:nodes[6],target:nodes[13]},{source:nodes[6],target:nodes[6]},{source:nodes[7],target:nodes[12]},{source:nodes[7],target:nodes[13]},{source:nodes[7],target:nodes[3]},{source:nodes[14],target:nodes[12]},{source:nodes[14],target:nodes[1]}];\n",
      "var link = svg.selectAll(\".link\").data(links);\n",
      "link.enter().insert(\"line\", \".node\").attr(\"class\", \"link\");\n",
      "var node = svg.selectAll(\".node\").data(nodes);\n",
      "var nodeEnter = node.enter().append(\"g\").attr(\"class\", \"node\")\n",
      "nodeEnter.append(\"circle\").attr(\"r\", 8);\n",
      "nodeEnter.append(\"text\").attr(\"dy\", \"0.35em\")\n",
      "         .text(function(d) { return d.id; });\n",
      "d3.layout.force().linkDistance(50).charge(-200).chargeDistance(300) .friction(0.95).linkStrength(0.5).size([width, height]) .on(\"tick\", function() {\n",
      "      link.attr(\"x1\", function(d) { return d.source.x; })\n",
      "          .attr(\"y1\", function(d) { return d.source.y; })\n",
      "          .attr(\"x2\", function(d) { return d.target.x; })\n",
      "          .attr(\"y2\", function(d) { return d.target.y; });\n",
      "      node.attr(\"transform\", function(d) {\n",
      "        return \"translate(\" + d.x + \",\" + d.y + \")\";\n",
      "      });\n",
      "   }).nodes(nodes).links(links).start();\n",
      "</script>\n",
      "\n"
     ]
    }
   ],
   "source": [
    "import org.apache.spark.graphx._\n",
    "import scala.reflect.ClassTag\n",
    "def drawGraph[VD:ClassTag,ED:ClassTag](g:Graph[VD,ED]) = {\n",
    "val u = java.util.UUID.randomUUID\n",
    "val v = g.vertices.collect.map(_._1)\n",
    "println(\"\"\"%html\n",
    "<div id='a\"\"\" + u + \"\"\"' style='width:960px; height:500px'></div>\n",
    "<style>\n",
    ".node circle { fill: gray; }\n",
    ".node text { font: 10px sans-serif;\n",
    "             text-anchor: middle;\n",
    "             fill: white; }\n",
    "line.link { stroke: gray;\n",
    "            stroke-width: 1.5px; }\n",
    "            </style>\n",
    "\n",
    "<script>\n",
    "var width = 960, height = 500;\n",
    "var svg = d3.select(\"#a\"\"\" + u + \"\"\"\").append(\"svg\")\n",
    "    .attr(\"width\", width).attr(\"height\", height);\n",
    "var nodes = [\"\"\" + v.map(\"{id:\" + _ + \"}\").mkString(\",\") + \"\"\"];\n",
    "var links = [\"\"\" + g.edges.collect.map(\n",
    "  e => \"{source:nodes[\" + v.indexWhere(_ == e.srcId) + \"],target:nodes[\" +\n",
    "       v.indexWhere(_ == e.dstId) + \"]}\").mkString(\",\") + \"\"\"];\n",
    "var link = svg.selectAll(\".link\").data(links);\n",
    "link.enter().insert(\"line\", \".node\").attr(\"class\", \"link\");\n",
    "var node = svg.selectAll(\".node\").data(nodes);\n",
    "var nodeEnter = node.enter().append(\"g\").attr(\"class\", \"node\")\n",
    "nodeEnter.append(\"circle\").attr(\"r\", 8);\n",
    "nodeEnter.append(\"text\").attr(\"dy\", \"0.35em\")\n",
    "         .text(function(d) { return d.id; });\n",
    "d3.layout.force().linkDistance(50).charge(-200).chargeDistance(300) .friction(0.95).linkStrength(0.5).size([width, height]) .on(\"tick\", function() {\n",
    "      link.attr(\"x1\", function(d) { return d.source.x; })\n",
    "          .attr(\"y1\", function(d) { return d.source.y; })\n",
    "          .attr(\"x2\", function(d) { return d.target.x; })\n",
    "          .attr(\"y2\", function(d) { return d.target.y; });\n",
    "      node.attr(\"transform\", function(d) {\n",
    "        return \"translate(\" + d.x + \",\" + d.y + \")\";\n",
    "      });\n",
    "   }).nodes(nodes).links(links).start();\n",
    "</script>\n",
    "\"\"\")\n",
    "}\n",
    "\n",
    "drawGraph(org.apache.spark.graphx.util.GraphGenerators.rmatGraph(sc,32,60));\n",
    " "
   ]
  },
  {
   "cell_type": "code",
   "execution_count": 20,
   "metadata": {},
   "outputs": [
    {
     "data": {
      "text/plain": [
       "var links = [{source:nodes[2],target:nodes[2]},{source:nodes[2],target:nodes[11]},{source:nodes[2],target:nodes[13]},{source:nodes[2],target:nodes[3]},{source:nodes[2],target:nodes[4]},{source:nodes[11],target:nodes[2]},{source:nodes[11],target:nodes[11]},{source:nodes[11],target:nodes[12]},{source:nodes[11],target:nodes[4]},{source:no...\n"
      ]
     },
     "metadata": {},
     "output_type": "display_data"
    },
    {
     "data": {
      "application/javascript": [
       "(function(element) {\n",
       "require(['d3'], function(d3) {\n",
       "var width = 800, height = 800;\n",
       "var data = [1, 2, 4, 8, 16, 8, 4, 2, 1]\n",
       "var svg = d3.select(element.get(0)).append(\"svg\")\n",
       "    .attr(\"width\", width).attr(\"height\", height);\n",
       "var nodes = [{id:19},{id:21},{id:16},{id:22},{id:25},{id:28},{id:29},{id:30},{id:27},{id:24},{id:23},{id:17},{id:18},{id:20},{id:31},{id:26}];\n",
       "var links = [{source:nodes[2],target:nodes[2]},{source:nodes[2],target:nodes[11]},{source:nodes[2],target:nodes[13]},{source:nodes[2],target:nodes[3]},{source:nodes[2],target:nodes[4]},{source:nodes[11],target:nodes[2]},{source:nodes[11],target:nodes[11]},{source:nodes[11],target:nodes[12]},{source:nodes[11],target:nodes[4]},{source:nodes[11],target:nodes[15]},{source:nodes[11],target:nodes[8]},{source:nodes[11],target:nodes[14]},{source:nodes[12],target:nodes[11]},{source:nodes[12],target:nodes[12]},{source:nodes[12],target:nodes[15]},{source:nodes[12],target:nodes[8]},{source:nodes[0],target:nodes[12]},{source:nodes[0],target:nodes[0]},{source:nodes[0],target:nodes[1]},{source:nodes[0],target:nodes[8]},{source:nodes[13],target:nodes[1]},{source:nodes[13],target:nodes[3]},{source:nodes[13],target:nodes[5]},{source:nodes[1],target:nodes[1]},{source:nodes[1],target:nodes[14]},{source:nodes[3],target:nodes[2]},{source:nodes[3],target:nodes[12]},{source:nodes[3],target:nodes[3]},{source:nodes[3],target:nodes[7]},{source:nodes[10],target:nodes[1]},{source:nodes[9],target:nodes[2]},{source:nodes[9],target:nodes[13]},{source:nodes[9],target:nodes[9]},{source:nodes[9],target:nodes[4]},{source:nodes[9],target:nodes[15]},{source:nodes[9],target:nodes[5]},{source:nodes[9],target:nodes[14]},{source:nodes[4],target:nodes[2]},{source:nodes[4],target:nodes[9]},{source:nodes[4],target:nodes[4]},{source:nodes[4],target:nodes[15]},{source:nodes[4],target:nodes[8]},{source:nodes[4],target:nodes[5]},{source:nodes[4],target:nodes[6]},{source:nodes[15],target:nodes[12]},{source:nodes[15],target:nodes[7]},{source:nodes[8],target:nodes[4]},{source:nodes[8],target:nodes[8]},{source:nodes[8],target:nodes[6]},{source:nodes[5],target:nodes[2]},{source:nodes[5],target:nodes[11]},{source:nodes[5],target:nodes[13]},{source:nodes[5],target:nodes[1]},{source:nodes[5],target:nodes[9]},{source:nodes[6],target:nodes[9]},{source:nodes[6],target:nodes[6]},{source:nodes[7],target:nodes[3]},{source:nodes[7],target:nodes[14]},{source:nodes[14],target:nodes[7]},{source:nodes[14],target:nodes[14]}];\n",
       "   \n",
       "var link = svg.selectAll(\".link\").data(links);\n",
       "link.enter().insert(\"line\", \".node\").attr(\"class\", \"link\");\n",
       "var node = svg.selectAll(\".node\").data(nodes);  \n",
       "var nodeEnter = node.enter().append(\"g\").attr(\"class\", \"node\")   \n",
       "\n",
       "    \n",
       "svg.selectAll('circle')\n",
       "            .data(data)\n",
       "            .enter()\n",
       "            .append('circle')\n",
       "            .attr(\"cx\", function(d, i) {return 40 * (i + 1);})\n",
       "            .attr(\"cy\", function(d, i) {return 100 + 30 * (i % 3 - 1);})\n",
       "            .style(\"fill\", \"#1570a4\")\n",
       "            .transition().duration(2000)\n",
       "            .attr(\"r\", function(d) {return 2*d;})\n",
       "        ;\n",
       "\n",
       "    \n",
       "})\n",
       "    })(element);"
      ]
     },
     "execution_count": 20,
     "metadata": {},
     "output_type": "execute_result"
    }
   ],
   "source": [
    "%%javascript\n",
    "(function(element) {\n",
    "require(['d3'], function(d3) {\n",
    "var width = 800, height = 800;\n",
    "var data = [1, 2, 4, 8, 16, 8, 4, 2, 1]\n",
    "var svg = d3.select(element.get(0)).append(\"svg\")\n",
    "    .attr(\"width\", width).attr(\"height\", height);\n",
    "var nodes = [{id:19},{id:21},{id:16},{id:22},{id:25},{id:28},{id:29},{id:30},{id:27},{id:24},{id:23},{id:17},{id:18},{id:20},{id:31},{id:26}];\n",
    "var links = [{source:nodes[2],target:nodes[2]},{source:nodes[2],target:nodes[11]},{source:nodes[2],target:nodes[13]},{source:nodes[2],target:nodes[3]},{source:nodes[2],target:nodes[4]},{source:nodes[11],target:nodes[2]},{source:nodes[11],target:nodes[11]},{source:nodes[11],target:nodes[12]},{source:nodes[11],target:nodes[4]},{source:nodes[11],target:nodes[15]},{source:nodes[11],target:nodes[8]},{source:nodes[11],target:nodes[14]},{source:nodes[12],target:nodes[11]},{source:nodes[12],target:nodes[12]},{source:nodes[12],target:nodes[15]},{source:nodes[12],target:nodes[8]},{source:nodes[0],target:nodes[12]},{source:nodes[0],target:nodes[0]},{source:nodes[0],target:nodes[1]},{source:nodes[0],target:nodes[8]},{source:nodes[13],target:nodes[1]},{source:nodes[13],target:nodes[3]},{source:nodes[13],target:nodes[5]},{source:nodes[1],target:nodes[1]},{source:nodes[1],target:nodes[14]},{source:nodes[3],target:nodes[2]},{source:nodes[3],target:nodes[12]},{source:nodes[3],target:nodes[3]},{source:nodes[3],target:nodes[7]},{source:nodes[10],target:nodes[1]},{source:nodes[9],target:nodes[2]},{source:nodes[9],target:nodes[13]},{source:nodes[9],target:nodes[9]},{source:nodes[9],target:nodes[4]},{source:nodes[9],target:nodes[15]},{source:nodes[9],target:nodes[5]},{source:nodes[9],target:nodes[14]},{source:nodes[4],target:nodes[2]},{source:nodes[4],target:nodes[9]},{source:nodes[4],target:nodes[4]},{source:nodes[4],target:nodes[15]},{source:nodes[4],target:nodes[8]},{source:nodes[4],target:nodes[5]},{source:nodes[4],target:nodes[6]},{source:nodes[15],target:nodes[12]},{source:nodes[15],target:nodes[7]},{source:nodes[8],target:nodes[4]},{source:nodes[8],target:nodes[8]},{source:nodes[8],target:nodes[6]},{source:nodes[5],target:nodes[2]},{source:nodes[5],target:nodes[11]},{source:nodes[5],target:nodes[13]},{source:nodes[5],target:nodes[1]},{source:nodes[5],target:nodes[9]},{source:nodes[6],target:nodes[9]},{source:nodes[6],target:nodes[6]},{source:nodes[7],target:nodes[3]},{source:nodes[7],target:nodes[14]},{source:nodes[14],target:nodes[7]},{source:nodes[14],target:nodes[14]}];\n",
    "   \n",
    "var link = svg.selectAll(\".link\").data(links);\n",
    "link.enter().insert(\"line\", \".node\").attr(\"class\", \"link\");\n",
    "var node = svg.selectAll(\".node\").data(nodes);  \n",
    "var nodeEnter = node.enter().append(\"g\").attr(\"class\", \"node\")   \n",
    "\n",
    "    \n",
    "svg.selectAll('circle')\n",
    "            .data(data)\n",
    "            .enter()\n",
    "            .append('circle')\n",
    "            .attr(\"cx\", function(d, i) {return 40 * (i + 1);})\n",
    "            .attr(\"cy\", function(d, i) {return 100 + 30 * (i % 3 - 1);})\n",
    "            .style(\"fill\", \"#1570a4\")\n",
    "            .transition().duration(2000)\n",
    "            .attr(\"r\", function(d) {return 2*d;})\n",
    "        ;\n",
    "\n",
    "    \n",
    "})\n",
    "    })(element);"
   ]
  },
  {
   "cell_type": "code",
   "execution_count": 22,
   "metadata": {},
   "outputs": [],
   "source": [
    "sc.stop()"
   ]
  },
  {
   "cell_type": "code",
   "execution_count": null,
   "metadata": {},
   "outputs": [],
   "source": []
  },
  {
   "cell_type": "code",
   "execution_count": null,
   "metadata": {},
   "outputs": [],
   "source": []
  },
  {
   "cell_type": "code",
   "execution_count": null,
   "metadata": {},
   "outputs": [],
   "source": []
  },
  {
   "cell_type": "code",
   "execution_count": null,
   "metadata": {},
   "outputs": [],
   "source": []
  },
  {
   "cell_type": "code",
   "execution_count": null,
   "metadata": {},
   "outputs": [],
   "source": []
  }
 ],
 "metadata": {
  "kernelspec": {
   "display_name": "Apache Toree - Scala",
   "language": "scala",
   "name": "apache_toree_scala"
  },
  "language_info": {
   "codemirror_mode": "text/x-scala",
   "file_extension": ".scala",
   "mimetype": "text/x-scala",
   "name": "scala",
   "pygments_lexer": "scala",
   "version": "2.11.12"
  }
 },
 "nbformat": 4,
 "nbformat_minor": 2
}
