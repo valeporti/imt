{
 "cells": [
  {
   "cell_type": "code",
   "execution_count": 1,
   "metadata": {},
   "outputs": [
    {
     "name": "stdout",
     "output_type": "stream",
     "text": [
      "(justinbieber,1)\n",
      "(BarackObama,1)\n",
      "(matei_zaharia,3)\n",
      "(jeresig,3)\n",
      "(odersky,3)\n",
      "(ladygaga,1)\n"
     ]
    },
    {
     "data": {
      "text/plain": [
       "sparkConf = org.apache.spark.SparkConf@27922c96\n",
       "sc = org.apache.spark.SparkContext@274b39fc\n",
       "graph = org.apache.spark.graphx.impl.GraphImpl@7b416fd5\n",
       "cc = VertexRDDImpl[33] at RDD at VertexRDD.scala:57\n",
       "users = MapPartitionsRDD[51] at map at <console>:71\n"
      ]
     },
     "metadata": {},
     "output_type": "display_data"
    },
    {
     "data": {
      "text/plain": [
       "ccByUsername: org.apache.spark.rdd.RDD[(String, org.apache...\n"
      ]
     },
     "metadata": {},
     "output_type": "display_data"
    },
    {
     "data": {
      "text/plain": [
       "MapPartitionsRDD[51] at map at <console>:71"
      ]
     },
     "execution_count": 1,
     "metadata": {},
     "output_type": "execute_result"
    }
   ],
   "source": [
    "// $example on$\n",
    "import org.apache.spark.graphx.GraphLoader\n",
    "\n",
    "\n",
    "/**\n",
    " * A connected components algorithm example.\n",
    " * The connected components algorithm labels each connected component of the graph\n",
    " * with the ID of its lowest-numbered vertex.\n",
    " * For example, in a social network, connected components can approximate clusters.\n",
    " * GraphX contains an implementation of the algorithm in the\n",
    " * [`ConnectedComponents` object][ConnectedComponents],\n",
    " * and we compute the connected components of the example social network dataset.\n",
    " *\n",
    " * Run with\n",
    " * {{{\n",
    " * bin/run-example graphx.ConnectedComponentsExample\n",
    " * }}}\n",
    " */\n",
    "\n",
    "import org.apache.spark.graphx.{Graph, VertexRDD}\n",
    "import org.apache.spark.graphx.util.GraphGenerators\n",
    "// $example off$\n",
    "import org.apache.spark.sql.SparkSession\n",
    "\n",
    "import org.apache.spark._\n",
    "import org.apache.spark.graphx._\n",
    "// To make some of the examples work we will also need RDD\n",
    "import org.apache.spark.rdd.RDD\n",
    "\n",
    "// Assume the SparkContext has already been constructed\n",
    "// initialisation du contexte spark\n",
    "val sparkConf = new SparkConf().setMaster(\"local\").setAppName(\"pagerank\")\n",
    "val sc = new SparkContext(sparkConf)\n",
    "\n",
    "\n",
    "\n",
    "    // $example on$\n",
    "    // Load the graph as in the PageRank example\n",
    "    val graph = GraphLoader.edgeListFile(sc, \"data/followers.txt\")\n",
    "    // Find the connected components\n",
    "    val cc = graph.connectedComponents().vertices\n",
    "    // Join the connected components with the usernames\n",
    "    val users = sc.textFile(\"data/users.txt\").map { line =>\n",
    "      val fields = line.split(\",\")\n",
    "      (fields(0).toLong, fields(1))\n",
    "    }\n",
    "    val ccByUsername = users.join(cc).map {\n",
    "      case (id, (username, cc)) => (username, cc)\n",
    "    }\n",
    "    // Print the result\n",
    "    println(ccByUsername.collect().mkString(\"\\n\"))\n",
    "    // $example off$\n",
    "    sc.stop()\n",
    " "
   ]
  },
  {
   "cell_type": "code",
   "execution_count": null,
   "metadata": {},
   "outputs": [],
   "source": []
  }
 ],
 "metadata": {
  "kernelspec": {
   "display_name": "Apache Toree - Scala",
   "language": "scala",
   "name": "apache_toree_scala"
  },
  "language_info": {
   "codemirror_mode": "text/x-scala",
   "file_extension": ".scala",
   "mimetype": "text/x-scala",
   "name": "scala",
   "pygments_lexer": "scala",
   "version": "2.11.12"
  }
 },
 "nbformat": 4,
 "nbformat_minor": 2
}
