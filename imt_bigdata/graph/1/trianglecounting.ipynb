{
 "cells": [
  {
   "cell_type": "code",
   "execution_count": 1,
   "metadata": {},
   "outputs": [
    {
     "name": "stdout",
     "output_type": "stream",
     "text": [
      "(justinbieber,0)\n",
      "(BarackObama,0)\n",
      "(matei_zaharia,1)\n",
      "(jeresig,1)\n",
      "(odersky,1)\n",
      "(ladygaga,0)\n"
     ]
    },
    {
     "data": {
      "text/plain": [
       "sparkConf = org.apache.spark.SparkConf@1bc8e0df\n",
       "sc = org.apache.spark.SparkContext@4be49570\n",
       "graph = org.apache.spark.graphx.impl.GraphImpl@1e9dca9d\n",
       "triCounts = VertexRDDImpl[69] at RDD at VertexRDD.scala:57\n",
       "users = MapPartitionsRDD[74] at map at <console>:70\n"
      ]
     },
     "metadata": {},
     "output_type": "display_data"
    },
    {
     "data": {
      "text/plain": [
       "triCountByUsername...\n"
      ]
     },
     "metadata": {},
     "output_type": "display_data"
    },
    {
     "data": {
      "text/plain": [
       "MapPartitionsRDD[74] at map at <console>:70"
      ]
     },
     "execution_count": 1,
     "metadata": {},
     "output_type": "execute_result"
    }
   ],
   "source": [
    "\n",
    "// $example on$\n",
    "import org.apache.spark.graphx.{GraphLoader, PartitionStrategy}\n",
    "// $example off$\n",
    "import org.apache.spark.sql.SparkSession\n",
    "\n",
    "/**\n",
    " * A vertex is part of a triangle when it has two adjacent vertices with an edge between them.\n",
    " * GraphX implements a triangle counting algorithm in the [`TriangleCount` object][TriangleCount]\n",
    " * that determines the number of triangles passing through each vertex,\n",
    " * providing a measure of clustering.\n",
    " * We compute the triangle count of the social network dataset.\n",
    " *\n",
    " * Note that `TriangleCount` requires the edges to be in canonical orientation (`srcId < dstId`)\n",
    " * and the graph to be partitioned using [`Graph.partitionBy`][Graph.partitionBy].\n",
    " *\n",
    " * Run with\n",
    " * {{{\n",
    " * bin/run-example graphx.TriangleCountingExample\n",
    " * }}}\n",
    " */\n",
    "import org.apache.spark.graphx.{Graph, VertexRDD}\n",
    "import org.apache.spark.graphx.util.GraphGenerators\n",
    "// $example off$\n",
    "import org.apache.spark.sql.SparkSession\n",
    "\n",
    "import org.apache.spark._\n",
    "import org.apache.spark.graphx._\n",
    "// To make some of the examples work we will also need RDD\n",
    "import org.apache.spark.rdd.RDD\n",
    "\n",
    "\n",
    "// Assume the SparkContext has already been constructed\n",
    "// initialisation du contexte spark\n",
    "val sparkConf = new SparkConf().setMaster(\"local\").setAppName(\"pagerank\")\n",
    "val sc = new SparkContext(sparkConf)\n",
    "\n",
    "    // $example on$\n",
    "    // Load the edges in canonical order and partition the graph for triangle count\n",
    "    val graph = GraphLoader.edgeListFile(sc, \"data/followers.txt\", true)\n",
    "      .partitionBy(PartitionStrategy.RandomVertexCut)\n",
    "    // Find the triangle count for each vertex\n",
    "    val triCounts = graph.triangleCount().vertices\n",
    "    // Join the triangle counts with the usernames\n",
    "    val users = sc.textFile(\"data/users.txt\").map { line =>\n",
    "      val fields = line.split(\",\")\n",
    "      (fields(0).toLong, fields(1))\n",
    "    }\n",
    "    val triCountByUsername = users.join(triCounts).map { case (id, (username, tc)) =>\n",
    "      (username, tc)\n",
    "    }\n",
    "    // Print the result\n",
    "    println(triCountByUsername.collect().mkString(\"\\n\"))\n",
    "    // $example off$\n",
    "    sc.stop()\n",
    "\n",
    "// scalastyle:on println\n"
   ]
  },
  {
   "cell_type": "code",
   "execution_count": null,
   "metadata": {},
   "outputs": [],
   "source": []
  }
 ],
 "metadata": {
  "kernelspec": {
   "display_name": "Apache Toree - Scala",
   "language": "scala",
   "name": "apache_toree_scala"
  },
  "language_info": {
   "codemirror_mode": "text/x-scala",
   "file_extension": ".scala",
   "mimetype": "text/x-scala",
   "name": "scala",
   "pygments_lexer": "scala",
   "version": "2.11.12"
  }
 },
 "nbformat": 4,
 "nbformat_minor": 2
}
