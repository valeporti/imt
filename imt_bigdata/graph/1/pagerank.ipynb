{
 "cells": [
  {
   "cell_type": "code",
   "execution_count": 16,
   "metadata": {},
   "outputs": [
    {
     "name": "stdout",
     "output_type": "stream",
     "text": [
      "(justinbieber,0.15007622780470478)\n",
      "(BarackObama,1.4596227918476916)\n",
      "(matei_zaharia,0.7017164142469724)\n",
      "(jeresig,0.9998520559494657)\n",
      "(odersky,1.2979769092759237)\n",
      "(ladygaga,1.3907556008752426)\n"
     ]
    },
    {
     "data": {
      "text/plain": [
       "sparkConf = org.apache.spark.SparkConf@534d3bae\n",
       "sc = org.apache.spark.SparkContext@224e1173\n",
       "graph = org.apache.spark.graphx.impl.GraphImpl@2029a092\n",
       "ranks = VertexRDDImpl[903] at RDD at VertexRDD.scala:57\n",
       "users = MapPartitionsRDD[912] at map at <console>:73\n",
       "ranksByUsername = MapPartitionsRDD[916] at map at <console>:77\n"
      ]
     },
     "metadata": {},
     "output_type": "display_data"
    },
    {
     "data": {
      "text/plain": [
       "MapPartitionsRDD[916] at map at <console>:77"
      ]
     },
     "execution_count": 16,
     "metadata": {},
     "output_type": "execute_result"
    }
   ],
   "source": [
    "\n",
    "/**\n",
    " * A PageRank example on social network dataset\n",
    " * Run with\n",
    " * {{{\n",
    " * bin/run-example graphx.PageRankExample\n",
    " * }}}\n",
    " */\n",
    "// $example on$\n",
    "import org.apache.spark.graphx.{Graph, VertexRDD}\n",
    "import org.apache.spark.graphx.util.GraphGenerators\n",
    "// $example off$\n",
    "import org.apache.spark.sql.SparkSession\n",
    "\n",
    "import org.apache.spark._\n",
    "import org.apache.spark.graphx._\n",
    "// To make some of the examples work we will also need RDD\n",
    "import org.apache.spark.rdd.RDD\n",
    "\n",
    "// Assume the SparkContext has already been constructed\n",
    "// initialisation du contexte spark\n",
    "val sparkConf = new SparkConf().setMaster(\"local\").setAppName(\"pagerank\")\n",
    "val sc = new SparkContext(sparkConf)\n",
    "\n",
    "\n",
    "    // $example on$\n",
    "    // Load the edges as a graph\n",
    "    //val graph = GraphLoader.edgeListFile(sc, \"/Users/laurentlecornu/Desktop/data/graphx/followers.txt\")\n",
    "    val graph = GraphLoader.edgeListFile(sc, \"data/followers.txt\")\n",
    "    // Run PageRank\n",
    "    val ranks = graph.pageRank(0.0001).vertices\n",
    "    // Join the ranks with the usernames\n",
    "    val users = sc.textFile(\"/Users/laurentlecornu/Desktop/data/graphx/users.txt\").map { line =>\n",
    "      val fields = line.split(\",\")\n",
    "      (fields(0).toLong, fields(1))\n",
    "    }\n",
    "    val ranksByUsername = users.join(ranks).map {\n",
    "      case (id, (username, rank)) => (username, rank)\n",
    "    }\n",
    "    // Print the result\n",
    "    println(ranksByUsername.collect().mkString(\"\\n\"))\n",
    "    // $example off$\n",
    "    sc.stop()\n",
    "\n",
    "// scalastyle:on println\n"
   ]
  },
  {
   "cell_type": "code",
   "execution_count": 14,
   "metadata": {},
   "outputs": [
    {
     "data": {
      "text/plain": [
       "lastException: Throwable = null\n"
      ]
     },
     "metadata": {},
     "output_type": "display_data"
    }
   ],
   "source": [
    "sc.stop()"
   ]
  },
  {
   "cell_type": "code",
   "execution_count": null,
   "metadata": {},
   "outputs": [],
   "source": []
  }
 ],
 "metadata": {
  "kernelspec": {
   "display_name": "Apache Toree - Scala",
   "language": "scala",
   "name": "apache_toree_scala"
  },
  "language_info": {
   "codemirror_mode": "text/x-scala",
   "file_extension": ".scala",
   "mimetype": "text/x-scala",
   "name": "scala",
   "pygments_lexer": "scala",
   "version": "2.11.12"
  }
 },
 "nbformat": 4,
 "nbformat_minor": 2
}
