{
 "cells": [
  {
   "cell_type": "code",
   "execution_count": 1,
   "metadata": {},
   "outputs": [
    {
     "name": "stdout",
     "output_type": "stream",
     "text": [
      "Marking co.theasi:plotly_2.11:0.2.0 for download\n",
      "Obtained 2 files\n"
     ]
    }
   ],
   "source": [
    "// https://search.maven.org/search?q=g:co.theasi\n",
    "// https://github.com/alexarchambault/plotly-scala\n",
    "// https://plot.ly/scala/\n",
    "\n",
    "%AddDeps co.theasi plotly_2.11 0.2.0"
   ]
  },
  {
   "cell_type": "code",
   "execution_count": 4,
   "metadata": {},
   "outputs": [],
   "source": [
    "import co.theasi.plotly"
   ]
  },
  {
   "cell_type": "code",
   "execution_count": 5,
   "metadata": {},
   "outputs": [
    {
     "data": {
      "text/plain": [
       "plot = CartesianPlot(Vector(),CartesianPlotOptions(Axis(AxisOptions(None,None,None,None,None,None,None,Font(None,None,None),Font(None,None,None),None,None,None,None)),Axis(AxisOptions(None,None,None,None,None,None,None,Font(None,None,None),Font(None,None,None),None,None,None,None))))\n"
      ]
     },
     "metadata": {},
     "output_type": "display_data"
    },
    {
     "data": {
      "text/plain": [
       "CartesianPlot(Vector(),CartesianPlotOptions(Axis(AxisOptions(None,None,None,None,None,None,None,Font(None,None,None),Font(None,None,None),None,None,None,None)),Axis(AxisOptions(None,None,None,None,None,None,None,Font(None,None,None),Font(None,None,None),None,None,None,None))))"
      ]
     },
     "execution_count": 5,
     "metadata": {},
     "output_type": "execute_result"
    }
   ],
   "source": [
    "var plot = plotly.Plot()"
   ]
  },
  {
   "cell_type": "code",
   "execution_count": 8,
   "metadata": {},
   "outputs": [
    {
     "data": {
      "text/plain": [
       "xs = NumericRange(0.0, 0.1, 0.2, 0.30000000000000004, 0.4, 0.5, 0.6, 0.7, 0.7999999999999999, 0.8999999999999999, 0.9999999999999999, 1.0999999999999999, 1.2, 1.3, 1.4000000000000001, 1.5000000000000002, 1.6000000000000003, 1.7000000000000004, 1.8000000000000005, 1.9000000000000006, 2.0000000000000004)\n",
       "ys = Vector(0.0, 0.010000000000000002, 0.04000000000000001, 0.09000000000000002, 0.16000000000000003, 0.25, 0.36, 0.48999999999999994, 0.6399999999999999, 0.8099999999999998, 0.9999999999999998, 1.2099999999999997, 1.44, 1.6900000000000002, 1.9600000000000004, 2.250000000000001, 2.560000000000001, 2.8900000000000015, 3.2400000000000015, 3.610000000000002, 4.000000000000002)\n"
      ]
     },
     "metadata": {},
     "output_type": "display_data"
    },
    {
     "data": {
      "text/plain": [
       "lastException: Throwable = null\n",
       "plot: co.theasi.plot...\n"
      ]
     },
     "metadata": {},
     "output_type": "display_data"
    },
    {
     "data": {
      "text/plain": [
       "Vector(0.0, 0.010000000000000002, 0.04000000000000001, 0.09000000000000002, 0.16000000000000003, 0.25, 0.36, 0.48999999999999994, 0.6399999999999999, 0.8099999999999998, 0.9999999999999998, 1.2099999999999997, 1.44, 1.6900000000000002, 1.9600000000000004, 2.250000000000001, 2.560000000000001, 2.8900000000000015, 3.2400000000000015, 3.610000000000002, 4.000000000000002)"
      ]
     },
     "execution_count": 8,
     "metadata": {},
     "output_type": "execute_result"
    }
   ],
   "source": [
    "val xs = (0.0 to 2.0 by 0.1)\n",
    "val ys = xs.map { x => x*x }\n",
    "\n",
    "val plot = plotly.Plot().withScatter(xs, ys)\n",
    "\n"
   ]
  },
  {
   "cell_type": "code",
   "execution_count": 10,
   "metadata": {},
   "outputs": [
    {
     "data": {
      "text/plain": [
       "Name: Unknown Error\n",
       "Message: lastException: Throwable = null\n",
       "<console>:40: error: object offline is not a member of package co.theasi.plotly\n",
       "       plotly.offline.draw(plot, \"my-first-plot\")\n",
       "              ^\n",
       "\n",
       "StackTrace: "
      ]
     },
     "execution_count": 10,
     "metadata": {},
     "output_type": "execute_result"
    }
   ],
   "source": [
    "plotly.offline.draw(plot, \"my-first-plot\")"
   ]
  },
  {
   "cell_type": "code",
   "execution_count": null,
   "metadata": {},
   "outputs": [],
   "source": []
  }
 ],
 "metadata": {
  "kernelspec": {
   "display_name": "Apache Toree - Scala",
   "language": "scala",
   "name": "apache_toree_scala"
  },
  "language_info": {
   "codemirror_mode": "text/x-scala",
   "file_extension": ".scala",
   "mimetype": "text/x-scala",
   "name": "scala",
   "pygments_lexer": "scala",
   "version": "2.11.12"
  }
 },
 "nbformat": 4,
 "nbformat_minor": 2
}
