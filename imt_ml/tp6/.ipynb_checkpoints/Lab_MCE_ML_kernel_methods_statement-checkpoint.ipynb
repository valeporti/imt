{
 "cells": [
  {
   "cell_type": "markdown",
   "metadata": {},
   "source": [
    "<img\n",
    "src=\"http://www.telecom-em.eu/sites/default/files/logoimt2016.JPG\"\n",
    "WIDTH=180 HEIGHT=180>\n",
    "\n",
    "<CENTER>\n",
    "</br>\n",
    "<p><font size=\"5\">  TAF MCE - Machine Learning  </font></p>\n",
    "<p><font size=\"5\">  Kernel methods: statement  </font></p>\n",
    "</p>\n",
    "</CENTER>\n",
    "\n",
    "----------------------------"
   ]
  },
  {
   "cell_type": "markdown",
   "metadata": {},
   "source": [
    "## I - Kernel density estimation\n",
    "\n",
    "> 1. Implement the kernel density estimator with a Gaussian kernel in a function **kde(x,data=data,h=0)** where $x$ represents the locations where the density estimator is computed, $data$ the data and $h$ the bandwidth. For default value $h=0$ the bandwidth should be changed inside the function to the standard Sylverman bandwidth estimator. \n",
    "> 2. For $n=100$ samples of a $\\mathcal{N}(1,1)$ distribution, plot the pdf and its estimator. \n",
    "> 3. Check the influence of the value of the bandwidth parameter.\n",
    "<!--Use bandwidth parameter suggested in (https://en.wikipedia.org/wiki/Kernel_density_estimation).--> "
   ]
  },
  {
   "cell_type": "code",
   "execution_count": 144,
   "metadata": {},
   "outputs": [],
   "source": [
    "from pylab import *\n",
    "import numpy as np\n",
    "import matplotlib.pyplot as plt\n",
    "import seaborn as sns\n",
    "from numpy import linalg as LA\n",
    "%matplotlib inline"
   ]
  },
  {
   "cell_type": "code",
   "execution_count": 155,
   "metadata": {},
   "outputs": [],
   "source": [
    "n = 100\n",
    "mu = 1\n",
    "sigma = 1\n",
    "np.random.seed(1234)\n",
    "data = np.random.normal( mu, sigma, n )\n",
    "\n",
    "#plt.hist(values, bins=20)"
   ]
  },
  {
   "cell_type": "code",
   "execution_count": 156,
   "metadata": {},
   "outputs": [
    {
     "name": "stdout",
     "output_type": "stream",
     "text": [
      "1.471435163732493\n",
      "-0.19097569470646447\n",
      "2.432706968426097\n",
      "0.6873481039082872\n",
      "0.2794112666349884\n",
      "1.8871629403077386\n",
      "1.8595884137174163\n",
      "0.36347649558265094\n",
      "1.015696372114429\n",
      "-1.2426849541854055\n",
      "2.1500357247198183\n",
      "1.991946022342678\n",
      "1.9533241281124303\n",
      "-1.0212548201949705\n",
      "0.665922634191903\n",
      "1.0021183646834866\n",
      "1.4054534115701909\n",
      "1.2890919409800352\n",
      "2.321158192129386\n",
      "-0.5469055532292402\n",
      "0.7973536753708181\n",
      "0.34403065586106607\n",
      "1.1934213764703583\n",
      "1.553438910956742\n",
      "2.3181515541801367\n",
      "0.5306947152941004\n",
      "1.6755540851223807\n",
      "-0.8170272265901968\n",
      "0.8168914598210013\n",
      "2.0589691875711504\n",
      "0.6021597718000087\n",
      "1.3374376536139723\n",
      "2.047578572892722\n",
      "2.0459382556276653\n",
      "1.8637172916848388\n",
      "0.8779084251523257\n",
      "1.124712953768216\n",
      "0.6772051943917043\n",
      "1.8416747129961415\n",
      "3.390960515463033\n",
      "1.0761995878372363\n",
      "0.43355406953504316\n",
      "1.0361419366840727\n",
      "-1.0749776006900293\n",
      "1.2477921997485466\n",
      "0.1028432155603013\n",
      "0.8632051667386527\n",
      "1.0182891913492194\n",
      "1.7554139823981354\n",
      "1.2152685809694435\n",
      "1.841008794931391\n",
      "-0.4458100770443063\n",
      "-0.4019732815008439\n",
      "0.8990818000510861\n",
      "0.45175755081314506\n",
      "0.8553804916306156\n",
      "1.354020332199238\n",
      "0.9644869747218598\n",
      "1.5657383060625951\n",
      "2.5456588046255577\n",
      "0.025763666232684557\n",
      "0.9296551228958976\n",
      "1.3079688552160342\n",
      "0.7915012368941202\n",
      "2.033800732555499\n",
      "-1.4004536338122957\n",
      "3.0306036208387996\n",
      "-0.14263128902276345\n",
      "1.211883386777701\n",
      "1.7047206243171087\n",
      "0.21456478823680303\n",
      "1.4620597371620487\n",
      "1.7042282254621743\n",
      "1.5235079678938095\n",
      "0.07374568646977409\n",
      "3.0078429507780005\n",
      "1.2269625418708954\n",
      "-0.15265910925095239\n",
      "1.6319794458091295\n",
      "1.0395126866933666\n",
      "1.4643923250508961\n",
      "-2.5635166606247353\n",
      "2.3211056154702057\n",
      "1.1526305522045344\n",
      "1.1645295429323985\n",
      "0.5699043091235124\n",
      "1.7673687357524115\n",
      "1.984919841909897\n",
      "1.270835848826804\n",
      "2.3919861934464075\n",
      "1.079842313008629\n",
      "0.6000354193034775\n",
      "-0.02785055868190578\n",
      "0.41528178873921173\n",
      "1.8165939265478417\n",
      "0.9180529481733346\n",
      "0.6552339857453557\n",
      "1.528288145297394\n",
      "-0.06898878348013215\n",
      "0.48811869087318493\n"
     ]
    },
    {
     "data": {
      "text/plain": [
       "[<matplotlib.lines.Line2D at 0x7faa547340f0>]"
      ]
     },
     "execution_count": 156,
     "metadata": {},
     "output_type": "execute_result"
    },
    {
     "data": {
      "image/png": "[encoded data removed]",
      "text/plain": [
       "<Figure size 720x360 with 1 Axes>"
      ]
     },
     "metadata": {},
     "output_type": "display_data"
    }
   ],
   "source": [
    "\n",
    "def kGauss(x, x_k, h):\n",
    "    #return (1/np.sqrt(2*np.pi*(h**2)))*np.exp(-(((x-x_k)/h)**2)/2)\n",
    "    return np.exp(-(((x-x_k)/h)**2)/2)/np.sqrt(2*np.pi*(h**2))\n",
    "    #return np.exp(-(x**2)/2)/(np.sqrt(2*np.pi))\n",
    "def kernel_lei(x):\n",
    "    return np.exp(-(x**2)/2)/(np.sqrt(2*np.pi))\n",
    "\n",
    "def kde(x, data=data, h=0):\n",
    "    K_sum = 0\n",
    "    for x_k in data: \n",
    "        print(x_k)\n",
    "        #K_sum += kGauss(x, x_k, h)\n",
    "        K_sum += kernel_lei((x-x_k/h))\n",
    "        #print(K_sum)\n",
    "    return K_sum / (data.size * h)\n",
    "    #return [ mean(array([ kGauss(y, u, h) for u in data ])) for y in x ]\n",
    "\n",
    "t = linspace(-3, 5, 100)\n",
    "lei_sol = LA.norm(data-np.mean(data))**2/data.size\n",
    "h = 1.06*((data.size)**(-1./5))*lei_sol\n",
    "#h = 1.06(*std(data)*n**(-1./5))\n",
    "#print(kde(t, data=data, h=h))\n",
    "plt.figure(figsize=(10,5))\n",
    "#plt.plot(t, kde(t, data=data, h=10*h))\n",
    "#plt.plot(t, kde(t, data=data, h=h))\n",
    "#plt.plot(t, kde(t, data=data, h=.1*h))\n",
    "#plt.hist(data, bins=20, normed=True, )\n",
    "\n",
    "sns.distplot(data)\n",
    "plt.plot(t, kde(t, data=data, h=h))"
   ]
  },
  {
   "cell_type": "code",
   "execution_count": 107,
   "metadata": {},
   "outputs": [
    {
     "ename": "NameError",
     "evalue": "name 'x' is not defined",
     "output_type": "error",
     "traceback": [
      "\u001b[0;31m---------------------------------------------------------------------------\u001b[0m",
      "\u001b[0;31mNameError\u001b[0m                                 Traceback (most recent call last)",
      "\u001b[0;32m<ipython-input-107-6fcf9dfbd479>\u001b[0m in \u001b[0;36m<module>\u001b[0;34m()\u001b[0m\n\u001b[0;32m----> 1\u001b[0;31m \u001b[0mx\u001b[0m\u001b[0;34m\u001b[0m\u001b[0;34m\u001b[0m\u001b[0m\n\u001b[0m",
      "\u001b[0;31mNameError\u001b[0m: name 'x' is not defined"
     ]
    }
   ],
   "source": [
    "x"
   ]
  },
  {
   "cell_type": "markdown",
   "metadata": {},
   "source": [
    "## II - Kernel regression\n",
    "\n",
    "Assume a pair $(X,Y)$ of random variables, with $p(x)\\sim\\mathcal{U}_{[-3,3]}$ and $p(y\\vert x)\\sim\\mathcal{N}(x^2+\\exp(-x),10\\cos^2x)$. \n",
    "\n",
    "> Implement the kernel approximation of the regression curve $\\mathbb{E}[Y\\vert X=x]$ and of linear regression. Test your code with sample size $n=10^4$."
   ]
  },
  {
   "cell_type": "code",
   "execution_count": null,
   "metadata": {},
   "outputs": [],
   "source": [
    "from pylab import *\n",
    "%matplotlib inline"
   ]
  },
  {
   "cell_type": "code",
   "execution_count": null,
   "metadata": {},
   "outputs": [],
   "source": [
    "..."
   ]
  },
  {
   "cell_type": "markdown",
   "metadata": {},
   "source": [
    "## III - KNN"
   ]
  },
  {
   "cell_type": "markdown",
   "metadata": {},
   "source": [
    "We consider 2D data generated using the code below. Each line of dataX and dataY represents points form a distinct class\n",
    "\n",
    "    ns  = 200  # number of samples per class\n",
    "    nc = 3    # number of classes\n",
    "    dataX  = zeros(shape=(nc,ns))\n",
    "    dataY  = zeros(shape=(nc,ns))\n",
    "    dataX[0,:]  = randn(ns)\n",
    "    dataY[0,:]  = sin(2*dataX[0,:]) + sqrt(.1)*randn(ns)\n",
    "    dataX[1,:]  = -1 + .5*randn(ns)\n",
    "    dataY[1,:]  =  1 + .5*randn(ns)\n",
    "    dataX[2,:]  =  1 + .5*randn(ns)\n",
    "    dataY[2,:]  = -1 + .5*randn(ns)\n",
    "\n",
    "> 1. Visualize data and their class using a scatter plot.\n",
    "> 2. Discretize the area $[-3,3]\\times[-3,3]$ with 100 points per axis. For each point, compute the minimum surface $Z_{ij}=S(X_{ij},Y_{ij})$ of the disk that encloses the K nearest neighbors and represent a contour plot of $Z$\n",
    "> 3. For each point of the surface, compute the posterior probabilities of the classes and plot the posterior probability map for each class. \n",
    "> 4. Plot the decision map for the class that supplies the decided class for each point based on posterior probability maximization.\n",
    "\n",
    "\n",
    "Note: you could alternatively use scikit learn (https://scikit-learn.org/stable/modules/neighbors.html)"
   ]
  },
  {
   "cell_type": "code",
   "execution_count": 53,
   "metadata": {},
   "outputs": [
    {
     "data": {
      "text/plain": [
       "<matplotlib.collections.PathCollection at 0x7faa6036db38>"
      ]
     },
     "execution_count": 53,
     "metadata": {},
     "output_type": "execute_result"
    },
    {
     "data": {
      "image/png": "[encoded data removed]",
      "text/plain": [
       "<Figure size 432x432 with 1 Axes>"
      ]
     },
     "metadata": {},
     "output_type": "display_data"
    }
   ],
   "source": [
    "ns  = 200  # number of samples per class\n",
    "nc = 3    # number of classes\n",
    "dataX  = zeros(shape=(nc,ns))\n",
    "dataY  = zeros(shape=(nc,ns))\n",
    "dataX[0,:]  = randn(ns)\n",
    "dataY[0,:]  = sin(2*dataX[0,:]) + sqrt(.1)*randn(ns)\n",
    "dataX[1,:]  = -1 + .5*randn(ns)\n",
    "dataY[1,:]  =  1 + .5*randn(ns)\n",
    "dataX[2,:]  =  1 + .5*randn(ns)\n",
    "dataY[2,:]  = -1 + .5*randn(ns)\n",
    "\n",
    "plt.figure(figsize=(6,6))\n",
    "plt.scatter(dataX[0,:], dataY[0,:],color='r')\n",
    "plt.scatter(dataX[1,:], dataY[1,:],color='b')\n",
    "plt.scatter(dataX[2,:], dataY[2,:],color='g')"
   ]
  },
  {
   "cell_type": "code",
   "execution_count": null,
   "metadata": {
    "scrolled": false
   },
   "outputs": [],
   "source": [
    "..."
   ]
  },
  {
   "cell_type": "code",
   "execution_count": null,
   "metadata": {},
   "outputs": [],
   "source": [
    "..."
   ]
  },
  {
   "cell_type": "markdown",
   "metadata": {},
   "source": [
    "## IV - Kernel methods with scikit-learn\n",
    "\n",
    "We illustrate the use of scikit-learn for kernel density estimation by considering a simple example.\n",
    "\n",
    "> 1. generate a set of data that contains $2.10^4$ samples with $\\mathcal{N}(0,100)$ distribution, $10^4$ samples with $\\mathcal{N}(3,1)$ distribution and $10^4$ samples with $\\mathcal{N}(2,4)$ distribution.\n",
    "> 2. Plot the kernel density estimator obtained using the **KernelDensity** function of scikit-learn.\n",
    "\n",
    "\n",
    "Note that you could also use scikit learn for KNN estimation in setion III (https://scikit-learn.org/stable/modules/neighbors.html)"
   ]
  },
  {
   "cell_type": "code",
   "execution_count": null,
   "metadata": {},
   "outputs": [],
   "source": [
    "from pylab import *\n",
    "%matplotlib inline\n",
    "\n",
    "from sklearn.neighbors import KernelDensity\n",
    "import scipy.stats as st"
   ]
  },
  {
   "cell_type": "code",
   "execution_count": null,
   "metadata": {},
   "outputs": [],
   "source": [
    "..."
   ]
  }
 ],
 "metadata": {
  "kernelspec": {
   "display_name": "Python 3",
   "language": "python",
   "name": "python3"
  },
  "language_info": {
   "codemirror_mode": {
    "name": "ipython",
    "version": 3
   },
   "file_extension": ".py",
   "mimetype": "text/x-python",
   "name": "python",
   "nbconvert_exporter": "python",
   "pygments_lexer": "ipython3",
   "version": "3.6.8"
  }
 },
 "nbformat": 4,
 "nbformat_minor": 1
}
