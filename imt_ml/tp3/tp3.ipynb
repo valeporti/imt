{
 "cells": [
  {
   "cell_type": "markdown",
   "metadata": {},
   "source": [
    "## Runlu QU\n",
    "## Valentin PORTILLO"
   ]
  },
  {
   "cell_type": "markdown",
   "metadata": {},
   "source": [
    "## Quadratic detection of random signal in white gaussian noise"
   ]
  },
  {
   "cell_type": "code",
   "execution_count": 90,
   "metadata": {},
   "outputs": [],
   "source": [
    "import scipy.stats as st \n",
    "import numpy as np\n",
    "import matplotlib.pyplot as plt"
   ]
  },
  {
   "cell_type": "code",
   "execution_count": 140,
   "metadata": {},
   "outputs": [],
   "source": [
    "# Constant values\n",
    "NbTests = 10000; sigma_S = 10; sigma_W = 1; N = 10;\n",
    "p = 0.5\n",
    "rho = sigma_S**2 / sigma_W**2\n",
    "# threshold (lamda squared in sheet)\n",
    "threshold = sigma_W**2 * (rho + 1) / rho * np.log(rho + 1)\n",
    "epsilon = st.bernoulli.rvs(p,size = NbTests)  # Generate Epsilon\n",
    "W = sigma_W * (np.random.randn(NbTests, N)) # Generate noise\n",
    "S = sigma_S * (np.random.randn(NbTests, N)) # Generate signal"
   ]
  },
  {
   "cell_type": "markdown",
   "metadata": {},
   "source": [
    "Calculate vector X: ε(S+W)+(1−ε)W"
   ]
  },
  {
   "cell_type": "code",
   "execution_count": 141,
   "metadata": {},
   "outputs": [],
   "source": [
    "X = np.empty((NbTests, N))\n",
    "for i in range(NbTests): \n",
    "    for j in range(N):\n",
    "        X[i][j] = epsilon[i]*(S[i][j] + W[i][j]) + (1 - epsilon[i])*W[i][j]"
   ]
  },
  {
   "cell_type": "markdown",
   "metadata": {},
   "source": [
    "Check whether the generated values are up or down the threshold"
   ]
  },
  {
   "cell_type": "code",
   "execution_count": 145,
   "metadata": {},
   "outputs": [],
   "source": [
    "\"\"\"Decision = np.zeros(NbTests, dtype=np.int16)\n",
    "for i in range(NbTests):\n",
    "    for j in range(N):\n",
    "        if X[i][j] ** 2  > threshold:\n",
    "            Decision[i] = 1\"\"\"\n",
    "Decision = np.zeros(NbTests, dtype=np.int16)\n",
    "for i in range(NbTests):\n",
    "    if np.all( X[i]**2 > threshold ):\n",
    "        Decision[i] = 1"
   ]
  },
  {
   "cell_type": "markdown",
   "metadata": {},
   "source": [
    "use Qchi2 because we're calculating the threshold as a quadratic"
   ]
  },
  {
   "cell_type": "code",
   "execution_count": 146,
   "metadata": {},
   "outputs": [
    {
     "name": "stdout",
     "output_type": "stream",
     "text": [
      "Error Rate           : 0.4219\n",
      "Probability of error : 0.49496997729448833\n"
     ]
    }
   ],
   "source": [
    "# Error rates and probability of error\n",
    "Q = st.norm.sf \n",
    "Qchi2 = st.chi2.sf\n",
    "\n",
    "ErrorRate = np.mean(Decision != epsilon)\n",
    "Pe = 1/2 + Qchi2(np.sqrt((rho + 1)/rho*np.log(rho + 1)), N) - Qchi2(np.sqrt(np.log(rho + 1)/rho), N)\n",
    "print('Error Rate           : {}'.format(ErrorRate))\n",
    "print('Probability of error : {}'.format(Pe))"
   ]
  },
  {
   "cell_type": "code",
   "execution_count": 149,
   "metadata": {},
   "outputs": [
    {
     "data": {
      "text/plain": [
       "(61,)"
      ]
     },
     "execution_count": 149,
     "metadata": {},
     "output_type": "execute_result"
    }
   ],
   "source": [
    "NbTests = 100000\n",
    "N = 10\n",
    "sigma_W = 1\n",
    "rho_db = np.arange(-10,51); rho = 10 ** (rho_db/10)\n",
    "sigma_S = np.sqrt(rho * sigma_W**2)\n",
    "threshold = sigma_W**2 * (rho + 1) / rho * np.log(rho + 1)\n",
    "threshold.shape"
   ]
  },
  {
   "cell_type": "code",
   "execution_count": 154,
   "metadata": {},
   "outputs": [],
   "source": [
    "NbTests = 100000\n",
    "N = 10\n",
    "sigma_W = 1\n",
    "rho_db = np.arange(-10,51); rho = 10 ** (rho_db/10)\n",
    "sigma_S = np.sqrt(rho * sigma_W**2)\n",
    "threshold = sigma_W**2 * (rho + 1) / rho * np.log(rho + 1)\n",
    "ErrorRate = np.zeros_like(rho)\n",
    "\n",
    "for r in range(len(rho)):\n",
    "    epsilon = st.bernoulli.rvs(p = 0.5,size = NbTests)  # Generate Epsilon\n",
    "    W = sigma_W * (np.random.randn(NbTests, N)) \n",
    "    S = sigma_S[r] * (np.random.randn(NbTests, N))\n",
    "    # Generate observations\n",
    "    X = np.empty((NbTests, N))\n",
    "    for i in range(NbTests): \n",
    "        for j in range(N):\n",
    "            X[i][j] = epsilon[i]*(S[i][j] + W[i][j]) + (1 - epsilon[i])*W[i][j]\n",
    "    # Calculate decisions\n",
    "    Decision = np.zeros(NbTests, dtype=np.int16)\n",
    "    for i in range(NbTests):\n",
    "        if np.all( X[i]**2 > threshold[r] ):\n",
    "            Decision[i] = 1\n",
    "    # Error rate\n",
    "    ErrorRate[r] = np.mean(Decision != epsilon)    \n",
    "# Probability of error\n",
    "Pe = 1/2 + Qchi2(np.sqrt((rho + 1)/rho*np.log(rho + 1)), N) - Qchi2(np.sqrt(np.log(rho + 1)/rho), N)"
   ]
  },
  {
   "cell_type": "code",
   "execution_count": 155,
   "metadata": {},
   "outputs": [
    {
     "data": {
      "text/plain": [
       "array([0.50088, 0.50258, 0.50023, 0.50036, 0.49984, 0.50165, 0.50282,\n",
       "       0.50043, 0.50125, 0.50151, 0.49585, 0.4998 , 0.49961, 0.50125,\n",
       "       0.50308, 0.50009, 0.49765, 0.50155, 0.49931, 0.49721, 0.49576,\n",
       "       0.49429, 0.49504, 0.48647, 0.48032, 0.47547, 0.46651, 0.45927,\n",
       "       0.44899, 0.43726, 0.42464, 0.40977, 0.39428, 0.37441, 0.35487,\n",
       "       0.33761, 0.31813, 0.30161, 0.28293, 0.2657 , 0.24686, 0.23212,\n",
       "       0.21352, 0.19806, 0.18061, 0.16724, 0.15502, 0.1428 , 0.13056,\n",
       "       0.1184 , 0.10866, 0.09834, 0.08972, 0.08252, 0.07527, 0.06679,\n",
       "       0.06011, 0.05575, 0.05049, 0.04514, 0.04046])"
      ]
     },
     "execution_count": 155,
     "metadata": {},
     "output_type": "execute_result"
    }
   ],
   "source": [
    "ErrorRate"
   ]
  },
  {
   "cell_type": "code",
   "execution_count": 157,
   "metadata": {},
   "outputs": [
    {
     "data": {
      "image/png": "[encoded data removed]",
      "text/plain": [
       "<Figure size 432x288 with 1 Axes>"
      ]
     },
     "metadata": {},
     "output_type": "display_data"
    }
   ],
   "source": [
    "h_fig, h_ax = plt.subplots() \n",
    "h_ax.plot(rho_db, Pe, label='$P_e$'),h_ax.plot(rho_db, ErrorRate, '+', label='Error rate')\n",
    "h_ax.set_xlabel('$\\\\rho$ (dB)'); h_ax.set_ylabel('$P_E$') \n",
    "h_ax.set_title('Error probability vs. error rate'); h_ax.legend(); h_ax.grid(which='both')"
   ]
  },
  {
   "cell_type": "markdown",
   "metadata": {},
   "source": [
    "**As we can see, while the value of rho is near zero, the estimated percentage of error is near the probability of error, but when we have high values of rho, the chances of getting an actual error decreases (Error rate) but the theoretical value still high (Pe).**"
   ]
  },
  {
   "cell_type": "markdown",
   "metadata": {},
   "source": [
    "## The Neyman Pearson test and the GLRT"
   ]
  },
  {
   "cell_type": "code",
   "execution_count": 91,
   "metadata": {},
   "outputs": [],
   "source": [
    "Q = st.norm.sf\n",
    "Qinv = st.norm.isf"
   ]
  },
  {
   "cell_type": "code",
   "execution_count": 93,
   "metadata": {},
   "outputs": [],
   "source": [
    "NbTests = 1000000  # Number of tests\n",
    "A = 1\n",
    "alpha = 1e-2  # size\n",
    "dim = 2  # Dimension\n",
    "V_XI_0 = 1/np.sqrt(dim) * np.ones(dim)\n",
    "sigma = 2\n",
    "# Threshold\n",
    "threshold = sigma * Qinv(alpha)"
   ]
  },
  {
   "cell_type": "code",
   "execution_count": 125,
   "metadata": {},
   "outputs": [
    {
     "name": "stdout",
     "output_type": "stream",
     "text": [
      "Estimated size   : 0.009944\n",
      "Theoretical size : 0.01\n"
     ]
    }
   ],
   "source": [
    "m_y = sigma * np.random.randn(NbTests, dim)\n",
    "\n",
    "# Decision under the null hypothesis\n",
    "v_d = np.sign(A) * m_y @ V_XI_0 > threshold  # @ : produit matriciel\n",
    "\n",
    "# Size\n",
    "d_pfa_mes = np.mean(v_d)\n",
    "print('Estimated size   : {}'.format(d_pfa_mes))\n",
    "print('Theoretical size : {}'.format(alpha))"
   ]
  },
  {
   "cell_type": "code",
   "execution_count": 107,
   "metadata": {},
   "outputs": [
    {
     "name": "stdout",
     "output_type": "stream",
     "text": [
      "Estimated power   : 0.033613\n",
      "Theoretical Power : 0.03389893912284281\n"
     ]
    }
   ],
   "source": [
    "m_y = sigma * np.random.randn(NbTests, dim) + A * V_XI_0\n",
    "\n",
    "# Decision under the alternative hypothesis\n",
    "v_d = np.sign(A) * m_y @ V_XI_0 > threshold  # @ : produit matriciel\n",
    "# Estimate the power\n",
    "d_power_mes = np.mean(v_d)\n",
    "print('Estimated power   : {}'.format(d_power_mes))\n",
    "# Calculate the theoretical power\n",
    "d_power_th = Q(Qinv(alpha) - abs(A)/sigma)\n",
    "print('Theoretical Power : {}'.format(d_power_th))"
   ]
  },
  {
   "cell_type": "code",
   "execution_count": 111,
   "metadata": {},
   "outputs": [],
   "source": [
    "Decision = np.zeros(NbTests, dtype=np.int16)\n",
    "epsilon = 2\n",
    "left = abs(m_y * epsilon)\n",
    "right = sigma * Qinv(alpha / 2)\n",
    "for i in range(NbTests):\n",
    "    if np.all(left[i] > right):\n",
    "        Decision[i] = 1"
   ]
  },
  {
   "cell_type": "code",
   "execution_count": 127,
   "metadata": {},
   "outputs": [
    {
     "data": {
      "text/plain": [
       "0.020004460473822212"
      ]
     },
     "execution_count": 127,
     "metadata": {},
     "output_type": "execute_result"
    }
   ],
   "source": [
    "B_glkt = Q( Qinv( alpha / 2)- A / sigma ) + Q ( Qinv (alpha / 2)+ A / sigma )\n",
    "B_glkt"
   ]
  },
  {
   "cell_type": "code",
   "execution_count": 126,
   "metadata": {},
   "outputs": [
    {
     "data": {
      "text/plain": [
       "0.059168"
      ]
     },
     "execution_count": 126,
     "metadata": {},
     "output_type": "execute_result"
    }
   ],
   "source": [
    "np.mean(Decision != v_d)"
   ]
  },
  {
   "cell_type": "code",
   "execution_count": 160,
   "metadata": {},
   "outputs": [
    {
     "data": {
      "text/plain": [
       "4.6526957480816815"
      ]
     },
     "execution_count": 160,
     "metadata": {},
     "output_type": "execute_result"
    }
   ],
   "source": [
    "threshold"
   ]
  },
  {
   "cell_type": "code",
   "execution_count": 171,
   "metadata": {},
   "outputs": [],
   "source": [
    "NbTests = 1000\n",
    "A = np.arange(0.5, 5, 0.5)\n",
    "alpha = 1e-2  # size\n",
    "dim = 2  # Dimension\n",
    "V_XI_0 = 1/np.sqrt(dim) * np.ones(dim)\n",
    "sigma = 2\n",
    "# Threshold\n",
    "threshold = sigma * Qinv(alpha)\n",
    "\n",
    "estimated_size = np.zeros_like(A)\n",
    "estimated_power = np.zeros_like(A)\n",
    "theoretical_power = np.zeros_like(A)\n",
    "\n",
    "for i in range(len(A)):\n",
    "    m_y = sigma * np.random.randn(NbTests, dim)\n",
    "\n",
    "    v_d = np.sign(A[i]) * m_y @ V_XI_0 > threshold  # @ : produit matriciel\n",
    "\n",
    "    d_pfa_mes = np.mean(v_d)\n",
    "    estimated_size[i] = d_pfa_mes\n",
    "    \n",
    "    m_y = sigma * np.random.randn(NbTests, dim) + A[i] * V_XI_0\n",
    "\n",
    "    v_d = np.sign(A[i]) * m_y @ V_XI_0 > threshold  # @ : produit matriciel\n",
    "    # Estimate the power\n",
    "    d_power_mes = np.mean(v_d)\n",
    "    \n",
    "    estimated_power[i] = d_power_mes\n",
    "    \n",
    "    d_power_th = Q(Qinv(alpha) - abs(A[i])/sigma)\n",
    "    theoretical_power[i] = d_power_th"
   ]
  },
  {
   "cell_type": "code",
   "execution_count": 177,
   "metadata": {},
   "outputs": [
    {
     "data": {
      "image/png": "[encoded data removed]",
      "text/plain": [
       "<Figure size 432x288 with 1 Axes>"
      ]
     },
     "metadata": {},
     "output_type": "display_data"
    }
   ],
   "source": [
    "h_fig, h_ax = plt.subplots() \n",
    "h_ax.plot(A, estimated_size, '+', label='Estimated Size')\n",
    "h_ax.plot(A, [alpha for i in range(len(A))], label='Theoretical Size')\n",
    "h_ax.plot(A, estimated_power, '+', label='Estimated Power')\n",
    "h_ax.plot(A, theoretical_power, label='Theoretical Power')\n",
    "h_ax.set_title('Error probability vs. error rate'); h_ax.legend(); h_ax.grid(which='both')"
   ]
  },
  {
   "cell_type": "markdown",
   "metadata": {},
   "source": [
    "**As we can see the theoretical and the estimated values are nearly the same. So, the estimation of the correctness of the hypothesis is accurate and trustful maybe just having into account a percentage of a failure range would be a good idea.**"
   ]
  },
  {
   "cell_type": "code",
   "execution_count": null,
   "metadata": {},
   "outputs": [],
   "source": []
  }
 ],
 "metadata": {
  "kernelspec": {
   "display_name": "Python 3",
   "language": "python",
   "name": "python3"
  },
  "language_info": {
   "codemirror_mode": {
    "name": "ipython",
    "version": 3
   },
   "file_extension": ".py",
   "mimetype": "text/x-python",
   "name": "python",
   "nbconvert_exporter": "python",
   "pygments_lexer": "ipython3",
   "version": "3.6.8"
  }
 },
 "nbformat": 4,
 "nbformat_minor": 2
}
