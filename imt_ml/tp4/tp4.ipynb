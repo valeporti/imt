{
 "cells": [
  {
   "cell_type": "code",
   "execution_count": 2,
   "metadata": {},
   "outputs": [],
   "source": [
    "import numpy as np\n",
    "import matplotlib.pyplot as plt\n",
    "from matplotlib import style\n",
    "style.use(\"ggplot\")\n",
    "from sklearn import svm"
   ]
  },
  {
   "cell_type": "markdown",
   "metadata": {},
   "source": [
    "## An Elementary SVM"
   ]
  },
  {
   "cell_type": "code",
   "execution_count": 3,
   "metadata": {},
   "outputs": [
    {
     "name": "stdout",
     "output_type": "stream",
     "text": [
      "[[1. 1.]\n",
      " [1. 5.]\n",
      " [5. 1.]]\n",
      "[1 2]\n"
     ]
    }
   ],
   "source": [
    "X = np.array([[1, 1], [1, 5], [5, 1], [5, 5]])\n",
    "y = [-1,1,1,1]\n",
    "clf = svm.SVC(kernel='linear')\n",
    "clf.fit(X, y)\n",
    "print(clf.support_vectors_) # the points that participate to determine the separation\n",
    "print(clf.n_support_) # quantity of points participating of each class"
   ]
  },
  {
   "cell_type": "code",
   "execution_count": 4,
   "metadata": {},
   "outputs": [
    {
     "name": "stdout",
     "output_type": "stream",
     "text": [
      "[0.49975586 0.49975586]\n"
     ]
    },
    {
     "data": {
      "image/png": "[encoded data removed]",
      "text/plain": [
       "<Figure size 432x288 with 1 Axes>"
      ]
     },
     "metadata": {},
     "output_type": "display_data"
    }
   ],
   "source": [
    "w = clf.coef_[0]\n",
    "print(w) # weights, values of a and be of (ax+by+c=0)\n",
    "a = -w[0] / w[1]\n",
    "xx = np.linspace(0,6)\n",
    "yy = a * xx - clf.intercept_[0] / w[1]\n",
    "\n",
    "plt.plot(xx, yy, 'k-', label=\"non weighted div\")\n",
    "plt.scatter(X[:, 0], X[:, 1], c = y)\n",
    "plt.legend();plt.show()"
   ]
  },
  {
   "cell_type": "markdown",
   "metadata": {},
   "source": [
    "## Iris"
   ]
  },
  {
   "cell_type": "code",
   "execution_count": 5,
   "metadata": {},
   "outputs": [],
   "source": [
    "from sklearn import svm\n",
    "from sklearn import datasets\n",
    "clf = svm.SVC()\n",
    "iris = datasets.load_iris()\n",
    "X, y = iris.data, iris.target"
   ]
  },
  {
   "cell_type": "code",
   "execution_count": 6,
   "metadata": {},
   "outputs": [],
   "source": [
    "from sklearn.model_selection import train_test_split\n",
    "X_train, X_test, y_train, y_test = train_test_split(X, y, test_size=50, shuffle=True, random_state=1)"
   ]
  },
  {
   "cell_type": "code",
   "execution_count": 23,
   "metadata": {},
   "outputs": [],
   "source": [
    "from sklearn.metrics import precision_score, recall_score, classification_report"
   ]
  },
  {
   "cell_type": "code",
   "execution_count": 11,
   "metadata": {},
   "outputs": [
    {
     "name": "stderr",
     "output_type": "stream",
     "text": [
      "/homes/v18porti/.local/lib/python3.6/site-packages/sklearn/svm/base.py:193: FutureWarning: The default value of gamma will change from 'auto' to 'scale' in version 0.22 to account better for unscaled features. Set gamma explicitly to 'auto' or 'scale' to avoid this warning.\n",
      "  \"avoid this warning.\", FutureWarning)\n"
     ]
    }
   ],
   "source": [
    "clf.fit(X_train,y_train)\n",
    "y_pred = clf.predict(X_test)"
   ]
  },
  {
   "cell_type": "code",
   "execution_count": 27,
   "metadata": {},
   "outputs": [
    {
     "name": "stdout",
     "output_type": "stream",
     "text": [
      "              precision    recall  f1-score   support\n",
      "\n",
      "           0       1.00      1.00      1.00        17\n",
      "           1       1.00      0.95      0.97        19\n",
      "           2       0.93      1.00      0.97        14\n",
      "\n",
      "    accuracy                           0.98        50\n",
      "   macro avg       0.98      0.98      0.98        50\n",
      "weighted avg       0.98      0.98      0.98        50\n",
      "\n",
      "Precision score:\n",
      "[1.         1.         0.93333333]\n",
      "Recall score:\n",
      "[1.         0.94736842 1.        ]\n"
     ]
    }
   ],
   "source": [
    "print(classification_report(y_test, y_pred))\n",
    "print(\"Precision score:\")\n",
    "print(precision_score(y_test, y_pred, average=None, labels=np.unique(y)))\n",
    "print(\"Recall score:\")\n",
    "print(recall_score(y_test, y_pred, average=None, labels=np.unique(y)))"
   ]
  },
  {
   "cell_type": "code",
   "execution_count": 28,
   "metadata": {},
   "outputs": [
    {
     "name": "stderr",
     "output_type": "stream",
     "text": [
      "/homes/v18porti/.local/lib/python3.6/site-packages/sklearn/model_selection/_split.py:1978: FutureWarning: The default value of cv will change from 3 to 5 in version 0.22. Specify it explicitly to silence this warning.\n",
      "  warnings.warn(CV_WARNING, FutureWarning)\n",
      "/homes/v18porti/.local/lib/python3.6/site-packages/sklearn/svm/base.py:193: FutureWarning: The default value of gamma will change from 'auto' to 'scale' in version 0.22 to account better for unscaled features. Set gamma explicitly to 'auto' or 'scale' to avoid this warning.\n",
      "  \"avoid this warning.\", FutureWarning)\n",
      "/homes/v18porti/.local/lib/python3.6/site-packages/sklearn/svm/base.py:193: FutureWarning: The default value of gamma will change from 'auto' to 'scale' in version 0.22 to account better for unscaled features. Set gamma explicitly to 'auto' or 'scale' to avoid this warning.\n",
      "  \"avoid this warning.\", FutureWarning)\n",
      "/homes/v18porti/.local/lib/python3.6/site-packages/sklearn/svm/base.py:193: FutureWarning: The default value of gamma will change from 'auto' to 'scale' in version 0.22 to account better for unscaled features. Set gamma explicitly to 'auto' or 'scale' to avoid this warning.\n",
      "  \"avoid this warning.\", FutureWarning)\n"
     ]
    },
    {
     "data": {
      "text/plain": [
       "{'fit_time': array([0.00124478, 0.00100446, 0.00122643]),\n",
       " 'score_time': array([0.00063109, 0.00045657, 0.00052762]),\n",
       " 'test_score': array([1.        , 1.        , 0.93333333])}"
      ]
     },
     "execution_count": 28,
     "metadata": {},
     "output_type": "execute_result"
    }
   ],
   "source": [
    "from sklearn.model_selection import cross_validate, KFold\n",
    "\n",
    "cross_validate(clf, X_test, y_test)"
   ]
  },
  {
   "cell_type": "code",
   "execution_count": 57,
   "metadata": {},
   "outputs": [
    {
     "name": "stdout",
     "output_type": "stream",
     "text": [
      "(135, 4)\n",
      "(15, 4)\n",
      "(135, 4)\n",
      "(15, 4)\n",
      "(135, 4)\n",
      "(15, 4)\n",
      "(135, 4)\n",
      "(15, 4)\n",
      "(135, 4)\n",
      "(15, 4)\n",
      "(135, 4)\n",
      "(15, 4)\n",
      "(135, 4)\n",
      "(15, 4)\n",
      "(135, 4)\n",
      "(15, 4)\n",
      "(135, 4)\n",
      "(15, 4)\n",
      "(135, 4)\n",
      "(15, 4)\n"
     ]
    }
   ],
   "source": [
    "kf = KFold(n_splits=10, shuffle=False)\n",
    "indexes = np.arange(start=0, stop=len(X), step=1)\n",
    "indexes = np.random.permutation(indexes)\n",
    "X_rand = X[indexes]\n",
    "y_rand = y[indexes]\n",
    "\n",
    "kf.get_n_splits(X_rand)\n",
    "\n",
    "precision_scores = np.array([[]])\n",
    "recall_scores = np.array([[]])\n",
    "\n",
    "for train_index, test_index in kf.split(X_rand):\n",
    "    X_train = X_rand[train_index]\n",
    "    X_test = X_rand[test_index]\n",
    "    y_train = y_rand[train_index]\n",
    "    y_test = y_rand[test_index]\n",
    "    precision = precision_score(y_test, y_pred, average=None, labels=np.unique(y))\n",
    "    recall_score(y_test, y_pred, average=None, labels=np.unique(y))"
   ]
  },
  {
   "cell_type": "code",
   "execution_count": 35,
   "metadata": {},
   "outputs": [],
   "source": [
    "a = np.array([1,2,3])\n"
   ]
  },
  {
   "cell_type": "code",
   "execution_count": 44,
   "metadata": {},
   "outputs": [],
   "source": [
    "indexes = np.arange(start=0, stop=len(X), step=1)\n",
    "indexes = np.random.permutation(indexes)"
   ]
  },
  {
   "cell_type": "code",
   "execution_count": 46,
   "metadata": {},
   "outputs": [
    {
     "name": "stdout",
     "output_type": "stream",
     "text": [
      "[ 39  66   8  61 104  29 125  57 130 128  43  13  48  15 141  30 126  71\n",
      "  33  68  49  54  83  95  84 121  73  23 137  63  14  26  25  88  56 140\n",
      " 149   6  70  82  97 142 139 133   0  53  35 148  78   1  40 134  67 106\n",
      " 100  12  37  77  24  44  87  10 105 112  98   2  47  27  11 127  99  16\n",
      "  46  89 144 120 143  74  28 111 129  91  85  65  92 146 114  62  80  20\n",
      " 136  69  22  64  36   5  90 119 138 145  81 116  52  72 109 131 123 118\n",
      "  86  60 135  42 132 110 107  75   4  96  45 103  93  59 108 124  38  50\n",
      "  94  55  18  32  51 101  19 115  21 117 122  31  76 147 113   9   7  41\n",
      "   3  17  58 102  34  79]\n"
     ]
    },
    {
     "data": {
      "text/plain": [
       "(150,)"
      ]
     },
     "execution_count": 46,
     "metadata": {},
     "output_type": "execute_result"
    }
   ],
   "source": []
  }
 ],
 "metadata": {
  "kernelspec": {
   "display_name": "Python 3",
   "language": "python",
   "name": "python3"
  },
  "language_info": {
   "codemirror_mode": {
    "name": "ipython",
    "version": 3
   },
   "file_extension": ".py",
   "mimetype": "text/x-python",
   "name": "python",
   "nbconvert_exporter": "python",
   "pygments_lexer": "ipython3",
   "version": "3.6.8"
  }
 },
 "nbformat": 4,
 "nbformat_minor": 2
}
