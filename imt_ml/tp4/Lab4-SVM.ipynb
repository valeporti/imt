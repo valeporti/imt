{
 "cells": [
  {
   "cell_type": "markdown",
   "metadata": {},
   "source": [
    "# 1. An elementary SVM"
   ]
  },
  {
   "cell_type": "code",
   "execution_count": 13,
   "metadata": {},
   "outputs": [],
   "source": [
    "# Libraries\n",
    "import numpy as np\n",
    "import matplotlib.pyplot as plt\n",
    "from matplotlib import style\n",
    "from sklearn import svm\n",
    "style.use(\"ggplot\")"
   ]
  },
  {
   "cell_type": "code",
   "execution_count": 14,
   "metadata": {},
   "outputs": [],
   "source": [
    "# Points and classes\n",
    "X = np.array([[1, 1], [1, 5], [5, 1], [5, 5]])\n",
    "y = [-1,1,1,1]"
   ]
  },
  {
   "cell_type": "markdown",
   "metadata": {},
   "source": [
    "## Question 1\n",
    " We choose three support vectors (because three unknown values a,b,c): $[1,1]$ for class $-1$, $[1,5]$ and $[5,1]$ for class $+1$.\n",
    " \n",
    "We solve the three corresponding equations : \n",
    "- $a + b + c = -1 $\n",
    "- $a + 5b + c = -1$\n",
    "- $5a + b + c = 1$"
   ]
  },
  {
   "cell_type": "code",
   "execution_count": 18,
   "metadata": {},
   "outputs": [
    {
     "ename": "SyntaxError",
     "evalue": "invalid syntax (<ipython-input-18-e4954d917967>, line 1)",
     "output_type": "error",
     "traceback": [
      "\u001b[1;36m  File \u001b[1;32m\"<ipython-input-18-e4954d917967>\"\u001b[1;36m, line \u001b[1;32m1\u001b[0m\n\u001b[1;33m    33S = np.array([[1, 1, 1],[1, 5, 1],[5, 1, 1]])\u001b[0m\n\u001b[1;37m      ^\u001b[0m\n\u001b[1;31mSyntaxError\u001b[0m\u001b[1;31m:\u001b[0m invalid syntax\n"
     ]
    }
   ],
   "source": [
    "33S = np.array([[1, 1, 1],[1, 5, 1],[5, 1, 1]])\n",
    "b = np.array([-1,1,1])\n",
    "coeff = np.dot(np.linalg.inv(S),np.transpose(b))\n",
    "print(\"Straightline equation: \", coeff[0],\"x_1 + \",coeff[1],\"x_2 + \",coeff[2],\" = 0\")\n"
   ]
  },
  {
   "cell_type": "markdown",
   "metadata": {},
   "source": [
    "## Question 2: Maximal margin classifier and interpretation"
   ]
  },
  {
   "cell_type": "code",
   "execution_count": 19,
   "metadata": {},
   "outputs": [
    {
     "name": "stdout",
     "output_type": "stream",
     "text": [
      "Support vectors: \n",
      " [[1. 1.]\n",
      " [1. 5.]\n",
      " [5. 1.]] \n",
      "\n",
      "Number of support vectors for each class:\n",
      " [1 2]\n"
     ]
    }
   ],
   "source": [
    "# Classifier\n",
    "clf = svm.SVC(kernel='linear')\n",
    "# Training\n",
    "clf.fit(X, y)\n",
    "# Results\n",
    "print (\"Support vectors: \\n\",clf.support_vectors_,\"\\n\")\n",
    "print (\"Number of support vectors for each class:\\n\",clf.n_support_)"
   ]
  },
  {
   "cell_type": "code",
   "execution_count": 20,
   "metadata": {},
   "outputs": [
    {
     "name": "stdout",
     "output_type": "stream",
     "text": [
      "Classes of points in z:  [ 1 -1  1 -1]\n"
     ]
    }
   ],
   "source": [
    "# Classify new points\n",
    "Z = np.array([[2,3],[2,1],[4,5],[1,2]])\n",
    "print(\"Classes of points in z: \",clf.predict(Z))\n",
    "\n",
    "# Score assuming other classes\n",
    "#yz = [1, 1, 1, -1]\n",
    "#clf.score(Z,yz)"
   ]
  },
  {
   "cell_type": "code",
   "execution_count": 21,
   "metadata": {},
   "outputs": [
    {
     "name": "stdout",
     "output_type": "stream",
     "text": [
      "Diagonal vector to D: \n",
      " [0.49975586 0.49975586] \n",
      "\n",
      "Straight line equation a x_1 + b x_2 + c = 0: \n",
      " 0.499755859375 x_1 +  0.499755859375 x_2  -1.9988606770833333 = 0\n"
     ]
    }
   ],
   "source": [
    "# Weights assigned to the features\n",
    "w = clf.coef_[0]\n",
    "print(\"Diagonal vector to D: \\n\",w,\"\\n\")\n",
    "\n",
    "# Straight line separating the two classes: w[0]x_1 + w[1]x_2 + c = 0\n",
    "print(\"Straight line equation a x_1 + b x_2 + c = 0: \\n\", w[0],\"x_1 + \",w[1],\"x_2 \", clf.intercept_[0],\"= 0\")\n",
    "# So: x_2 = -w[0]/w[1] x_1 - c/w[1] = v_1 x_1 + v_2 x_2\n",
    "v_1 = -w[0] / w[1]\n",
    "v_2 = - clf.intercept_[0] / w[1]"
   ]
  },
  {
   "cell_type": "code",
   "execution_count": 22,
   "metadata": {},
   "outputs": [
    {
     "data": {
      "image/png": "[encoded data removed]",
      "text/plain": [
       "<Figure size 432x288 with 1 Axes>"
      ]
     },
     "metadata": {},
     "output_type": "display_data"
    }
   ],
   "source": [
    "# Plot the results\n",
    "xx = np.linspace(0,6)\n",
    "yy = v_1 * xx + v_2\n",
    "plt.plot(xx, yy, 'k-', label=\"Straight line D separating the two classes\")\n",
    "plt.scatter(X[:, 0], X[:, 1], c = y)\n",
    "plt.xlabel(\"$x_1$\")\n",
    "plt.ylabel(\"$x_2$\")\n",
    "plt.legend()\n",
    "plt.show()"
   ]
  },
  {
   "cell_type": "code",
   "execution_count": 23,
   "metadata": {},
   "outputs": [
    {
     "name": "stdout",
     "output_type": "stream",
     "text": [
      "At support point [1,1]: a_x1 + b_x + c = -0.9993489583333333\n",
      "At support point [1,5]: a_x1 + b_x + c = 0.9996744791666667\n",
      "At support point [5,1]: a_x1 + b_x + c = 0.9996744791666667\n"
     ]
    }
   ],
   "source": [
    "a = w[0]\n",
    "b = w[1]\n",
    "c = clf.intercept_[0]\n",
    "# We verify that at support point [1,1], ax_1 + bx_2 + c = -1\n",
    "print(\"At support point [1,1]: a_x1 + b_x + c =\",a * 1 + b * 1 + c)\n",
    "\n",
    "# We verify that at support points [1,5] and [5,1], ax_1 + bx_2 + c = 1\n",
    "print(\"At support point [1,5]: a_x1 + b_x + c =\",a * 1 + b * 5 + c)\n",
    "print(\"At support point [5,1]: a_x1 + b_x + c =\",a * 5 + b * 1 + c)"
   ]
  },
  {
   "cell_type": "markdown",
   "metadata": {},
   "source": [
    "# 2. IRIS"
   ]
  },
  {
   "cell_type": "code",
   "execution_count": 24,
   "metadata": {},
   "outputs": [],
   "source": [
    "# Libraries\n",
    "from sklearn import svm\n",
    "from sklearn import datasets"
   ]
  },
  {
   "cell_type": "code",
   "execution_count": 25,
   "metadata": {},
   "outputs": [
    {
     "data": {
      "text/plain": [
       "Text(0.5, 1.0, 'IRIS dataset projected onto two dimensions. Colors correspond to true classes')"
      ]
     },
     "execution_count": 25,
     "metadata": {},
     "output_type": "execute_result"
    },
    {
     "data": {
      "image/png": "[encoded data removed]",
      "text/plain": [
       "<Figure size 432x288 with 1 Axes>"
      ]
     },
     "metadata": {},
     "output_type": "display_data"
    }
   ],
   "source": [
    "# Load IRIS dataset\n",
    "# A few other toy datasets can be found at https://scikit-learn.org/stable/datasets/index.html#toy-datasets\n",
    "iris = datasets.load_iris()\n",
    "X, y = iris.data, iris.target\n",
    "plt.scatter(X[:,0],X[:,2],c=y)\n",
    "plt.title(\"IRIS dataset projected onto two dimensions. Colors correspond to true classes\")"
   ]
  },
  {
   "cell_type": "code",
   "execution_count": 26,
   "metadata": {},
   "outputs": [],
   "source": [
    "# Build training set and test set\n",
    "num_samples = len(X)\n",
    "nb_samples = 100\n",
    "ind = np.random.permutation(num_samples)\n",
    "train_x = X[ind[:nb_samples]]\n",
    "train_y = y[ind[:nb_samples]]\n",
    "test_x = X[ind[nb_samples:]]\n",
    "test_y = y[ind[nb_samples:]]\n",
    "\n",
    "# Alternative solution (suggested by the subject)\n",
    "#ind = [i for i in range(150)]\n",
    "#np.random.shuffle(ind)"
   ]
  },
  {
   "cell_type": "code",
   "execution_count": 27,
   "metadata": {},
   "outputs": [
    {
     "data": {
      "text/plain": [
       "SVC(C=1.0, cache_size=200, class_weight=None, coef0=0.0,\n",
       "    decision_function_shape='ovr', degree=3, gamma='scale', kernel='rbf',\n",
       "    max_iter=-1, probability=False, random_state=None, shrinking=True,\n",
       "    tol=0.001, verbose=False)"
      ]
     },
     "execution_count": 27,
     "metadata": {},
     "output_type": "execute_result"
    }
   ],
   "source": [
    "# Learn with SVM\n",
    "# By default, kernel='rbf'. Use linear for linear. \n",
    "# gamma gives kernel coefficient for rbf\n",
    "# See https://scikit-learn.org/stable/modules/svm.html#svm-kernels for more details. \n",
    "clf = svm.SVC(gamma='scale') \n",
    "clf.fit(train_x,train_y)"
   ]
  },
  {
   "cell_type": "code",
   "execution_count": 28,
   "metadata": {},
   "outputs": [
    {
     "data": {
      "text/plain": [
       "0.94"
      ]
     },
     "execution_count": 28,
     "metadata": {},
     "output_type": "execute_result"
    }
   ],
   "source": [
    "# Prediction with SVM\n",
    "predictions = clf.predict(test_x)\n",
    "# Computes the corresponding score (error rate)\n",
    "clf.score(test_x,test_y)"
   ]
  },
  {
   "cell_type": "markdown",
   "metadata": {},
   "source": [
    "For a data point $X$, let $T(X)$ be the actual class of $X$, and $P(X)$ the classifier output for $X$.\n",
    "$\\DeclareMathOperator{\\card}{Card}$\n",
    "\n",
    "Precision for class $i$:\n",
    "$$\n",
    "\\frac{\\card\\{[P(X)=T(X)]\\cap[P(X)=i]\\}}{\\card\\{P(x)=i\\}}\n",
    "$$\n",
    "\n",
    "Recall for class $i$:\n",
    "$$\n",
    "\\frac{\\card\\{[P(X)=T(X)]\\cap[P(X)=i]\\}}{\\card\\{T(x)=i\\}}\n",
    "$$"
   ]
  },
  {
   "cell_type": "code",
   "execution_count": 29,
   "metadata": {},
   "outputs": [
    {
     "name": "stdout",
     "output_type": "stream",
     "text": [
      "Class 0 - Precision=1.0, Recall=1.0\n",
      "Class 1 - Precision=0.9375, Recall=0.8823529411764706\n",
      "Class 2 - Precision=0.8888888888888888, Recall=0.9411764705882353\n"
     ]
    }
   ],
   "source": [
    "# Compute precision and recall for each class\n",
    "NUM_SAMPLES = len(X)\n",
    "NUM_CLASSES = len(np.unique(y))\n",
    "NUM_TRAINING_SAMPLES = 100\n",
    "NUM_TEST_SAMPLES = NUM_SAMPLES - NUM_TRAINING_SAMPLES\n",
    "\n",
    "for i in range(NUM_CLASSES):\n",
    "    num_correct_predictions_class_i = 0  # Number of samples correctly predicted to be in class i\n",
    "    num_predictions_class_i = 0  # Number of samples predicted to be in class i\n",
    "    num_actual_class_i = 0  # Number of samples that are actually in class i\n",
    "    \n",
    "    for j in range(NUM_TEST_SAMPLES):\n",
    "        if test_y[j] == i:\n",
    "            num_actual_class_i += 1\n",
    "        if predictions[j] == i:\n",
    "            num_predictions_class_i += 1\n",
    "        if test_y[j] == i and predictions[j] == i:\n",
    "            num_correct_predictions_class_i += 1\n",
    "            \n",
    "    # Note: we may divide by 0 here and get NaN...\n",
    "    precision_class_i = num_correct_predictions_class_i / num_predictions_class_i\n",
    "    recall_class_i = num_correct_predictions_class_i / num_actual_class_i\n",
    "    \n",
    "    print(f'Class {i} - Precision={precision_class_i}, Recall={recall_class_i}')"
   ]
  },
  {
   "cell_type": "markdown",
   "metadata": {},
   "source": [
    "- Precision(i) = 1: all samples predicted to be in class i are actually in class i\n",
    "- Recall(i) = 1: same number of samples in class i and correctly predicted to be in class i\n",
    "\n",
    "- Precision(i) < 1: some samples predicted to be in class i actually belong to other classes\n",
    "- Recall(i) < 1: samples of actual class i have been assigned to other classes "
   ]
  },
  {
   "cell_type": "code",
   "execution_count": 31,
   "metadata": {},
   "outputs": [
    {
     "name": "stdout",
     "output_type": "stream",
     "text": [
      "Class 0\n",
      "    Precision=nan\n",
      "    Recall=0.4\n",
      "Class 1\n",
      "    Precision=nan\n",
      "    Recall=0.2\n",
      "Class 2\n",
      "    Precision=nan\n",
      "    Recall=0.3\n"
     ]
    },
    {
     "name": "stderr",
     "output_type": "stream",
     "text": [
      "D:\\Anaconda3\\lib\\site-packages\\ipykernel_launcher.py:33: RuntimeWarning: invalid value encountered in long_scalars\n",
      "D:\\Anaconda3\\lib\\site-packages\\ipykernel_launcher.py:33: RuntimeWarning: invalid value encountered in long_scalars\n",
      "D:\\Anaconda3\\lib\\site-packages\\ipykernel_launcher.py:33: RuntimeWarning: invalid value encountered in long_scalars\n",
      "D:\\Anaconda3\\lib\\site-packages\\ipykernel_launcher.py:33: RuntimeWarning: invalid value encountered in long_scalars\n",
      "D:\\Anaconda3\\lib\\site-packages\\ipykernel_launcher.py:33: RuntimeWarning: invalid value encountered in long_scalars\n",
      "D:\\Anaconda3\\lib\\site-packages\\ipykernel_launcher.py:33: RuntimeWarning: invalid value encountered in long_scalars\n",
      "D:\\Anaconda3\\lib\\site-packages\\ipykernel_launcher.py:33: RuntimeWarning: invalid value encountered in long_scalars\n",
      "D:\\Anaconda3\\lib\\site-packages\\ipykernel_launcher.py:33: RuntimeWarning: invalid value encountered in long_scalars\n",
      "D:\\Anaconda3\\lib\\site-packages\\ipykernel_launcher.py:33: RuntimeWarning: invalid value encountered in long_scalars\n",
      "D:\\Anaconda3\\lib\\site-packages\\ipykernel_launcher.py:33: RuntimeWarning: invalid value encountered in long_scalars\n"
     ]
    }
   ],
   "source": [
    "from sklearn.model_selection import KFold\n",
    "\n",
    "classifier = svm.SVC(kernel=\"sigmoid\", degree=2, gamma='auto')  # Set gamma=auto to avoid a warning\n",
    "\n",
    "iris = datasets.load_iris()\n",
    "X, y = iris.data, iris.target\n",
    "\n",
    "NUM_CLASSES = len(np.unique(y))\n",
    "\n",
    "NUM_SPLITS = 10\n",
    "# Prepare the splits : data is shuffled, then 10 splits are created for cross-validation\n",
    "kf = KFold(n_splits=NUM_SPLITS, shuffle=True)\n",
    "\n",
    "precision = np.zeros((NUM_CLASSES, NUM_SPLITS))  # Precision for each class and each split\n",
    "recall = np.zeros((NUM_CLASSES, NUM_SPLITS))  # Recall for each class and each split\n",
    "\n",
    "# Train, test and compute the metrics on each split\n",
    "for i_split, (train_inds, test_inds) in enumerate(kf.split(X)):\n",
    "    # Prepare training and testing datasets\n",
    "    train_X = X[train_inds]\n",
    "    train_y = y[train_inds]\n",
    "    test_X = X[test_inds]\n",
    "    test_y = y[test_inds]\n",
    "    \n",
    "    # Training (the classifier is re-trained from scratch for each split, there is no memory between iterations)\n",
    "    classifier.fit(train_X, train_y)\n",
    "    \n",
    "    # Predictions on the test set\n",
    "    predictions = classifier.predict(test_X)\n",
    "    \n",
    "    # Compute precision and recall for each class for the current split\n",
    "    for i_class in range(NUM_CLASSES):\n",
    "        precision[i_class, i_split] = np.sum(np.logical_and(predictions == test_y, predictions == i_class)) / np.sum(predictions == i_class)\n",
    "        recall[i_class, i_split] = np.sum(np.logical_and(predictions == test_y, predictions == i_class)) / np.sum(test_y == i_class)\n",
    "        \n",
    "for i_class in range(3):\n",
    "    print(f'Class {i_class}\\n    Precision={precision[i_class].mean()}\\n    Recall={recall[i_class].mean()}')"
   ]
  },
  {
   "cell_type": "code",
   "execution_count": null,
   "metadata": {},
   "outputs": [],
   "source": []
  },
  {
   "cell_type": "code",
   "execution_count": null,
   "metadata": {},
   "outputs": [],
   "source": []
  },
  {
   "cell_type": "code",
   "execution_count": null,
   "metadata": {},
   "outputs": [],
   "source": []
  },
  {
   "cell_type": "code",
   "execution_count": null,
   "metadata": {},
   "outputs": [],
   "source": []
  }
 ],
 "metadata": {
  "kernelspec": {
   "display_name": "Python 3",
   "language": "python",
   "name": "python3"
  },
  "language_info": {
   "codemirror_mode": {
    "name": "ipython",
    "version": 3
   },
   "file_extension": ".py",
   "mimetype": "text/x-python",
   "name": "python",
   "nbconvert_exporter": "python",
   "pygments_lexer": "ipython3",
   "version": "3.7.3"
  },
  "latex_envs": {
   "LaTeX_envs_menu_present": true,
   "autoclose": false,
   "autocomplete": false,
   "bibliofile": "biblio.bib",
   "cite_by": "apalike",
   "current_citInitial": 1,
   "eqLabelWithNumbers": true,
   "eqNumInitial": 1,
   "hotkeys": {
    "equation": "Ctrl-E",
    "itemize": "Ctrl-I"
   },
   "labels_anchors": false,
   "latex_user_defs": false,
   "report_style_numbering": false,
   "user_envs_cfg": false
  },
  "toc": {
   "base_numbering": 1,
   "nav_menu": {},
   "number_sections": true,
   "sideBar": true,
   "skip_h1_title": false,
   "title_cell": "Table of Contents",
   "title_sidebar": "Contents",
   "toc_cell": false,
   "toc_position": {},
   "toc_section_display": true,
   "toc_window_display": false
  }
 },
 "nbformat": 4,
 "nbformat_minor": 2
}
