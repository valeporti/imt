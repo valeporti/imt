{
 "cells": [
  {
   "cell_type": "code",
   "execution_count": 7,
   "metadata": {},
   "outputs": [],
   "source": [
    "import pandas as pd\n",
    "import pprint as pp"
   ]
  },
  {
   "cell_type": "code",
   "execution_count": 2,
   "metadata": {},
   "outputs": [],
   "source": [
    "data_dir = './data/'"
   ]
  },
  {
   "cell_type": "code",
   "execution_count": 3,
   "metadata": {},
   "outputs": [],
   "source": [
    "location = pd.read_pickle(data_dir + 'mediumLocation.pickle')"
   ]
  },
  {
   "cell_type": "code",
   "execution_count": 4,
   "metadata": {},
   "outputs": [],
   "source": [
    "def take(n, dict_obj):\n",
    "    new_dict = {}\n",
    "    count = 1\n",
    "    for key,val in dict_obj.items():\n",
    "        new_dict[key] = val\n",
    "        count += 1\n",
    "        if (count > n) : break\n",
    "    return new_dict"
   ]
  },
  {
   "cell_type": "code",
   "execution_count": 9,
   "metadata": {},
   "outputs": [
    {
     "name": "stdout",
     "output_type": "stream",
     "text": [
      "{'U1313': ['norfolk virginia area'],\n",
      " 'U14078': ['stockholm sweden'],\n",
      " 'U1417': ['baltimore maryland area'],\n",
      " 'U22859': ['bengaluru area india'],\n",
      " 'U27476': ['greater new york city area'],\n",
      " 'U27759': ['urbana-champaign illinois area'],\n",
      " 'U4665': ['greater chicago area'],\n",
      " 'U6021': ['urbana-champaign illinois area'],\n",
      " 'U7310': ['greater seattle area'],\n",
      " 'U8804': ['bologna area italy'],\n",
      " 'U9628': ['greater los angeles area'],\n",
      " 'U9721': ['urbana-champaign illinois area']}\n"
     ]
    }
   ],
   "source": [
    "pp.pprint(take(12, location))"
   ]
  },
  {
   "cell_type": "code",
   "execution_count": 11,
   "metadata": {},
   "outputs": [],
   "source": [
    "employer = pd.read_pickle(data_dir + 'mediumEmployer.pickle')\n",
    "college = pd.read_pickle(data_dir + 'mediumCollege.pickle')"
   ]
  },
  {
   "cell_type": "code",
   "execution_count": 12,
   "metadata": {},
   "outputs": [
    {
     "name": "stdout",
     "output_type": "stream",
     "text": [
      "{'U1313': ['discovery education',\n",
      "           'ctb mcgraw-hill',\n",
      "           'university of charleston university of south carolina',\n",
      "           'south carolina department of education',\n",
      "           'chesapeake va and sumter sc',\n",
      "           'virgina state corrections'],\n",
      " 'U21998': ['illinois college advising corps',\n",
      "            'victoria amplifiers',\n",
      "            'university of illinois at chicago'],\n",
      " 'U27476': ['ibm',\n",
      "            'nyse euronext',\n",
      "            'skim.me',\n",
      "            'shanghai pudong development bank',\n",
      "            'qad'],\n",
      " 'U4665': ['technology services group - chicago', 'ge healthcare'],\n",
      " 'U8804': ['gruppo euris spa',\n",
      "           'iconsulting',\n",
      "           'econoetica',\n",
      "           'universit&#xe0; di bologna',\n",
      "           'university of illinois at urbana-champaign']}\n",
      "\n",
      "\n",
      "{'U1313': ['longwood university'],\n",
      " 'U22041': ['university of illinois at urbana-champaign'],\n",
      " 'U27476': ['shanghai jiao tong university'],\n",
      " 'U4665': ['university of illinois at urbana-champaign'],\n",
      " 'U8804': ['universit&#xe0; di bologna']}\n"
     ]
    }
   ],
   "source": [
    "pp.pprint(take(5, employer))\n",
    "print('\\n')\n",
    "pp.pprint(take(5, college))"
   ]
  },
  {
   "cell_type": "code",
   "execution_count": 19,
   "metadata": {},
   "outputs": [
    {
     "name": "stdout",
     "output_type": "stream",
     "text": [
      "{'U1313': ['norfolk virginia area'], 'U8804': ['bologna area italy']}\n",
      "non\n"
     ]
    }
   ],
   "source": [
    "location_empty = pd.read_pickle(data_dir + 'mediumLocation_60percent_of_empty_profile.pickle')\n",
    "print(take(2, location_empty))\n",
    "print('here') if 'U2747' in location_empty else print('non')"
   ]
  },
  {
   "cell_type": "code",
   "execution_count": 20,
   "metadata": {},
   "outputs": [
    {
     "name": "stdout",
     "output_type": "stream",
     "text": [
      "811\n",
      "336\n"
     ]
    }
   ],
   "source": [
    "print(len(location))\n",
    "print(len(location_empty))"
   ]
  },
  {
   "cell_type": "code",
   "execution_count": 16,
   "metadata": {},
   "outputs": [],
   "source": [
    "# are all 1 single element arrays ? Location yes, employers and college no\n",
    "for key, lieu in location.items():\n",
    "    if len(lieu) > 1 : print(lieu)"
   ]
  },
  {
   "cell_type": "code",
   "execution_count": null,
   "metadata": {},
   "outputs": [],
   "source": []
  }
 ],
 "metadata": {
  "kernelspec": {
   "display_name": "Python 3",
   "language": "python",
   "name": "python3"
  },
  "language_info": {
   "codemirror_mode": {
    "name": "ipython",
    "version": 3
   },
   "file_extension": ".py",
   "mimetype": "text/x-python",
   "name": "python",
   "nbconvert_exporter": "python",
   "pygments_lexer": "ipython3",
   "version": "3.6.7"
  }
 },
 "nbformat": 4,
 "nbformat_minor": 2
}
