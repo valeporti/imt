{
 "cells": [
  {
   "cell_type": "code",
   "execution_count": 1,
   "metadata": {},
   "outputs": [],
   "source": [
    "import pandas as pd"
   ]
  },
  {
   "cell_type": "code",
   "execution_count": 3,
   "metadata": {},
   "outputs": [],
   "source": [
    "data_dir = './data/'"
   ]
  },
  {
   "cell_type": "code",
   "execution_count": 5,
   "metadata": {},
   "outputs": [],
   "source": [
    "location = pd.read_pickle(data_dir + 'mediumLocation.pickle')"
   ]
  },
  {
   "cell_type": "code",
   "execution_count": 6,
   "metadata": {},
   "outputs": [],
   "source": [
    "def take(n, dict_obj):\n",
    "    new_dict = {}\n",
    "    count = 1\n",
    "    for key,val in dict_obj.items():\n",
    "        new_dict[key] = val\n",
    "        count += 1\n",
    "        if (count > n) : break\n",
    "    return new_dict"
   ]
  },
  {
   "cell_type": "code",
   "execution_count": 7,
   "metadata": {},
   "outputs": [
    {
     "name": "stdout",
     "output_type": "stream",
     "text": [
      "{'U27476': ['greater new york city area'], 'U4665': ['greater chicago area']}\n"
     ]
    }
   ],
   "source": [
    "print(take(2, location))"
   ]
  },
  {
   "cell_type": "code",
   "execution_count": 9,
   "metadata": {},
   "outputs": [],
   "source": [
    "employer = pd.read_pickle(data_dir + 'mediumEmployer.pickle')\n",
    "college = pd.read_pickle(data_dir + 'mediumCollege.pickle')"
   ]
  },
  {
   "cell_type": "code",
   "execution_count": 13,
   "metadata": {},
   "outputs": [
    {
     "name": "stdout",
     "output_type": "stream",
     "text": [
      "{'U21998': ['illinois college advising corps', 'victoria amplifiers', 'university of illinois at chicago'], 'U27476': ['ibm', 'nyse euronext', 'skim.me', 'shanghai pudong development bank', 'qad']}\n",
      "\n",
      "\n",
      "{'U22041': ['university of illinois at urbana-champaign'], 'U27476': ['shanghai jiao tong university']}\n"
     ]
    }
   ],
   "source": [
    "print(take(2, employer))\n",
    "print('\\n')\n",
    "print(take(2, college))"
   ]
  },
  {
   "cell_type": "code",
   "execution_count": 19,
   "metadata": {},
   "outputs": [
    {
     "name": "stdout",
     "output_type": "stream",
     "text": [
      "{'U1313': ['norfolk virginia area'], 'U8804': ['bologna area italy']}\n",
      "non\n"
     ]
    }
   ],
   "source": [
    "location_empty = pd.read_pickle(data_dir + 'mediumLocation_60percent_of_empty_profile.pickle')\n",
    "print(take(2, location_empty))\n",
    "print('here') if 'U2747' in location_empty else print('non')"
   ]
  },
  {
   "cell_type": "code",
   "execution_count": 20,
   "metadata": {},
   "outputs": [
    {
     "name": "stdout",
     "output_type": "stream",
     "text": [
      "811\n",
      "336\n"
     ]
    }
   ],
   "source": [
    "print(len(location))\n",
    "print(len(location_empty))"
   ]
  },
  {
   "cell_type": "code",
   "execution_count": null,
   "metadata": {},
   "outputs": [],
   "source": []
  }
 ],
 "metadata": {
  "kernelspec": {
   "display_name": "Python 3",
   "language": "python",
   "name": "python3"
  },
  "language_info": {
   "codemirror_mode": {
    "name": "ipython",
    "version": 3
   },
   "file_extension": ".py",
   "mimetype": "text/x-python",
   "name": "python",
   "nbconvert_exporter": "python",
   "pygments_lexer": "ipython3",
   "version": "3.6.7"
  }
 },
 "nbformat": 4,
 "nbformat_minor": 2
}
