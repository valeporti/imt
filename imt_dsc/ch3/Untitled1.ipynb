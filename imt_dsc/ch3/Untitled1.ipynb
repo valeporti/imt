{
 "cells": [
  {
   "cell_type": "code",
   "execution_count": 1,
   "metadata": {},
   "outputs": [],
   "source": [
    "import math\n",
    "import numpy as np\n",
    "import networkx as nx\n",
    "from PIL import Image"
   ]
  },
  {
   "cell_type": "code",
   "execution_count": 2,
   "metadata": {},
   "outputs": [],
   "source": [
    "pop = Image.open('img/pop_grid.bmp')\n",
    "elv = Image.open('img/elev_grid.bmp')\n",
    "vld = Image.open('img/valid_space.bmp')\n",
    "\n",
    "pop_arr = np.array(pop)\n",
    "elv_arr = np.array(elv)\n",
    "vld_arr = np.array(vld)"
   ]
  },
  {
   "cell_type": "code",
   "execution_count": 3,
   "metadata": {},
   "outputs": [],
   "source": [
    "elv_val = []\n",
    "pop_val = []\n",
    "\n",
    "for i in range(256):\n",
    "    \n",
    "    if i==0: elv_val.append(0)\n",
    "    elif i<52: elv_val.append(round(i*1000/51))\n",
    "    elif i<64: elv_val.append(round((i-51)*3800/(64-52) + 1000))\n",
    "    \n",
    "    if i<24: pop_val.append(0)\n",
    "    else: pop_val.append(round((i-23)*3000/(255-23)))"
   ]
  },
  {
   "cell_type": "code",
   "execution_count": 4,
   "metadata": {},
   "outputs": [],
   "source": [
    "def get_values(arr,val):\n",
    "    arr = arr.astype(int)\n",
    "    for i in range(np.size(arr,0)):\n",
    "        for j in range(np.size(arr,1)):\n",
    "            arr[i][j] = val[arr[i][j]]\n",
    "    return arr\n",
    "\n",
    "pop_arr = get_values(pop_arr, pop_val)\n",
    "elv_arr = get_values(elv_arr, elv_val)"
   ]
  },
  {
   "cell_type": "code",
   "execution_count": 5,
   "metadata": {},
   "outputs": [
    {
     "name": "stdout",
     "output_type": "stream",
     "text": [
      "0\n"
     ]
    }
   ],
   "source": [
    "rel = math.tan(10*math.pi/180)\n",
    "d_1 = 15000\n",
    "d_2 = math.sqrt(pow(d_1, 2) * 2)\n",
    "n = 0\n",
    "for i in range(1, np.size(elv_arr, 0)-1):\n",
    "    for j in range(1, np.size(elv_arr, 1)-1):\n",
    "        if (elv_arr[i][j] - elv_arr[i-1][j] > d_1*rel or\n",
    "            elv_arr[i][j] - elv_arr[i+1][j] > d_1*rel or\n",
    "            elv_arr[i][j] - elv_arr[i][j-1] > d_1*rel or\n",
    "            elv_arr[i][j] - elv_arr[i][j+1] > d_1*rel or\n",
    "            elv_arr[i][j] - elv_arr[i-1][j-1] > d_2*rel or\n",
    "            elv_arr[i][j] - elv_arr[i-1][j+1] > d_2*rel or\n",
    "            elv_arr[i][j] - elv_arr[i+1][j-1] > d_2*rel or\n",
    "            elv_arr[i][j] - elv_arr[i+1][j+1] > d_2*rel):\n",
    "            n += 1\n",
    "print(n)            "
   ]
  },
  {
   "cell_type": "code",
   "execution_count": 6,
   "metadata": {},
   "outputs": [],
   "source": [
    "G = nx.Graph()\n",
    "size = [np.size(elv_arr, 0), np.size(elv_arr, 1)]\n",
    "\n",
    "n = 1\n",
    "for i in range(size[0]):\n",
    "    for j in range(size[1]):\n",
    "        if vld_arr[i][j] != 0 and pop_arr[i][j] != 0:\n",
    "            G.add_node(n)\n",
    "        n += 1\n",
    "\n",
    "nodes = list(G.nodes)\n",
    "\n",
    "for i in range(1, size[0]-1):\n",
    "    for j in range(1, size[1]-1):\n",
    "        n = i*size[1] + j + 1\n",
    "        if n in nodes:\n",
    "            if n-1 in nodes:\n",
    "                G.add_edge(n,n-1)\n",
    "            if n-size[1]-1 in nodes:\n",
    "                G.add_edge(n,n-size[1]-1)\n",
    "            if n-size[1] in nodes:\n",
    "                G.add_edge(n,n-size[1])\n",
    "            if n-size[1]+1 in nodes:\n",
    "                G.add_edge(n,n-size[1]+1)"
   ]
  },
  {
   "cell_type": "code",
   "execution_count": null,
   "metadata": {},
   "outputs": [],
   "source": [
    "nx.betweenness_centrality(G)"
   ]
  },
  {
   "cell_type": "code",
   "execution_count": 8,
   "metadata": {},
   "outputs": [
    {
     "data": {
      "text/plain": [
       "37739"
      ]
     },
     "execution_count": 8,
     "metadata": {},
     "output_type": "execute_result"
    }
   ],
   "source": [
    "len(G.nodes)"
   ]
  }
 ],
 "metadata": {
  "kernelspec": {
   "display_name": "Python 3",
   "language": "python",
   "name": "python3"
  },
  "language_info": {
   "codemirror_mode": {
    "name": "ipython",
    "version": 3
   },
   "file_extension": ".py",
   "mimetype": "text/x-python",
   "name": "python",
   "nbconvert_exporter": "python",
   "pygments_lexer": "ipython3",
   "version": "3.6.7"
  }
 },
 "nbformat": 4,
 "nbformat_minor": 2
}
