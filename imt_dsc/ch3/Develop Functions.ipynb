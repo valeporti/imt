{
 "cells": [
  {
   "cell_type": "code",
   "execution_count": 1,
   "metadata": {},
   "outputs": [],
   "source": [
    "import numpy as np\n",
    "import random\n",
    "import math\n",
    "import copy\n",
    "import pprint as pp"
   ]
  },
  {
   "cell_type": "code",
   "execution_count": 2,
   "metadata": {},
   "outputs": [],
   "source": [
    "max_age = 15"
   ]
  },
  {
   "cell_type": "code",
   "execution_count": 3,
   "metadata": {},
   "outputs": [],
   "source": [
    "cell_ = {\n",
    "    'i': None, \n",
    "    'j': None, \n",
    "    'elev': None, \n",
    "    'hum': 0, \n",
    "    'zom': [0] * max_age, \n",
    "    'z_1': [0] * max_age, \n",
    "    'z_0': [0] * max_age \n",
    "}\n",
    "\n",
    "def initializeCell():\n",
    "    return copy.deepcopy(cell_)"
   ]
  },
  {
   "cell_type": "code",
   "execution_count": 4,
   "metadata": {},
   "outputs": [],
   "source": [
    "# Determine the killed humans and update its cell value\n",
    "def zombiesKillHumans(cell):\n",
    "    h = cell['hum'] # * 255 ? is it average or what?\n",
    "    z = sum(cell['zom'])\n",
    "    killed_h = 10 * z\n",
    "    remaining_h = h - killed_h if h > killed_h else 0\n",
    "    cell['hum'] = remaining_h"
   ]
  },
  {
   "cell_type": "code",
   "execution_count": 53,
   "metadata": {},
   "outputs": [
    {
     "data": {
      "text/plain": [
       "\"\\ncell_test = initializeCell()\\ncell_test['hum'] = 10\\nfor z in range(len(cell_test['zom'])):\\n    cell_test['zom'][z] = 10\\n\\nprint(sum(cell_test['zom']))\\nhumanKillZombies(cell_test)\\nprint(sum(cell_test['zom']))\\n\""
      ]
     },
     "execution_count": 53,
     "metadata": {},
     "output_type": "execute_result"
    }
   ],
   "source": [
    "# Determine the killed zombies and update its cell value\n",
    "def humanKillZombies(cell):\n",
    "    h = cell['hum']\n",
    "    z = sum(cell['zom'])\n",
    "    killed_z = 10 * h\n",
    "    # assign randomly to the list the killings\n",
    "    for k in range(killed_z):\n",
    "        remaining_ages = [a for a in range(max_age) if cell['zom'][a] > 0]\n",
    "        index = 0\n",
    "        if len(remaining_ages) == 0:\n",
    "            return\n",
    "        elif len(remaining_ages) > 1:\n",
    "            index = random.randint(0, len(remaining_ages) - 1)\n",
    "        age = remaining_ages[index]\n",
    "        cell['zom'][age] -= 1 \n",
    "        \n",
    "\"\"\"\n",
    "cell_test = initializeCell()\n",
    "cell_test['hum'] = 10\n",
    "for z in range(len(cell_test['zom'])):\n",
    "    cell_test['zom'][z] = 10\n",
    "\n",
    "print(sum(cell_test['zom']))\n",
    "humanKillZombies(cell_test)\n",
    "print(sum(cell_test['zom']))\n",
    "\"\"\""
   ]
  },
  {
   "cell_type": "code",
   "execution_count": 6,
   "metadata": {},
   "outputs": [],
   "source": [
    "# \"consider cells of 15 × 15 pixels\" AND \"1 pixel = 1 km 2\"\n",
    "len_cell = 15 #km\n",
    "len_diag = math.sqrt(pow(len_cell, 2) * 2) #km\n",
    "dist_lin = len_cell\n",
    "dist_dia = len_diag\n",
    "\n",
    "def getGeoSlope(cell, to_cell):\n",
    "    # (i == to_i or j == to_j) means they are vertical or horizontal\n",
    "    dist = dist_lin if (cell['i'] == to_cell['i'] or cell['j'] == to_cell['j']) else dist_dia\n",
    "    diff = to_cell['elev'] - cell['elev']\n",
    "    return math.degrees(math.atan2(diff, dist))\n",
    "\n",
    "def getGeoSlopeFactor(cell, to_cell):\n",
    "    slope = getGeoSlope(cell, to_cell)\n",
    "    if slope < 0: \n",
    "        return 1 # zombies don't have any issue\n",
    "    elif slope > 10:\n",
    "        return 0 # zombies don't climb\n",
    "    else:\n",
    "        # then, between 0 and 10\n",
    "        return 1 - (slope / 10) # zombies have certain difficulties"
   ]
  },
  {
   "cell_type": "code",
   "execution_count": 44,
   "metadata": {},
   "outputs": [],
   "source": [
    "def zombiesMove(cell, neighbor_cells_list):\n",
    "    \"\"\" \n",
    "    1) thinking that the zombies will all go even if there are still humans\n",
    "    2) We're assuming, also, that not all zombies should be moved (ex: slope constraint would encourage some to stay)\n",
    "    \"\"\"\n",
    "    \n",
    "    # today\n",
    "    neighbor_humans = []\n",
    "    for c in range(8): # 8 cells\n",
    "        neighbor_humans.append(neighbor_cells_list[c]['hum'])\n",
    "    h_neigh = sum(neighbor_humans)\n",
    "    elev_c0 = cell['elev'] \n",
    "    #print(f'h_neigh: {h_neigh}')\n",
    "    # tomorrow\n",
    "    autoDestroyZombies(cell) # prepare zombies list for \"tomorrow\"\n",
    "    z_c0 = sum(cell['zom'])\n",
    "    for c in range(8): # 8 cells\n",
    "        z = sum(neighbor_cells_list[c]['zom'])\n",
    "        h = neighbor_cells_list[c]['hum']\n",
    "        geo_slope_fact = getGeoSlopeFactor(cell, neighbor_cells_list[c]) # (from, to)\n",
    "        z_new = getZombiesContribution(cell, h_neigh, z_c0, geo_slope_fact)\n",
    "        #print(f'z_new {z_new}')\n",
    "        assignZombiesByAge(cell, neighbor_cells_list[c], z_new)\n",
    "                "
   ]
  },
  {
   "cell_type": "code",
   "execution_count": 55,
   "metadata": {},
   "outputs": [
    {
     "name": "stdout",
     "output_type": "stream",
     "text": [
      "h_neigh: 740\n",
      "[[100, 100, 100, 100, 100],\n",
      " [100, 30, 100, 100, 100],\n",
      " [100, 100, 100, 100, 100],\n",
      " [100, 100, 100, 100, 100],\n",
      " [100, 100, 100, 100, 100]]\n",
      "[[[0, 0, 0, 0, 0, 0, 0, 0, 0, 0, 0, 0, 0, 0, 0],\n",
      "  [0, 0, 0, 0, 0, 0, 0, 0, 0, 0, 0, 0, 0, 0, 0],\n",
      "  [0, 0, 0, 0, 0, 0, 0, 0, 0, 0, 0, 0, 0, 0, 0],\n",
      "  [0, 0, 0, 0, 0, 0, 0, 0, 0, 0, 0, 0, 0, 0, 0],\n",
      "  [0, 0, 0, 0, 0, 0, 0, 0, 0, 0, 0, 0, 0, 0, 0]],\n",
      " [[0, 0, 0, 0, 0, 0, 0, 0, 0, 0, 0, 0, 0, 0, 0],\n",
      "  [0, 0, 0, 0, 0, 0, 0, 0, 0, 0, 0, 0, 0, 0, 0],\n",
      "  [0, 4, 2, 1, 0, 0, 0, 0, 0, 0, 0, 0, 0, 0, 0],\n",
      "  [0, 4, 2, 0, 0, 0, 0, 0, 0, 0, 0, 0, 0, 0, 0],\n",
      "  [0, 0, 0, 0, 0, 0, 0, 0, 0, 0, 0, 0, 0, 0, 0]],\n",
      " [[0, 0, 0, 0, 0, 0, 0, 0, 0, 0, 0, 0, 0, 0, 0],\n",
      "  [0, 4, 2, 0, 0, 0, 0, 0, 0, 0, 0, 0, 0, 0, 0],\n",
      "  [0, 0, 0, 0, 0, 0, 0, 0, 0, 0, 0, 0, 0, 0, 0],\n",
      "  [0, 3, 1, 0, 0, 0, 0, 0, 0, 0, 0, 0, 0, 0, 0],\n",
      "  [0, 0, 0, 0, 0, 0, 0, 0, 0, 0, 0, 0, 0, 0, 0]],\n",
      " [[0, 0, 0, 0, 0, 0, 0, 0, 0, 0, 0, 0, 0, 0, 0],\n",
      "  [0, 0, 0, 0, 0, 0, 0, 0, 0, 0, 0, 0, 0, 0, 0],\n",
      "  [0, 0, 0, 0, 0, 0, 0, 0, 0, 0, 0, 0, 0, 0, 0],\n",
      "  [0, 0, 0, 0, 0, 0, 0, 0, 0, 0, 0, 0, 0, 0, 0],\n",
      "  [0, 0, 0, 0, 0, 0, 0, 0, 0, 0, 0, 0, 0, 0, 0]],\n",
      " [[0, 0, 0, 0, 0, 0, 0, 0, 0, 0, 0, 0, 0, 0, 0],\n",
      "  [0, 0, 0, 0, 0, 0, 0, 0, 0, 0, 0, 0, 0, 0, 0],\n",
      "  [0, 0, 0, 0, 0, 0, 0, 0, 0, 0, 0, 0, 0, 0, 0],\n",
      "  [0, 0, 0, 0, 0, 0, 0, 0, 0, 0, 0, 0, 0, 0, 0],\n",
      "  [0, 0, 0, 0, 0, 0, 0, 0, 0, 0, 0, 0, 0, 0, 0]]]\n",
      "23\n"
     ]
    }
   ],
   "source": [
    "neigh = getNeigborCellList(2, 2, m)\n",
    "cell = m[2][2]\n",
    "zombiesMove(cell, neigh)\n",
    "zombiesKillHumans(m[1][1])\n",
    "humanKillZombies(m[1][1])\n",
    "pp.pprint(showMatrixVals(m, 'hum'))\n",
    "pp.pprint(showMatrixVals(m, 'zom'))\n",
    "z = sum([sum(y) for e in showMatrixVals(m, 'zom') for y in e])\n",
    "print(z)"
   ]
  },
  {
   "cell_type": "code",
   "execution_count": 45,
   "metadata": {},
   "outputs": [],
   "source": [
    "def getZombiesContribution(cell, h_neigh, z_c0, geo_slope_fact):\n",
    "    z = sum(cell['zom'])\n",
    "    h = cell['hum']\n",
    "    #print(f'h cell: {h}, z_c0: {z_c0}, h_neigh: {h_neigh}')\n",
    "    if h_neigh == 0:\n",
    "        return 0\n",
    "    elif h_neigh > 0:\n",
    "        return math.ceil((h / h_neigh) * z_c0 * geo_slope_fact)\n",
    "    else:\n",
    "        print(\"Error in Zombies contribution: z < 0 ?\")"
   ]
  },
  {
   "cell_type": "code",
   "execution_count": 10,
   "metadata": {},
   "outputs": [],
   "source": [
    "def autoDestroyZombies(cell):\n",
    "    #cell['zom'][-1] = 0 # last cell equals 0, (autodestroyed zombies)\n",
    "    cell['zom'].pop() # remove last element\n",
    "    cell['zom'].insert(0, 0) # insert new\n",
    "    \n",
    "def assignZombiesByAge(cell, new_cell, n):\n",
    "    for i in range(n):\n",
    "        remaining_ages = [a for a in range(max_age) if cell['zom'][a] > 0]\n",
    "        index = 0\n",
    "        if len(remaining_ages) == 0:\n",
    "            return\n",
    "        elif len(remaining_ages) > 1:\n",
    "            index = random.randint(0, len(remaining_ages) - 1)        \n",
    "        age = remaining_ages[index]\n",
    "        cell['zom'][age] -= 1\n",
    "        new_cell['zom'][age] += 1\n",
    "    #print(cell['zom'])\n",
    "    #print(new_cell['zom'])"
   ]
  },
  {
   "cell_type": "code",
   "execution_count": 11,
   "metadata": {},
   "outputs": [
    {
     "name": "stdout",
     "output_type": "stream",
     "text": [
      "150\n",
      "150\n",
      "145\n",
      "155\n"
     ]
    }
   ],
   "source": [
    "cell_test = initializeCell()\n",
    "cell_test2 = initializeCell()\n",
    "for z in range(len(cell_test['zom'])):\n",
    "    cell_test['zom'][z] = 10\n",
    "    cell_test2['zom'][z] = 10\n",
    "print(sum(cell_test['zom']))\n",
    "print(sum(cell_test2['zom']))\n",
    "assignZombiesByAge(cell_test, cell_test2, 5)\n",
    "print(sum(cell_test['zom']))\n",
    "print(sum(cell_test2['zom']))"
   ]
  },
  {
   "cell_type": "code",
   "execution_count": 12,
   "metadata": {},
   "outputs": [],
   "source": [
    "# If still humans in the place where zombies are, this will move inspite humans in cell?\n",
    "# Averages, should we calculate humans or average humans?"
   ]
  },
  {
   "cell_type": "code",
   "execution_count": 13,
   "metadata": {},
   "outputs": [
    {
     "name": "stdout",
     "output_type": "stream",
     "text": [
      "{'h': 2}\n",
      "{'h': 3}\n"
     ]
    }
   ],
   "source": [
    "obj1 = {'h': 1}\n",
    "obj2 = {'h': 2}\n",
    "\n",
    "def rename(ob):\n",
    "    for c in range(len(ob)):\n",
    "        ob[c]['h'] += 1\n",
    "\n",
    "rename([obj1, obj2])\n",
    "\n",
    "print(obj1)\n",
    "print(obj2)"
   ]
  },
  {
   "cell_type": "code",
   "execution_count": 14,
   "metadata": {},
   "outputs": [],
   "source": [
    "# Rize pop 94 800 inhabitants\n"
   ]
  },
  {
   "cell_type": "code",
   "execution_count": 51,
   "metadata": {},
   "outputs": [],
   "source": [
    "# TEST\n",
    "m = [[initializeCell() for i in range(5)] for j in range(5)]\n",
    "elev = 0\n",
    "for i in range(5):\n",
    "    for j in range(5):\n",
    "        m[i][j]['elev'] =  elev + 1\n",
    "        m[i][j]['i'] = i\n",
    "        m[i][j]['j'] = j\n",
    "        m[i][j]['hum'] = 100\n",
    "        elev += 1\n",
    "        \n",
    "m[2][2]['zom'][0] = 30"
   ]
  },
  {
   "cell_type": "code",
   "execution_count": 16,
   "metadata": {},
   "outputs": [],
   "source": [
    "def showMatrixVals(m, key):\n",
    "    new_m = [[0 for i in range(5)] for j in range(5)]\n",
    "    for i in range(5):\n",
    "        for j in range(5):\n",
    "            new_m[i][j] = m[i][j][key]\n",
    "    return new_m"
   ]
  },
  {
   "cell_type": "code",
   "execution_count": 17,
   "metadata": {},
   "outputs": [],
   "source": [
    "def getNeigborCellList(i, j, m):\n",
    "    n = []\n",
    "    for i_sub in range(3):\n",
    "        for j_sub in range(3):\n",
    "            if i_sub == 1 and j_sub == 1: continue \n",
    "            candidate_cell = m[i + i_sub - 1][j + j_sub - 1]\n",
    "            if isCellCandidateForMove(candidate_cell): n.append(candidate_cell)\n",
    "    return n"
   ]
  },
  {
   "cell_type": "code",
   "execution_count": 56,
   "metadata": {},
   "outputs": [],
   "source": [
    "def isCellCandidateForMove(c):\n",
    "    return True # MODIFY TO DETECT BORDERS OR CELLS NOT DESIRED"
   ]
  },
  {
   "cell_type": "code",
   "execution_count": 18,
   "metadata": {},
   "outputs": [
    {
     "name": "stdout",
     "output_type": "stream",
     "text": [
      "h_neigh: 80\n",
      "h cell: 10\n",
      "z_new 4\n",
      "h cell: 10\n",
      "z_new 4\n",
      "h cell: 10\n",
      "z_new 4\n",
      "h cell: 10\n",
      "z_new 4\n",
      "h cell: 10\n",
      "z_new 4\n",
      "h cell: 10\n",
      "z_new 4\n",
      "h cell: 10\n",
      "z_new 4\n",
      "h cell: 10\n",
      "z_new 4\n"
     ]
    }
   ],
   "source": [
    "neigh = getNeigborCellList(2, 2, m)\n",
    "cell = m[2][2]\n",
    "zombiesMove(cell, neigh)"
   ]
  },
  {
   "cell_type": "code",
   "execution_count": 19,
   "metadata": {},
   "outputs": [
    {
     "name": "stdout",
     "output_type": "stream",
     "text": [
      "[[10, 10, 10, 10, 10],\n",
      " [10, 10, 10, 10, 10],\n",
      " [10, 10, 10, 10, 10],\n",
      " [10, 10, 10, 10, 10],\n",
      " [10, 10, 10, 10, 10]]\n",
      "[[[0, 0, 0, 0, 0, 0, 0, 0, 0, 0, 0, 0, 0, 0, 0],\n",
      "  [0, 0, 0, 0, 0, 0, 0, 0, 0, 0, 0, 0, 0, 0, 0],\n",
      "  [0, 0, 0, 0, 0, 0, 0, 0, 0, 0, 0, 0, 0, 0, 0],\n",
      "  [0, 0, 0, 0, 0, 0, 0, 0, 0, 0, 0, 0, 0, 0, 0],\n",
      "  [0, 0, 0, 0, 0, 0, 0, 0, 0, 0, 0, 0, 0, 0, 0]],\n",
      " [[0, 0, 0, 0, 0, 0, 0, 0, 0, 0, 0, 0, 0, 0, 0],\n",
      "  [0, 4, 0, 0, 0, 0, 0, 0, 0, 0, 0, 0, 0, 0, 0],\n",
      "  [0, 4, 0, 0, 0, 0, 0, 0, 0, 0, 0, 0, 0, 0, 0],\n",
      "  [0, 4, 0, 0, 0, 0, 0, 0, 0, 0, 0, 0, 0, 0, 0],\n",
      "  [0, 0, 0, 0, 0, 0, 0, 0, 0, 0, 0, 0, 0, 0, 0]],\n",
      " [[0, 0, 0, 0, 0, 0, 0, 0, 0, 0, 0, 0, 0, 0, 0],\n",
      "  [0, 4, 0, 0, 0, 0, 0, 0, 0, 0, 0, 0, 0, 0, 0],\n",
      "  [0, 0, 0, 0, 0, 0, 0, 0, 0, 0, 0, 0, 0, 0, 0],\n",
      "  [0, 4, 0, 0, 0, 0, 0, 0, 0, 0, 0, 0, 0, 0, 0],\n",
      "  [0, 0, 0, 0, 0, 0, 0, 0, 0, 0, 0, 0, 0, 0, 0]],\n",
      " [[0, 0, 0, 0, 0, 0, 0, 0, 0, 0, 0, 0, 0, 0, 0],\n",
      "  [0, 4, 0, 0, 0, 0, 0, 0, 0, 0, 0, 0, 0, 0, 0],\n",
      "  [0, 4, 0, 0, 0, 0, 0, 0, 0, 0, 0, 0, 0, 0, 0],\n",
      "  [0, 2, 0, 0, 0, 0, 0, 0, 0, 0, 0, 0, 0, 0, 0],\n",
      "  [0, 0, 0, 0, 0, 0, 0, 0, 0, 0, 0, 0, 0, 0, 0]],\n",
      " [[0, 0, 0, 0, 0, 0, 0, 0, 0, 0, 0, 0, 0, 0, 0],\n",
      "  [0, 0, 0, 0, 0, 0, 0, 0, 0, 0, 0, 0, 0, 0, 0],\n",
      "  [0, 0, 0, 0, 0, 0, 0, 0, 0, 0, 0, 0, 0, 0, 0],\n",
      "  [0, 0, 0, 0, 0, 0, 0, 0, 0, 0, 0, 0, 0, 0, 0],\n",
      "  [0, 0, 0, 0, 0, 0, 0, 0, 0, 0, 0, 0, 0, 0, 0]]]\n"
     ]
    }
   ],
   "source": [
    "pp.pprint(showMatrixVals(m, 'hum'))\n",
    "pp.pprint(showMatrixVals(m, 'zom'))"
   ]
  },
  {
   "cell_type": "code",
   "execution_count": null,
   "metadata": {},
   "outputs": [],
   "source": [
    "def runOneMoreDay(m, is_0_layer):\n",
    "    # STEP 1 (Zombies move)\n",
    "    for lat in m:\n",
    "        for lon in lat:\n",
    "            now_cell = m[lat][lon]\n",
    "            neighbor_cells = getNeigborCellList(now_cell)\n",
    "            zombiesMove(now_cell, neighbor_cells)\n",
    "    # STEP2 (Zombies Kill)\n",
    "    for lat in m:\n",
    "        for lon in lat:\n",
    "            zombiesKillHumans(m[lat][lon])\n",
    "    # STEP 3 (Humans kill)\n",
    "    for lat in m:\n",
    "        for lon in lat:\n",
    "            humanKillZombies(m[lat][lon])"
   ]
  }
 ],
 "metadata": {
  "kernelspec": {
   "display_name": "Python 3",
   "language": "python",
   "name": "python3"
  },
  "language_info": {
   "codemirror_mode": {
    "name": "ipython",
    "version": 3
   },
   "file_extension": ".py",
   "mimetype": "text/x-python",
   "name": "python",
   "nbconvert_exporter": "python",
   "pygments_lexer": "ipython3",
   "version": "3.6.7"
  }
 },
 "nbformat": 4,
 "nbformat_minor": 2
}
