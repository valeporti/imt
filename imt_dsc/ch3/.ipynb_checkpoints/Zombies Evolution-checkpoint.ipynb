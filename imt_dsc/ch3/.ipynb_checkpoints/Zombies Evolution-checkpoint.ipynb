{
 "cells": [
  {
   "cell_type": "code",
   "execution_count": 1,
   "metadata": {},
   "outputs": [],
   "source": [
    "import numpy as np\n",
    "import random\n",
    "import math\n",
    "import copy\n",
    "import pprint as pp\n",
    "from PIL import Image\n",
    "\n",
    "# If still humans in the place where zombies are, this will move inspite humans in cell?\n",
    "# Averages, should we calculate humans or average humans in order to do the killings?\n",
    "\n",
    "# Note: Rize pop 94 800 inhabitants"
   ]
  },
  {
   "cell_type": "code",
   "execution_count": 57,
   "metadata": {},
   "outputs": [],
   "source": [
    "img_dir = \"./img/\"\n",
    "pop_img_grid = Image.open(img_dir + 'pop_grid.bmp')\n",
    "elv_img_grid = Image.open(img_dir + 'elev_grid.bmp')\n",
    "pop_img = Image.open(img_dir + 'pop.bmp')\n",
    "elv_img = Image.open(img_dir + 'elev.bmp')\n",
    "vld_img_grid = Image.open(img_dir + 'valid_space.bmp')\n",
    "pop_img_grid_arr = np.array(pop_img_grid)\n",
    "elv_img_grid_arr = np.array(elv_img_grid)\n",
    "vld_img_grid_arr = np.array(vld_img_grid)\n",
    "z_loc = (140, 295) # (x, y)\n",
    "brest = (87, 44)\n",
    "rize_p = 94800"
   ]
  },
  {
   "cell_type": "code",
   "execution_count": 3,
   "metadata": {},
   "outputs": [],
   "source": [
    "elv_vals = []\n",
    "pop_vals = []\n",
    "\n",
    "for i in range(256):\n",
    "    \n",
    "    if i==0: elv_vals.append(0)\n",
    "    elif i<52: elv_vals.append(round(i*1000/51))\n",
    "    elif i<64: elv_vals.append(round((i-51)*3800/(64-52) + 1000))\n",
    "        \n",
    "    if i<24: pop_vals.append(0)\n",
    "    else: pop_vals.append(round((i-23)*3000/(255-23)))"
   ]
  },
  {
   "cell_type": "code",
   "execution_count": 4,
   "metadata": {},
   "outputs": [],
   "source": [
    "max_age = 15"
   ]
  },
  {
   "cell_type": "code",
   "execution_count": 5,
   "metadata": {},
   "outputs": [],
   "source": [
    "cell_ = {\n",
    "    'elev': None, \n",
    "    'hum': 0, \n",
    "    'valid': None,\n",
    "    'z_1': [0] * max_age, \n",
    "    'z_0': [0] * max_age \n",
    "}\n",
    "\n",
    "def initializeCell():\n",
    "    return copy.deepcopy(cell_)"
   ]
  },
  {
   "cell_type": "code",
   "execution_count": 6,
   "metadata": {},
   "outputs": [],
   "source": [
    "# Determine the killed humans and update its cell value\n",
    "def zombiesKillHumans(cell, layer):\n",
    "    h = cell['hum'] # * 255 ? is it average or what?\n",
    "    z = sum(cell['z_' + str(int(layer))])\n",
    "    killed_h = 10 * z\n",
    "    remaining_h = h - killed_h if h > killed_h else 0\n",
    "    cell['hum'] = remaining_h"
   ]
  },
  {
   "cell_type": "code",
   "execution_count": 7,
   "metadata": {},
   "outputs": [],
   "source": [
    "# Determine the killed zombies and update its cell value\n",
    "def humanKillZombies(cell, layer):\n",
    "    h = cell['hum']\n",
    "    z = sum(cell['z_' + str(int(layer))])\n",
    "    #print(f'to kill: {z} and {h}')\n",
    "    killed_z = 10 * h\n",
    "    # assign randomly to the list the killings\n",
    "    for k in range(killed_z):\n",
    "        remaining_ages = [a for a in range(max_age) if cell['z_' + str(int(layer))][a] > 0]\n",
    "        index = 0\n",
    "        if len(remaining_ages) == 0:\n",
    "            return\n",
    "        elif len(remaining_ages) > 1:\n",
    "            index = random.randint(0, len(remaining_ages) - 1)\n",
    "        age = remaining_ages[index]\n",
    "        cell['z_' + str(int(layer))][age] -= 1 "
   ]
  },
  {
   "cell_type": "code",
   "execution_count": 8,
   "metadata": {},
   "outputs": [],
   "source": [
    "# \"consider cells of 15 × 15 pixels\" AND \"1 pixel = 1 km 2\"\n",
    "len_cell = 15 #km\n",
    "len_diag = math.sqrt(pow(len_cell, 2) * 2) #km\n",
    "dist_lin = len_cell\n",
    "dist_dia = len_diag\n",
    "\n",
    "def getGeoSlope(cell, to_cell):\n",
    "    dist = dist_lin if (cell['i'] == to_cell['i'] or cell['j'] == to_cell['j']) else dist_dia\n",
    "    diff = to_cell['elev'] - cell['elev']\n",
    "    return math.degrees(math.atan2(diff, dist))\n",
    "\n",
    "def getGeoSlopeFactor(cell, to_cell):\n",
    "    slope = getGeoSlope(cell, to_cell)\n",
    "    if slope < 0: \n",
    "        return 1 # zombies don't have any issue\n",
    "    elif slope > 10:\n",
    "        return 0 # zombies don't climb\n",
    "    else: # then, between 0 and 10\n",
    "        return 1 - (slope / 10) # zombies have certain difficulties"
   ]
  },
  {
   "cell_type": "code",
   "execution_count": 9,
   "metadata": {},
   "outputs": [],
   "source": [
    "def zombiesMove(cell, neighbor_cells_list, layer):\n",
    "    \"\"\" \n",
    "    1) thinking that the zombies will all go even if there are still humans\n",
    "    2) We're assuming, also, that not all zombies should be moved (ex: slope constraint would encourage some to stay)\n",
    "    \"\"\"\n",
    "    \n",
    "    # today\n",
    "    neighbor_humans = remaining_c = []\n",
    "    for c in range(len(neighbor_cells_list)): # 8 cells max\n",
    "        neighbor_humans.append(neighbor_cells_list[c]['hum'])\n",
    "    h_neigh = sum(neighbor_humans)\n",
    "    elev_c0 = cell['elev'] \n",
    "\n",
    "    # tomorrow\n",
    "    autoDestroyZombies(cell, layer) # prepare zombies list for \"tomorrow\"\n",
    "    z_c0 = sum(cell['z_' + str(int(layer))]) # zombies able to attack are just survivals aged < 15 \n",
    "    #print(f'z-co: {z_c0}')\n",
    "    remaining_c = [i for i in range(len(neighbor_cells_list))]\n",
    "    random.shuffle(remaining_c)\n",
    "    for c in range(len(neighbor_cells_list)): # 8 cells max\n",
    "        #ran = random.randint(0, len(remaining_c) - 1) if len(remaining_c) > 0 else 0\n",
    "        c_rand = remaining_c[-1]\n",
    "        h = neighbor_cells_list[c_rand]['hum']\n",
    "        geo_slope_fact = getGeoSlopeFactor(cell, neighbor_cells_list[c_rand]) # (from, to)\n",
    "        z_new = getZombiesContribution(neighbor_cells_list[c_rand], h_neigh, z_c0, geo_slope_fact)\n",
    "        #if layer == True : print(\"second\")\n",
    "        #if z_new > 0: print(f'z_new: {z_new}, c: {c_rand}, neigh: {len(neighbor_cells_list)}, rem: {len(remaining_c)}{remaining_c}')\n",
    "        assignZombiesByAge(cell, neighbor_cells_list[c_rand], z_new, layer)\n",
    "        remaining_c.pop()\n",
    "    \n",
    "    for a in range(max_age): # assign remaining to next layer and reinitialize old layer\n",
    "        cell['z_' + str(int(not layer))][a] += cell['z_' + str(int(layer))][a] \n",
    "        cell['z_' + str(int(layer))][a] = 0"
   ]
  },
  {
   "cell_type": "code",
   "execution_count": 10,
   "metadata": {},
   "outputs": [],
   "source": [
    "def getZombiesContribution(cell, h_neigh, z_c0, geo_slope_fact):\n",
    "    h = cell['hum']\n",
    "    #print(f'h cell: {h}, z_c0: {z_c0}, h_neigh: {h_neigh}')\n",
    "    if h_neigh == 0:\n",
    "        return 0\n",
    "    elif h_neigh > 0:\n",
    "        return math.ceil((h / h_neigh) * z_c0 * geo_slope_fact)\n",
    "    else:\n",
    "        print(\"Error in Zombies contribution: z < 0 ?\")"
   ]
  },
  {
   "cell_type": "code",
   "execution_count": 11,
   "metadata": {},
   "outputs": [],
   "source": [
    "def autoDestroyZombies(cell, layer):\n",
    "    cell['z_' + str(int(layer))].pop() # remove old zombies (last place)\n",
    "    cell['z_' + str(int(layer))].insert(0, 0) # insert space for eaten humans (first place)\n",
    "    \n",
    "def assignZombiesByAge(cell, new_cell, n, layer):\n",
    "    for i in range(n):\n",
    "        remaining_ages = [a for a in range(max_age) if cell['z_' + str(int(layer))][a] > 0]\n",
    "        index = 0\n",
    "        if len(remaining_ages) == 0:\n",
    "            return\n",
    "        elif len(remaining_ages) > 1:\n",
    "            index = random.randint(0, len(remaining_ages) - 1)        \n",
    "        age = remaining_ages[index]\n",
    "        cell['z_' + str(int(layer))][age] -= 1\n",
    "        new_cell['z_' + str(int(not layer))][age] += 1\n",
    "    #print(cell['zom'])\n",
    "    #print(new_cell['zom'])"
   ]
  },
  {
   "cell_type": "code",
   "execution_count": 12,
   "metadata": {},
   "outputs": [],
   "source": [
    "def showMatrixVals(m, key):\n",
    "    new_m = [[0 for i in range(len(m[j]))] for j in range(len(m))]\n",
    "    for i in range(len(m)):\n",
    "        for j in range(len(m[i])):\n",
    "            new_m[i][j] = m[i][j][key]\n",
    "    return new_m"
   ]
  },
  {
   "cell_type": "code",
   "execution_count": 67,
   "metadata": {},
   "outputs": [],
   "source": [
    "def getNeigborCellList(i, j, m):\n",
    "    n = []\n",
    "    for i_sub in range(3): # Rows\n",
    "        for j_sub in range(3): # Cols\n",
    "            if i_sub == 1 and j_sub == 1: continue \n",
    "            if isCellCandidateForMove(i, i_sub, j, j_sub, m): \n",
    "                try:\n",
    "                    n.append(m[i + i_sub - 1][j + j_sub - 1])\n",
    "                except:\n",
    "                    print(f'cell[{i + i_sub - 1}][{j + j_sub - 1}]')\n",
    "    return n"
   ]
  },
  {
   "cell_type": "code",
   "execution_count": 70,
   "metadata": {},
   "outputs": [],
   "source": [
    "def isCellCandidateForMove(i, i_sub, j, j_sub, m):\n",
    "    # i: Rows, j: Columns\n",
    "    ip = i + i_sub - 1\n",
    "    jp = j + j_sub - 1\n",
    "    if ip < 0 or jp < 0 : return False\n",
    "    i_len = len(m) # how many rows\n",
    "    j_len = len(m[i]) # how many columns\n",
    "    if ip >= i_len or jp >= j_len: return False\n",
    "    #print(f'checking i|ip|i_len: {i},{ip},{i_len} , j|jp|j_len: {j},{jp},{j_len}')\n",
    "    if (m[i + i_sub - 1][j + j_sub - 1]['valid'] == 0): return False\n",
    "    # MODIFY TO DETECT BORDERS OR CELLS NOT DESIRED\n",
    "    return True"
   ]
  },
  {
   "cell_type": "code",
   "execution_count": 28,
   "metadata": {},
   "outputs": [],
   "source": [
    "def runOneMoreDay(m, layer):\n",
    "    # STEP 1 (Zombies move)\n",
    "    for lon in range(len(m)):\n",
    "        for lat in range(len(m[lon])):\n",
    "            neighbor_cells = getNeigborCellList(lon, lat, m)\n",
    "            zombiesMove(m[lon][lat], neighbor_cells, layer)\n",
    "    # STEP 2 (Zombies Kill)\n",
    "    for lon in range(len(m)):\n",
    "        for lat in range(len(m[lon])):\n",
    "            zombiesKillHumans(m[lon][lat], not layer) # layer, from recently moved zombies\n",
    "    # STEP 3 (Humans kill)\n",
    "    for lon in range(len(m)):\n",
    "        for lat in range(len(m[lon])):\n",
    "            humanKillZombies(m[lon][lat], not layer) # layer, from recently moved zombies"
   ]
  },
  {
   "cell_type": "code",
   "execution_count": 29,
   "metadata": {},
   "outputs": [],
   "source": [
    "def initializeGrid(vld_grid, pop_grid, elv_grid, pop_vals, elv_vals):\n",
    "    m = [[initializeCell() for i in range(len(arr))] for j, arr in enumerate(vld_grid)]\n",
    "    for r, arr in enumerate(vld_grid):\n",
    "        for c, val in enumerate(arr):\n",
    "            cell = m[r][c]\n",
    "            pop_index = pop_grid[r][c]\n",
    "            elv_index = elv_grid[r][c]\n",
    "            cell['elev'] = elv_vals[elv_index]\n",
    "            cell['hum'] = pop_vals[pop_index]\n",
    "            cell['valid'] = vld_grid[r][c]\n",
    "    return m"
   ]
  },
  {
   "cell_type": "code",
   "execution_count": 65,
   "metadata": {},
   "outputs": [],
   "source": [
    "def rgb_int2tuple(rgbint):\n",
    "    return (rgbint // 256 // 256 % 256, rgbint // 256 % 256, rgbint % 256)\n",
    "\n",
    "def printImageFromGrid(grid, n):\n",
    "    RGB = [0,0,0]\n",
    "    m = [[RGB for i in range(len(arr))] for j, arr in enumerate(grid)]\n",
    "    for r, arr in enumerate(grid):\n",
    "        for c, cell in enumerate(arr):\n",
    "            p = int((normalize(cell['hum'], pop_vals[0], pop_vals[-1])) * 255)\n",
    "            z = int((normalize(sum(cell['z_0'] + cell['z_1']), elv_vals[0], elv_vals[-1])) * 255)\n",
    "            m[r][c] = [p, z, 0]\n",
    "            #b, g, r = rgb_int2tuple()\n",
    "    np_m = np.array(m)\n",
    "    im = Image.fromarray(np.uint8(np_m))\n",
    "    im.save('./out/' + str(n) + '.png')\n",
    "    return np_m"
   ]
  },
  {
   "cell_type": "code",
   "execution_count": 31,
   "metadata": {},
   "outputs": [],
   "source": [
    "def normalize(v, mx, mn):\n",
    "    return (v - mn)/(mx - mn)"
   ]
  },
  {
   "cell_type": "code",
   "execution_count": 54,
   "metadata": {},
   "outputs": [],
   "source": [
    "def initializeZombies(grid, r, c, z):\n",
    "    grid[r][c]['z_' + str(0)][0] = z"
   ]
  },
  {
   "cell_type": "code",
   "execution_count": 72,
   "metadata": {},
   "outputs": [],
   "source": [
    "def run(d):\n",
    "    grid = initializeGrid(vld_img_grid_arr, \n",
    "               pop_img_grid_arr,\n",
    "               elv_img_grid_arr,\n",
    "               pop_vals,\n",
    "               elv_vals\n",
    "              )\n",
    "    initializeZombies(grid, z_loc[0], z_loc[1], rize_p)\n",
    "    layer = False\n",
    "    for day in range(d):\n",
    "        runOneMoreDay(grid, layer)\n",
    "        layer = not layer\n",
    "        printImageFromGrid(grid, day)"
   ]
  },
  {
   "cell_type": "code",
   "execution_count": 73,
   "metadata": {},
   "outputs": [],
   "source": [
    "run(3)"
   ]
  }
 ],
 "metadata": {
  "kernelspec": {
   "display_name": "Python 3",
   "language": "python",
   "name": "python3"
  },
  "language_info": {
   "codemirror_mode": {
    "name": "ipython",
    "version": 3
   },
   "file_extension": ".py",
   "mimetype": "text/x-python",
   "name": "python",
   "nbconvert_exporter": "python",
   "pygments_lexer": "ipython3",
   "version": "3.6.7"
  }
 },
 "nbformat": 4,
 "nbformat_minor": 2
}
