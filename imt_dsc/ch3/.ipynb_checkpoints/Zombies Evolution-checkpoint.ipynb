{
 "cells": [
  {
   "cell_type": "code",
   "execution_count": 1,
   "metadata": {},
   "outputs": [],
   "source": [
    "import numpy as np\n",
    "import random\n",
    "import math\n",
    "import copy\n",
    "import pprint as pp\n",
    "from PIL import Image\n",
    "\n",
    "# If still humans in the place where zombies are, this will move inspite humans in cell?\n",
    "# Averages, should we calculate humans or average humans in order to do the killings?\n",
    "# Starting Zombie population is an average?\n",
    "\n",
    "# Note: Rize pop 94 800 inhabitants"
   ]
  },
  {
   "cell_type": "code",
   "execution_count": 22,
   "metadata": {},
   "outputs": [],
   "source": [
    "img_dir = \"./img/\"\n",
    "pop_img_grid = Image.open(img_dir + 'pop_grid.bmp')\n",
    "elv_img_grid = Image.open(img_dir + 'elev_grid.bmp')\n",
    "pop_img = Image.open(img_dir + 'pop.bmp')\n",
    "elv_img = Image.open(img_dir + 'elev.bmp')\n",
    "vld_img_grid = Image.open(img_dir + 'valid_space.bmp')\n",
    "pop_img_grid_arr = np.array(pop_img_grid)\n",
    "elv_img_grid_arr = np.array(elv_img_grid)\n",
    "vld_img_grid_arr = np.array(vld_img_grid)\n",
    "z_loc = (140, 295) # (x, y)\n",
    "brest = (87, 44)\n",
    "rize_p = 94800 # math.ceil(94800 / 225) ? => because we divide it as cells average"
   ]
  },
  {
   "cell_type": "code",
   "execution_count": 3,
   "metadata": {},
   "outputs": [],
   "source": [
    "elv_vals = []\n",
    "pop_vals = []\n",
    "\n",
    "for i in range(256):\n",
    "    # in meters avg\n",
    "    if i==0: elv_vals.append(0)\n",
    "    elif i<52: elv_vals.append(round(i*1000/51))\n",
    "    elif i<64: elv_vals.append(round((i-51)*3800/(64-52) + 1000))\n",
    "    \n",
    "    if i<24: pop_vals.append(0)\n",
    "    else: pop_vals.append(round((i-23)*3000/(255-23)))"
   ]
  },
  {
   "cell_type": "code",
   "execution_count": 4,
   "metadata": {},
   "outputs": [],
   "source": [
    "max_age = 15"
   ]
  },
  {
   "cell_type": "code",
   "execution_count": 5,
   "metadata": {},
   "outputs": [],
   "source": [
    "cell_ = {\n",
    "    'i': None,\n",
    "    'j': None,\n",
    "    'elev': None, \n",
    "    'hum': 0, \n",
    "    'valid': None,\n",
    "    'z_1': [0] * max_age, \n",
    "    'z_0': [0] * max_age \n",
    "}\n",
    "\n",
    "def initializeCell():\n",
    "    return copy.deepcopy(cell_)"
   ]
  },
  {
   "cell_type": "code",
   "execution_count": 150,
   "metadata": {},
   "outputs": [],
   "source": [
    "# Determine the killed humans and update its cell value\n",
    "def zombiesKillHumans(cell, layer):\n",
    "    h = cell['hum']\n",
    "    z = sum(cell['z_' + str(int(layer))])\n",
    "    killed_h = 10 * z \n",
    "    remaining_h = h - killed_h if h > killed_h else 0\n",
    "    cell['hum'] = remaining_h # kill humans \n",
    "    cell['z_' + str(int(layer))][0] = h - remaining_h # add them to new zombies\n",
    "    return remaining_h"
   ]
  },
  {
   "cell_type": "code",
   "execution_count": 151,
   "metadata": {},
   "outputs": [],
   "source": [
    "# Determine the killed zombies and update its cell value\n",
    "def humanKillZombies(cell, layer):\n",
    "    h = cell['hum']\n",
    "    z = sum(cell['z_' + str(int(layer))])\n",
    "    killed_z = 10 * h\n",
    "    # assign randomly to the list the killings\n",
    "    for k in range(killed_z):\n",
    "        remaining_ages = [a for a in range(max_age) if cell['z_' + str(int(layer))][a] > 0]\n",
    "        index = 0\n",
    "        if len(remaining_ages) == 0:\n",
    "            break\n",
    "        elif len(remaining_ages) > 1:\n",
    "            index = random.randint(0, len(remaining_ages) - 1)\n",
    "        age = remaining_ages[index]\n",
    "        cell['z_' + str(int(layer))][age] -= 1 \n",
    "    return sum(cell['z_' + str(int(layer))]) # get remaining zombies"
   ]
  },
  {
   "cell_type": "code",
   "execution_count": 65,
   "metadata": {},
   "outputs": [],
   "source": [
    "# \"consider cells of 15 × 15 pixels\" AND \"1 pixel = 1 km 2\"\n",
    "len_cell = 15000 #m\n",
    "len_diag = math.sqrt(pow(len_cell, 2) * 2) #m\n",
    "dist_lin = len_cell\n",
    "dist_dia = len_diag\n",
    "\n",
    "def getGeoSlope(cell, to_cell):\n",
    "    dist = dist_lin if (cell['i'] == to_cell['i'] or cell['j'] == to_cell['j']) else dist_dia\n",
    "    diff = to_cell['elev'] - cell['elev']\n",
    "    return math.degrees(math.atan2(diff, dist))\n",
    "\n",
    "def getGeoSlopeFactor(cell, to_cell):\n",
    "    slope = getGeoSlope(cell, to_cell)\n",
    "    if slope < 0: \n",
    "        return 1 # zombies don't have any issue\n",
    "    elif slope > 10:\n",
    "        return 0 # zombies don't climb\n",
    "    else: # then, between 0 and 10\n",
    "        return 1 - (slope / 10) # zombies have certain difficulties"
   ]
  },
  {
   "cell_type": "code",
   "execution_count": 145,
   "metadata": {},
   "outputs": [],
   "source": [
    "def zombiesMove(cell, neighbor_cells_list, layer):\n",
    "    \"\"\" \n",
    "    1) thinking that the zombies will all go even if there are still humans\n",
    "    2) We're assuming, also, that not all zombies should be moved (ex: slope constraint would encourage some to stay)\n",
    "    \"\"\"\n",
    "    \n",
    "    # today\n",
    "    neighbor_humans = remaining_c = []\n",
    "    for c in range(len(neighbor_cells_list)): # 8 cells max\n",
    "        neighbor_humans.append(neighbor_cells_list[c]['hum'])\n",
    "    h_neigh = sum(neighbor_humans)\n",
    "    elev_c0 = cell['elev'] \n",
    "\n",
    "    # tomorrow\n",
    "    autoDestroyZombies(cell, layer) # prepare zombies list for \"tomorrow\"\n",
    "    z_c0 = sum(cell['z_' + str(int(layer))]) # zombies able to attack are just survivals aged < 15 \n",
    "    #print(f'z-co: {z_c0}')\n",
    "    remaining_c = [i for i in range(len(neighbor_cells_list))]\n",
    "    random.shuffle(remaining_c)\n",
    "    for c in range(len(neighbor_cells_list)): # 8 cells max\n",
    "        #ran = random.randint(0, len(remaining_c) - 1) if len(remaining_c) > 0 else 0\n",
    "        c_rand = remaining_c[-1]\n",
    "        h = neighbor_cells_list[c_rand]['hum']\n",
    "        geo_slope_fact = getGeoSlopeFactor(cell, neighbor_cells_list[c_rand]) # (from, to)\n",
    "        z_new = getZombiesContribution(neighbor_cells_list[c_rand], h_neigh, z_c0, geo_slope_fact)\n",
    "        #if layer == True : print(\"second\")\n",
    "        #if z_new > 0: print(f'z_new: {z_new}, c: {c_rand}, neigh: {len(neighbor_cells_list)}, rem: {len(remaining_c)}{remaining_c}, slope: {round(geo_slope_fact, 2)}|{cell[\"elev\"]}|{neighbor_cells_list[c_rand][\"elev\"]}')\n",
    "        assignZombiesByAge(cell, neighbor_cells_list[c_rand], z_new, layer)\n",
    "        remaining_c.pop()\n",
    "    \n",
    "    for a in range(max_age): # assign remaining to next layer and reinitialize old layer\n",
    "        cell['z_' + str(int(not layer))][a] += cell['z_' + str(int(layer))][a] \n",
    "        cell['z_' + str(int(layer))][a] = 0"
   ]
  },
  {
   "cell_type": "code",
   "execution_count": 10,
   "metadata": {},
   "outputs": [],
   "source": [
    "def getZombiesContribution(cell, h_neigh, z_c0, geo_slope_fact):\n",
    "    h = cell['hum']\n",
    "    #print(f'h cell: {h}, z_c0: {z_c0}, h_neigh: {h_neigh}')\n",
    "    if h_neigh == 0:\n",
    "        return 0\n",
    "    elif h_neigh > 0:\n",
    "        return math.ceil((h / h_neigh) * z_c0 * geo_slope_fact)\n",
    "    else:\n",
    "        print(\"Error in Zombies contribution: z < 0 ?\")"
   ]
  },
  {
   "cell_type": "code",
   "execution_count": 11,
   "metadata": {},
   "outputs": [],
   "source": [
    "def autoDestroyZombies(cell, layer):\n",
    "    cell['z_' + str(int(layer))].pop() # remove old zombies (last place)\n",
    "    cell['z_' + str(int(layer))].insert(0, 0) # insert space for eaten humans (first place)\n",
    "    \n",
    "def assignZombiesByAge(cell, new_cell, n, layer):\n",
    "    for i in range(n):\n",
    "        remaining_ages = [a for a in range(max_age) if cell['z_' + str(int(layer))][a] > 0]\n",
    "        index = 0\n",
    "        if len(remaining_ages) == 0:\n",
    "            return\n",
    "        elif len(remaining_ages) > 1:\n",
    "            index = random.randint(0, len(remaining_ages) - 1)        \n",
    "        age = remaining_ages[index]\n",
    "        cell['z_' + str(int(layer))][age] -= 1\n",
    "        new_cell['z_' + str(int(not layer))][age] += 1"
   ]
  },
  {
   "cell_type": "code",
   "execution_count": 12,
   "metadata": {},
   "outputs": [],
   "source": [
    "def showMatrixVals(m, key, corner_i, corner_j, around):\n",
    "    new_m = [[0 for r in range(around)] for c in range(around)]\n",
    "    for r in range(around):\n",
    "        for c in range(around):\n",
    "            new_m[r][c] = m[corner_i + r][corner_j + c][key]\n",
    "    return new_m"
   ]
  },
  {
   "cell_type": "code",
   "execution_count": 13,
   "metadata": {},
   "outputs": [],
   "source": [
    "def getNeigborCellList(i, j, m):\n",
    "    n = []\n",
    "    for i_sub in range(3): # Rows\n",
    "        for j_sub in range(3): # Cols\n",
    "            if i_sub == 1 and j_sub == 1: continue \n",
    "            if isCellCandidateForMove(i, i_sub, j, j_sub, m): \n",
    "                try:\n",
    "                    n.append(m[i + i_sub - 1][j + j_sub - 1])\n",
    "                except:\n",
    "                    print(f'cell[{i + i_sub - 1}][{j + j_sub - 1}]')\n",
    "    return n"
   ]
  },
  {
   "cell_type": "code",
   "execution_count": 14,
   "metadata": {},
   "outputs": [],
   "source": [
    "def isCellCandidateForMove(i, i_sub, j, j_sub, m):\n",
    "    # i: Rows, j: Columns\n",
    "    ip = i + i_sub - 1\n",
    "    jp = j + j_sub - 1\n",
    "    if ip < 0 or jp < 0 : return False\n",
    "    i_len = len(m) # how many rows\n",
    "    j_len = len(m[i]) # how many columns\n",
    "    if ip >= i_len or jp >= j_len: return False\n",
    "    #print(f'checking i|ip|i_len: {i},{ip},{i_len} , j|jp|j_len: {j},{jp},{j_len}')\n",
    "    if (m[i + i_sub - 1][j + j_sub - 1]['valid'] == 0): return False\n",
    "    # MODIFY TO DETECT BORDERS OR CELLS NOT DESIRED\n",
    "    return True"
   ]
  },
  {
   "cell_type": "code",
   "execution_count": 50,
   "metadata": {},
   "outputs": [],
   "source": [
    "def runOneMoreDay(m, layer):\n",
    "    z = h = 0\n",
    "    # STEP 1 (Zombies move)\n",
    "    for lon in range(len(m)):\n",
    "        for lat in range(len(m[lon])):\n",
    "            neighbor_cells = getNeigborCellList(lon, lat, m)\n",
    "            zombiesMove(m[lon][lat], neighbor_cells, layer)\n",
    "    # STEP 2 (Zombies Kill)\n",
    "    for lon in range(len(m)):\n",
    "        for lat in range(len(m[lon])):\n",
    "            h += zombiesKillHumans(m[lon][lat], not layer) # layer, from recently moved zombies\n",
    "    # STEP 3 (Humans kill)\n",
    "    for lon in range(len(m)):\n",
    "        for lat in range(len(m[lon])):\n",
    "            z += humanKillZombies(m[lon][lat], not layer) # layer, from recently moved zombies\n",
    "    return {'z': z, 'h': h}"
   ]
  },
  {
   "cell_type": "code",
   "execution_count": 16,
   "metadata": {},
   "outputs": [],
   "source": [
    "def initializeGrid(vld_grid, pop_grid, elv_grid, pop_vals, elv_vals):\n",
    "    m = [[initializeCell() for i in range(len(arr))] for j, arr in enumerate(vld_grid)]\n",
    "    for r, arr in enumerate(vld_grid):\n",
    "        for c, val in enumerate(arr):\n",
    "            cell = m[r][c]\n",
    "            pop_index = pop_grid[r][c]\n",
    "            elv_index = elv_grid[r][c]\n",
    "            cell['elev'] = elv_vals[elv_index]\n",
    "            cell['hum'] = pop_vals[pop_index]\n",
    "            cell['valid'] = vld_grid[r][c]\n",
    "            cell['i'] = r\n",
    "            cell['j'] = c\n",
    "    return m"
   ]
  },
  {
   "cell_type": "code",
   "execution_count": 17,
   "metadata": {},
   "outputs": [],
   "source": [
    "def rgb_int2tuple(rgbint):\n",
    "    return (rgbint // 256 // 256 % 256, rgbint // 256 % 256, rgbint % 256)\n",
    "\n",
    "def printImageFromGrid(grid, n):\n",
    "    RGB = [0,0,0]\n",
    "    m = [[RGB for i in range(len(arr))] for j, arr in enumerate(grid)]\n",
    "    for r, arr in enumerate(grid):\n",
    "        for c, cell in enumerate(arr):\n",
    "            p = int((normalize(cell['hum'], pop_vals[0], pop_vals[-1])) * 255)\n",
    "            z = int((normalize(sum(cell['z_0'] + cell['z_1']), elv_vals[0], elv_vals[-1])) * 255)\n",
    "            m[r][c] = [p, z, 0]\n",
    "            #b, g, r = rgb_int2tuple()\n",
    "    np_m = np.array(m)\n",
    "    im = Image.fromarray(np.uint8(np_m))\n",
    "    im.save('./out/' + str(n) + '.png')\n",
    "    return np_m"
   ]
  },
  {
   "cell_type": "code",
   "execution_count": 18,
   "metadata": {},
   "outputs": [],
   "source": [
    "def normalize(v, mx, mn):\n",
    "    return (v - mn)/(mx - mn)"
   ]
  },
  {
   "cell_type": "code",
   "execution_count": 19,
   "metadata": {},
   "outputs": [],
   "source": [
    "def initializeZombies(grid, r, c, z):\n",
    "    grid[r][c]['hum'] = 0\n",
    "    grid[r][c]['z_' + str(0)][0] = z"
   ]
  },
  {
   "cell_type": "code",
   "execution_count": 51,
   "metadata": {},
   "outputs": [],
   "source": [
    "def showMatrixZ(m):\n",
    "    new = [[] for i in range(len(m))]\n",
    "    for r, row in enumerate(m):\n",
    "        for arr in row:\n",
    "            new[r].append(sum(arr))\n",
    "    return new"
   ]
  },
  {
   "cell_type": "code",
   "execution_count": 149,
   "metadata": {},
   "outputs": [],
   "source": [
    "def run(grid, d, i_c = None, j_c = None, t = None):\n",
    "    layer = False\n",
    "    if not (i_c == None or j_c == None or t == None):\n",
    "        pp.pprint(showMatrixVals(grid, 'elev', i_c, j_c, t))\n",
    "        pp.pprint(showMatrixVals(grid, 'hum', i_c, j_c, t))\n",
    "        pp.pprint(showMatrixZ(showMatrixVals(grid, 'z_' + str(int(layer)), i_c, j_c, t)))\n",
    "    \n",
    "    for day in range(d):\n",
    "        vals = runOneMoreDay(grid, layer)\n",
    "        layer = not layer # change layer\n",
    "        print(f' ------   D-{day+1} Z={vals[\"z\"]} H={vals[\"h\"]}   ------ ')\n",
    "        if not (i_c == None or j_c == None or t == None):\n",
    "            pp.pprint(showMatrixVals(grid, 'valid', i_c, j_c, t))\n",
    "            pp.pprint(showMatrixVals(grid, 'elev', i_c, j_c, t))\n",
    "            pp.pprint(showMatrixVals(grid, 'hum', i_c, j_c, t))\n",
    "            pp.pprint(showMatrixZ(showMatrixVals(grid, 'z_' + str(int(layer)), i_c, j_c, t)))\n",
    "        else:\n",
    "            printImageFromGrid(grid, day)\n",
    "        "
   ]
  },
  {
   "cell_type": "code",
   "execution_count": 153,
   "metadata": {
    "scrolled": true
   },
   "outputs": [
    {
     "name": "stdout",
     "output_type": "stream",
     "text": [
      " ------   D-1 Z=96792 H=20505639   ------ \n",
      " ------   D-2 Z=99584 H=20502847   ------ \n",
      " ------   D-3 Z=102714 H=20499717   ------ \n",
      " ------   D-4 Z=106606 H=20495825   ------ \n",
      " ------   D-5 Z=111766 H=20490665   ------ \n",
      " ------   D-6 Z=119241 H=20483157   ------ \n",
      " ------   D-7 Z=127411 H=20474987   ------ \n",
      " ------   D-8 Z=137204 H=20465073   ------ \n",
      " ------   D-9 Z=149391 H=20452886   ------ \n",
      " ------   D-10 Z=162576 H=20438337   ------ \n",
      " ------   D-11 Z=178180 H=20422678   ------ \n",
      " ------   D-12 Z=192712 H=20408146   ------ \n",
      " ------   D-13 Z=207498 H=20393360   ------ \n",
      " ------   D-14 Z=220242 H=20380606   ------ \n",
      " ------   D-15 Z=139655 H=20366394   ------ \n",
      " ------   D-16 Z=150887 H=20353140   ------ \n",
      " ------   D-17 Z=165292 H=20335404   ------ \n",
      " ------   D-18 Z=177284 H=20319891   ------ \n",
      " ------   D-19 Z=193009 H=20299127   ------ \n",
      " ------   D-20 Z=217395 H=20268552   ------ \n",
      " ------   D-21 Z=242672 H=20235666   ------ \n",
      " ------   D-22 Z=278436 H=20191358   ------ \n",
      " ------   D-23 Z=316846 H=20143015   ------ \n",
      " ------   D-24 Z=358763 H=20088643   ------ \n",
      " ------   D-25 Z=389644 H=20044376   ------ \n",
      " ------   D-26 Z=409353 H=20009058   ------ \n",
      " ------   D-27 Z=424126 H=19979649   ------ \n",
      " ------   D-28 Z=438806 H=19950213   ------ \n",
      " ------   D-29 Z=463399 H=19912293   ------ \n",
      " ------   D-30 Z=494241 H=19866998   ------ \n",
      " ------   D-31 Z=525120 H=19822832   ------ \n",
      " ------   D-32 Z=544236 H=19786547   ------ \n",
      " ------   D-33 Z=562578 H=19752938   ------ \n",
      " ------   D-34 Z=575719 H=19720078   ------ \n",
      " ------   D-35 Z=581473 H=19683699   ------ \n",
      " ------   D-36 Z=583445 H=19648503   ------ \n",
      " ------   D-37 Z=570165 H=19617838   ------ \n",
      " ------   D-38 Z=558585 H=19581051   ------ \n",
      " ------   D-39 Z=543928 H=19541172   ------ \n",
      " ------   D-40 Z=537874 H=19502766   ------ \n",
      " ------   D-41 Z=538347 H=19466959   ------ \n",
      " ------   D-42 Z=540669 H=19435127   ------ \n",
      " ------   D-43 Z=535453 H=19410963   ------ \n",
      " ------   D-44 Z=517582 H=19391485   ------ \n",
      " ------   D-45 Z=493780 H=19370262   ------ \n",
      " ------   D-46 Z=472160 H=19347861   ------ \n",
      " ------   D-47 Z=464547 H=19319216   ------ \n",
      " ------   D-48 Z=461111 H=19289166   ------ \n",
      " ------   D-49 Z=459608 H=19257846   ------ \n",
      " ------   D-50 Z=451362 H=19230681   ------ \n"
     ]
    }
   ],
   "source": [
    "grid = initializeGrid(vld_img_grid_arr, \n",
    "               pop_img_grid_arr,\n",
    "               elv_img_grid_arr,\n",
    "               pop_vals,\n",
    "               elv_vals\n",
    "              )\n",
    "initializeZombies(grid, z_loc[0], z_loc[1], rize_p)\n",
    "run(grid, 50)"
   ]
  },
  {
   "cell_type": "code",
   "execution_count": 148,
   "metadata": {},
   "outputs": [
    {
     "name": "stdout",
     "output_type": "stream",
     "text": [
      "[[0, 0, 0, 0, 0],\n",
      " [0, 0, 0, 0, 20],\n",
      " [0, 0, 20, 78, 157],\n",
      " [39, 78, 137, 216, 255],\n",
      " [196, 176, 255, 392, 804]]\n",
      "[[0, 0, 0, 0, 65],\n",
      " [0, 0, 0, 362, 763],\n",
      " [13, 815, 0, 530, 297],\n",
      " [543, 1022, 362, 78, 297],\n",
      " [129, 284, 181, 78, 220]]\n",
      "[[0, 0, 0, 0, 0],\n",
      " [0, 0, 0, 0, 0],\n",
      " [0, 0, 94800, 0, 0],\n",
      " [0, 0, 0, 0, 0],\n",
      " [0, 0, 0, 0, 0]]\n",
      " ------   D-0 Z=94790 H=5869   ------ \n",
      "[[0, 0, 0, 0, 0],\n",
      " [0, 0, 0, 0, 127],\n",
      " [0, 0, 255, 127, 127],\n",
      " [127, 127, 127, 127, 127],\n",
      " [127, 127, 127, 127, 127]]\n",
      "[[0, 0, 0, 0, 0],\n",
      " [0, 0, 0, 0, 20],\n",
      " [0, 0, 20, 78, 157],\n",
      " [39, 78, 137, 216, 255],\n",
      " [196, 176, 255, 392, 804]]\n",
      "[[0, 0, 0, 0, 55],\n",
      " [0, 0, 0, 352, 753],\n",
      " [3, 805, 0, 520, 287],\n",
      " [533, 1012, 352, 68, 287],\n",
      " [119, 274, 171, 68, 210]]\n",
      "[[0, 0, 0, 0, 0],\n",
      " [0, 0, 0, 0, 0],\n",
      " [0, 0, 2275, 24665, 0],\n",
      " [0, 47876, 16458, 3516, 0],\n",
      " [0, 0, 0, 0, 0]]\n",
      " ------   D-1 Z=94780 H=5706   ------ \n",
      "[[0, 0, 0, 0, 0],\n",
      " [0, 0, 0, 0, 127],\n",
      " [0, 0, 255, 127, 127],\n",
      " [127, 127, 127, 127, 127],\n",
      " [127, 127, 127, 127, 127]]\n",
      "[[0, 0, 0, 0, 0],\n",
      " [0, 0, 0, 0, 20],\n",
      " [0, 0, 20, 78, 157],\n",
      " [39, 78, 137, 216, 255],\n",
      " [196, 176, 255, 392, 804]]\n",
      "[[0, 0, 0, 0, 45],\n",
      " [0, 0, 0, 342, 743],\n",
      " [0, 795, 0, 510, 277],\n",
      " [523, 1002, 342, 58, 277],\n",
      " [109, 264, 161, 58, 200]]\n",
      "[[0, 0, 0, 0, 0],\n",
      " [0, 0, 0, 0, 10632],\n",
      " [0, 0, 43, 6052, 4463],\n",
      " [17611, 10038, 17438, 1579, 4384],\n",
      " [3807, 10827, 6966, 612, 328]]\n",
      " ------   D-2 Z=94780 H=5546   ------ \n",
      "[[0, 0, 0, 0, 0],\n",
      " [0, 0, 0, 0, 127],\n",
      " [0, 0, 255, 127, 127],\n",
      " [127, 127, 127, 127, 127],\n",
      " [127, 127, 127, 127, 127]]\n",
      "[[0, 0, 0, 0, 0],\n",
      " [0, 0, 0, 0, 20],\n",
      " [0, 0, 20, 78, 157],\n",
      " [39, 78, 137, 216, 255],\n",
      " [196, 176, 255, 392, 804]]\n",
      "[[0, 0, 0, 0, 35],\n",
      " [0, 0, 0, 332, 733],\n",
      " [0, 785, 0, 500, 267],\n",
      " [513, 992, 332, 48, 267],\n",
      " [99, 254, 151, 48, 190]]\n",
      "[[0, 0, 0, 0, 0],\n",
      " [0, 0, 0, 0, 5042],\n",
      " [0, 0, 0, 15135, 5876],\n",
      " [7914, 32640, 7352, 1420, 2495],\n",
      " [2620, 8954, 3441, 1016, 875]]\n",
      " ------   D-3 Z=94780 H=5386   ------ \n",
      "[[0, 0, 0, 0, 0],\n",
      " [0, 0, 0, 0, 127],\n",
      " [0, 0, 255, 127, 127],\n",
      " [127, 127, 127, 127, 127],\n",
      " [127, 127, 127, 127, 127]]\n",
      "[[0, 0, 0, 0, 0],\n",
      " [0, 0, 0, 0, 20],\n",
      " [0, 0, 20, 78, 157],\n",
      " [39, 78, 137, 216, 255],\n",
      " [196, 176, 255, 392, 804]]\n",
      "[[0, 0, 0, 0, 25],\n",
      " [0, 0, 0, 322, 723],\n",
      " [0, 775, 0, 490, 257],\n",
      " [503, 982, 322, 38, 257],\n",
      " [89, 244, 141, 38, 180]]\n",
      "[[0, 0, 0, 0, 0],\n",
      " [0, 0, 0, 0, 9661],\n",
      " [0, 0, 0, 8830, 4933],\n",
      " [15555, 17843, 13624, 1177, 4541],\n",
      " [3290, 9206, 4919, 550, 651]]\n"
     ]
    }
   ],
   "source": [
    "grid = initializeGrid(vld_img_grid_arr, \n",
    "               pop_img_grid_arr,\n",
    "               elv_img_grid_arr,\n",
    "               pop_vals,\n",
    "               elv_vals\n",
    "              )\n",
    "initializeZombies(grid, z_loc[0], z_loc[1], rize_p)\n",
    "subgrid = [[grid[z_loc[0] - 2 + j][z_loc[1] - 2 + i] for i in range(5)] for j in range(5)]\n",
    "run(subgrid, 4, 0, 0 ,5)"
   ]
  },
  {
   "cell_type": "code",
   "execution_count": 69,
   "metadata": {},
   "outputs": [
    {
     "ename": "IndexError",
     "evalue": "list index out of range",
     "output_type": "error",
     "traceback": [
      "\u001b[0;31m---------------------------------------------------------------------------\u001b[0m",
      "\u001b[0;31mIndexError\u001b[0m                                Traceback (most recent call last)",
      "\u001b[0;32m<ipython-input-69-f7fbc7e4683a>\u001b[0m in \u001b[0;36m<module>\u001b[0;34m\u001b[0m\n\u001b[0;32m----> 1\u001b[0;31m \u001b[0mpp\u001b[0m\u001b[0;34m.\u001b[0m\u001b[0mpprint\u001b[0m\u001b[0;34m(\u001b[0m\u001b[0mshowMatrixVals\u001b[0m\u001b[0;34m(\u001b[0m\u001b[0msubgrid\u001b[0m\u001b[0;34m,\u001b[0m \u001b[0;34m'valid'\u001b[0m\u001b[0;34m,\u001b[0m \u001b[0;36m0\u001b[0m\u001b[0;34m,\u001b[0m \u001b[0;36m0\u001b[0m\u001b[0;34m,\u001b[0m \u001b[0;36m5\u001b[0m\u001b[0;34m)\u001b[0m\u001b[0;34m)\u001b[0m\u001b[0;34m\u001b[0m\u001b[0;34m\u001b[0m\u001b[0m\n\u001b[0m\u001b[1;32m      2\u001b[0m \u001b[0;34m\u001b[0m\u001b[0m\n\u001b[1;32m      3\u001b[0m \u001b[0;34m\u001b[0m\u001b[0m\n\u001b[1;32m      4\u001b[0m \u001b[0mc1\u001b[0m \u001b[0;34m=\u001b[0m \u001b[0mgrid\u001b[0m\u001b[0;34m[\u001b[0m\u001b[0mz_loc\u001b[0m\u001b[0;34m[\u001b[0m\u001b[0;36m0\u001b[0m\u001b[0;34m]\u001b[0m\u001b[0;34m]\u001b[0m\u001b[0;34m[\u001b[0m\u001b[0mz_loc\u001b[0m\u001b[0;34m[\u001b[0m\u001b[0;36m1\u001b[0m\u001b[0;34m]\u001b[0m\u001b[0;34m]\u001b[0m\u001b[0;34m\u001b[0m\u001b[0;34m\u001b[0m\u001b[0m\n\u001b[1;32m      5\u001b[0m \u001b[0mc2\u001b[0m \u001b[0;34m=\u001b[0m \u001b[0mgrid\u001b[0m\u001b[0;34m[\u001b[0m\u001b[0mz_loc\u001b[0m\u001b[0;34m[\u001b[0m\u001b[0;36m0\u001b[0m\u001b[0;34m]\u001b[0m \u001b[0;34m-\u001b[0m \u001b[0;36m1\u001b[0m\u001b[0;34m]\u001b[0m\u001b[0;34m[\u001b[0m\u001b[0mz_loc\u001b[0m\u001b[0;34m[\u001b[0m\u001b[0;36m1\u001b[0m\u001b[0;34m]\u001b[0m \u001b[0;34m-\u001b[0m \u001b[0;36m1\u001b[0m\u001b[0;34m]\u001b[0m\u001b[0;34m\u001b[0m\u001b[0;34m\u001b[0m\u001b[0m\n",
      "\u001b[0;32m<ipython-input-12-8cf7e29c1192>\u001b[0m in \u001b[0;36mshowMatrixVals\u001b[0;34m(m, key, corner_i, corner_j, around)\u001b[0m\n\u001b[1;32m      3\u001b[0m     \u001b[0;32mfor\u001b[0m \u001b[0mr\u001b[0m \u001b[0;32min\u001b[0m \u001b[0mrange\u001b[0m\u001b[0;34m(\u001b[0m\u001b[0maround\u001b[0m\u001b[0;34m)\u001b[0m\u001b[0;34m:\u001b[0m\u001b[0;34m\u001b[0m\u001b[0;34m\u001b[0m\u001b[0m\n\u001b[1;32m      4\u001b[0m         \u001b[0;32mfor\u001b[0m \u001b[0mc\u001b[0m \u001b[0;32min\u001b[0m \u001b[0mrange\u001b[0m\u001b[0;34m(\u001b[0m\u001b[0maround\u001b[0m\u001b[0;34m)\u001b[0m\u001b[0;34m:\u001b[0m\u001b[0;34m\u001b[0m\u001b[0;34m\u001b[0m\u001b[0m\n\u001b[0;32m----> 5\u001b[0;31m             \u001b[0mnew_m\u001b[0m\u001b[0;34m[\u001b[0m\u001b[0mr\u001b[0m\u001b[0;34m]\u001b[0m\u001b[0;34m[\u001b[0m\u001b[0mc\u001b[0m\u001b[0;34m]\u001b[0m \u001b[0;34m=\u001b[0m \u001b[0mm\u001b[0m\u001b[0;34m[\u001b[0m\u001b[0mcorner_i\u001b[0m \u001b[0;34m+\u001b[0m \u001b[0mr\u001b[0m\u001b[0;34m]\u001b[0m\u001b[0;34m[\u001b[0m\u001b[0mcorner_j\u001b[0m \u001b[0;34m+\u001b[0m \u001b[0mc\u001b[0m\u001b[0;34m]\u001b[0m\u001b[0;34m[\u001b[0m\u001b[0mkey\u001b[0m\u001b[0;34m]\u001b[0m\u001b[0;34m\u001b[0m\u001b[0;34m\u001b[0m\u001b[0m\n\u001b[0m\u001b[1;32m      6\u001b[0m     \u001b[0;32mreturn\u001b[0m \u001b[0mnew_m\u001b[0m\u001b[0;34m\u001b[0m\u001b[0;34m\u001b[0m\u001b[0m\n",
      "\u001b[0;31mIndexError\u001b[0m: list index out of range"
     ]
    }
   ],
   "source": [
    "pp.pprint(showMatrixVals(subgrid, 'valid', 0, 0, 5))\n",
    "pp.pprint(showMatrixVals(subgrid, 'hum', 0, 0, 5))\n",
    "\n",
    "c1 = grid[z_loc[0]][z_loc[1]]\n",
    "c2 = grid[z_loc[0] - 1][z_loc[1] - 1]\n",
    "g = getGeoSlope(c1, c2)\n",
    "\n",
    "g2 = getGeoSlopeFactor(c1, c2)\n",
    "print(f'g{g}, g2{g2}')"
   ]
  },
  {
   "cell_type": "code",
   "execution_count": 128,
   "metadata": {},
   "outputs": [
    {
     "name": "stdout",
     "output_type": "stream",
     "text": [
      "21213.203435596424\n",
      "0.009239265698206961\n",
      "0.5293709303072507\n"
     ]
    },
    {
     "data": {
      "text/plain": [
       "0.947062906969275"
      ]
     },
     "execution_count": 128,
     "metadata": {},
     "output_type": "execute_result"
    }
   ],
   "source": [
    "diff = 216 - 20\n",
    "print(dist_dia)\n",
    "print(math.atan2(diff, dist_dia))\n",
    "print(math.degrees(math.atan2(diff, dist_dia)))\n",
    "1 - (math.degrees(math.atan2(diff, dist_dia)) / 10)"
   ]
  }
 ],
 "metadata": {
  "kernelspec": {
   "display_name": "Python 3",
   "language": "python",
   "name": "python3"
  },
  "language_info": {
   "codemirror_mode": {
    "name": "ipython",
    "version": 3
   },
   "file_extension": ".py",
   "mimetype": "text/x-python",
   "name": "python",
   "nbconvert_exporter": "python",
   "pygments_lexer": "ipython3",
   "version": "3.6.7"
  }
 },
 "nbformat": 4,
 "nbformat_minor": 2
}
