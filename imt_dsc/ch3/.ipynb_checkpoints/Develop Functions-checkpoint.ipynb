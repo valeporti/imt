{
 "cells": [
  {
   "cell_type": "code",
   "execution_count": 119,
   "metadata": {},
   "outputs": [],
   "source": [
    "import numpy as np\n",
    "import random\n",
    "import math\n",
    "import copy"
   ]
  },
  {
   "cell_type": "code",
   "execution_count": 33,
   "metadata": {},
   "outputs": [],
   "source": [
    "max_age = 15"
   ]
  },
  {
   "cell_type": "code",
   "execution_count": 120,
   "metadata": {},
   "outputs": [],
   "source": [
    "cell_ = {'i': None, 'j': None, 'elev': None, 'hum': 0, 'zom': [0] * max_age }\n",
    "\n",
    "def initializeCell():\n",
    "    return copy.deepcopy(cell_)"
   ]
  },
  {
   "cell_type": "code",
   "execution_count": 94,
   "metadata": {},
   "outputs": [],
   "source": [
    "# Determine the killed humans and update its cell value\n",
    "def zombiesKillHumans(cell):\n",
    "    h = cell['hum']\n",
    "    z = sum(cell['zom'])\n",
    "    killed_h = 10 * z\n",
    "    remaining_h = h - killed_h if h > killed_h else 0\n",
    "    cell['hum'] = remaining_h"
   ]
  },
  {
   "cell_type": "code",
   "execution_count": 103,
   "metadata": {},
   "outputs": [
    {
     "name": "stdout",
     "output_type": "stream",
     "text": [
      "150\n",
      "50\n"
     ]
    }
   ],
   "source": [
    "# Determine the killed zombies and update its cell value\n",
    "def humanKillZombies(cell):\n",
    "    h = cell['hum']\n",
    "    z = sum(cell['zom'])\n",
    "    killed_z = 10 * h\n",
    "    # assign randomly to the list the killings\n",
    "    for k in range(killed_z):\n",
    "        remaining_ages = [a for a in range(max_age) if cell['zom'][a] > 0]\n",
    "        index = random.randint(0, len(remaining_ages) - 1)\n",
    "        age = remaining_ages[index]\n",
    "        cell['zom'][age] -= 1 \n",
    "        \n",
    "\"\"\"\n",
    "cell_test = initializeCell()\n",
    "cell_test['hum'] = 10\n",
    "for z in range(len(cell_test['zom'])):\n",
    "    cell_test['zom'][z] = 10\n",
    "\n",
    "print(sum(cell_test['zom']))\n",
    "humanKillZombies(cell_test)\n",
    "print(sum(cell_test['zom']))\n",
    "\"\"\""
   ]
  },
  {
   "cell_type": "code",
   "execution_count": 62,
   "metadata": {},
   "outputs": [
    {
     "name": "stdout",
     "output_type": "stream",
     "text": [
      "21.213203435596427\n"
     ]
    }
   ],
   "source": [
    "# \"consider cells of 15 × 15 pixels\" AND \"1 pixel = 1 km 2\"\n",
    "len_cell = 15 #km\n",
    "len_diag = math.sqrt(pow(len_cell, 2) * 2) #km\n",
    "dist_lin = len_cell\n",
    "dist_dia = len_diag\n",
    "\n",
    "def getGeoSlope(cell, to_cell):\n",
    "    # (i == to_i or j == to_j) means they are vertical or horizontal\n",
    "    dist = dist_lin if (cell['i'] == to_cell['i'] or cell['j'] == to_cell['j']) else dist_dia\n",
    "    diff = to_cell['elev'] - cell['elev']\n",
    "    return math.degrees(math.atan2(diff, dist))\n",
    "\n",
    "def getGeoSlopeFactor(cell, to_cell):\n",
    "    slope = getGeoSlope(cell, to_cell)\n",
    "    if slope < 0: \n",
    "        return 1 # zombies don't have any issue\n",
    "    elif slope > 10:\n",
    "        return 0 # zombies don't climb\n",
    "    else:\n",
    "        # then, between 0 and 10\n",
    "        return slope / 10 # zombies have certain difficulties"
   ]
  },
  {
   "cell_type": "code",
   "execution_count": 72,
   "metadata": {},
   "outputs": [
    {
     "data": {
      "text/plain": [
       "0.017455064928217585"
      ]
     },
     "execution_count": 72,
     "metadata": {},
     "output_type": "execute_result"
    }
   ],
   "source": [
    "s1 = 10\n",
    "s2 = 10\n",
    "s3 = math.sqrt(pow(s1, 2) * 2)\n",
    "beta = math.acos(())"
   ]
  },
  {
   "cell_type": "code",
   "execution_count": 77,
   "metadata": {},
   "outputs": [
    {
     "data": {
      "text/plain": [
       "-45.0"
      ]
     },
     "execution_count": 77,
     "metadata": {},
     "output_type": "execute_result"
    }
   ],
   "source": [
    "math.degrees(math.atan2(-10, 10))"
   ]
  },
  {
   "cell_type": "code",
   "execution_count": null,
   "metadata": {},
   "outputs": [],
   "source": [
    "def zombiesMove(cell, neighbor_cells_list):\n",
    "    # thinking that the zombies will all go even if there are still humans\n",
    "    \n",
    "    # today\n",
    "    neighbor_humans = []\n",
    "    for c in range(8): # 8 cells\n",
    "        neighbor_humans.append(neighbor_cells_list['hum'])\n",
    "    h_neigh = sum(neighbor_humans)\n",
    "    elev_c0 = cell['elev'] \n",
    "    \n",
    "    # tomorrow\n",
    "    autoDestroyZombies(cell) # prepare zombies list for \"tomorrow\"\n",
    "    z_c0 = sum(cell['zom'])\n",
    "    for c in range(8): # 8 cells\n",
    "        z = sum(neighbor_cells_list[c]['zom'])\n",
    "        h = neighbor_cells_list[c]['hum']\n",
    "        geo_slope_fact = getGeoSlopeFactor(cell, neighbor_cells_list[c]) # (from, to)\n",
    "        z_new = z + (h / h_neigh) * z_c0 * geo_slope_fact\n",
    "                "
   ]
  },
  {
   "cell_type": "code",
   "execution_count": 125,
   "metadata": {},
   "outputs": [],
   "source": [
    "def autoDestroyZombies(cell):\n",
    "    #cell['zom'][-1] = 0 # last cell equals 0, (autodestroyed zombies)\n",
    "    cell['zom'].pop() # remove last element\n",
    "    cell['zom'].insert(0, 0) # insert new\n",
    "    \n",
    "def assignZombiesByAge(cell, new_cell, n):\n",
    "    for i in range(n):\n",
    "        remaining_ages = [a for a in range(max_age) if cell['zom'][a] > 0]\n",
    "        index = random.randint(0, len(remaining_ages) - 1)\n",
    "        age = remaining_ages[index]\n",
    "        cell['zom'][age] -= 1\n",
    "        new_cell['zom'][age] += 1\n",
    "    print(cell['zom'])\n",
    "    print(new_cell['zom'])"
   ]
  },
  {
   "cell_type": "code",
   "execution_count": 127,
   "metadata": {},
   "outputs": [
    {
     "name": "stdout",
     "output_type": "stream",
     "text": [
      "150\n",
      "150\n",
      "[10, 9, 8, 10, 10, 10, 10, 10, 9, 10, 10, 9, 10, 10, 10]\n",
      "[10, 11, 12, 10, 10, 10, 10, 10, 11, 10, 10, 11, 10, 10, 10]\n",
      "145\n",
      "155\n"
     ]
    }
   ],
   "source": [
    "cell_test = initializeCell()\n",
    "cell_test2 = initializeCell()\n",
    "for z in range(len(cell_test['zom'])):\n",
    "    cell_test['zom'][z] = 10\n",
    "    cell_test2['zom'][z] = 10\n",
    "print(sum(cell_test['zom']))\n",
    "print(sum(cell_test2['zom']))\n",
    "assignZombiesByAge(cell_test, cell_test2, 5)\n",
    "print(sum(cell_test['zom']))\n",
    "print(sum(cell_test2['zom']))"
   ]
  },
  {
   "cell_type": "code",
   "execution_count": 60,
   "metadata": {},
   "outputs": [],
   "source": [
    "# If still humans in the place where zombies are, this will move inspite humans in cell?\n",
    "# In the borders, the zombies do what? we don't have any info about humans and elevation\n",
    "# Before moving the zombies we have to eliminiate the autoditroyed\n",
    "# Zombies are 14 or 15 days old??: 15 not included?\n",
    "# ... (whether a zombie is 1 day old or 14 days old, it has the same chances of being killed)\n",
    "# ... Notice that zombies are active for 15 days, after that they are auto-destroyed."
   ]
  },
  {
   "cell_type": "code",
   "execution_count": 78,
   "metadata": {},
   "outputs": [
    {
     "name": "stdout",
     "output_type": "stream",
     "text": [
      "{'h': 2}\n",
      "{'h': 3}\n"
     ]
    }
   ],
   "source": [
    "obj1 = {'h': 1}\n",
    "obj2 = {'h': 2}\n",
    "\n",
    "def rename(ob):\n",
    "    for c in range(len(ob)):\n",
    "        ob[c]['h'] += 1\n",
    "\n",
    "rename([obj1, obj2])\n",
    "\n",
    "print(obj1)\n",
    "print(obj2)"
   ]
  }
 ],
 "metadata": {
  "kernelspec": {
   "display_name": "Python 3",
   "language": "python",
   "name": "python3"
  },
  "language_info": {
   "codemirror_mode": {
    "name": "ipython",
    "version": 3
   },
   "file_extension": ".py",
   "mimetype": "text/x-python",
   "name": "python",
   "nbconvert_exporter": "python",
   "pygments_lexer": "ipython3",
   "version": "3.6.7"
  }
 },
 "nbformat": 4,
 "nbformat_minor": 2
}
