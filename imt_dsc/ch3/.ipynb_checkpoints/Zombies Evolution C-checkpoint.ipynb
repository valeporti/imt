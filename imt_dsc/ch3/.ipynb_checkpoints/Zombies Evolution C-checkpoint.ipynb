{
 "cells": [
  {
   "cell_type": "code",
   "execution_count": null,
   "metadata": {},
   "outputs": [],
   "source": [
    "%matplotlib notebook"
   ]
  },
  {
   "cell_type": "code",
   "execution_count": null,
   "metadata": {},
   "outputs": [],
   "source": [
    "import numpy as np\n",
    "import random\n",
    "import math\n",
    "import copy\n",
    "import pprint as pp\n",
    "from PIL import Image\n",
    "import matplotlib.pyplot as plt\n",
    "from operator import itemgetter, attrgetter\n",
    "import networkx as nx\n",
    "\n",
    "# Note: Rize pop 94 800 inhabitants"
   ]
  },
  {
   "cell_type": "code",
   "execution_count": null,
   "metadata": {},
   "outputs": [],
   "source": [
    "img_dir = \"./img/\"\n",
    "pop_img_grid = Image.open(img_dir + 'pop_grid.bmp')\n",
    "elv_img_grid = Image.open(img_dir + 'elev_grid.bmp')\n",
    "pop_img = Image.open(img_dir + 'pop.bmp')\n",
    "elv_img = Image.open(img_dir + 'elev.bmp')\n",
    "vld_img_grid = Image.open(img_dir + 'valid_space.bmp')\n",
    "pop_img_grid_arr = np.array(pop_img_grid)\n",
    "elv_img_grid_arr = np.array(elv_img_grid)\n",
    "vld_img_grid_arr = np.array(vld_img_grid)\n",
    "z_loc = (140, 295) # (x, y)\n",
    "brest = (87, 44)\n",
    "rize_p = math.ceil(94800 / 225) # math.ceil(94800 / 225) ? => because we divide it as cells average"
   ]
  },
  {
   "cell_type": "code",
   "execution_count": null,
   "metadata": {},
   "outputs": [],
   "source": [
    "elv_vals = []\n",
    "pop_vals = []\n",
    "\n",
    "for i in range(256):\n",
    "    # in meters avg\n",
    "    if i==0: elv_vals.append(0)\n",
    "    elif i<52: elv_vals.append(round(i*1000/51))\n",
    "    elif i<64: elv_vals.append(round((i-51)*3800/(64-52) + 1000))\n",
    "    \n",
    "    if i<24: pop_vals.append(0)\n",
    "    else: pop_vals.append(round((i-23)*3000/(255-23)))"
   ]
  },
  {
   "cell_type": "code",
   "execution_count": null,
   "metadata": {},
   "outputs": [],
   "source": [
    "max_age = 15"
   ]
  },
  {
   "cell_type": "code",
   "execution_count": null,
   "metadata": {},
   "outputs": [],
   "source": [
    "cell_ = {\n",
    "    'i': None,\n",
    "    'j': None,\n",
    "    'elev': None, \n",
    "    'hum': 0, \n",
    "    'valid': None,\n",
    "    'z_1': [0] * max_age, \n",
    "    'z_0': [0] * max_age \n",
    "}\n",
    "\n",
    "def initializeCell():\n",
    "    return copy.deepcopy(cell_)"
   ]
  },
  {
   "cell_type": "code",
   "execution_count": null,
   "metadata": {},
   "outputs": [],
   "source": [
    "# Determine the killed humans and update its cell value\n",
    "def zombiesKillHumans(cell, layer):\n",
    "    h = cell['hum']\n",
    "    z = sum(cell['z_' + str(int(layer))])\n",
    "    killed_h = 10 * z \n",
    "    remaining_h = h - killed_h if h > killed_h else 0\n",
    "    cell['hum'] = remaining_h # kill humans \n",
    "    cell['z_' + str(int(layer))][0] = h - remaining_h # add them to new zombies\n",
    "    return remaining_h"
   ]
  },
  {
   "cell_type": "code",
   "execution_count": null,
   "metadata": {},
   "outputs": [],
   "source": [
    "# Determine the killed zombies and update its cell value\n",
    "def humanKillZombies(cell, layer):\n",
    "    h = cell['hum']\n",
    "    z = sum(cell['z_' + str(int(layer))])\n",
    "    killed_z = 10 * h\n",
    "    # assign randomly to the list the killings\n",
    "    for k in range(killed_z):\n",
    "        remaining_ages = [a for a in range(max_age) if cell['z_' + str(int(layer))][a] > 0]\n",
    "        index = 0\n",
    "        if len(remaining_ages) == 0:\n",
    "            break\n",
    "        elif len(remaining_ages) > 1:\n",
    "            index = random.randint(0, len(remaining_ages) - 1)\n",
    "        age = remaining_ages[index]\n",
    "        cell['z_' + str(int(layer))][age] -= 1 \n",
    "    return sum(cell['z_' + str(int(layer))]) # get remaining zombies"
   ]
  },
  {
   "cell_type": "code",
   "execution_count": null,
   "metadata": {},
   "outputs": [],
   "source": [
    "# \"consider cells of 15 × 15 pixels\" AND \"1 pixel = 1 km 2\"\n",
    "len_cell = 15000 #m\n",
    "len_diag = math.sqrt(pow(len_cell, 2) * 2) #m\n",
    "dist_lin = len_cell\n",
    "dist_dia = len_diag\n",
    "\n",
    "def getGeoSlope(cell, to_cell):\n",
    "    dist = dist_lin if (cell['i'] == to_cell['i'] or cell['j'] == to_cell['j']) else dist_dia\n",
    "    diff = to_cell['elev'] - cell['elev']\n",
    "    return math.degrees(math.atan2(diff, dist))\n",
    "\n",
    "def getGeoSlopeFactor(cell, to_cell):\n",
    "    slope = getGeoSlope(cell, to_cell)\n",
    "    if slope <= 0: \n",
    "        return 1 # zombies don't have any issue\n",
    "    elif slope >= 10:\n",
    "        return 0 # zombies don't climb\n",
    "    else: # then, between 0 and 10\n",
    "        return 1 - (slope / 10) # zombies have certain difficulties"
   ]
  },
  {
   "cell_type": "code",
   "execution_count": null,
   "metadata": {},
   "outputs": [],
   "source": [
    "# Define how zombies will move, \n",
    "# will iterate for all neighboring cells of cell\n",
    "# need layer in order to handle 2 days shift\n",
    "# G is optional in order to add to the graph edges according to a weight obtained from \"tastiness\"\n",
    "def zombiesMove(cell, neighbor_cells_list, layer, G):\n",
    "    \"\"\" \n",
    "    1) thinking that the zombies will all go even if there are still humans\n",
    "    2) We're assuming, also, that not all zombies should be moved (ex: slope constraint would encourage some to stay)\n",
    "    \"\"\"\n",
    "    taken_brest = False\n",
    "    \n",
    "    # today\n",
    "    neighbor_humans = remaining_c = []\n",
    "    for c in range(len(neighbor_cells_list)): # 8 cells max\n",
    "        neighbor_humans.append(neighbor_cells_list[c]['hum'])\n",
    "    h_neigh = sum(neighbor_humans)\n",
    "    elev_c0 = cell['elev'] \n",
    "\n",
    "    # tomorrow\n",
    "    autoDestroyZombies(cell, layer) # prepare zombies list for \"tomorrow\"\n",
    "    z_c0 = sum(cell['z_' + str(int(layer))]) # zombies able to attack are just survivals aged < 15 \n",
    "    if z_c0 == 0: return taken_brest\n",
    "    #print(f'z-co: {z_c0}')\n",
    "    remaining_c = [i for i in range(len(neighbor_cells_list))]\n",
    "    random.shuffle(remaining_c)\n",
    "    for c in range(len(neighbor_cells_list)): # 8 cells max\n",
    "        c_rand = remaining_c[-1]\n",
    "        target_cell = neighbor_cells_list[c_rand]\n",
    "        h = target_cell['hum']\n",
    "        geo_slope_fact = getGeoSlopeFactor(cell, target_cell) # (from, to)\n",
    "        z_new = getZombiesContribution(target_cell, h_neigh, z_c0, geo_slope_fact)\n",
    "        #if layer == True : print(\"second\")\n",
    "        #if z_new > 0: print(f'z_new: {z_new}, c: {c_rand}, neigh: {len(neighbor_cells_list)}, rem: {len(remaining_c)}{remaining_c}, slope: {round(geo_slope_fact, 2)}|{cell[\"elev\"]}|{neighbor_cells_list[c_rand][\"elev\"]}')\n",
    "        # Detect Zombies in Brest\n",
    "        if z_new > 0 and target_cell['i'] == brest[0] and target_cell['j'] == brest[1]: taken_brest = True;print(\"BREST HAS BEEN TAKEN\")\n",
    "        assignZombiesByAge(cell, target_cell, z_new, layer)\n",
    "        remaining_c.pop()\n",
    "        \n",
    "        # Graph add\n",
    "        if G != None:\n",
    "            if G.has_edge(f'{cell[\"i\"]}_{cell[\"j\"]}', f'{target_cell[\"i\"]}_{target_cell[\"j\"]}'): continue\n",
    "            div = z_new / z_c0\n",
    "            w = 0\n",
    "            if div > 0 and div <= 1: w = div\n",
    "            elif div > 1: w = 0\n",
    "            else: w = 0.99\n",
    "            G.add_edge(f'{cell[\"i\"]}_{cell[\"j\"]}', f'{target_cell[\"i\"]}_{target_cell[\"j\"]}', weight=(1 - w))\n",
    "    \n",
    "    for a in range(max_age): # assign remaining to next layer and reinitialize old layer\n",
    "        cell['z_' + str(int(not layer))][a] += cell['z_' + str(int(layer))][a] \n",
    "        cell['z_' + str(int(layer))][a] = 0\n",
    "    \n",
    "    return taken_brest"
   ]
  },
  {
   "cell_type": "code",
   "execution_count": null,
   "metadata": {},
   "outputs": [],
   "source": [
    "# See how many zombies should be moved\n",
    "def getZombiesContribution(cell, h_neigh, z_c0, geo_slope_fact):\n",
    "    h = cell['hum']\n",
    "    if h_neigh == 0:\n",
    "        return 0\n",
    "    elif h_neigh > 0:\n",
    "        return math.ceil((h / h_neigh) * z_c0 * geo_slope_fact)\n",
    "    else:\n",
    "        print(\"Error in Zombies contribution: z < 0 ?\")"
   ]
  },
  {
   "cell_type": "code",
   "execution_count": null,
   "metadata": {},
   "outputs": [],
   "source": [
    "# We need to kill old zombies\n",
    "def autoDestroyZombies(cell, layer):\n",
    "    cell['z_' + str(int(layer))].pop() # remove old zombies (last place)\n",
    "    cell['z_' + str(int(layer))].insert(0, 0) # insert space for eaten humans (first place)\n",
    "    \n",
    "# Assign zombies to its new location by age\n",
    "def assignZombiesByAge(cell, new_cell, n, layer):\n",
    "    for i in range(n):\n",
    "        remaining_ages = [a for a in range(max_age) if cell['z_' + str(int(layer))][a] > 0]\n",
    "        index = 0\n",
    "        if len(remaining_ages) == 0:\n",
    "            return\n",
    "        elif len(remaining_ages) > 1:\n",
    "            index = random.randint(0, len(remaining_ages) - 1)        \n",
    "        age = remaining_ages[index]\n",
    "        cell['z_' + str(int(layer))][age] -= 1\n",
    "        new_cell['z_' + str(int(not layer))][age] += 1"
   ]
  },
  {
   "cell_type": "code",
   "execution_count": null,
   "metadata": {},
   "outputs": [],
   "source": [
    "# Helper for visualisation\n",
    "def showMatrixVals(m, key, corner_i, corner_j, around):\n",
    "    new_m = [[0 for r in range(around)] for c in range(around)]\n",
    "    for r in range(around):\n",
    "        for c in range(around):\n",
    "            new_m[r][c] = m[corner_i + r][corner_j + c][key]\n",
    "    return new_m"
   ]
  },
  {
   "cell_type": "code",
   "execution_count": null,
   "metadata": {},
   "outputs": [],
   "source": [
    "# Get Neighbors for zombie moves according to rules\n",
    "def getNeigborCellList(i, j, m):\n",
    "    n = []\n",
    "    for i_sub in range(3): # Rows\n",
    "        for j_sub in range(3): # Cols\n",
    "            if i_sub == 1 and j_sub == 1: continue \n",
    "            if isCellCandidateForMove(i, i_sub, j, j_sub, m): \n",
    "                try:\n",
    "                    n.append(m[i + i_sub - 1][j + j_sub - 1])\n",
    "                except:\n",
    "                    print(f'cell[{i + i_sub - 1}][{j + j_sub - 1}]')\n",
    "    return n"
   ]
  },
  {
   "cell_type": "code",
   "execution_count": null,
   "metadata": {},
   "outputs": [],
   "source": [
    "def isCellCandidateForMove(i, i_sub, j, j_sub, m):\n",
    "    # i: Rows, j: Columns\n",
    "    ip = i + i_sub - 1\n",
    "    jp = j + j_sub - 1\n",
    "    if ip < 0 or jp < 0 : return False\n",
    "    i_len = len(m) # how many rows\n",
    "    j_len = len(m[i]) # how many columns\n",
    "    if ip >= i_len or jp >= j_len: return False\n",
    "    # DETECT BORDERS OR CELLS NOT DESIRED\n",
    "    if (m[i + i_sub - 1][j + j_sub - 1]['valid'] < 2): return False\n",
    "    return True"
   ]
  },
  {
   "cell_type": "code",
   "execution_count": null,
   "metadata": {},
   "outputs": [],
   "source": [
    "# Run the 3 steps of one day attack\n",
    "def runOneMoreDay(m, layer, G):\n",
    "    z = h = 0\n",
    "    taken_brest = False\n",
    "    # STEP 1 (Zombies move)\n",
    "    for lon in range(len(m)):\n",
    "        for lat in range(len(m[lon])):\n",
    "            neighbor_cells = getNeigborCellList(lon, lat, m)\n",
    "            b = zombiesMove(m[lon][lat], neighbor_cells, layer, G)\n",
    "            if b: taken_brest =True\n",
    "    # STEP 2 (Zombies Kill)\n",
    "    for lon in range(len(m)):\n",
    "        for lat in range(len(m[lon])):\n",
    "            h += zombiesKillHumans(m[lon][lat], not layer) # layer, from recently moved zombies\n",
    "    # STEP 3 (Humans kill)\n",
    "    for lon in range(len(m)):\n",
    "        for lat in range(len(m[lon])):\n",
    "            z += humanKillZombies(m[lon][lat], not layer) # layer, from recently moved zombies\n",
    "    return {'z': z, 'h': h, 'b': taken_brest}"
   ]
  },
  {
   "cell_type": "code",
   "execution_count": null,
   "metadata": {},
   "outputs": [],
   "source": [
    "# Initialize grid\n",
    "def initializeGrid(vld_grid, pop_grid, elv_grid, pop_vals, elv_vals):\n",
    "    m = [[initializeCell() for i in range(len(arr))] for j, arr in enumerate(vld_grid)]\n",
    "    for r, arr in enumerate(vld_grid):\n",
    "        for c, val in enumerate(arr):\n",
    "            cell = m[r][c]\n",
    "            pop_index = pop_grid[r][c]\n",
    "            elv_index = elv_grid[r][c]\n",
    "            cell['elev'] = elv_vals[elv_index]\n",
    "            cell['hum'] = pop_vals[pop_index]\n",
    "            cell['valid'] = vld_grid[r][c]\n",
    "            cell['i'] = r\n",
    "            cell['j'] = c\n",
    "    return m"
   ]
  },
  {
   "cell_type": "code",
   "execution_count": null,
   "metadata": {},
   "outputs": [],
   "source": [
    "def rgb_int2tuple(rgbint):\n",
    "    return (rgbint // 256 // 256 % 256, rgbint // 256 % 256, rgbint % 256)\n",
    "\n",
    "# Print image to track easier movements\n",
    "def printImageFromGrid(grid, n):\n",
    "    RGB = [0,0,0]\n",
    "    m = [[RGB for i in range(len(arr))] for j, arr in enumerate(grid)]\n",
    "    for r, arr in enumerate(grid):\n",
    "        for c, cell in enumerate(arr):\n",
    "            p = int((normalize(cell['hum'], pop_vals[0], pop_vals[-1])) * 255)\n",
    "            z = int((normalize(sum(cell['z_0'] + cell['z_1']), elv_vals[0], elv_vals[-1])) * 255)\n",
    "            m[r][c] = [p, z, 0]\n",
    "            if cell['valid'] == 1: m[r][c] = [0, 0, 255]\n",
    "\n",
    "    np_m = np.array(m)\n",
    "    im = Image.fromarray(np.uint8(np_m))\n",
    "    im.save('./out/' + str(n) + '.png')\n",
    "    return np_m"
   ]
  },
  {
   "cell_type": "code",
   "execution_count": null,
   "metadata": {},
   "outputs": [],
   "source": [
    "def normalize(v, mx, mn):\n",
    "    return (v - mn)/(mx - mn)"
   ]
  },
  {
   "cell_type": "code",
   "execution_count": null,
   "metadata": {},
   "outputs": [],
   "source": [
    "def initializeZombies(grid, r, c, z):\n",
    "    grid[r][c]['hum'] = 0\n",
    "    grid[r][c]['z_' + str(0)][0] = z"
   ]
  },
  {
   "cell_type": "code",
   "execution_count": null,
   "metadata": {},
   "outputs": [],
   "source": [
    "# Helpers, for visualiztion\n",
    "def showMatrixZ(m):\n",
    "    new = [[] for i in range(len(m))]\n",
    "    for r, row in enumerate(m):\n",
    "        for arr in row:\n",
    "            new[r].append(sum(arr))\n",
    "    return new"
   ]
  },
  {
   "cell_type": "code",
   "execution_count": null,
   "metadata": {},
   "outputs": [],
   "source": [
    "# Get a \"photo\" of the grid's state: zombies in cells\n",
    "def getStateOfGrid(m, layer):\n",
    "    mz = [[0 for i in range(len(arr))] for j, arr in enumerate(m)]\n",
    "    mh = [[0 for i in range(len(arr))] for j, arr in enumerate(m)]\n",
    "    state = {}\n",
    "    for lon in range(len(m)):\n",
    "        for lat in range(len(m[lon])):\n",
    "            z = sum(m[lon][lat]['z_' + str(int(layer))])\n",
    "            h = m[lon][lat]['hum']\n",
    "            if z > 0: \n",
    "                state[f'{lon}_{lat}'] = z\n",
    "                mz[lon][lat] = z\n",
    "            if h > 0: mh[lon][lat] = h\n",
    "            \n",
    "    return {'state': state, 'mz': mz} #, 'mh': mh}"
   ]
  },
  {
   "cell_type": "code",
   "execution_count": null,
   "metadata": {},
   "outputs": [],
   "source": [
    "# Run the algorithm of zombies attack, expecting days of moves to be passed\n",
    "# Print image is optional, Graph + From day + To day to obtain graph are optional\n",
    "# rest of arguments are for visualization\n",
    "hist = {}\n",
    "grid_state = []\n",
    "def run(grid, d, imgPrint = True, G = None, Gf = 0, Gt = 0, i_c = None, j_c = None, t = None):\n",
    "    hist['h'] = []\n",
    "    hist['z'] = []\n",
    "    hist['b'] = -1\n",
    "    layer = False\n",
    "    if not (i_c == None or j_c == None or t == None):\n",
    "        pp.pprint(showMatrixVals(grid, 'elev', i_c, j_c, t))\n",
    "        pp.pprint(showMatrixVals(grid, 'hum', i_c, j_c, t))\n",
    "        pp.pprint(showMatrixZ(showMatrixVals(grid, 'z_' + str(int(layer)), i_c, j_c, t)))\n",
    "    \n",
    "    for day in range(d):\n",
    "        vals = runOneMoreDay(grid, layer, G if Gf < day and day < Gt else None)\n",
    "        hist['h'].append(vals['h'])\n",
    "        hist['z'].append(vals['z'])\n",
    "        if vals['b']: hist['b'] = day\n",
    "        layer = not layer # change layer\n",
    "        print(f' ------   D-{day+1} Z={vals[\"z\"]} H={vals[\"h\"]}   ------ ')\n",
    "        if not (i_c == None or j_c == None or t == None):\n",
    "            pp.pprint(showMatrixVals(grid, 'valid', i_c, j_c, t))\n",
    "            pp.pprint(showMatrixVals(grid, 'elev', i_c, j_c, t))\n",
    "            pp.pprint(showMatrixVals(grid, 'hum', i_c, j_c, t))\n",
    "            pp.pprint(showMatrixZ(showMatrixVals(grid, 'z_' + str(int(layer)), i_c, j_c, t)))\n",
    "        else:\n",
    "            if imgPrint: printImageFromGrid(grid, day)\n",
    "        \n",
    "        \"\"\"# 2 months later (60 days), state\n",
    "        if day + 1 == 60: # CHANGE\n",
    "            grid_state.append(getStateOfGrid(grid, layer))\n",
    "        # 4 months later (120 days), state\n",
    "        if day + 1 == 120:\n",
    "            grid_state.append(getStateOfGrid(grid, layer))\"\"\""
   ]
  },
  {
   "cell_type": "code",
   "execution_count": null,
   "metadata": {
    "scrolled": true
   },
   "outputs": [],
   "source": [
    "grid = initializeGrid(vld_img_grid_arr, \n",
    "               pop_img_grid_arr,\n",
    "               elv_img_grid_arr,\n",
    "               pop_vals,\n",
    "               elv_vals\n",
    "              )\n",
    "initializeZombies(grid, z_loc[0], z_loc[1], rize_p)\n",
    "grid_state = []\n",
    "run(grid, 60, False)"
   ]
  },
  {
   "cell_type": "code",
   "execution_count": null,
   "metadata": {},
   "outputs": [],
   "source": [
    "def plotEvolution(h, name):\n",
    "    z = h['z']\n",
    "    h = h['h']\n",
    "    #b = h['b']\n",
    "    days = range(1, len(z) + 1)\n",
    "    \n",
    "    plt.plot(days, z, 'tab:red', label='Zombies')\n",
    "    plt.plot(days, h, 'tab:blue', label='Human')\n",
    "    plt.title('# of humans and zombies, same scale')\n",
    "    plt.xlabel('time (days)')\n",
    "    plt.ylabel('Quantity')\n",
    "    plt.legend()\n",
    "\n",
    "    plt.savefig(name + \"_1\")\n",
    "    plt.show()\n",
    "    \n",
    "    \n",
    "    fig, ax1 = plt.subplots()\n",
    "    \n",
    "    color = 'tab:red'\n",
    "    ax1.set_xlabel('time (days)')\n",
    "    ax1.set_ylabel('zombies', color=color)\n",
    "    ax1.plot(days, z, color=color)\n",
    "    ax1.tick_params(axis='y', labelcolor=color)\n",
    "\n",
    "    ax2 = ax1.twinx()  # instantiate a second axes that shares the same x-axis\n",
    "\n",
    "    color = 'tab:blue'\n",
    "    ax2.set_ylabel('humans', color=color)  # we already handled the x-label with ax1\n",
    "    ax2.plot(days, h, color=color)\n",
    "    ax2.tick_params(axis='y', labelcolor=color)\n",
    "\n",
    "    fig.tight_layout()  # otherwise the right y-label is slightly clipped\n",
    "    plt.title('# of humans and zombies, different scales')\n",
    "    plt.savefig(name + \"_2\")\n",
    "    plt.show()\n",
    "    "
   ]
  },
  {
   "cell_type": "code",
   "execution_count": null,
   "metadata": {},
   "outputs": [],
   "source": [
    "# Hist: \n",
    "\"\"\"\n",
    " ------   D-249 Z=465223 H=4808677   ------ \n",
    " ------   D-250 Z=453880 H=4772926   ------ \n",
    "BREST HAS BEEN TAKEN\n",
    "BREST HAS BEEN TAKEN\n",
    "BREST HAS BEEN TAKEN\n",
    " ------   D-251 Z=440894 H=4745448   ------ \n",
    " ------   D-252 Z=424940 H=4723216   ------ \n",
    "\n",
    "hist300days = {'h': [20505639, 20502897, 20499859, 20496006, 20490691, 20483187, 20474987, 20465073, 20452886, 20438337, 20422698, 20408166, 20393366, 20380696, 20366479, 20353205, 20335449, 20319877, 20299287, 20268559, 20235614, 20191345, 20143005, 20088653, 20044366, 20009048, 19979649, 19950219, 19912423, 19866938, 19822832, 19786557, 19752928, 19720081, 19683749, 19648524, 19617838, 19581071, 19541185, 19502766, 19466937, 19435127, 19410963, 19391485, 19370262, 19347861, 19319203, 19289166, 19257846, 19230681, 19204911, 19182811, 19147564, 19106710, 19056618, 18994810, 18932536, 18878398, 18831239, 18790026, 18756944, 18724936, 18692955, 18659654, 18625138, 18584891, 18542568, 18499304, 18450335, 18404264, 18357169, 18309860, 18259435, 18210430, 18163591, 18118084, 18065509, 18010120, 17957256, 17912787, 17870808, 17831623, 17793594, 17751537, 17707267, 17662936, 17617096, 17562126, 17498775, 17439396, 17386534, 17330716, 17274303, 17214135, 17146749, 17076703, 16987400, 16899436, 16821344, 16740312, 16656978, 16571697, 16484583, 16387547, 16273632, 16152286, 16026230, 15905826, 15791998, 15690264, 15589645, 15493969, 15390229, 15289728, 15195468, 15105032, 15006821, 14903898, 14809558, 14714467, 14622669, 14547637, 14477359, 14407787, 14344972, 14285449, 14214137, 14137443, 14062116, 13982013, 13899385, 13812150, 13724653, 13633822, 13536033, 13424502, 13317117, 13213036, 13116363, 13010630, 12906489, 12795786, 12681643, 12574324, 12476037, 12381312, 12287203, 12203874, 12124070, 12049613, 11980573, 11914098, 11842405, 11775334, 11711953, 11648158, 11584862, 11517842, 11443800, 11364065, 11291052, 11213530, 11135324, 11057995, 10981185, 10901650, 10821542, 10739676, 10652930, 10567427, 10487686, 10406465, 10327771, 10240201, 10154611, 10057226, 9958831, 9857220, 9756554, 9650350, 9546980, 9442691, 9337630, 9223938, 9112348, 8998501, 8881816, 8765335, 8656843, 8549348, 8437987, 8318039, 8204186, 8093146, 7986283, 7875504, 7777539, 7680028, 7588232, 7492582, 7395508, 7304339, 7229400, 7157792, 7083101, 7010470, 6944274, 6884354, 6818289, 6744708, 6674154, 6612367, 6545657, 6477047, 6407509, 6341962, 6277471, 6216163, 6150577, 6086167, 6023332, 5962930, 5902672, 5839541, 5775102, 5715306, 5657994, 5609848, 5557142, 5498070, 5440901, 5383154, 5323440, 5274458, 5227364, 5186900, 5148714, 5118728, 5097121, 5073636, 5051701, 5025492, 4998461, 4968180, 4940098, 4912245, 4882208, 4845290, 4808677, 4772926, 4745448, 4723216, 4704747, 4683049, 4661183, 4640633, 4618251, 4587412, 4562430, 4540198, 4524666, 4509407, 4487514, 4461085, 4441084, 4424400, 4406193, 4381804, 4350706, 4316707, 4281868, 4244726, 4202905, 4154596, 4100001, 4043049, 4007190, 3982221, 3969729, 3956863, 3948548, 3947746, 3947746, 3947746, 3947746, 3947746, 3947746, 3947746, 3947746, 3947746, 3947746, 3947746, 3947746, 3947746, 3947746, 3947746, 3947746, 3947746, 3947746, 3947746], 'z': [2414, 4969, 8007, 11860, 17175, 24679, 32879, 42672, 54859, 68044, 83650, 98182, 112960, 125630, 139348, 150617, 165202, 177435, 193088, 217481, 242792, 278488, 316881, 358785, 389678, 409383, 424137, 438787, 463493, 494412, 525209, 544323, 562546, 575797, 581384, 583464, 570236, 558680, 544034, 537994, 538525, 540839, 535641, 517764, 493932, 472373, 464780, 461311, 459827, 451563, 442438, 433872, 432550, 434015, 445807, 471806, 502327, 532301, 559983, 579974, 590655, 594005, 595949, 597930, 605281, 619758, 639875, 647894, 655905, 651995, 637291, 622456, 618743, 620589, 626204, 638552, 659075, 681812, 701377, 711337, 713075, 710017, 704785, 697973, 696172, 693408, 691785, 696330, 710677, 723237, 730665, 734007, 735641, 742945, 765862, 793931, 844069, 894004, 930039, 966813, 1005818, 1044992, 1077136, 1110821, 1165357, 1233841, 1303738, 1367641, 1420531, 1454879, 1484836, 1490923, 1506701, 1529044, 1542272, 1549409, 1562676, 1578441, 1575745, 1556921, 1527405, 1476717, 1426656, 1383100, 1344237, 1303696, 1279487, 1252294, 1226774, 1212596, 1204165, 1193165, 1176856, 1172225, 1174859, 1193962, 1225937, 1259650, 1286756, 1329419, 1373978, 1413246, 1450856, 1483227, 1501210, 1513888, 1520884, 1517647, 1507684, 1484439, 1442557, 1402005, 1369758, 1339627, 1297444, 1257202, 1210029, 1162909, 1129261, 1110938, 1089227, 1072640, 1067527, 1065052, 1067405, 1077900, 1091533, 1101756, 1121938, 1144130, 1160076, 1178020, 1189710, 1203589, 1209454, 1233826, 1254699, 1278104, 1301441, 1330835, 1354670, 1378851, 1402046, 1428992, 1455079, 1489185, 1524649, 1562436, 1583358, 1605263, 1619239, 1640792, 1653034, 1663408, 1663528, 1670937, 1664613, 1657063, 1635167, 1619227, 1602454, 1576938, 1535396, 1498512, 1465708, 1426978, 1373226, 1319324, 1274367, 1241575, 1201350, 1165172, 1134371, 1111185, 1085073, 1053546, 1026868, 1013237, 1007215, 996934, 987138, 981344, 981682, 978748, 969375, 958617, 954142, 935578, 919520, 909054, 900676, 893932, 892338, 875734, 858418, 836047, 813831, 783567, 742056, 701312, 663361, 632170, 611019, 588734, 557579, 528175, 500465, 477669, 465223, 453880, 440894, 424940, 413423, 413514, 411932, 410569, 406825, 410677, 405339, 399644, 387403, 372387, 357365, 347251, 331501, 320707, 316682, 322602, 332002, 344140, 358470, 373231, 384219, 407598, 439965, 481397, 502217, 505293, 491356, 484221, 475852, 458447, 434058, 402960, 368961, 334122, 296980, 255159, 206850, 152255, 95303, 59444, 34475, 21983, 9117, 802, 0, 0, 0, 0], 'b': 250}\n",
    "\"\"\"\n",
    "\n",
    "hist300days = {'h': [20505639, 20502897, 20499859, 20496006, 20490691, 20483187, 20474987, 20465073, 20452886, 20438337, 20422698, 20408166, 20393366, 20380696, 20366479, 20353205, 20335449, 20319877, 20299287, 20268559, 20235614, 20191345, 20143005, 20088653, 20044366, 20009048, 19979649, 19950219, 19912423, 19866938, 19822832, 19786557, 19752928, 19720081, 19683749, 19648524, 19617838, 19581071, 19541185, 19502766, 19466937, 19435127, 19410963, 19391485, 19370262, 19347861, 19319203, 19289166, 19257846, 19230681, 19204911, 19182811, 19147564, 19106710, 19056618, 18994810, 18932536, 18878398, 18831239, 18790026, 18756944, 18724936, 18692955, 18659654, 18625138, 18584891, 18542568, 18499304, 18450335, 18404264, 18357169, 18309860, 18259435, 18210430, 18163591, 18118084, 18065509, 18010120, 17957256, 17912787, 17870808, 17831623, 17793594, 17751537, 17707267, 17662936, 17617096, 17562126, 17498775, 17439396, 17386534, 17330716, 17274303, 17214135, 17146749, 17076703, 16987400, 16899436, 16821344, 16740312, 16656978, 16571697, 16484583, 16387547, 16273632, 16152286, 16026230, 15905826, 15791998, 15690264, 15589645, 15493969, 15390229, 15289728, 15195468, 15105032, 15006821, 14903898, 14809558, 14714467, 14622669, 14547637, 14477359, 14407787, 14344972, 14285449, 14214137, 14137443, 14062116, 13982013, 13899385, 13812150, 13724653, 13633822, 13536033, 13424502, 13317117, 13213036, 13116363, 13010630, 12906489, 12795786, 12681643, 12574324, 12476037, 12381312, 12287203, 12203874, 12124070, 12049613, 11980573, 11914098, 11842405, 11775334, 11711953, 11648158, 11584862, 11517842, 11443800, 11364065, 11291052, 11213530, 11135324, 11057995, 10981185, 10901650, 10821542, 10739676, 10652930, 10567427, 10487686, 10406465, 10327771, 10240201, 10154611, 10057226, 9958831, 9857220, 9756554, 9650350, 9546980, 9442691, 9337630, 9223938, 9112348, 8998501, 8881816, 8765335, 8656843, 8549348, 8437987, 8318039, 8204186, 8093146, 7986283, 7875504, 7777539, 7680028, 7588232, 7492582, 7395508, 7304339, 7229400, 7157792, 7083101, 7010470, 6944274, 6884354, 6818289, 6744708, 6674154, 6612367, 6545657, 6477047, 6407509, 6341962, 6277471, 6216163, 6150577, 6086167, 6023332, 5962930, 5902672, 5839541, 5775102, 5715306, 5657994, 5609848, 5557142, 5498070, 5440901, 5383154, 5323440, 5274458, 5227364, 5186900, 5148714, 5118728, 5097121, 5073636, 5051701, 5025492, 4998461, 4968180, 4940098, 4912245, 4882208, 4845290, 4808677, 4772926, 4745448, 4723216, 4704747, 4683049, 4661183, 4640633, 4618251, 4587412, 4562430, 4540198, 4524666, 4509407, 4487514, 4461085, 4441084, 4424400, 4406193, 4381804, 4350706, 4316707, 4281868, 4244726, 4202905, 4154596, 4100001, 4043049, 4007190, 3982221, 3969729, 3956863, 3948548, 3947746, 3947746, 3947746, 3947746, 3947746, 3947746, 3947746, 3947746, 3947746, 3947746, 3947746, 3947746, 3947746, 3947746, 3947746, 3947746, 3947746, 3947746, 3947746], 'z': [2414, 4969, 8007, 11860, 17175, 24679, 32879, 42672, 54859, 68044, 83650, 98182, 112960, 125630, 139348, 150617, 165202, 177435, 193088, 217481, 242792, 278488, 316881, 358785, 389678, 409383, 424137, 438787, 463493, 494412, 525209, 544323, 562546, 575797, 581384, 583464, 570236, 558680, 544034, 537994, 538525, 540839, 535641, 517764, 493932, 472373, 464780, 461311, 459827, 451563, 442438, 433872, 432550, 434015, 445807, 471806, 502327, 532301, 559983, 579974, 590655, 594005, 595949, 597930, 605281, 619758, 639875, 647894, 655905, 651995, 637291, 622456, 618743, 620589, 626204, 638552, 659075, 681812, 701377, 711337, 713075, 710017, 704785, 697973, 696172, 693408, 691785, 696330, 710677, 723237, 730665, 734007, 735641, 742945, 765862, 793931, 844069, 894004, 930039, 966813, 1005818, 1044992, 1077136, 1110821, 1165357, 1233841, 1303738, 1367641, 1420531, 1454879, 1484836, 1490923, 1506701, 1529044, 1542272, 1549409, 1562676, 1578441, 1575745, 1556921, 1527405, 1476717, 1426656, 1383100, 1344237, 1303696, 1279487, 1252294, 1226774, 1212596, 1204165, 1193165, 1176856, 1172225, 1174859, 1193962, 1225937, 1259650, 1286756, 1329419, 1373978, 1413246, 1450856, 1483227, 1501210, 1513888, 1520884, 1517647, 1507684, 1484439, 1442557, 1402005, 1369758, 1339627, 1297444, 1257202, 1210029, 1162909, 1129261, 1110938, 1089227, 1072640, 1067527, 1065052, 1067405, 1077900, 1091533, 1101756, 1121938, 1144130, 1160076, 1178020, 1189710, 1203589, 1209454, 1233826, 1254699, 1278104, 1301441, 1330835, 1354670, 1378851, 1402046, 1428992, 1455079, 1489185, 1524649, 1562436, 1583358, 1605263, 1619239, 1640792, 1653034, 1663408, 1663528, 1670937, 1664613, 1657063, 1635167, 1619227, 1602454, 1576938, 1535396, 1498512, 1465708, 1426978, 1373226, 1319324, 1274367, 1241575, 1201350, 1165172, 1134371, 1111185, 1085073, 1053546, 1026868, 1013237, 1007215, 996934, 987138, 981344, 981682, 978748, 969375, 958617, 954142, 935578, 919520, 909054, 900676, 893932, 892338, 875734, 858418, 836047, 813831, 783567, 742056, 701312, 663361, 632170, 611019, 588734, 557579, 528175, 500465, 477669, 465223, 453880, 440894, 424940, 413423, 413514, 411932, 410569, 406825, 410677, 405339, 399644, 387403, 372387, 357365, 347251, 331501, 320707, 316682, 322602, 332002, 344140, 358470, 373231, 384219, 407598, 439965, 481397, 502217, 505293, 491356, 484221, 475852, 458447, 434058, 402960, 368961, 334122, 296980, 255159, 206850, 152255, 95303, 59444, 34475, 21983, 9117, 802, 0, 0, 0, 0], 'b': 250}\n",
    "plotEvolution(hist300days, \"ev_free\")"
   ]
  },
  {
   "cell_type": "markdown",
   "metadata": {},
   "source": [
    "## Study graph properties to take advantage of them for our problem ##"
   ]
  },
  {
   "cell_type": "code",
   "execution_count": null,
   "metadata": {},
   "outputs": [],
   "source": [
    "def toGraph(grid):\n",
    "    G = nx.Graph()\n",
    "    for lon in range(len(grid)):\n",
    "        for lat in range(len(grid[lon])):\n",
    "            \n",
    "            # concentrate in the half roght low corner of the image\n",
    "            if not (lon > 234 / 2 and lat > 322 / 2): continue\n",
    "            \n",
    "            neighbor_cells = getNeigborCellList(lon, lat, grid) # just study possible moves\n",
    "            for n in neighbor_cells:\n",
    "                # check suitability\n",
    "                geo_slope_fact = getGeoSlopeFactor(grid[lon][lat], n) # (from, to)\n",
    "                if geo_slope_fact == 0 : continue # slope will not let pass zombies\n",
    "                z0 = sum(n['z_0'])\n",
    "                z1 = sum(n['z_1'])\n",
    "                if n['hum'] == 0 and z0 + z1 == 0 : continue # We don't want to study where zombies will not pass through\n",
    "                if n['valid'] == 0: continue\n",
    "    \n",
    "                G.add_edge(f'{lon}_{lat}', f'{n[\"i\"]}_{n[\"j\"]}') #weight = ?\n",
    "    return G"
   ]
  },
  {
   "cell_type": "code",
   "execution_count": null,
   "metadata": {},
   "outputs": [],
   "source": [
    "G = toGraph(grid)\n",
    "print(len(G.nodes))\n",
    "print(len(G.edges))\n",
    "# get all the graphs\n",
    "g_a = [len(c) for c in sorted(nx.connected_components(G), key=len, reverse=True)]\n",
    "print(g_a)\n",
    "graphs = list(nx.connected_component_subgraphs(G))"
   ]
  },
  {
   "cell_type": "code",
   "execution_count": null,
   "metadata": {},
   "outputs": [],
   "source": [
    "len_graph = []\n",
    "for g in graphs:\n",
    "    len_graph.append(len(g))\n",
    "print(len_graph)\n",
    "GG = graphs[0]\n",
    "print(len(GG))"
   ]
  },
  {
   "cell_type": "code",
   "execution_count": null,
   "metadata": {},
   "outputs": [],
   "source": [
    "ct = nx.minimum_edge_cut(graphs[0], s='163_235', t='130_200')"
   ]
  },
  {
   "cell_type": "code",
   "execution_count": null,
   "metadata": {},
   "outputs": [],
   "source": [
    "print(ct)"
   ]
  },
  {
   "cell_type": "code",
   "execution_count": null,
   "metadata": {},
   "outputs": [],
   "source": [
    "graphs[0].edges"
   ]
  },
  {
   "cell_type": "code",
   "execution_count": null,
   "metadata": {},
   "outputs": [],
   "source": [
    "nc = nx.minimum_node_cut(graphs[0], s='142_229', t='118_170')"
   ]
  },
  {
   "cell_type": "code",
   "execution_count": null,
   "metadata": {},
   "outputs": [],
   "source": [
    "print(nc)"
   ]
  },
  {
   "cell_type": "code",
   "execution_count": null,
   "metadata": {},
   "outputs": [],
   "source": [
    "v = nx.betweenness_centrality(graphs[0])"
   ]
  },
  {
   "cell_type": "code",
   "execution_count": null,
   "metadata": {},
   "outputs": [],
   "source": [
    "vv = [{'n': k, 'v': val} for k, val in v.items()]"
   ]
  },
  {
   "cell_type": "code",
   "execution_count": null,
   "metadata": {},
   "outputs": [],
   "source": [
    "vv =sorted(vv, key=itemgetter('v'), reverse=True)\n",
    "vv"
   ]
  },
  {
   "cell_type": "code",
   "execution_count": null,
   "metadata": {},
   "outputs": [],
   "source": [
    "l = []\n",
    "for i in range(20):\n",
    "    [lon, lat] = vv[i]['n'].split('_')\n",
    "    l.append((int(lon), int(lat)))\n",
    "l"
   ]
  },
  {
   "cell_type": "code",
   "execution_count": null,
   "metadata": {},
   "outputs": [],
   "source": [
    "s = grid_state[0]['state']\n",
    "lons = []\n",
    "lats = []\n",
    "sub_lats = []\n",
    "sub_lons = []\n",
    "temp_lon = 0\n",
    "temp_lat = 0\n",
    "for k, v in s.items():\n",
    "    [lon, lat] = k.split('_')\n",
    "    lon = int(lon)\n",
    "    lat = int(lat)\n",
    "    if (len(sub_lats) > 0 and sub_lats[-1] + 2 <= lat) or (len(sub_lons) > 0 and sub_lons[-1] + 2 <= lon):\n",
    "        lons.append(sub_lons)\n",
    "        lats.append(sub_lats)\n",
    "        sub_lons = []\n",
    "        sub_lats = []\n",
    "    \n",
    "    if lon not in sub_lons: sub_lons.append(lon)\n",
    "    if lat not in sub_lats: sub_lats.append(lat)\n"
   ]
  },
  {
   "cell_type": "code",
   "execution_count": null,
   "metadata": {},
   "outputs": [],
   "source": [
    "print(len(lats))\n",
    "print(len(lons))\n",
    "print(s)\n",
    "print(lons)\n",
    "print('---')\n",
    "print(lats)"
   ]
  },
  {
   "cell_type": "code",
   "execution_count": null,
   "metadata": {},
   "outputs": [],
   "source": [
    "subgrid = [[grid[z_loc[0] - 2 + j][z_loc[1] - 2 + i] for i in range(5)] for j in range(5)]"
   ]
  },
  {
   "cell_type": "code",
   "execution_count": null,
   "metadata": {},
   "outputs": [],
   "source": [
    "print(grid_state[0]['mx'])"
   ]
  },
  {
   "cell_type": "code",
   "execution_count": null,
   "metadata": {},
   "outputs": [],
   "source": [
    "def getZombiesGraph(st, grid):\n",
    "    G = nx.Graph()\n",
    "    for lon in range(len(grid)):\n",
    "        for lat in range(len(grid[lon])):\n",
    "            \n",
    "            # concentrate in the half roght low corner of the image\n",
    "            if not (lon > 234 / 2 and lat > 322 / 2): continue\n",
    "            if not f'{lon}_{lat}' in st: continue\n",
    "            neighbor_cells = getNeigborCellList(lon, lat, grid) # just study possible moves\n",
    "            for n in neighbor_cells:\n",
    "                # check suitability\n",
    "                z0 = sum(n['z_0'])\n",
    "                z1 = sum(n['z_1'])\n",
    "                if z0 == 0 and z1 == 0 : continue # We don't want to study where zombies will not pass through\n",
    "    \n",
    "                G.add_edge(f'{lon}_{lat}', f'{n[\"i\"]}_{n[\"j\"]}') \n",
    "                           \n",
    "    return G"
   ]
  },
  {
   "cell_type": "code",
   "execution_count": null,
   "metadata": {},
   "outputs": [],
   "source": [
    "zg = getZombiesGraph(grid_state[0]['state'], grid)"
   ]
  },
  {
   "cell_type": "code",
   "execution_count": null,
   "metadata": {},
   "outputs": [],
   "source": [
    "print(len(grid_state[0]['state']))\n",
    "print(len(zg.nodes))"
   ]
  },
  {
   "cell_type": "code",
   "execution_count": null,
   "metadata": {},
   "outputs": [],
   "source": [
    "z_g = [len(c) for c in sorted(nx.connected_components(zg), key=len, reverse=True)]\n",
    "print(z_g)\n",
    "zgraphs = [c for c in sorted(list(nx.connected_component_subgraphs(zg)), key=len, reverse=True)] \n"
   ]
  },
  {
   "cell_type": "code",
   "execution_count": null,
   "metadata": {},
   "outputs": [],
   "source": [
    "zgraphs[0].nodes"
   ]
  },
  {
   "cell_type": "code",
   "execution_count": null,
   "metadata": {},
   "outputs": [],
   "source": [
    "zgraphs[1].nodes"
   ]
  },
  {
   "cell_type": "code",
   "execution_count": null,
   "metadata": {},
   "outputs": [],
   "source": [
    "col = []\n",
    "for node in zgraphs[0].nodes:\n",
    "    nc = nx.minimum_node_cut(graphs[0], s=node, t='132_206')\n",
    "    print(nc)"
   ]
  },
  {
   "cell_type": "code",
   "execution_count": null,
   "metadata": {},
   "outputs": [],
   "source": [
    "# In order introduce points for cell protection and bombs\n",
    "def pointsToProtect(grid, pts):\n",
    "    for p in pts:\n",
    "        grid[p[0]][p[1]]['valid'] = 1"
   ]
  },
  {
   "cell_type": "code",
   "execution_count": null,
   "metadata": {},
   "outputs": [],
   "source": [
    "ngrid = initializeGrid(vld_img_grid_arr, \n",
    "               pop_img_grid_arr,\n",
    "               elv_img_grid_arr,\n",
    "               pop_vals,\n",
    "               elv_vals\n",
    "              )\n",
    "pnts = [(142, 214),\n",
    " (143, 215),\n",
    " (147, 195),\n",
    " (141, 213),\n",
    " (145, 197),\n",
    " (146, 196),\n",
    " (144, 216),\n",
    " (140, 212),\n",
    " (140, 208),\n",
    " (144, 198),\n",
    " (145, 217),\n",
    " (141, 212),\n",
    " (140, 211),\n",
    " (140, 210),\n",
    " (140, 209),\n",
    " (139, 209),\n",
    " (146, 218),\n",
    " (143, 199),\n",
    " (139, 210),\n",
    " (140, 207)]\n",
    "initializeZombies(ngrid, z_loc[0], z_loc[1], rize_p)\n",
    "#pointsToProtect(ngrid, pnts)\n",
    "#grid_state = []\n",
    "G = nx.Graph()\n",
    "run(ngrid, 96, True, G, 59, 96)"
   ]
  },
  {
   "cell_type": "code",
   "execution_count": null,
   "metadata": {},
   "outputs": [],
   "source": [
    "len(G.edges)"
   ]
  },
  {
   "cell_type": "code",
   "execution_count": null,
   "metadata": {},
   "outputs": [],
   "source": [
    "gg = [len(c) for c in sorted(nx.connected_components(G), key=len, reverse=True)]\n",
    "print(gg)\n",
    "ggs = [c for c in sorted(list(nx.connected_component_subgraphs(G)), key=len, reverse=True)] "
   ]
  },
  {
   "cell_type": "code",
   "execution_count": null,
   "metadata": {},
   "outputs": [],
   "source": [
    "nx.radius(ggs[1])"
   ]
  },
  {
   "cell_type": "code",
   "execution_count": null,
   "metadata": {},
   "outputs": [],
   "source": [
    "b = nx.betweenness_centrality(ggs[1], weight='weight')"
   ]
  },
  {
   "cell_type": "code",
   "execution_count": null,
   "metadata": {},
   "outputs": [],
   "source": [
    "bb = [{'n': k, 'v': val} for k, val in b.items()]\n",
    "bb =sorted(bb, key=itemgetter('v'), reverse=True)\n",
    "bb"
   ]
  },
  {
   "cell_type": "code",
   "execution_count": null,
   "metadata": {},
   "outputs": [],
   "source": [
    "l = []\n",
    "for i in range(20):\n",
    "    [lon, lat] = bb[i]['n'].split('_')\n",
    "    l.append((int(lon), int(lat)))\n",
    "l"
   ]
  },
  {
   "cell_type": "code",
   "execution_count": null,
   "metadata": {},
   "outputs": [],
   "source": [
    "nx.minimum_node_cut(G, s='165_234', t='128_214')"
   ]
  },
  {
   "cell_type": "code",
   "execution_count": null,
   "metadata": {},
   "outputs": [],
   "source": [
    "ngrid = initializeGrid(vld_img_grid_arr, \n",
    "               pop_img_grid_arr,\n",
    "               elv_img_grid_arr,\n",
    "               pop_vals,\n",
    "               elv_vals\n",
    "              )\n",
    "pnts = [(125, 212),\n",
    " (143, 223),\n",
    " (124, 211),\n",
    " (123, 210),\n",
    " (122, 209),\n",
    " (121, 208),\n",
    " (144, 224),\n",
    " (129, 216),\n",
    " (131, 218),\n",
    " (172, 234),\n",
    " (172, 227),\n",
    " (126, 213),\n",
    " (130, 217),\n",
    " (128, 215),\n",
    " (143, 222),\n",
    " (119, 206),\n",
    " (173, 235),\n",
    " (165, 225),\n",
    " (170, 226),\n",
    " (120, 207)]\n",
    "initializeZombies(ngrid, z_loc[0], z_loc[1], rize_p)\n",
    "pointsToProtect(ngrid, pnts)\n",
    "grid_state = []\n",
    "run(ngrid, 100, True)"
   ]
  },
  {
   "cell_type": "markdown",
   "metadata": {},
   "source": [
    "## BOMBING PLACES ##"
   ]
  },
  {
   "cell_type": "code",
   "execution_count": null,
   "metadata": {},
   "outputs": [],
   "source": [
    "grid = initializeGrid(vld_img_grid_arr, \n",
    "               pop_img_grid_arr,\n",
    "               elv_img_grid_arr,\n",
    "               pop_vals,\n",
    "               elv_vals\n",
    "              )\n",
    "pts = [(199,9), (197,8)] + [(200,i) for i in range(9,131)] + [(i,130) for i in range(200,221)]\n",
    "sum_h = 0\n",
    "for p in pts:\n",
    "    (lon, lat) = p\n",
    "    sum_h += grid[lon][lat]['hum']\n",
    "sum_h"
   ]
  }
 ],
 "metadata": {
  "kernelspec": {
   "display_name": "Python 3",
   "language": "python",
   "name": "python3"
  },
  "language_info": {
   "codemirror_mode": {
    "name": "ipython",
    "version": 3
   },
   "file_extension": ".py",
   "mimetype": "text/x-python",
   "name": "python",
   "nbconvert_exporter": "python",
   "pygments_lexer": "ipython3",
   "version": "3.6.7"
  }
 },
 "nbformat": 4,
 "nbformat_minor": 2
}
