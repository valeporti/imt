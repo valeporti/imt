{
 "cells": [
  {
   "cell_type": "code",
   "execution_count": 1,
   "metadata": {},
   "outputs": [],
   "source": [
    "import networkx as nx\n",
    "import matplotlib.pyplot as plt\n",
    "from matplotlib import pylab\n",
    "import numpy as np\n",
    "import pickle\n",
    "import pandas as pd\n",
    "from operator import itemgetter, attrgetter\n",
    "import pprint as pp"
   ]
  },
  {
   "cell_type": "code",
   "execution_count": 2,
   "metadata": {},
   "outputs": [],
   "source": [
    "G = nx.read_gexf(\"./data/mediumLinkedin.gexf\")\n",
    "\n",
    "with open('./data/mediumEmployer.pickle', 'rb') as handle:\n",
    "    employer = pickle.load(handle)"
   ]
  },
  {
   "cell_type": "code",
   "execution_count": 3,
   "metadata": {},
   "outputs": [
    {
     "name": "stdout",
     "output_type": "stream",
     "text": [
      "google\n",
      "google inc\n"
     ]
    }
   ],
   "source": [
    "def list_of_different_attribute_values(d):\n",
    "    return set([v for values in d.values() for v in values])\n",
    "\n",
    "employerList = sorted(list_of_different_attribute_values(employer))\n",
    "\n",
    "# for p in employerList: print (p)\n",
    "        \n",
    "for p in employerList: \n",
    "    if ('google' in p):\n",
    "        print (p)"
   ]
  },
  {
   "cell_type": "code",
   "execution_count": 4,
   "metadata": {},
   "outputs": [],
   "source": [
    "me_id = 'U7912'"
   ]
  },
  {
   "cell_type": "code",
   "execution_count": 5,
   "metadata": {},
   "outputs": [],
   "source": [
    "x = []\n",
    "\n",
    "for n in G.nodes:\n",
    "    if n in employer:\n",
    "        if 'google' in employer[n] or 'google inc' in employer[n]:\n",
    "            #print(n, employer[n])\n",
    "            x.append(n)\n",
    "            \n",
    "# x contains the nodes where google was found as an employer\n",
    "# we print the value of the nodes in the array and the employers for each one"
   ]
  },
  {
   "cell_type": "code",
   "execution_count": 6,
   "metadata": {},
   "outputs": [],
   "source": [
    "y = []\n",
    "\n",
    "for i in x:\n",
    "    y.append(nx.shortest_path(G, me_id, i))\n",
    "\n",
    "y = sorted(y)\n",
    "\n",
    "#for a in y: print (a)\n",
    "# y is the sorted list of arrays describing each of the paths from\n",
    "# our node of interest to the ones where one of the employers is google"
   ]
  },
  {
   "cell_type": "code",
   "execution_count": 7,
   "metadata": {},
   "outputs": [
    {
     "name": "stdout",
     "output_type": "stream",
     "text": [
      "2 ['U7912', 'U4456', 'U11591', 'U27287', 'U2627', 'U2622', 'U2691', 'U24085']\n",
      "2 ['U7912', 'U4456', 'U11591', 'U27287', 'U7202']\n",
      "3 ['U7912', 'U4661', 'U4562', 'U11566']\n",
      "9 ['U7912', 'U4661', 'U4568']\n"
     ]
    }
   ],
   "source": [
    "z1 = []\n",
    "i = 0\n",
    "\n",
    "while i < len(y)-1:\n",
    "    j = 1\n",
    "    while True:\n",
    "        if i+j > len(y)-1: break\n",
    "        if len(y[i+j]) < len(y[i]): break\n",
    "        if y[i+j][0:len(y[i])] == y[i]: j = j+1\n",
    "        else: break\n",
    "    if j > 1: \n",
    "        print(j, y[i])\n",
    "        z1.append(y[i])\n",
    "    i = i+j\n",
    "    \n",
    "# z1 is a list that contains the paths where the destination node appears in other paths"
   ]
  },
  {
   "cell_type": "code",
   "execution_count": 8,
   "metadata": {},
   "outputs": [
    {
     "name": "stdout",
     "output_type": "stream",
     "text": [
      "2 ['U7912', 'U4456', 'U11591', 'U2656', 'U2625']\n",
      "3 ['U7912', 'U4456', 'U11591', 'U2656', 'U7319', 'U7024']\n",
      "2 ['U7912', 'U4456', 'U11591', 'U27287', 'U24184', 'U8670']\n",
      "8 ['U7912', 'U4456', 'U11591', 'U27287']\n",
      "2 ['U7912', 'U4661', 'U4568']\n",
      "3 ['U7912', 'U4661', 'U4568', 'U3955']\n"
     ]
    }
   ],
   "source": [
    "z2 = []\n",
    "i = 0\n",
    "\n",
    "while i < len(y)-1:\n",
    "    j = 1\n",
    "    while True:\n",
    "        if i+j > len(y)-1: break\n",
    "        if len(y[i+j]) != len(y[i]): break\n",
    "        if y[i+j][0:-1] == y[i][0:-1]: j = j+1\n",
    "        else: break\n",
    "    if j > 1: \n",
    "        print(j, y[i][0:-1])\n",
    "        z2.append(y[i][0:-1])\n",
    "    i = i+j\n",
    "\n",
    "# z2 contains the paths that open the most destination nodes"
   ]
  },
  {
   "cell_type": "code",
   "execution_count": 9,
   "metadata": {},
   "outputs": [],
   "source": [
    "desired_paths = z1[:] + z2[:]"
   ]
  },
  {
   "cell_type": "code",
   "execution_count": 10,
   "metadata": {},
   "outputs": [],
   "source": [
    "def labelizeArr(arr, labels, me, target) :\n",
    "    me_labels = labels[me] if me in labels else None\n",
    "    target_labels = labels[target] if target in labels else None\n",
    "    new_dict = {}\n",
    "    total = 0\n",
    "    length = 0\n",
    "    for ele in arr:\n",
    "        count = 0\n",
    "        if ele in labels:\n",
    "            values = labels[ele]\n",
    "            for me_label in me_labels:\n",
    "                if me_label in values : \n",
    "                    count += 1\n",
    "                    total += 1\n",
    "    \n",
    "            \n",
    "        new_dict[ele] = count \n",
    "        length += 1\n",
    "    \n",
    "    return { 'dict_results': new_dict, 'total': total, 'length': length }"
   ]
  },
  {
   "cell_type": "code",
   "execution_count": 11,
   "metadata": {},
   "outputs": [],
   "source": [
    "def charaterize_arr(arr, labels, me) :\n",
    "    characterized_list = []\n",
    "    for path in arr :\n",
    "        target = path[-1]\n",
    "        results = labelizeArr(path, labels, me, target)\n",
    "        characterized_list.append(results)\n",
    "    return characterized_list"
   ]
  },
  {
   "cell_type": "code",
   "execution_count": 12,
   "metadata": {},
   "outputs": [],
   "source": [
    "def sum_totals(list_of_lists) :\n",
    "    big_arr = []\n",
    "    number_of_lists = len(list_of_lists)\n",
    "    if (number_of_lists == 0) : return\n",
    "    for i in range(len(list_of_lists[0])) : # all paths\n",
    "        total_sum = 0\n",
    "        sub_dict = {}\n",
    "        for j in range(number_of_lists) :\n",
    "            total_sum += list_of_lists[j][i]['total']\n",
    "            dict_results = list_of_lists[j][i]['dict_results']\n",
    "            for key, val in dict_results.items():\n",
    "                if not key in sub_dict : sub_dict[key] = 0\n",
    "                sub_dict[key] += val\n",
    "        big_arr.append({ 'total': total_sum, 'total_dict': sub_dict, 'length':  list_of_lists[j][i]['length']})\n",
    "    \n",
    "    return big_arr"
   ]
  },
  {
   "cell_type": "code",
   "execution_count": 13,
   "metadata": {},
   "outputs": [],
   "source": [
    "employer = pd.read_pickle('./data/mediumEmployer.pickle')\n",
    "location = pd.read_pickle('./data/mediumLocation.pickle')\n",
    "college = pd.read_pickle('./data/mediumCollege.pickle')"
   ]
  },
  {
   "cell_type": "code",
   "execution_count": 14,
   "metadata": {},
   "outputs": [],
   "source": [
    "def best_total(sum_totals, quantity_best):\n",
    "    sorted_sum = sorted(sum_totals, key=itemgetter('total'), reverse = True)\n",
    "    return sorted_sum[:quantity_best]\n",
    "\n",
    "#sum_total = sum_totals([arr1, arr2])"
   ]
  },
  {
   "cell_type": "code",
   "execution_count": 24,
   "metadata": {},
   "outputs": [
    {
     "name": "stdout",
     "output_type": "stream",
     "text": [
      "[{'length': 8,\n",
      "  'total': 11,\n",
      "  'total_dict': {'U11591': 1,\n",
      "                 'U24085': 0,\n",
      "                 'U2622': 0,\n",
      "                 'U2627': 0,\n",
      "                 'U2691': 0,\n",
      "                 'U27287': 2,\n",
      "                 'U4456': 2,\n",
      "                 'U7912': 6}},\n",
      " {'length': 5,\n",
      "  'total': 12,\n",
      "  'total_dict': {'U11591': 1, 'U27287': 2, 'U4456': 2, 'U7202': 1, 'U7912': 6}},\n",
      " {'length': 4,\n",
      "  'total': 11,\n",
      "  'total_dict': {'U11566': 2, 'U4562': 2, 'U4661': 1, 'U7912': 6}},\n",
      " {'length': 3, 'total': 8, 'total_dict': {'U4568': 1, 'U4661': 1, 'U7912': 6}},\n",
      " {'length': 5,\n",
      "  'total': 11,\n",
      "  'total_dict': {'U11591': 1, 'U2625': 0, 'U2656': 2, 'U4456': 2, 'U7912': 6}},\n",
      " {'length': 6,\n",
      "  'total': 15,\n",
      "  'total_dict': {'U11591': 1,\n",
      "                 'U2656': 2,\n",
      "                 'U4456': 2,\n",
      "                 'U7024': 2,\n",
      "                 'U7319': 2,\n",
      "                 'U7912': 6}},\n",
      " {'length': 6,\n",
      "  'total': 13,\n",
      "  'total_dict': {'U11591': 1,\n",
      "                 'U24184': 1,\n",
      "                 'U27287': 2,\n",
      "                 'U4456': 2,\n",
      "                 'U7912': 6,\n",
      "                 'U8670': 1}},\n",
      " {'length': 4,\n",
      "  'total': 11,\n",
      "  'total_dict': {'U11591': 1, 'U27287': 2, 'U4456': 2, 'U7912': 6}},\n",
      " {'length': 3, 'total': 8, 'total_dict': {'U4568': 1, 'U4661': 1, 'U7912': 6}},\n",
      " {'length': 4,\n",
      "  'total': 8,\n",
      "  'total_dict': {'U3955': 0, 'U4568': 1, 'U4661': 1, 'U7912': 6}}]\n"
     ]
    }
   ],
   "source": [
    "sum_total_arr = []\n",
    "\n",
    "arr_employer = charaterize_arr(desired_paths, employer, me_id)\n",
    "arr_location = charaterize_arr(desired_paths, location, me_id)\n",
    "arr_college = charaterize_arr(desired_paths, college, me_id)\n",
    "sum_total_arr = sum_totals([arr_college, arr_employer, arr_location])\n",
    "\n",
    "pp.pprint(sum_total_arr)"
   ]
  },
  {
   "cell_type": "code",
   "execution_count": 25,
   "metadata": {},
   "outputs": [],
   "source": [
    "def isContinuous(sum_totals) :\n",
    "    minimum_len = 1000\n",
    "    maximum_len = 0\n",
    "    minimum_tot = 1000\n",
    "    maximum_tot = 0\n",
    "    for ele in sum_totals:\n",
    "        if (minimum_len > ele['length']): minimum_len = ele['length'] \n",
    "        if (maximum_len <= ele['length']): maximum_len = ele['length']\n",
    "        if (minimum_tot > ele['total']): minimum_tot = ele['total'] \n",
    "        if (maximum_tot <= ele['total']): maximum_tot = ele['total'] \n",
    "        total = ele['total']\n",
    "        total_dict = ele['total_dict']\n",
    "        is_continuous = True\n",
    "        for key_node, val in total_dict.items():\n",
    "            if val == 0 : \n",
    "                is_continuous = False\n",
    "                break\n",
    "        ele['is_continuous'] = is_continuous\n",
    "    return { 'min_len': minimum_len, 'min_tot': minimum_tot, 'max_len': maximum_len, 'max_tot': maximum_tot }"
   ]
  },
  {
   "cell_type": "code",
   "execution_count": 26,
   "metadata": {},
   "outputs": [
    {
     "name": "stdout",
     "output_type": "stream",
     "text": [
      "{'min_len': 3, 'min_tot': 8, 'max_len': 8, 'max_tot': 15}\n"
     ]
    }
   ],
   "source": [
    "min_max = isContinuous(sum_total_arr)\n",
    "print(min_max)"
   ]
  },
  {
   "cell_type": "code",
   "execution_count": 27,
   "metadata": {},
   "outputs": [],
   "source": [
    "#pp.pprint(sum_total_arr)"
   ]
  },
  {
   "cell_type": "code",
   "execution_count": 33,
   "metadata": {},
   "outputs": [],
   "source": [
    "def normalize_and_note(sum_of_totals):\n",
    "    for path in sum_of_totals:\n",
    "        path['over_length'] = path['length'] - path['total']\n",
    "        path['norm_len'] = 1 - (path['length'] - min_max['min_len']) / min_max['max_len'] #positif entre plus petit\n",
    "        #path['norm_tot'] = (path['total'] - min_max['min_tot']) / min_max['max_tot'] #positife ntre plus grand\n",
    "        #path['norm_tot'] = \n",
    "        path['norm_cont'] = 1 if path['is_continuous'] else 0\n",
    "        path['mark'] = path['norm_len'] + path['norm_tot'] + path['norm_cont']\n",
    "\n",
    "normalize_and_note(sum_total_arr)\n",
    "#pp.pprint(sum_total_arr)        "
   ]
  },
  {
   "cell_type": "code",
   "execution_count": 34,
   "metadata": {},
   "outputs": [
    {
     "name": "stdout",
     "output_type": "stream",
     "text": [
      "[{'is_continuous': True,\n",
      "  'length': 6,\n",
      "  'mark': 2.091666666666667,\n",
      "  'norm_cont': 1,\n",
      "  'norm_len': 0.625,\n",
      "  'norm_tot': 0.4666666666666667,\n",
      "  'total': 15,\n",
      "  'total_dict': {'U11591': 1,\n",
      "                 'U2656': 2,\n",
      "                 'U4456': 2,\n",
      "                 'U7024': 2,\n",
      "                 'U7319': 2,\n",
      "                 'U7912': 6}},\n",
      " {'is_continuous': True,\n",
      "  'length': 4,\n",
      "  'mark': 2.075,\n",
      "  'norm_cont': 1,\n",
      "  'norm_len': 0.875,\n",
      "  'norm_tot': 0.2,\n",
      "  'total': 11,\n",
      "  'total_dict': {'U11566': 2, 'U4562': 2, 'U4661': 1, 'U7912': 6}},\n",
      " {'is_continuous': True,\n",
      "  'length': 4,\n",
      "  'mark': 2.075,\n",
      "  'norm_cont': 1,\n",
      "  'norm_len': 0.875,\n",
      "  'norm_tot': 0.2,\n",
      "  'total': 11,\n",
      "  'total_dict': {'U11591': 1, 'U27287': 2, 'U4456': 2, 'U7912': 6}},\n",
      " {'is_continuous': True,\n",
      "  'length': 5,\n",
      "  'mark': 2.0166666666666666,\n",
      "  'norm_cont': 1,\n",
      "  'norm_len': 0.75,\n",
      "  'norm_tot': 0.26666666666666666,\n",
      "  'total': 12,\n",
      "  'total_dict': {'U11591': 1, 'U27287': 2, 'U4456': 2, 'U7202': 1, 'U7912': 6}},\n",
      " {'is_continuous': True,\n",
      "  'length': 3,\n",
      "  'mark': 2.0,\n",
      "  'norm_cont': 1,\n",
      "  'norm_len': 1.0,\n",
      "  'norm_tot': 0.0,\n",
      "  'total': 8,\n",
      "  'total_dict': {'U4568': 1, 'U4661': 1, 'U7912': 6}},\n",
      " {'is_continuous': True,\n",
      "  'length': 3,\n",
      "  'mark': 2.0,\n",
      "  'norm_cont': 1,\n",
      "  'norm_len': 1.0,\n",
      "  'norm_tot': 0.0,\n",
      "  'total': 8,\n",
      "  'total_dict': {'U4568': 1, 'U4661': 1, 'U7912': 6}},\n",
      " {'is_continuous': True,\n",
      "  'length': 6,\n",
      "  'mark': 1.9583333333333333,\n",
      "  'norm_cont': 1,\n",
      "  'norm_len': 0.625,\n",
      "  'norm_tot': 0.3333333333333333,\n",
      "  'total': 13,\n",
      "  'total_dict': {'U11591': 1,\n",
      "                 'U24184': 1,\n",
      "                 'U27287': 2,\n",
      "                 'U4456': 2,\n",
      "                 'U7912': 6,\n",
      "                 'U8670': 1}},\n",
      " {'is_continuous': False,\n",
      "  'length': 5,\n",
      "  'mark': 0.95,\n",
      "  'norm_cont': 0,\n",
      "  'norm_len': 0.75,\n",
      "  'norm_tot': 0.2,\n",
      "  'total': 11,\n",
      "  'total_dict': {'U11591': 1, 'U2625': 0, 'U2656': 2, 'U4456': 2, 'U7912': 6}},\n",
      " {'is_continuous': False,\n",
      "  'length': 4,\n",
      "  'mark': 0.875,\n",
      "  'norm_cont': 0,\n",
      "  'norm_len': 0.875,\n",
      "  'norm_tot': 0.0,\n",
      "  'total': 8,\n",
      "  'total_dict': {'U3955': 0, 'U4568': 1, 'U4661': 1, 'U7912': 6}},\n",
      " {'is_continuous': False,\n",
      "  'length': 8,\n",
      "  'mark': 0.575,\n",
      "  'norm_cont': 0,\n",
      "  'norm_len': 0.375,\n",
      "  'norm_tot': 0.2,\n",
      "  'total': 11,\n",
      "  'total_dict': {'U11591': 1,\n",
      "                 'U24085': 0,\n",
      "                 'U2622': 0,\n",
      "                 'U2627': 0,\n",
      "                 'U2691': 0,\n",
      "                 'U27287': 2,\n",
      "                 'U4456': 2,\n",
      "                 'U7912': 6}}]\n"
     ]
    }
   ],
   "source": [
    "sort_them = sorted(sum_total_arr, key=itemgetter('mark'), reverse=True)\n",
    "pp.pprint(sort_them)"
   ]
  },
  {
   "cell_type": "code",
   "execution_count": 30,
   "metadata": {},
   "outputs": [
    {
     "name": "stdout",
     "output_type": "stream",
     "text": [
      "['U7912', 'U4456', 'U11591', 'U2656', 'U7319', 'U7024']\n",
      "['U7912', 'U4661', 'U4562', 'U11566']\n",
      "['U7912', 'U4456', 'U11591', 'U27287']\n",
      "['U7912', 'U4456', 'U11591', 'U27287', 'U7202']\n",
      "['U7912', 'U4661', 'U4568']\n",
      "['U7912', 'U4661', 'U4568']\n",
      "['U7912', 'U4456', 'U11591', 'U27287', 'U24184', 'U8670']\n",
      "['U7912', 'U4456', 'U11591', 'U2656', 'U2625']\n",
      "['U7912', 'U4661', 'U4568', 'U3955']\n",
      "['U7912', 'U4456', 'U11591', 'U27287', 'U2627', 'U2622', 'U2691', 'U24085']\n"
     ]
    }
   ],
   "source": [
    "# IN ORDER\n",
    "for path in sort_them: print([key for key, value in path['total_dict'].items()])"
   ]
  },
  {
   "cell_type": "code",
   "execution_count": null,
   "metadata": {},
   "outputs": [],
   "source": []
  }
 ],
 "metadata": {
  "kernelspec": {
   "display_name": "Python 3",
   "language": "python",
   "name": "python3"
  },
  "language_info": {
   "codemirror_mode": {
    "name": "ipython",
    "version": 3
   },
   "file_extension": ".py",
   "mimetype": "text/x-python",
   "name": "python",
   "nbconvert_exporter": "python",
   "pygments_lexer": "ipython3",
   "version": "3.6.7"
  }
 },
 "nbformat": 4,
 "nbformat_minor": 2
}
