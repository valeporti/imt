{
 "cells": [
  {
   "cell_type": "code",
   "execution_count": 32,
   "metadata": {},
   "outputs": [],
   "source": [
    "import pandas \n",
    "import networkx"
   ]
  },
  {
   "cell_type": "code",
   "execution_count": 36,
   "metadata": {},
   "outputs": [],
   "source": [
    "file_path_smallCollege = './data/smallCollege.pickle' # { 'key': ['names'] }\n",
    "file_path_smallEmployer = './data/smallEmployer.pickle' # { 'key': ['names'] }\n",
    "file_path_smallLinkedIn = './data/smallLinkedin.gexf'\n",
    "file_path = './data/smallLocation.pickle'"
   ]
  },
  {
   "cell_type": "code",
   "execution_count": 37,
   "metadata": {},
   "outputs": [],
   "source": [
    "file = pandas.read_pickle(file_path)\n",
    "#file = networkx.read_gexf(file_path_smallLinkedIn)"
   ]
  },
  {
   "cell_type": "code",
   "execution_count": 38,
   "metadata": {},
   "outputs": [
    {
     "name": "stdout",
     "output_type": "stream",
     "text": [
      "{'U15609': ['urbana-champaign illinois area'], 'U11824': ['urbana-champaign illinois area'], 'U8046': ['urbana-champaign illinois area'], 'U15689': ['bloomington normal illinois area'], 'U15715': ['springfield illinois area'], 'U15885': ['urbana-champaign illinois area'], 'U2124': ['urbana-champaign illinois area'], 'U2177': ['greater chicago area'], 'U15528': ['urbana-champaign illinois area'], 'U2919': ['united states'], 'U15773': ['greater chicago area'], 'U15805': ['cincinnati area'], 'U15820': ['urbana-champaign illinois area'], 'U15771': ['urbana-champaign illinois area'], 'U15567': ['urbana-champaign illinois area'], 'U10043': ['greater chicago area'], 'U12475': ['milan area italy'], 'U2155': ['greater st. louis area'], 'U15554': ['terre haute indiana area'], 'U21831': ['san francisco bay area'], 'U15458': ['greater chicago area'], 'U14576': ['bloomington normal illinois area'], 'U15459': ['urbana-champaign illinois area'], 'U15794': ['urbana-champaign illinois area'], 'U15748': ['urbana-champaign illinois area'], 'U15524': ['terre haute indiana area'], 'U15889': ['urbana-champaign illinois area'], 'U21846': ['san francisco bay area'], 'U15568': ['united states'], 'U15485': ['urbana-champaign illinois area'], 'U15796': ['greater chicago area'], 'U7995': ['urbana-champaign illinois area'], 'U14561': ['urbana-champaign illinois area'], 'U21869': ['columbia missouri area'], 'U15581': ['bloomington normal illinois area'], 'U15552': ['greater chicago area'], 'U2110': ['urbana-champaign illinois area'], 'U12508': ['austin texas area'], 'U15658': ['urbana-champaign illinois area'], 'U21847': ['evansville indiana area'], 'U21822': ['urbana-champaign illinois area'], 'U2981': ['bryan college station texas area'], 'U15838': ['peoria illinois area'], 'U14546': ['urbana-champaign illinois area'], 'U2937': ['dallas fort worth area'], 'U15665': ['springfield illinois area'], 'U21859': ['urbana-champaign illinois area'], 'U14517': ['urbana-champaign illinois area'], 'U21954': ['greater chicago area'], 'U7982': ['urbana-champaign illinois area'], 'U12490': ['bryan college station texas area'], 'U15875': ['urbana-champaign illinois area'], 'U14560': ['urbana-champaign illinois area'], 'U14479': ['morelia area mexico'], 'U5977': ['urbana-champaign illinois area'], 'U15549': ['urbana-champaign illinois area'], 'U15821': ['urbana-champaign illinois area'], 'U8893': ['urbana-champaign illinois area'], 'U12503': ['houston texas area'], 'U15869': ['greater chicago area'], 'U2180': ['urbana-champaign illinois area'], 'U15467': ['urbana-champaign illinois area'], 'U12465': ['bryan college station texas area'], 'U8003': ['urbana-champaign illinois area'], 'U12472': ['houston texas area'], 'U15639': ['urbana-champaign illinois area'], 'U12471': ['huntington west virginia area'], 'U15468': ['urbana-champaign illinois area'], 'U15868': ['urbana-champaign illinois area'], 'U6024': ['urbana-champaign illinois area'], 'U15669': ['urbana-champaign illinois area'], 'U2992': ['milan area italy'], 'U15536': ['peru'], 'U15681': ['peoria illinois area'], 'U15445': ['greater chicago area'], 'U15881': ['urbana-champaign illinois area'], 'U15759': ['urbana-champaign illinois area'], 'U15589': ['urbana-champaign illinois area'], 'U14520': ['urbana-champaign illinois area'], 'U14559': ['urbana-champaign illinois area'], 'U15685': ['greater new york city area'], 'U15490': ['phoenix arizona area'], 'U15573': ['decatur illinois area'], 'U21862': ['urbana-champaign illinois area'], 'U15443': ['urbana-champaign illinois area'], 'U14526': ['urbana-champaign illinois area'], 'U15520': ['urbana-champaign illinois area'], 'U12486': ['houston texas area'], 'U7989': ['urbana-champaign illinois area'], 'U21881': ['urbana-champaign illinois area'], 'U15540': ['urbana-champaign illinois area'], 'U15543': ['greater chicago area'], 'U15750': ['greater chicago area'], 'U15615': ['decatur illinois area'], 'U15725': ['urbana-champaign illinois area'], 'U15718': ['urbana-champaign illinois area'], 'U15594': ['urbana-champaign illinois area'], 'U15896': ['urbana-champaign illinois area'], 'U2923': ['austin texas area'], 'U2907': ['dallas fort worth area'], 'U21839': ['urbana-champaign illinois area'], 'U15772': ['urbana-champaign illinois area'], 'U15732': ['greater chicago area'], 'U15675': ['urbana-champaign illinois area'], 'U15866': ['urbana-champaign illinois area'], 'U15617': ['greater chicago area'], 'U15696': ['greater chicago area'], 'U15864': ['bloomington normal illinois area'], 'U15683': ['urbana-champaign illinois area'], 'U15529': ['greater chicago area'], 'U15499': ['urbana-champaign illinois area'], 'U14483': ['urbana-champaign illinois area'], 'U15816': ['greater chicago area'], 'U2902': ['united states'], 'U15761': ['urbana-champaign illinois area'], 'U15770': ['urbana-champaign illinois area'], 'U15544': ['urbana-champaign illinois area'], 'U15640': ['urbana-champaign illinois area'], 'U2884': ['bryan college station texas area'], 'U2889': ['houston texas area'], 'U14543': ['urbana-champaign illinois area'], 'U12509': ['houston texas area'], 'U15691': ['urbana-champaign illinois area'], 'U2920': ['houston texas area'], 'U11827': ['greater boston area'], 'U15781': ['greater chicago area'], 'U15782': ['greater los angeles area'], 'U12496': ['miami fort lauderdale area'], 'U15760': ['urbana-champaign illinois area'], 'U8048': ['urbana-champaign illinois area'], 'U15497': ['jacksonville florida area'], 'U13035': ['urbana-champaign illinois area'], 'U6006': ['urbana-champaign illinois area'], 'U21843': ['terre haute indiana area'], 'U15883': ['urbana-champaign illinois area'], 'U12474': ['houston texas area'], 'U21829': ['urbana-champaign illinois area'], 'U15865': ['greater chicago area'], 'U2964': ['bryan college station texas area'], 'U15841': ['urbana-champaign illinois area'], 'U10060': ['urbana-champaign illinois area'], 'U12466': ['birmingham alabama area'], 'U8070': ['urbana-champaign illinois area'], 'U14555': ['greater chicago area'], 'U2170': ['urbana-champaign illinois area'], 'U2112': ['greater boston area'], 'U15556': ['tampa st. petersburg florida area'], 'U15741': ['greater chicago area'], 'U3000': ['bryan college station texas area'], 'U15779': ['urbana-champaign illinois area'], 'U2904': ['austin texas area'], 'U15614': ['sarasota florida area'], 'U15631': ['urbana-champaign illinois area'], 'U2102': ['urbana-champaign illinois area'], 'U15487': ['united states'], 'U10048': ['urbana-champaign illinois area'], 'U15440': ['urbana-champaign illinois area'], 'U15494': ['urbana-champaign illinois area'], 'U3014': ['dallas fort worth area'], 'U15687': ['urbana-champaign illinois area'], 'U12489': ['bryan college station texas area'], 'U7983': ['urbana-champaign illinois area'], 'U15619': ['urbana-champaign illinois area'], 'U2961': ['austin texas area'], 'U10077': ['raleigh-durham north carolina area'], 'U2917': ['bryan college station texas area'], 'U7976': ['urbana-champaign illinois area'], 'U15610': ['greater chicago area'], 'U15636': ['greater chicago area'], 'U12512': ['bryan college station texas area'], 'U15736': ['urbana-champaign illinois area'], 'U15735': ['springfield illinois area'], 'U15810': ['urbana-champaign illinois area'], 'U15442': ['urbana-champaign illinois area'], 'U15618': ['springfield illinois area'], 'U15873': ['greater chicago area'], 'U2200': ['san francisco bay area'], 'U15822': ['greater chicago area'], 'U15886': ['urbana-champaign illinois area'], 'U8068': ['urbana-champaign illinois area'], 'U12535': ['united states'], 'U21934': ['kansas city missouri area'], 'U12539': ['toledo ohio area'], 'U15835': ['urbana-champaign illinois area'], 'U21824': ['urbana-champaign illinois area'], 'U2101': ['urbana-champaign illinois area'], 'U15531': ['washington d.c. metro area'], 'U12482': ['turin area italy'], 'U15808': ['urbana-champaign illinois area'], 'U15645': ['peoria illinois area'], 'U2888': ['dallas fort worth area'], 'U2959': ['austin texas area'], 'U8018': ['urbana-champaign illinois area'], 'U15579': ['urbana-champaign illinois area'], 'U15753': ['greater chicago area'], 'U15466': ['urbana-champaign illinois area'], 'U15450': ['houston texas area'], 'U14566': ['urbana-champaign illinois area'], 'U14548': ['cincinnati area'], 'U15603': ['urbana-champaign illinois area'], 'U10076': ['greater chicago area'], 'U15532': ['urbana-champaign illinois area'], 'U15464': ['urbana-champaign illinois area'], 'U15674': ['urbana-champaign illinois area'], 'U15661': ['urbana-champaign illinois area']}\n"
     ]
    }
   ],
   "source": [
    "print(file)"
   ]
  },
  {
   "cell_type": "code",
   "execution_count": null,
   "metadata": {},
   "outputs": [],
   "source": []
  }
 ],
 "metadata": {
  "kernelspec": {
   "display_name": "Python 3",
   "language": "python",
   "name": "python3"
  },
  "language_info": {
   "codemirror_mode": {
    "name": "ipython",
    "version": 3
   },
   "file_extension": ".py",
   "mimetype": "text/x-python",
   "name": "python",
   "nbconvert_exporter": "python",
   "pygments_lexer": "ipython3",
   "version": "3.6.7"
  }
 },
 "nbformat": 4,
 "nbformat_minor": 2
}
