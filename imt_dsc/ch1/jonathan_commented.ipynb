{
 "cells": [
  {
   "cell_type": "code",
   "execution_count": 1,
   "metadata": {},
   "outputs": [],
   "source": [
    "import networkx as nx\n",
    "import matplotlib.pyplot as plt\n",
    "from matplotlib import pylab\n",
    "import numpy as np\n",
    "import pickle"
   ]
  },
  {
   "cell_type": "code",
   "execution_count": 2,
   "metadata": {},
   "outputs": [],
   "source": [
    "G = nx.read_gexf(\"mediumLinkedin.gexf\")\n",
    "\n",
    "with open('mediumEmployer.pickle', 'rb') as handle:\n",
    "    employer = pickle.load(handle)"
   ]
  },
  {
   "cell_type": "code",
   "execution_count": 3,
   "metadata": {},
   "outputs": [
    {
     "name": "stdout",
     "output_type": "stream",
     "text": [
      "google\n",
      "google inc\n"
     ]
    }
   ],
   "source": [
    "def list_of_different_attribute_values(d):\n",
    "    return set([v for values in d.values() for v in values])\n",
    "\n",
    "employerList = sorted(list_of_different_attribute_values(employer))\n",
    "\n",
    "# for p in employerList: print (p)\n",
    "        \n",
    "for p in employerList: \n",
    "    if ('google' in p):\n",
    "        print (p)"
   ]
  },
  {
   "cell_type": "code",
   "execution_count": 4,
   "metadata": {},
   "outputs": [
    {
     "name": "stdout",
     "output_type": "stream",
     "text": [
      "U3895 ['vertica systems an hp company', 'morgan stanley', 'microsoft', 'google']\n",
      "U11575 ['google', 'yahoo!']\n",
      "U15289 ['university of alabama at birmingham', 'bangladesh open source network', 'wikipedia', 'johns hopkins university', 'university of illinois at urbana-champaign', 'google', 'national center for supercomputing applications', 'bangladesh university of engineering and technology', 'dhaka international university']\n",
      "U24080 ['google', 'university of illinois at urbana-champaign', 'at&amp;t labs research', 'microsoft research asia']\n",
      "U24046 ['whova', 'university of illinois at urbana-champaign', 'microsoft', 'google', 'chinese academy of sciences', 'fudan university']\n",
      "U11558 ['google', 'intel', 'microsoft research asia']\n",
      "U7151 ['google', 'department of computer science | university of illinois', 'microsoft', 'bank of america merrill lynch', 'otcr consulting', 'black brothers co.']\n",
      "U7153 ['facebook', 'google', 'uc san diego', 'apple']\n",
      "U27661 ['google', 'at&amp;t labs inc.', 'university of michigan']\n",
      "U27758 ['google']\n",
      "U19913 ['google', 'university of illinois at urbana-champaign', 'student sustainability committee', 'bazaarvoice', 'city of moline']\n",
      "U8699 ['university of illinois at urbana-champaign', 'google', 'cornell university', 'microsoft', 'ibm']\n",
      "U2723 ['pinterest', 'ucla', 'google', 'tsinghua university', 'microsoft research asia']\n",
      "U2761 ['google']\n",
      "U24130 ['university of southern california', 'google', 'information sciences institute']\n",
      "U7202 ['google', 'university of illinois at urbana-champaign']\n",
      "U27649 ['google', 'medallia inc.', 'putao (http: pt.sjtu.edu.cn) p2p sharing community in shanghai jiao tong university', 'morgan stanley']\n",
      "U3955 ['google']\n",
      "U24082 ['google', 'turn', 'polyvore', 'carnegie mellon university', 'sohu.com']\n",
      "U27726 ['asana', 'facebook', 'google', 'strategic data corp', 'adaptive ai inc', 'telseon', 'hewlett-packard']\n",
      "U2631 ['university of texas at austin', 'google', 'microsoft research asia', 'msra-ucla research in industrial projects for students']\n",
      "U28776 ['google']\n",
      "U7220 ['google', 'facebook']\n",
      "U27791 ['google', 'georgia institute of technology']\n",
      "U24085 ['google']\n",
      "U8721 ['google', 'university of illinois at urbana-champaign', 'hewlett-packard laboratories', 'yahoo!']\n",
      "U14131 ['facebook', 'microsoft', 'google', 'telco in a box', 'university of new south wales']\n",
      "U4568 ['google', 'university of illinois at urbana-champaign', 'samsung', 'bell laboratories']\n",
      "U11566 ['university of illinois at urbana-champaign', 'linkedin', 'google', 'microsoft']\n",
      "U27602 ['google']\n",
      "U27494 ['google', 'alibaba cloud computing', 'eleme inc.', 'microsoft']\n",
      "U11580 ['google', 'yahoo!', 'microsoft research asia']\n",
      "U2734 ['microsoft', 'google inc']\n",
      "U4010 ['google', 'microsoft']\n",
      "U24154 ['google']\n"
     ]
    }
   ],
   "source": [
    "x = []\n",
    "\n",
    "for n in G.nodes:\n",
    "    if n in employer:\n",
    "        if 'google' in employer[n] or 'google inc' in employer[n]:\n",
    "            print(n, employer[n])\n",
    "            x.append(n)\n",
    "            \n",
    "# x contains the nodes where google was found as an employer\n",
    "# we print the value of the nodes in the array and the employers for each one"
   ]
  },
  {
   "cell_type": "code",
   "execution_count": 5,
   "metadata": {},
   "outputs": [
    {
     "name": "stdout",
     "output_type": "stream",
     "text": [
      "['U7912', 'U4456', 'U11591', 'U2656', 'U24080']\n",
      "['U7912', 'U4456', 'U11591', 'U2656', 'U2625', 'U2631']\n",
      "['U7912', 'U4456', 'U11591', 'U2656', 'U2625', 'U2723']\n",
      "['U7912', 'U4456', 'U11591', 'U2656', 'U7319', 'U7024', 'U7151']\n",
      "['U7912', 'U4456', 'U11591', 'U2656', 'U7319', 'U7024', 'U7153']\n",
      "['U7912', 'U4456', 'U11591', 'U2656', 'U7319', 'U7024', 'U7220']\n",
      "['U7912', 'U4456', 'U11591', 'U27287', 'U11580']\n",
      "['U7912', 'U4456', 'U11591', 'U27287', 'U24095', 'U2734']\n",
      "['U7912', 'U4456', 'U11591', 'U27287', 'U24184', 'U8670', 'U24130']\n",
      "['U7912', 'U4456', 'U11591', 'U27287', 'U24184', 'U8670', 'U8721']\n",
      "['U7912', 'U4456', 'U11591', 'U27287', 'U2627', 'U2622', 'U2691', 'U24085']\n",
      "['U7912', 'U4456', 'U11591', 'U27287', 'U2627', 'U2622', 'U2691', 'U24085', 'U24082']\n",
      "['U7912', 'U4456', 'U11591', 'U27287', 'U2627', 'U2622', 'U2691', 'U2761']\n",
      "['U7912', 'U4456', 'U11591', 'U27287', 'U27494']\n",
      "['U7912', 'U4456', 'U11591', 'U27287', 'U27602']\n",
      "['U7912', 'U4456', 'U11591', 'U27287', 'U27649']\n",
      "['U7912', 'U4456', 'U11591', 'U27287', 'U27661']\n",
      "['U7912', 'U4456', 'U11591', 'U27287', 'U27726']\n",
      "['U7912', 'U4456', 'U11591', 'U27287', 'U27758']\n",
      "['U7912', 'U4456', 'U11591', 'U27287', 'U27791']\n",
      "['U7912', 'U4456', 'U11591', 'U27287', 'U7202']\n",
      "['U7912', 'U4456', 'U11591', 'U27287', 'U7202', 'U19913']\n",
      "['U7912', 'U4661', 'U4562', 'U11566']\n",
      "['U7912', 'U4661', 'U4562', 'U11566', 'U14068', 'U14131']\n",
      "['U7912', 'U4661', 'U4562', 'U11566', 'U28776']\n",
      "['U7912', 'U4661', 'U4562', 'U24045', 'U24046']\n",
      "['U7912', 'U4661', 'U4568']\n",
      "['U7912', 'U4661', 'U4568', 'U11575']\n",
      "['U7912', 'U4661', 'U4568', 'U3955']\n",
      "['U7912', 'U4661', 'U4568', 'U3955', 'U11558']\n",
      "['U7912', 'U4661', 'U4568', 'U3955', 'U3895']\n",
      "['U7912', 'U4661', 'U4568', 'U3955', 'U4010']\n",
      "['U7912', 'U4661', 'U4568', 'U8279', 'U14005', 'U13969', 'U8699']\n",
      "['U7912', 'U4661', 'U4568', 'U8279', 'U14005', 'U13995', 'U24154']\n",
      "['U7912', 'U4661', 'U4568', 'U8279', 'U8702', 'U15267', 'U15289']\n"
     ]
    }
   ],
   "source": [
    "y = []\n",
    "\n",
    "for i in x:\n",
    "    y.append(nx.shortest_path(G, 'U7912', i))\n",
    "\n",
    "y = sorted(y)\n",
    "\n",
    "for a in y: print (a)\n",
    "\n",
    "# y is the sorted list of arrays describing each of the paths from\n",
    "# our node of interest to the ones where one of the employers is google"
   ]
  },
  {
   "cell_type": "code",
   "execution_count": 6,
   "metadata": {},
   "outputs": [
    {
     "name": "stdout",
     "output_type": "stream",
     "text": [
      "2 ['U7912', 'U4456', 'U11591', 'U27287', 'U2627', 'U2622', 'U2691', 'U24085']\n",
      "2 ['U7912', 'U4456', 'U11591', 'U27287', 'U7202']\n",
      "3 ['U7912', 'U4661', 'U4562', 'U11566']\n",
      "9 ['U7912', 'U4661', 'U4568']\n"
     ]
    }
   ],
   "source": [
    "z1 = []\n",
    "i = 0\n",
    "\n",
    "while i < len(y)-1:\n",
    "    j = 1\n",
    "    while True:\n",
    "        if i+j > len(y)-1: break\n",
    "        if len(y[i+j]) < len(y[i]): break\n",
    "        if y[i+j][0:len(y[i])] == y[i]: j = j+1\n",
    "        else: break\n",
    "    if j > 1: \n",
    "        print(j, y[i])\n",
    "        z1.append(y[i])\n",
    "    i = i+j\n",
    "\n",
    "# z1 is a list that contains the paths where the destination node appears in other paths"
   ]
  },
  {
   "cell_type": "code",
   "execution_count": 7,
   "metadata": {},
   "outputs": [
    {
     "name": "stdout",
     "output_type": "stream",
     "text": [
      "2 ['U7912', 'U4456', 'U11591', 'U2656', 'U2625']\n",
      "3 ['U7912', 'U4456', 'U11591', 'U2656', 'U7319', 'U7024']\n",
      "2 ['U7912', 'U4456', 'U11591', 'U27287', 'U24184', 'U8670']\n",
      "8 ['U7912', 'U4456', 'U11591', 'U27287']\n",
      "2 ['U7912', 'U4661', 'U4568']\n",
      "3 ['U7912', 'U4661', 'U4568', 'U3955']\n"
     ]
    }
   ],
   "source": [
    "z2 = []\n",
    "i = 0\n",
    "\n",
    "while i < len(y)-1:\n",
    "    j = 1\n",
    "    while True:\n",
    "        if i+j > len(y)-1: break\n",
    "        if len(y[i+j]) != len(y[i]): break\n",
    "        if y[i+j][0:-1] == y[i][0:-1]: j = j+1\n",
    "        else: break\n",
    "    if j > 1: \n",
    "        print(j, y[i][0:-1])\n",
    "        z2.append(y[i][0:-1])\n",
    "    i = i+j\n",
    "\n",
    "# z2 contains the paths that open the most destination nodes"
   ]
  },
  {
   "cell_type": "code",
   "execution_count": null,
   "metadata": {},
   "outputs": [],
   "source": []
  }
 ],
 "metadata": {
  "kernelspec": {
   "display_name": "Python 3",
   "language": "python",
   "name": "python3"
  },
  "language_info": {
   "codemirror_mode": {
    "name": "ipython",
    "version": 3
   },
   "file_extension": ".py",
   "mimetype": "text/x-python",
   "name": "python",
   "nbconvert_exporter": "python",
   "pygments_lexer": "ipython3",
   "version": "3.6.7"
  }
 },
 "nbformat": 4,
 "nbformat_minor": 2
}
