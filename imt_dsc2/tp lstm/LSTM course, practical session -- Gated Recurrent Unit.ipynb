{
 "cells": [
  {
   "cell_type": "markdown",
   "metadata": {},
   "source": [
    "# Organization of this notebook"
   ]
  },
  {
   "cell_type": "markdown",
   "metadata": {},
   "source": [
    "1 - Various imports that will be useful all along the notebook\n",
    "\n",
    "2 - Objectives of the practical session\n",
    "\n",
    "3 - The dataset\n",
    "\n",
    ".... 3.1 - Creation of the dataset\n",
    "\n",
    ".... 3.2 - Analysis of the dataset\n",
    "\n",
    "......... 3.2.1 - Uniformity of choices\n",
    "\n",
    "......... 3.2.2 - Regularity of the patterns\n",
    "\n",
    "......... 3.2.3 - Regularity of the movements in the game interface\n",
    "\n",
    "4 - A GRU for winning the game\n",
    "\n",
    ".... 4.1 - Preparing the training and validation datasets\n",
    "\n",
    ".... 4.2 - Formatting data for PyTorch\n",
    "\n",
    ".... 4.3 - Instanciating the model\n",
    "\n",
    ".... 4.4 - Training the model\n",
    "\n",
    ".... 4.5 - Let's play!\n",
    "\n",
    ".... 4.6 - Impact of the hyperparameters\n",
    "\n",
    "5 - Exercise"
   ]
  },
  {
   "cell_type": "markdown",
   "metadata": {},
   "source": [
    "# 1 - Various imports that will be useful all along the notebook"
   ]
  },
  {
   "cell_type": "code",
   "execution_count": 43,
   "metadata": {},
   "outputs": [],
   "source": [
    "import IPython.display as display\n",
    "import ipywidgets\n",
    "import ipywidgets.widgets as widgets\n",
    "import matplotlib.pyplot as pyplot\n",
    "import statsmodels.graphics.tsaplots as tsaplots\n",
    "import sklearn.preprocessing as preprocessing\n",
    "import sklearn.linear_model as linear_model\n",
    "import pandas\n",
    "import numpy\n",
    "import random\n",
    "import torch\n",
    "import torch.nn as nn\n",
    "import os\n",
    "import os.path as path\n",
    "import time"
   ]
  },
  {
   "cell_type": "markdown",
   "metadata": {},
   "source": [
    "# 2 - Objectives of the practical session"
   ]
  },
  {
   "cell_type": "markdown",
   "metadata": {},
   "source": [
    "In this session, we are going to train a GRU to beat you at Rock-Paper-Scissors-Lizard-Spock. If you are unfamiliar with the game, here is a short extract from the Big Bang Theory series which presents its rules:"
   ]
  },
  {
   "cell_type": "code",
   "execution_count": 44,
   "metadata": {},
   "outputs": [
    {
     "data": {
      "text/html": [
       "\n",
       "        <iframe\n",
       "            width=\"975\"\n",
       "            height=\"550\"\n",
       "            src=\"https://www.youtube.com/embed/x5Q6-wMx-K8?rel=0&amp;controls=0&amp;showinfo=0\"\n",
       "            frameborder=\"0\"\n",
       "            allowfullscreen\n",
       "        ></iframe>\n",
       "        "
      ],
      "text/plain": [
       "<IPython.lib.display.IFrame at 0x7f946eebd630>"
      ]
     },
     "execution_count": 44,
     "metadata": {},
     "output_type": "execute_result"
    }
   ],
   "source": [
    "display.IFrame(width=\"975\", height=\"550\", src=\"https://www.youtube.com/embed/x5Q6-wMx-K8?rel=0&amp;controls=0&amp;showinfo=0\")"
   ]
  },
  {
   "cell_type": "markdown",
   "metadata": {},
   "source": [
    "As this may be hard to remember the first couple of times, here is a diagram summing up the rules. An arrow from A to B means that A beats B:"
   ]
  },
  {
   "cell_type": "code",
   "execution_count": 45,
   "metadata": {},
   "outputs": [
    {
     "data": {
      "text/html": [
       "<img src=\"https://res.cloudinary.com/teepublic/image/private/s--EL3WFTcn--/t_Resized%20Artwork/c_fit,g_north_west,h_954,w_954/co_ffffff,e_outline:48/co_ffffff,e_outline:inner_fill:48/co_ffffff,e_outline:48/co_ffffff,e_outline:inner_fill:48/co_bbbbbb,e_outline:3:1000/c_mpad,g_center,h_1260,w_1260/b_rgb:eeeeee/c_limit,f_jpg,h_630,q_90,w_630/v1547912246/production/designs/4037632_0.jpg\" width=\"975\"/>"
      ],
      "text/plain": [
       "<IPython.core.display.Image object>"
      ]
     },
     "execution_count": 45,
     "metadata": {},
     "output_type": "execute_result"
    }
   ],
   "source": [
    "display.Image(width=975, url=\"https://res.cloudinary.com/teepublic/image/private/s--EL3WFTcn--/t_Resized%20Artwork/c_fit,g_north_west,h_954,w_954/co_ffffff,e_outline:48/co_ffffff,e_outline:inner_fill:48/co_ffffff,e_outline:48/co_ffffff,e_outline:inner_fill:48/co_bbbbbb,e_outline:3:1000/c_mpad,g_center,h_1260,w_1260/b_rgb:eeeeee/c_limit,f_jpg,h_630,q_90,w_630/v1547912246/production/designs/4037632_0.jpg\")"
   ]
  },
  {
   "cell_type": "markdown",
   "metadata": {},
   "source": [
    "Finally, let us sum up this as a Python code, that we will use in this practical session. First, let's define a list of possible moves:"
   ]
  },
  {
   "cell_type": "code",
   "execution_count": 46,
   "metadata": {},
   "outputs": [],
   "source": [
    "\"\"\"\n",
    "Constant with the possible moves of the game.\n",
    "\"\"\"\n",
    "POSSIBLE_MOVES = [\"Rock\", \"Paper\", \"Scissors\", \"Lizard\", \"Spock\"]"
   ]
  },
  {
   "cell_type": "markdown",
   "metadata": {},
   "source": [
    "Then, in order to print the results of the various matches we will play, here is a simple Python function that takes two decisions as an input, and returns a string describing who wins:"
   ]
  },
  {
   "cell_type": "code",
   "execution_count": 47,
   "metadata": {},
   "outputs": [],
   "source": [
    "\"\"\"\n",
    "This function encodes the diagram above.\n",
    "Arguments:\n",
    "----------\n",
    "  * player: Decision of the player, to take from the values in POSSIBLE_MOVES.\n",
    "  * opponent: Decision of the opponent, to take from the values in POSSIBLE_MOVES.\n",
    "Returns:\n",
    "--------\n",
    "  * result: 0 if the player loses, 1 for a draw, 2 is when player wins.\n",
    "  * text_result: Textual representation of the result.\n",
    "\"\"\"\n",
    "def check_who_wins (player, opponent) :\n",
    "    \n",
    "    # Matrix with indices 0-4 corresponding with possible moves in the order of POSSIBLE_MOVES\n",
    "    result_to_string = {0: \"You lose\", 1: \"Draw\", 2: \"You win\"}\n",
    "    matrix_wins = numpy.array([[1, 0, 2, 2, 0],\n",
    "                               [2, 1, 0, 0, 2],\n",
    "                               [0, 2, 1, 2, 0],\n",
    "                               [0, 2, 0, 1, 2],\n",
    "                               [2, 0, 2, 0, 1]])\n",
    "    \n",
    "    # We check who wins\n",
    "    result = matrix_wins[POSSIBLE_MOVES.index(player), POSSIBLE_MOVES.index(opponent)]\n",
    "    text_result = result_to_string[result]\n",
    "    \n",
    "    return result, text_result"
   ]
  },
  {
   "cell_type": "markdown",
   "metadata": {},
   "source": [
    "Let's check if everything seems to work fine:"
   ]
  },
  {
   "cell_type": "code",
   "execution_count": 48,
   "metadata": {},
   "outputs": [
    {
     "name": "stdout",
     "output_type": "stream",
     "text": [
      "Player: Rock -- Opponent: Rock -- Draw\n",
      "Player: Rock -- Opponent: Paper -- You lose\n",
      "Player: Rock -- Opponent: Scissors -- You win\n",
      "Player: Rock -- Opponent: Lizard -- You win\n",
      "Player: Rock -- Opponent: Spock -- You lose\n",
      "Player: Paper -- Opponent: Rock -- You win\n",
      "Player: Paper -- Opponent: Paper -- Draw\n",
      "Player: Paper -- Opponent: Scissors -- You lose\n",
      "Player: Paper -- Opponent: Lizard -- You lose\n",
      "Player: Paper -- Opponent: Spock -- You win\n",
      "Player: Scissors -- Opponent: Rock -- You lose\n",
      "Player: Scissors -- Opponent: Paper -- You win\n",
      "Player: Scissors -- Opponent: Scissors -- Draw\n",
      "Player: Scissors -- Opponent: Lizard -- You win\n",
      "Player: Scissors -- Opponent: Spock -- You lose\n",
      "Player: Lizard -- Opponent: Rock -- You lose\n",
      "Player: Lizard -- Opponent: Paper -- You win\n",
      "Player: Lizard -- Opponent: Scissors -- You lose\n",
      "Player: Lizard -- Opponent: Lizard -- Draw\n",
      "Player: Lizard -- Opponent: Spock -- You win\n",
      "Player: Spock -- Opponent: Rock -- You win\n",
      "Player: Spock -- Opponent: Paper -- You lose\n",
      "Player: Spock -- Opponent: Scissors -- You win\n",
      "Player: Spock -- Opponent: Lizard -- You lose\n",
      "Player: Spock -- Opponent: Spock -- Draw\n"
     ]
    }
   ],
   "source": [
    "# Print all possible combinations\n",
    "for player in POSSIBLE_MOVES :\n",
    "    for opponent in POSSIBLE_MOVES :\n",
    "        result, text_result = check_who_wins(player, opponent)\n",
    "        print(\"Player:\", player, \"-- Opponent:\", opponent, \"--\", text_result)"
   ]
  },
  {
   "cell_type": "markdown",
   "metadata": {},
   "source": [
    "# 3 - The dataset"
   ]
  },
  {
   "cell_type": "markdown",
   "metadata": {},
   "source": [
    "## 3.1 - Creation of the dataset"
   ]
  },
  {
   "cell_type": "markdown",
   "metadata": {},
   "source": [
    "Now that you have understood the game we are going to play, well, let's play a bit! The following cell defines a graphical interface to play the game:"
   ]
  },
  {
   "cell_type": "code",
   "execution_count": 49,
   "metadata": {},
   "outputs": [],
   "source": [
    "\"\"\"\n",
    "This function creates a GUI to play the game of Rock-Paper-Scissors-Lizard-Spock.\n",
    "Arguments:\n",
    "----------\n",
    "  * callback_function: Function that is called everytime a button is pressed.\n",
    "  * initial_text_before: Text to print above the buttons at the beginning.\n",
    "  * initial_text_after: Text to print below the buttons at the beginning.\n",
    "Returns:\n",
    "--------\n",
    "  * text_before: Updatable text area above the buttons.\n",
    "  * text_after: Updatable text area below the buttons.\n",
    "\"\"\"\n",
    "def show_interface (callback_function, initial_text_before, initial_text_after) :\n",
    "    \n",
    "    # Buttons (one for each entry in POSSIBLE_MOVES)\n",
    "    buttons = [widgets.Button(description=move) for move in POSSIBLE_MOVES]\n",
    "    buttons_line = ipywidgets.HBox(buttons)\n",
    "    for button in buttons :\n",
    "        button.on_click(callback)\n",
    "    \n",
    "    # Show them\n",
    "    # If you get some boring warnings, try the following 2 commands:\n",
    "    # pip3 install widgetsnbextension\n",
    "    # jupyter nbextension enable --py widgetsnbextension\n",
    "    text_before = display.display(initial_text_before, display_id=True)\n",
    "    display.display(buttons_line)\n",
    "    text_after = display.display(initial_text_after, display_id=True)\n",
    "    \n",
    "    return text_before, text_after"
   ]
  },
  {
   "cell_type": "markdown",
   "metadata": {},
   "source": [
    "The following code will instanciate a game interface, and ask you to play several games of Rock-Paper-Scissors-Lizard-Spock. Your decisions will be recorded (in a file in case your kernel crashes somehow), and will later be used to train the GRU.\n",
    "\n",
    "This part may take some time, so don't overthink it and be as intuitive as possible. Even if you think you play randomly, you will unconsciously repeat some patterns over time that the GRU will learn and exploit:"
   ]
  },
  {
   "cell_type": "code",
   "execution_count": 50,
   "metadata": {
    "scrolled": true
   },
   "outputs": [],
   "source": [
    "\"\"\"\n",
    "Constant with the name of the file where to save/load the decisions.\n",
    "\"\"\"\n",
    "DATASET_FILE = \"rpsls_dataset.csv\""
   ]
  },
  {
   "cell_type": "code",
   "execution_count": 51,
   "metadata": {},
   "outputs": [],
   "source": [
    "\"\"\"\n",
    "Constant with the expected size for the dataset we want to create.\n",
    "If the file already contains more than this quantity, we will use all of the file contents.\n",
    "\"\"\"\n",
    "EXPECTED_DATASET_SIZE = 500"
   ]
  },
  {
   "cell_type": "code",
   "execution_count": 52,
   "metadata": {},
   "outputs": [],
   "source": [
    "# First, let's load existing games\n",
    "dataset_file = open(DATASET_FILE, \"a+\")\n",
    "dataset_file.seek(0)\n",
    "dataset = [entry for entry in dataset_file.readline().replace(\" \", \"\").replace(\"\\n\", \"\").split(\";\") if entry != \"\"]"
   ]
  },
  {
   "cell_type": "code",
   "execution_count": 53,
   "metadata": {},
   "outputs": [],
   "source": [
    "\"\"\"\n",
    "Callback function to give to the show_interface function.\n",
    "Arguments:\n",
    "----------\n",
    "  * button: Button which is clicked, with choice accessible through button.description.\n",
    "Returns:\n",
    "--------\n",
    "  * None.\n",
    "\"\"\"\n",
    "def callback (button) :\n",
    "\n",
    "    # Save the choice of the player\n",
    "    if len(dataset) < EXPECTED_DATASET_SIZE :\n",
    "        if len(dataset) > 0 :\n",
    "            dataset_file.write(\";\")\n",
    "        dataset_file.write(button.description)\n",
    "        dataset_file.flush()\n",
    "        dataset.append(button.description)\n",
    "    \n",
    "    # show what a random player would have played\n",
    "    opponent = random.choice(POSSIBLE_MOVES)\n",
    "    result, text_result = check_who_wins(button.description, opponent)\n",
    "    text_before.update(\"[\" + str(len(dataset)) + \" / \" + str(EXPECTED_DATASET_SIZE) + \"] -- Choose one:\")\n",
    "    text_after.update(\"Player: \" + button.description + \" -- Opponent: \" + opponent + \" -- \" + text_result)"
   ]
  },
  {
   "cell_type": "code",
   "execution_count": 54,
   "metadata": {},
   "outputs": [
    {
     "data": {
      "text/plain": [
       "'[500 / 500] -- Choose one:'"
      ]
     },
     "metadata": {},
     "output_type": "display_data"
    },
    {
     "data": {
      "application/vnd.jupyter.widget-view+json": {
       "model_id": "7e3798491e9a4379a1a7a5d10a061d5b",
       "version_major": 2,
       "version_minor": 0
      },
      "text/plain": [
       "HBox(children=(Button(description='Rock', style=ButtonStyle()), Button(description='Paper', style=ButtonStyle(…"
      ]
     },
     "metadata": {},
     "output_type": "display_data"
    },
    {
     "data": {
      "text/plain": [
       "''"
      ]
     },
     "metadata": {},
     "output_type": "display_data"
    }
   ],
   "source": [
    "# Interface\n",
    "text_before, text_after = show_interface(callback, \"[\" + str(len(dataset)) + \" / \" + str(EXPECTED_DATASET_SIZE) + \"] -- Choose one:\", \"\")"
   ]
  },
  {
   "cell_type": "markdown",
   "metadata": {},
   "source": [
    "## 3.2 - Analysis of the dataset"
   ]
  },
  {
   "cell_type": "markdown",
   "metadata": {},
   "source": [
    "Let's have a look at what you played during dataset generation. Through a few quick analyzes, we will try to see if you are predictable enough for a neural network to anticipate your behavior."
   ]
  },
  {
   "cell_type": "markdown",
   "metadata": {},
   "source": [
    "### 3.2.1 - Uniformity of choices"
   ]
  },
  {
   "cell_type": "markdown",
   "metadata": {},
   "source": [
    "First, let's see if you made some uniform choices:"
   ]
  },
  {
   "cell_type": "code",
   "execution_count": 55,
   "metadata": {},
   "outputs": [
    {
     "data": {
      "text/plain": [
       "<matplotlib.axes._subplots.AxesSubplot at 0x7f9470fad390>"
      ]
     },
     "execution_count": 55,
     "metadata": {},
     "output_type": "execute_result"
    },
    {
     "data": {
      "image/png": "[encoded data removed]",
      "text/plain": [
       "<Figure size 432x288 with 1 Axes>"
      ]
     },
     "metadata": {
      "needs_background": "light"
     },
     "output_type": "display_data"
    }
   ],
   "source": [
    "# Histogram of the choices made\n",
    "pandas.Series(dataset).value_counts().plot(kind=\"bar\")"
   ]
  },
  {
   "cell_type": "markdown",
   "metadata": {},
   "source": [
    "### 3.2.2 - Regularity of the patterns"
   ]
  },
  {
   "cell_type": "markdown",
   "metadata": {},
   "source": [
    "Another interesting aspect we should evaluate is whether you tend to regularly repeat some patterns in your play style. Let's compute a pseudo-autocorrelation of the dataset, seen as a time series.\n",
    "\n",
    "Normally, to compute autocorrelation of a time series, we shift it by a lag L, and compute the correlation between the lagged series and the original one. Since it does not directly make sense for series of words, we proceed by doing the same, with the difference that we replace autocorrelation with a simple count of the words that remain the same when lagged:"
   ]
  },
  {
   "cell_type": "code",
   "execution_count": 56,
   "metadata": {},
   "outputs": [],
   "source": [
    "\"\"\"\n",
    "Function to compute a pseudo-measure of autocorrelation.\n",
    "Arguments:\n",
    "----------\n",
    "  * series: List of words for which we want to compute the pseudo-autocorrelation.\n",
    "  * lag: Shift to apply to the list elements to compute pseudo-autocorrelation.\n",
    "Returns:\n",
    "--------\n",
    "  * ratio: Ratio of indices that have the same word in the lagged and non-lagged series.\n",
    "\"\"\"\n",
    "def pseudo_autocorrelation (series, lag) :\n",
    "    \n",
    "    # We shift the series by the lag\n",
    "    lagged_series = numpy.roll(series, lag)\n",
    "    \n",
    "    # We count the number of identical entries and return a percentage\n",
    "    count = numpy.sum(numpy.array(series) == lagged_series)\n",
    "    ratio = count / len(series)\n",
    "    \n",
    "    return ratio"
   ]
  },
  {
   "cell_type": "markdown",
   "metadata": {},
   "source": [
    "Let's compute this quantity for all possible lags on your decisions:"
   ]
  },
  {
   "cell_type": "code",
   "execution_count": 15,
   "metadata": {},
   "outputs": [
    {
     "data": {
      "image/png": "[encoded data removed]",
      "text/plain": [
       "<Figure size 432x288 with 1 Axes>"
      ]
     },
     "metadata": {
      "needs_background": "light"
     },
     "output_type": "display_data"
    }
   ],
   "source": [
    "# Pseudo-autocorrelation of time series\n",
    "lags = range(round(len(dataset) / 2))\n",
    "measures = [pseudo_autocorrelation(dataset, lag) for lag in lags]\n",
    "\n",
    "# Plot\n",
    "pyplot.stem(lags, measures, use_line_collection=True)\n",
    "pyplot.show()"
   ]
  },
  {
   "cell_type": "markdown",
   "metadata": {},
   "source": [
    "Obviously, lag 0 is not very informative. Let's remove it:"
   ]
  },
  {
   "cell_type": "code",
   "execution_count": 16,
   "metadata": {},
   "outputs": [
    {
     "data": {
      "image/png": "[encoded data removed]",
      "text/plain": [
       "<Figure size 432x288 with 1 Axes>"
      ]
     },
     "metadata": {
      "needs_background": "light"
     },
     "output_type": "display_data"
    }
   ],
   "source": [
    "# Plot\n",
    "pyplot.stem(lags[1:], measures[1:], use_line_collection=True)\n",
    "pyplot.show()"
   ]
  },
  {
   "cell_type": "markdown",
   "metadata": {},
   "source": [
    "Random behavior should lead to a mean around 1/len(POSSIBLE_MOVES). If you see a spike somewhere ar lag L, it indicates that you tend to repeat the same sequence of actions every L turns.\n",
    "\n",
    "To conclude with this analysis, let's focus more on small lag values, as it is more probable that you have short-time regularities (let's say Rock-Paper-Scissors-Rock-Paper-Scissors-Rock-Paper-Scissors-...) than long ones:"
   ]
  },
  {
   "cell_type": "code",
   "execution_count": 17,
   "metadata": {},
   "outputs": [
    {
     "data": {
      "image/png": "[encoded data removed]",
      "text/plain": [
       "<Figure size 432x288 with 1 Axes>"
      ]
     },
     "metadata": {
      "needs_background": "light"
     },
     "output_type": "display_data"
    }
   ],
   "source": [
    "# Plot\n",
    "pyplot.stem(lags[1:25], measures[1:25], use_line_collection=True)\n",
    "pyplot.show()"
   ]
  },
  {
   "cell_type": "markdown",
   "metadata": {},
   "source": [
    "### 3.2.3 - Regularity of the movements in the game interface"
   ]
  },
  {
   "cell_type": "markdown",
   "metadata": {},
   "source": [
    "It is quite possible that the previous analysis didn't show anything significant for you, since you may not have been regularly repeating sequences of choices.\n",
    "\n",
    "Now, let's try to simply replace Rock-Paper-Scissors-Lizard-Spock in the dataset with their indices in POSSIBLE_MOVES, and compute the autocorrelation of the obtained series. At first sight, this should not make a lot of sense to do so, as different assignments of indices should lead to different results.\n",
    "\n",
    "However, the order in which choices are organized in POSSIBLE_MOVES is the same as the one in which the associated buttons are presented in the game interface. Therefore, an increase in index corresponds to choosing a button on the right of the previous one, and a decrease corresponds to choosing a button on the left of the previous one. Therefore, if you measure a significant autocorrelation, you may be prone to regularities in your choices based on how the interface is organized.\n",
    "\n",
    "This time, let us analyze autocorrelation using a correlogram:"
   ]
  },
  {
   "cell_type": "code",
   "execution_count": 18,
   "metadata": {},
   "outputs": [
    {
     "data": {
      "image/png": "[encoded data removed]",
      "text/plain": [
       "<Figure size 432x288 with 1 Axes>"
      ]
     },
     "metadata": {
      "needs_background": "light"
     },
     "output_type": "display_data"
    }
   ],
   "source": [
    "# We replace moves with the indices\n",
    "dataset_as_numbers = [POSSIBLE_MOVES.index(move) for move in dataset]\n",
    "\n",
    "# Plot autocorrelation\n",
    "tsaplots.plot_acf(numpy.array(dataset_as_numbers))\n",
    "pyplot.show()"
   ]
  },
  {
   "cell_type": "markdown",
   "metadata": {},
   "source": [
    "In this plot, the blue area shows the 95% confidence threshold. If you see some values go out of the area, you most certainly repeat patterns in your movements.\n",
    "\n",
    "Finally, we may be also interested in the partial autocorrelations. In brief, partial autocorrelation at lag L is the correlation that results after removing the effect of any correlations due to the terms at shorter lags [1].\n",
    "\n",
    "[1] P.S.P. Cowpertwait & A.V. Metcalfe -- Introductory Time Series with R (2009).\n",
    "\n",
    "We can compute it as follows:"
   ]
  },
  {
   "cell_type": "code",
   "execution_count": 19,
   "metadata": {},
   "outputs": [
    {
     "data": {
      "image/png": "[encoded data removed]",
      "text/plain": [
       "<Figure size 432x288 with 1 Axes>"
      ]
     },
     "metadata": {
      "needs_background": "light"
     },
     "output_type": "display_data"
    }
   ],
   "source": [
    "# Plot partial autocorrelations\n",
    "tsaplots.plot_pacf(numpy.array(dataset_as_numbers))\n",
    "pyplot.show()"
   ]
  },
  {
   "cell_type": "markdown",
   "metadata": {},
   "source": [
    "Let's see what this would look like in a baseline situation, in which we alternate between buttons on the left and on the right of the previous one:"
   ]
  },
  {
   "cell_type": "code",
   "execution_count": 20,
   "metadata": {},
   "outputs": [
    {
     "data": {
      "image/png": "[encoded data removed]",
      "text/plain": [
       "<Figure size 432x288 with 1 Axes>"
      ]
     },
     "metadata": {
      "needs_background": "light"
     },
     "output_type": "display_data"
    },
    {
     "data": {
      "image/png": "[encoded data removed]",
      "text/plain": [
       "<Figure size 432x288 with 1 Axes>"
      ]
     },
     "metadata": {
      "needs_background": "light"
     },
     "output_type": "display_data"
    }
   ],
   "source": [
    "# Create dataset\n",
    "dataset_left_right = [0]\n",
    "go_right = True\n",
    "for i in range(1000) :\n",
    "    previous = dataset_left_right[-1]\n",
    "    if go_right :\n",
    "        choices = range(previous+1, len(POSSIBLE_MOVES))\n",
    "    else :\n",
    "        choices = range(0, previous)\n",
    "    dataset_left_right.append(random.choice(choices))\n",
    "    go_right = not go_right\n",
    "\n",
    "# Plot autocorrelation\n",
    "tsaplots.plot_acf(numpy.array(dataset_left_right))\n",
    "pyplot.show()\n",
    "\n",
    "# Plot partial autocorrelations\n",
    "tsaplots.plot_pacf(numpy.array(dataset_left_right))\n",
    "pyplot.show()"
   ]
  },
  {
   "cell_type": "markdown",
   "metadata": {},
   "source": [
    "Clearly, there is a correlation for even lag values, and an anticorrelation for odd ones.\n",
    "\n",
    "If you want to know a bit more about correlograms, here is a short online resource giving hints on how to interprete them: http://itfeature.com/time-series-analysis-and-forecasting/correlogram"
   ]
  },
  {
   "cell_type": "markdown",
   "metadata": {},
   "source": [
    "# 4 - A GRU for winning the game"
   ]
  },
  {
   "cell_type": "markdown",
   "metadata": {},
   "source": [
    "## 4.1 - Preparing the training and validation datasets"
   ]
  },
  {
   "cell_type": "markdown",
   "metadata": {},
   "source": [
    "Before we train the model with data, we need to format them so that they can be understood by the network. Let's use one-hot encoding. Since there are 5 possible choices in the game, we will have a 5-dimensional input vector, in which only one entry is equal to 1 at a time."
   ]
  },
  {
   "cell_type": "code",
   "execution_count": 21,
   "metadata": {},
   "outputs": [
    {
     "name": "stdout",
     "output_type": "stream",
     "text": [
      "Encoding:\n",
      "Rock -> [0. 0. 1. 0. 0.]\n",
      "Paper -> [0. 1. 0. 0. 0.]\n",
      "Scissors -> [0. 0. 0. 1. 0.]\n",
      "Lizard -> [1. 0. 0. 0. 0.]\n",
      "Spock -> [0. 0. 0. 0. 1.]\n",
      "\n",
      "Examples:\n",
      "Paper -> [0. 1. 0. 0. 0.]\n",
      "Scissors -> [0. 0. 0. 1. 0.]\n",
      "Spock -> [0. 0. 0. 0. 1.]\n",
      "Scissors -> [0. 0. 0. 1. 0.]\n",
      "Rock -> [0. 0. 1. 0. 0.]\n",
      "Paper -> [0. 1. 0. 0. 0.]\n",
      "Scissors -> [0. 0. 0. 1. 0.]\n",
      "Lizard -> [1. 0. 0. 0. 0.]\n",
      "Scissors -> [0. 0. 0. 1. 0.]\n",
      "Paper -> [0. 1. 0. 0. 0.]\n"
     ]
    }
   ],
   "source": [
    "# Strings to one-hot\n",
    "onehot_encoder = preprocessing.OneHotEncoder(sparse=False)\n",
    "onehot_encoded = onehot_encoder.fit_transform(numpy.array(POSSIBLE_MOVES).reshape(-1, 1))\n",
    "\n",
    "# Print encoding\n",
    "print(\"Encoding:\")\n",
    "for i in range(len(POSSIBLE_MOVES)) :\n",
    "    print(POSSIBLE_MOVES[i], \"->\", onehot_encoded[i])\n",
    "\n",
    "# Encode dataset\n",
    "encoded_dataset = onehot_encoder.transform(numpy.array(dataset).reshape(len(dataset), 1))\n",
    "\n",
    "# Print a few examples from the dataset\n",
    "print(\"\\nExamples:\")\n",
    "NB_PRINTS = 10\n",
    "for i in range(NB_PRINTS) :\n",
    "    print(dataset[i], \"->\", encoded_dataset[i])"
   ]
  },
  {
   "cell_type": "markdown",
   "metadata": {},
   "source": [
    "Now, let's separate the dataset into a train set and a validation set:"
   ]
  },
  {
   "cell_type": "code",
   "execution_count": 22,
   "metadata": {},
   "outputs": [],
   "source": [
    "\"\"\"\n",
    "Constant indicating the proportion of the dataset to use as training set.\n",
    "\"\"\"\n",
    "TRAINING_SET_RATIO = 0.9"
   ]
  },
  {
   "cell_type": "code",
   "execution_count": 23,
   "metadata": {},
   "outputs": [
    {
     "name": "stdout",
     "output_type": "stream",
     "text": [
      "train_X (449, 5)\n",
      "train_Y (449, 5)\n",
      "val_X (49, 5)\n",
      "val_Y (49, 5)\n"
     ]
    }
   ],
   "source": [
    "# Let's split the dataset\n",
    "train_X = encoded_dataset[: int(TRAINING_SET_RATIO * encoded_dataset.shape[0])][:-1]\n",
    "train_Y = encoded_dataset[: int(TRAINING_SET_RATIO * encoded_dataset.shape[0])][1:]\n",
    "val_X = encoded_dataset[int(TRAINING_SET_RATIO * encoded_dataset.shape[0]) :][:-1]\n",
    "val_Y = encoded_dataset[int(TRAINING_SET_RATIO * encoded_dataset.shape[0]) :][1:]\n",
    "\n",
    "# Info\n",
    "print(\"train_X\", train_X.shape)\n",
    "print(\"train_Y\", train_Y.shape)\n",
    "print(\"val_X\", val_X.shape)\n",
    "print(\"val_Y\", val_Y.shape)"
   ]
  },
  {
   "cell_type": "markdown",
   "metadata": {},
   "source": [
    "## 4.2 - Formatting data for PyTorch"
   ]
  },
  {
   "cell_type": "markdown",
   "metadata": {},
   "source": [
    "Ok, so let's start working with GRUs now. As for more standard neural networks, we first need to design the model we are going to train. To do so, we will use the PyTorch library, which is one of the gold standards in the deep learning community.\n",
    "\n",
    "First, let's indicate PyTorch that it should use your GPU if you have one available:"
   ]
  },
  {
   "cell_type": "code",
   "execution_count": 24,
   "metadata": {},
   "outputs": [],
   "source": [
    "# Check if GPU is available\n",
    "is_cuda = torch.cuda.is_available()\n",
    "\n",
    "# Select it as default, or CPU otherwise\n",
    "if is_cuda:\n",
    "    device = torch.device(\"cuda\")\n",
    "else:\n",
    "    device = torch.device(\"cpu\")"
   ]
  },
  {
   "cell_type": "markdown",
   "metadata": {},
   "source": [
    "PyTorch requires a particular object for the input data. The following code transforms the numpy arrays into these objects. Note that there is now a third dimension in the tensor (the first one), which corresponds to the batch size. Here, we are just considering one time series in our batch, so we do not really care about it:"
   ]
  },
  {
   "cell_type": "code",
   "execution_count": 25,
   "metadata": {},
   "outputs": [
    {
     "name": "stdout",
     "output_type": "stream",
     "text": [
      "train_X torch.Size([1, 449, 5])\n",
      "train_Y torch.Size([1, 449, 5])\n",
      "val_X torch.Size([1, 49, 5])\n",
      "val_Y torch.Size([1, 49, 5])\n"
     ]
    }
   ],
   "source": [
    "# Transform into PyTorch tensor\n",
    "train_X = torch.from_numpy(train_X.reshape(1, *train_X.shape)).to(device).float()\n",
    "train_Y = torch.from_numpy(train_Y.reshape(1, *train_Y.shape)).to(device).float()\n",
    "val_X = torch.from_numpy(val_X.reshape(1, *val_X.shape)).to(device).float()\n",
    "val_Y = torch.from_numpy(val_Y.reshape(1, *val_Y.shape)).to(device).float()\n",
    "\n",
    "# Info\n",
    "print(\"train_X\", train_X.shape)\n",
    "print(\"train_Y\", train_Y.shape)\n",
    "print(\"val_X\", val_X.shape)\n",
    "print(\"val_Y\", val_Y.shape)"
   ]
  },
  {
   "cell_type": "markdown",
   "metadata": {},
   "source": [
    "## 4.3 - Instanciating the model"
   ]
  },
  {
   "cell_type": "markdown",
   "metadata": {},
   "source": [
    "Let's build the GRU architecture. Contrary to Tensorflow (another gold standard library in deep learning) which requires us to detail all the weight matrices and how they interact, PyTorch provides a pretty simple way for building GRUs:"
   ]
  },
  {
   "cell_type": "code",
   "execution_count": 26,
   "metadata": {},
   "outputs": [],
   "source": [
    "\"\"\"\n",
    "GRU class, which extends the base PyTorch class Module.\n",
    "\"\"\"\n",
    "class GRU (nn.Module) :\n",
    "    \n",
    "    \"\"\"\n",
    "    Class constructor.\n",
    "    This method is called when you instanciate an object of the class.\n",
    "    Arguments:\n",
    "    ----------\n",
    "      * input_dimension: Size of the input data.\n",
    "      * hidden_dimension: Size of the hidden vector.\n",
    "      * output_dimension: Size of the output data.\n",
    "      * nb_layers: Number of consecutive GRU units (cells) before looping (not useful here).\n",
    "      * dropout_probability: Probability of an edge in the network to be forced to 0 (not useful here, as we just have one layer).\n",
    "    Returns:\n",
    "    --------\n",
    "      * None.\n",
    "    \"\"\"\n",
    "    def __init__ (self, input_dimension, hidden_dimension, output_dimension, nb_layers=1, dropout_probability=0.0) :\n",
    "        \n",
    "        # Call parent's class constructor before anything else\n",
    "        super(GRU, self).__init__()\n",
    "        \n",
    "        # Save arguments\n",
    "        self.input_dimension = input_dimension\n",
    "        self.hidden_dimension = hidden_dimension\n",
    "        self.output_dimension = output_dimension\n",
    "        self.nb_layers = nb_layers\n",
    "        self.dropout_probability = dropout_probability\n",
    "        \n",
    "        # Add one fully connected layer (+ ReLU nonlinearity) after the hidden layer to get output\n",
    "        self.fc = nn.Linear(hidden_dimension, output_dimension)\n",
    "        self.relu = nn.ReLU()\n",
    "        \n",
    "        # Instanciate a GRU\n",
    "        self.gru = nn.GRU(input_dimension, hidden_dimension, nb_layers, batch_first=True, dropout=dropout_probability)\n",
    "        \n",
    "    \"\"\"\n",
    "    Method to describe how we perform a forward pass.\n",
    "    Arguments:\n",
    "    ----------\n",
    "      * input_t: Input data at time t.\n",
    "      * hidden_tm1: Hidden vector output by GRU at time t-1.\n",
    "    Returns:\n",
    "    --------\n",
    "      * output_t: Prediction of the network at time t.\n",
    "    \"\"\"\n",
    "    def forward (self, input_t, hidden_tm1):\n",
    "        \n",
    "        # Go through the GRU and compute output\n",
    "        output_t, hidden_t = self.gru(input_t, hidden_tm1)\n",
    "        output_t = self.fc(self.relu(output_t))\n",
    "        \n",
    "        return output_t\n",
    "    \n",
    "    \"\"\"\n",
    "    Method to reset the hidden layer between epochs when training, or between tests.\n",
    "    Arguments:\n",
    "    ----------\n",
    "      * batch_size: Number of time series to process at the same time (not useful here).\n",
    "      * hidden_tm1: Hidden vector output by GRU at time t-1.\n",
    "    Returns:\n",
    "    --------\n",
    "      * hidden: Zero hidden state.\n",
    "    \"\"\"\n",
    "    def reset_hidden (self, batch_size=1) :\n",
    "        \n",
    "        # Create a hidden state full of zeros\n",
    "        weight = next(self.parameters()).data\n",
    "        hidden = weight.new(self.nb_layers, batch_size, self.hidden_dimension).zero_()\n",
    "        \n",
    "        return hidden"
   ]
  },
  {
   "cell_type": "markdown",
   "metadata": {},
   "source": [
    "Now that the model is described (we basically just encapsulated the PyTorch default implementation of GRUs), let's instanciate it:"
   ]
  },
  {
   "cell_type": "code",
   "execution_count": 27,
   "metadata": {},
   "outputs": [],
   "source": [
    "\"\"\"\n",
    "Constant to choose a hidden layer size.\n",
    "This is an arbitrary choice, we will try to study its impact at the end of this notebook.\n",
    "\"\"\"\n",
    "HIDDEN_DIMENSION = 15"
   ]
  },
  {
   "cell_type": "code",
   "execution_count": 28,
   "metadata": {},
   "outputs": [],
   "source": [
    "# Model dimensions\n",
    "input_dimension = train_X.shape[2]\n",
    "output_dimension = train_X.shape[2]\n",
    "\n",
    "# Instanciate model\n",
    "model = GRU(input_dimension, HIDDEN_DIMENSION, output_dimension).to(device)"
   ]
  },
  {
   "cell_type": "markdown",
   "metadata": {},
   "source": [
    "## 4.4 - Training the model"
   ]
  },
  {
   "cell_type": "markdown",
   "metadata": {},
   "source": [
    "Let's train our network:"
   ]
  },
  {
   "cell_type": "code",
   "execution_count": 29,
   "metadata": {},
   "outputs": [],
   "source": [
    "\"\"\"\n",
    "Constant to choose how many epochs we will train our network for.\n",
    "The higher you choose it, the longer the network will train.\n",
    "\"\"\"\n",
    "EPOCHS = 100"
   ]
  },
  {
   "cell_type": "code",
   "execution_count": 30,
   "metadata": {},
   "outputs": [],
   "source": [
    "\"\"\"\n",
    "Constant to set how fast the network will learn.\n",
    "This controls the gradient step when updating weights.\n",
    "\"\"\"\n",
    "LEARNING_RATE = 0.01"
   ]
  },
  {
   "cell_type": "code",
   "execution_count": 31,
   "metadata": {},
   "outputs": [],
   "source": [
    "\"\"\"\n",
    "Function to plot a figure indicating the current training situation.\n",
    "Arguments:\n",
    "----------\n",
    "  * epochs: X axis of the figure.\n",
    "  * train_losses: All obtained losses on the training set.\n",
    "  * val_losses: All obtained losses on the validation set.\n",
    "Returns:\n",
    "--------\n",
    "  * None.\n",
    "\"\"\"\n",
    "def plot_current_losses (epochs, train_losses, val_losses) :\n",
    "    \n",
    "    # Plot losses as a function of epochs\n",
    "    pyplot.plot(epochs, train_losses, \"-b\", label=\"Train loss\")\n",
    "    pyplot.plot(epochs, val_losses, \"-r\", label=\"Validation loss\")\n",
    "    pyplot.legend(loc=0)\n",
    "    pyplot.xlabel(\"Epoch\")\n",
    "    pyplot.ylabel(\"Loss\")\n",
    "    pyplot.show()"
   ]
  },
  {
   "cell_type": "code",
   "execution_count": 32,
   "metadata": {},
   "outputs": [],
   "source": [
    "\"\"\"\n",
    "We train the network in a function, because we will do it again at the end of the notebook.\n",
    "Arguments:\n",
    "----------\n",
    "  * model: Model to train.\n",
    "  * train_X: Training dataset.\n",
    "  * train_Y: Training labels.\n",
    "  * val_X: Validation dataset.\n",
    "  * val_Y: Validation labels.\n",
    "  * learning_rate: Controls speed at which the network learns.\n",
    "  * nb_epochs: Number of epochs of training.\n",
    "  * show_plots: Flag to indicate if we regularly plot the loss.\n",
    "  * save_model_to: Directory where to save the model at each epoch.\n",
    "Returns:\n",
    "--------\n",
    "  * train_losses: All obtained losses on the training set.\n",
    "  * val_losses: All obtained losses on the validation set.\n",
    "\"\"\"\n",
    "def train (hidden_dimension, train_X, train_Y, val_X, val_Y, learning_rate, nb_epochs, show_plots=True, save_model_to=None) :\n",
    "    \n",
    "    # Mean square error loss\n",
    "    loss_function = nn.MSELoss()\n",
    "    \n",
    "    # Adam optimizer\n",
    "    optimizer = torch.optim.Adam(model.parameters(), lr=learning_rate)\n",
    "    \n",
    "    # We enter in train mode\n",
    "    model.train()\n",
    "    \n",
    "    # Let's go\n",
    "    train_losses = []\n",
    "    val_losses = []\n",
    "    for epoch in range(1, nb_epochs + 1) :\n",
    "        \n",
    "        # Reset hidden state vector and gradients\n",
    "        zero_hidden = model.reset_hidden().to(device)\n",
    "        model.zero_grad()\n",
    "        \n",
    "        # Forward pass, compute loss, retropropagate gradients, update weights\n",
    "        output = model(train_X, zero_hidden.data)\n",
    "        train_loss = loss_function(output, train_Y)\n",
    "        train_loss.backward()\n",
    "        optimizer.step()\n",
    "        \n",
    "        # Let's see how it performs on validation set\n",
    "        # Same steps as above, but we do not compute gradients or update weights\n",
    "        zero_hidden = model.reset_hidden().to(device)\n",
    "        output = model(val_X, zero_hidden.data)\n",
    "        val_loss = loss_function(output, val_Y)\n",
    "        \n",
    "        # Save the model if asked\n",
    "        if save_model_to is not None :\n",
    "            if not path.exists(save_model_to) :\n",
    "                os.makedirs(save_model_to)\n",
    "            torch.save(model.state_dict(), save_model_to + path.sep + str(epoch))\n",
    "        \n",
    "        # Plot current state\n",
    "        train_losses.append(train_loss.item())\n",
    "        val_losses.append(val_loss.item())\n",
    "        if show_plots and (epoch == 1 or epoch % 10 == 0) :\n",
    "            display.clear_output()\n",
    "            plot_current_losses(range(1, epoch + 1), train_losses, val_losses)\n",
    "            print(\"Epoch:\", epoch, \"-- Training loss:\", train_loss.item(), \"-- Validation loss:\", val_loss.item())\n",
    "    \n",
    "    return train_losses, val_losses"
   ]
  },
  {
   "cell_type": "code",
   "execution_count": 33,
   "metadata": {},
   "outputs": [],
   "source": [
    "\"\"\"\n",
    "Constant specifying where we will save the trained models at each epoch.\n",
    "\"\"\"\n",
    "SAVE_MODEL_TO = \"trained_models\""
   ]
  },
  {
   "cell_type": "code",
   "execution_count": 34,
   "metadata": {},
   "outputs": [
    {
     "data": {
      "image/png": "[encoded data removed]",
      "text/plain": [
       "<Figure size 432x288 with 1 Axes>"
      ]
     },
     "metadata": {
      "needs_background": "light"
     },
     "output_type": "display_data"
    },
    {
     "name": "stdout",
     "output_type": "stream",
     "text": [
      "Epoch: 100 -- Training loss: 0.12193518131971359 -- Validation loss: 0.1563185155391693\n"
     ]
    }
   ],
   "source": [
    "# We train the model\n",
    "train_losses, val_losses = train(model, train_X, train_Y, val_X, val_Y, LEARNING_RATE, EPOCHS, save_model_to=SAVE_MODEL_TO)"
   ]
  },
  {
   "cell_type": "markdown",
   "metadata": {},
   "source": [
    "You should probably see that the validation loss starts to increase after some time. This is characteristic of overfitting. Indeed, the training loss continues to decrease because the network starts to learn it by heart. The best thing to do here is therefore to stop learning when this phenomenon arises.\n",
    "\n",
    "In the call to function train() above, we have set the save_model_to argument to a directory. This has caused the function to save the model to that location, at each epoch. Let's load the best model we obtained:"
   ]
  },
  {
   "cell_type": "code",
   "execution_count": 35,
   "metadata": {},
   "outputs": [
    {
     "data": {
      "text/plain": [
       "GRU(\n",
       "  (fc): Linear(in_features=15, out_features=5, bias=True)\n",
       "  (relu): ReLU()\n",
       "  (gru): GRU(5, 15, batch_first=True)\n",
       ")"
      ]
     },
     "execution_count": 35,
     "metadata": {},
     "output_type": "execute_result"
    }
   ],
   "source": [
    "# Find minimum validation loss\n",
    "best_epoch = 1 + numpy.argmin(val_losses)\n",
    "\n",
    "# Load associated model and switch to usage mode\n",
    "model.load_state_dict(torch.load(SAVE_MODEL_TO + path.sep + str(best_epoch)))\n",
    "model.eval()"
   ]
  },
  {
   "cell_type": "markdown",
   "metadata": {},
   "source": [
    "## 4.5 - Let's play!"
   ]
  },
  {
   "cell_type": "markdown",
   "metadata": {},
   "source": [
    "Contrary to when we generated the dataset earlier, we will now play against an opponent that tries to predict your moves. Let's see if you were predictable enough so that the GRU can beat you:"
   ]
  },
  {
   "cell_type": "code",
   "execution_count": 36,
   "metadata": {},
   "outputs": [],
   "source": [
    "\"\"\"\n",
    "Function to ask the model to predict player's decision and return a move that beats it.\n",
    "Arguments:\n",
    "----------\n",
    "  * model: Trained model used for making decisions.\n",
    "  * player_previous_move: Move that was played by the player the turn before.\n",
    "Returns:\n",
    "--------\n",
    "  * move: Decision of the GRU.\n",
    "  * prediction_vector: Output of the GRU.\n",
    "  * prediction: Prediction for the player's move.\n",
    "\"\"\"\n",
    "def determine_move (model, player_previous_move) :\n",
    "    \n",
    "    # Encode player's previous move\n",
    "    onehot_previous = onehot_encoder.transform(numpy.array([player_previous_move]).reshape(-1, 1))\n",
    "    encoded_previous = torch.from_numpy(onehot_previous.reshape(1, *onehot_previous.shape)).to(device).float()\n",
    "    \n",
    "    # Predict player's decision\n",
    "    zero_hidden = model.reset_hidden().to(device)\n",
    "    prediction_vector = model(encoded_previous, zero_hidden.data).detach().numpy()[0, 0]\n",
    "    onehot_prediction = numpy.array(prediction_vector == max(prediction_vector), dtype=float)\n",
    "    prediction = onehot_encoder.inverse_transform([onehot_prediction])[0, 0]\n",
    "    \n",
    "    # Determine decision\n",
    "    winning_moves = {\"Rock\": \"Paper\",\n",
    "                     \"Paper\": \"Scissors\",\n",
    "                     \"Scissors\": \"Spock\",\n",
    "                     \"Lizard\": \"Rock\",\n",
    "                     \"Spock\": \"Lizard\"}\n",
    "    move = winning_moves[prediction]\n",
    "    \n",
    "    return move, prediction_vector, prediction"
   ]
  },
  {
   "cell_type": "code",
   "execution_count": 37,
   "metadata": {
    "scrolled": true
   },
   "outputs": [
    {
     "data": {
      "text/plain": [
       "'[L: 0 / D: 0 / W: 0] -- Choose one:'"
      ]
     },
     "metadata": {},
     "output_type": "display_data"
    },
    {
     "data": {
      "application/vnd.jupyter.widget-view+json": {
       "model_id": "919c5dc77c2a4e4388cd008dee27f7bc",
       "version_major": 2,
       "version_minor": 0
      },
      "text/plain": [
       "HBox(children=(Button(description='Rock', style=ButtonStyle()), Button(description='Paper', style=ButtonStyle(…"
      ]
     },
     "metadata": {},
     "output_type": "display_data"
    },
    {
     "data": {
      "text/plain": [
       "''"
      ]
     },
     "metadata": {},
     "output_type": "display_data"
    }
   ],
   "source": [
    "# We store the player's previous choice and results (lose/draw/win)\n",
    "player_previous_move = None\n",
    "game_results = [0, 0, 0]\n",
    "\n",
    "# Callback function called when a button is clicked\n",
    "def callback (button) :\n",
    "    \n",
    "    # First time, we play at random\n",
    "    # Then, get network prediction\n",
    "    global player_previous_move\n",
    "    if player_previous_move is None :\n",
    "        opponent = random.choice(POSSIBLE_MOVES)\n",
    "        details = \"Played randomly\"\n",
    "    else :\n",
    "        opponent, prediction_vector, prediction = determine_move(model, player_previous_move)\n",
    "        sorted_predictions = prediction_vector[onehot_encoded.argmax(axis=0)]\n",
    "        details = str([POSSIBLE_MOVES[i][:2] + \": \" + str(round(sorted_predictions[i], 2)) for i in range(len(POSSIBLE_MOVES))])\n",
    "        \n",
    "    # Update results and previous move\n",
    "    global game_results\n",
    "    result, text_result = check_who_wins(button.description, opponent)\n",
    "    game_results[result] += 1\n",
    "    player_previous_move = button.description\n",
    "    \n",
    "    # Show results\n",
    "    text_before.update(\"[L: \" + str(game_results[0]) + \" / D: \" + str(game_results[1]) + \" / W: \" + str(game_results[2]) + \"] -- Choose one:\")\n",
    "    text_after.update(\"Player: \" + button.description + \" -- Opponent: \" + opponent + \" (\" + details + \") -- \" + text_result)\n",
    "\n",
    "    \n",
    "# Interface\n",
    "text_before, text_after = show_interface(callback, \"[L: \" + str(game_results[0]) + \" / D: \" + str(game_results[1]) + \" / W: \" + str(game_results[2]) + \"] -- Choose one:\", \"\")"
   ]
  },
  {
   "cell_type": "markdown",
   "metadata": {},
   "source": [
    "So, how predictable are you? :)"
   ]
  },
  {
   "cell_type": "markdown",
   "metadata": {},
   "source": [
    "## 4.6 - Impact of the hyperparameters"
   ]
  },
  {
   "cell_type": "markdown",
   "metadata": {},
   "source": [
    "In neural networks, we call hyperparameters the various quantities we (more or less) arbitrarily tune when designing the model architecture. As you may be aware of, the choice of these hyperparameters has a direct impact on the network performance.\n",
    "\n",
    "In order to illustrate this, we will evaluate the best validation loss we can achieve, as a function of the size of the hidden vector in the GRU:"
   ]
  },
  {
   "cell_type": "code",
   "execution_count": 38,
   "metadata": {},
   "outputs": [],
   "source": [
    "\"\"\"\n",
    "Constant defining for which values of hidden dimension we compute the loss.\n",
    "\"\"\"\n",
    "HIDDEN_DIMENSIONS = range(1, 51)"
   ]
  },
  {
   "cell_type": "code",
   "execution_count": 39,
   "metadata": {},
   "outputs": [
    {
     "name": "stdout",
     "output_type": "stream",
     "text": [
      "Training a network for hidden dimension 1\n",
      ".... Completed in 8.22016167640686 seconds\n",
      ".... Min validation loss found:  0.1728096902370453\n",
      "Training a network for hidden dimension 2\n",
      ".... Completed in 8.962529420852661 seconds\n",
      ".... Min validation loss found:  0.15016792714595795\n",
      "Training a network for hidden dimension 3\n",
      ".... Completed in 10.039695262908936 seconds\n",
      ".... Min validation loss found:  0.14868122339248657\n",
      "Training a network for hidden dimension 4\n",
      ".... Completed in 8.743772983551025 seconds\n",
      ".... Min validation loss found:  0.15448610484600067\n",
      "Training a network for hidden dimension 5\n",
      ".... Completed in 9.262523412704468 seconds\n",
      ".... Min validation loss found:  0.15756337344646454\n",
      "Training a network for hidden dimension 6\n",
      ".... Completed in 9.217220306396484 seconds\n",
      ".... Min validation loss found:  0.149107426404953\n",
      "Training a network for hidden dimension 7\n",
      ".... Completed in 10.63045883178711 seconds\n",
      ".... Min validation loss found:  0.15399764478206635\n",
      "Training a network for hidden dimension 8\n",
      ".... Completed in 9.120094776153564 seconds\n",
      ".... Min validation loss found:  0.1559203565120697\n",
      "Training a network for hidden dimension 9\n",
      ".... Completed in 9.856991291046143 seconds\n",
      ".... Min validation loss found:  0.1532844603061676\n",
      "Training a network for hidden dimension 10\n",
      ".... Completed in 9.606651067733765 seconds\n",
      ".... Min validation loss found:  0.15111830830574036\n",
      "Training a network for hidden dimension 11\n",
      ".... Completed in 10.298134088516235 seconds\n",
      ".... Min validation loss found:  0.1511363387107849\n",
      "Training a network for hidden dimension 12\n",
      ".... Completed in 10.318984270095825 seconds\n",
      ".... Min validation loss found:  0.15251702070236206\n",
      "Training a network for hidden dimension 13\n",
      ".... Completed in 9.580955266952515 seconds\n",
      ".... Min validation loss found:  0.15308040380477905\n",
      "Training a network for hidden dimension 14\n",
      ".... Completed in 9.321678876876831 seconds\n",
      ".... Min validation loss found:  0.15312348306179047\n",
      "Training a network for hidden dimension 15\n",
      ".... Completed in 9.527736902236938 seconds\n",
      ".... Min validation loss found:  0.15067502856254578\n",
      "Training a network for hidden dimension 16\n",
      ".... Completed in 9.554130554199219 seconds\n",
      ".... Min validation loss found:  0.15162864327430725\n",
      "Training a network for hidden dimension 17\n",
      ".... Completed in 9.585637092590332 seconds\n",
      ".... Min validation loss found:  0.1495039016008377\n",
      "Training a network for hidden dimension 18\n",
      ".... Completed in 10.072790145874023 seconds\n",
      ".... Min validation loss found:  0.1525469571352005\n",
      "Training a network for hidden dimension 19\n",
      ".... Completed in 10.896754026412964 seconds\n",
      ".... Min validation loss found:  0.1497686207294464\n",
      "Training a network for hidden dimension 20\n",
      ".... Completed in 10.631814956665039 seconds\n",
      ".... Min validation loss found:  0.1473105251789093\n",
      "Training a network for hidden dimension 21\n",
      ".... Completed in 10.913602828979492 seconds\n",
      ".... Min validation loss found:  0.1490011066198349\n",
      "Training a network for hidden dimension 22\n",
      ".... Completed in 9.732451915740967 seconds\n",
      ".... Min validation loss found:  0.14990994334220886\n",
      "Training a network for hidden dimension 23\n",
      ".... Completed in 9.653026342391968 seconds\n",
      ".... Min validation loss found:  0.14950400590896606\n",
      "Training a network for hidden dimension 24\n",
      ".... Completed in 9.628001928329468 seconds\n",
      ".... Min validation loss found:  0.15233589708805084\n",
      "Training a network for hidden dimension 25\n",
      ".... Completed in 9.418633222579956 seconds\n",
      ".... Min validation loss found:  0.15071561932563782\n",
      "Training a network for hidden dimension 26\n",
      ".... Completed in 9.603370904922485 seconds\n",
      ".... Min validation loss found:  0.15210598707199097\n",
      "Training a network for hidden dimension 27\n",
      ".... Completed in 9.58820390701294 seconds\n",
      ".... Min validation loss found:  0.1495511531829834\n",
      "Training a network for hidden dimension 28\n",
      ".... Completed in 9.609878301620483 seconds\n",
      ".... Min validation loss found:  0.14862631261348724\n",
      "Training a network for hidden dimension 29\n",
      ".... Completed in 9.931846857070923 seconds\n",
      ".... Min validation loss found:  0.15051200985908508\n",
      "Training a network for hidden dimension 30\n",
      ".... Completed in 9.698294401168823 seconds\n",
      ".... Min validation loss found:  0.15261279046535492\n",
      "Training a network for hidden dimension 31\n",
      ".... Completed in 9.742290735244751 seconds\n",
      ".... Min validation loss found:  0.15199708938598633\n",
      "Training a network for hidden dimension 32\n",
      ".... Completed in 9.715139627456665 seconds\n",
      ".... Min validation loss found:  0.15337936580181122\n",
      "Training a network for hidden dimension 33\n",
      ".... Completed in 9.885659456253052 seconds\n",
      ".... Min validation loss found:  0.15190456807613373\n",
      "Training a network for hidden dimension 34\n",
      ".... Completed in 9.883866548538208 seconds\n",
      ".... Min validation loss found:  0.15234287083148956\n",
      "Training a network for hidden dimension 35\n",
      ".... Completed in 10.099434614181519 seconds\n",
      ".... Min validation loss found:  0.1483215093612671\n",
      "Training a network for hidden dimension 36\n",
      ".... Completed in 10.231785535812378 seconds\n",
      ".... Min validation loss found:  0.1523647904396057\n",
      "Training a network for hidden dimension 37\n",
      ".... Completed in 10.761126279830933 seconds\n",
      ".... Min validation loss found:  0.15092378854751587\n",
      "Training a network for hidden dimension 38\n",
      ".... Completed in 10.437247037887573 seconds\n",
      ".... Min validation loss found:  0.15276676416397095\n",
      "Training a network for hidden dimension 39\n",
      ".... Completed in 10.03791356086731 seconds\n",
      ".... Min validation loss found:  0.15172262489795685\n",
      "Training a network for hidden dimension 40\n",
      ".... Completed in 10.21104383468628 seconds\n",
      ".... Min validation loss found:  0.14906948804855347\n",
      "Training a network for hidden dimension 41\n",
      ".... Completed in 11.028329372406006 seconds\n",
      ".... Min validation loss found:  0.15130795538425446\n",
      "Training a network for hidden dimension 42\n",
      ".... Completed in 10.263747930526733 seconds\n",
      ".... Min validation loss found:  0.14779016375541687\n",
      "Training a network for hidden dimension 43\n",
      ".... Completed in 11.56567931175232 seconds\n",
      ".... Min validation loss found:  0.15041813254356384\n",
      "Training a network for hidden dimension 44\n",
      ".... Completed in 10.52297854423523 seconds\n",
      ".... Min validation loss found:  0.1520773321390152\n",
      "Training a network for hidden dimension 45\n",
      ".... Completed in 11.681190729141235 seconds\n",
      ".... Min validation loss found:  0.1490500271320343\n",
      "Training a network for hidden dimension 46\n",
      ".... Completed in 11.28689956665039 seconds\n",
      ".... Min validation loss found:  0.1513388603925705\n",
      "Training a network for hidden dimension 47\n",
      ".... Completed in 11.26088809967041 seconds\n",
      ".... Min validation loss found:  0.1507970094680786\n",
      "Training a network for hidden dimension 48\n",
      ".... Completed in 10.368043661117554 seconds\n",
      ".... Min validation loss found:  0.14993728697299957\n",
      "Training a network for hidden dimension 49\n",
      ".... Completed in 9.869082689285278 seconds\n",
      ".... Min validation loss found:  0.1520652025938034\n",
      "Training a network for hidden dimension 50\n",
      ".... Completed in 8.533811807632446 seconds\n",
      ".... Min validation loss found:  0.15078243613243103\n"
     ]
    }
   ],
   "source": [
    "# Let's train a model for each hidden dimension\n",
    "all_val_losses = []\n",
    "all_times = []\n",
    "for hidden_dimension in HIDDEN_DIMENSIONS :\n",
    "    \n",
    "    # Info\n",
    "    print(\"Training a network for hidden dimension\", hidden_dimension)\n",
    "    start_time = time.time()\n",
    "    \n",
    "    # Train\n",
    "    model = GRU(input_dimension, hidden_dimension, output_dimension).to(device)\n",
    "    train_losses, val_losses = train(model, train_X, train_Y, val_X, val_Y, LEARNING_RATE, EPOCHS, show_plots=False)\n",
    "    all_val_losses.append(min(val_losses))\n",
    "    all_times.append(time.time() - start_time)\n",
    "    \n",
    "    # Info\n",
    "    print(\".... Completed in\", all_times[-1], \"seconds\")\n",
    "    print(\".... Min validation loss found: \", all_val_losses[-1])"
   ]
  },
  {
   "cell_type": "code",
   "execution_count": 40,
   "metadata": {},
   "outputs": [
    {
     "data": {
      "image/png": "[encoded data removed]",
      "text/plain": [
       "<Figure size 432x288 with 1 Axes>"
      ]
     },
     "metadata": {
      "needs_background": "light"
     },
     "output_type": "display_data"
    }
   ],
   "source": [
    "# Compute linear regression for losses\n",
    "linear_regressor = linear_model.LinearRegression()\n",
    "linear_regressor.fit(numpy.array(HIDDEN_DIMENSIONS).reshape(-1, 1), all_val_losses)\n",
    "regression = linear_regressor.predict(numpy.array(HIDDEN_DIMENSIONS).reshape(-1, 1))\n",
    "\n",
    "# Plot min validation loss as a function of hidden dimension\n",
    "pyplot.plot(HIDDEN_DIMENSIONS, all_val_losses, \"-r\", label=\"Min validation loss\")\n",
    "pyplot.plot(HIDDEN_DIMENSIONS, regression, \"-g\", label=\"Linear regression\")\n",
    "pyplot.legend(loc=0)\n",
    "pyplot.xlabel(\"Hidden dimension\")\n",
    "pyplot.ylabel(\"Min validation loss\")\n",
    "pyplot.show()"
   ]
  },
  {
   "cell_type": "code",
   "execution_count": 41,
   "metadata": {},
   "outputs": [
    {
     "data": {
      "image/png": "[encoded data removed]",
      "text/plain": [
       "<Figure size 432x288 with 1 Axes>"
      ]
     },
     "metadata": {
      "needs_background": "light"
     },
     "output_type": "display_data"
    }
   ],
   "source": [
    "# Compute linear regression for times\n",
    "linear_regressor.fit(numpy.array(HIDDEN_DIMENSIONS).reshape(-1, 1), all_times)\n",
    "regression = linear_regressor.predict(numpy.array(HIDDEN_DIMENSIONS).reshape(-1, 1))\n",
    "\n",
    "# Plot min validation loss as a function of hidden dimension\n",
    "pyplot.plot(HIDDEN_DIMENSIONS, all_times, \"-r\", label=\"Training time\")\n",
    "pyplot.plot(HIDDEN_DIMENSIONS, regression, \"-g\", label=\"Linear regression\")\n",
    "pyplot.legend(loc=0)\n",
    "pyplot.xlabel(\"Hidden dimension\")\n",
    "pyplot.ylabel(\"Training time\")\n",
    "pyplot.show()"
   ]
  },
  {
   "cell_type": "markdown",
   "metadata": {},
   "source": [
    "# 5 - Exercise"
   ]
  },
  {
   "cell_type": "markdown",
   "metadata": {},
   "source": [
    "Now is your turn to work! Consider again what we did before, and try to build a GRU that predicts the decisions of an opponent that plays in a more predictible way.\n",
    "\n",
    "Along with this notebook is provided a file called ordered_dataset.csv, describing a player whose decisions are always Rock-Paper-Scissors-Lizard-Spock-Rock-Paper-Scissors-Lizard-Spock-... You should be able to reach a near 100% win rate."
   ]
  },
  {
   "cell_type": "code",
   "execution_count": null,
   "metadata": {},
   "outputs": [],
   "source": []
  }
 ],
 "metadata": {
  "kernelspec": {
   "display_name": "Python 3",
   "language": "python",
   "name": "python3"
  },
  "language_info": {
   "codemirror_mode": {
    "name": "ipython",
    "version": 3
   },
   "file_extension": ".py",
   "mimetype": "text/x-python",
   "name": "python",
   "nbconvert_exporter": "python",
   "pygments_lexer": "ipython3",
   "version": "3.6.8"
  }
 },
 "nbformat": 4,
 "nbformat_minor": 2
}
