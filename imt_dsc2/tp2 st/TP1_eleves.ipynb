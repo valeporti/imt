{
 "cells": [
  {
   "cell_type": "markdown",
   "metadata": {},
   "source": [
    "# TP1 : Analyse des series temporelles "
   ]
  },
  {
   "cell_type": "markdown",
   "metadata": {},
   "source": [
    "\n",
    "L'étude de la consommation électrique en France est un sujet qui est toujours d'actualité. \n",
    "\n",
    "Sur le site OPEN DATA/Réseaux énergie (https://opendata.reseaux-energies.fr/explore/?sort=modified), il s'y trouve de très intéressantes séries temporelles.\n",
    "\n",
    "Nous avons téléchargé le fichier qui donne la consommation de gaz et d'électricité de 2012 à 2019 en France.\n",
    "\n",
    "Afin d'illustrer les notions introduites en cours, nous allons étudier ce fichier (il est stocké sur moodle  \"xxxx/consommation-quotidienne-brute_tr1.csv\".\n",
    "\n",
    "## L'objectif pour ce tp est de :\n",
    "\n",
    "- Comprendre et appliquer uneméthode d'analyse d'une série chronologique\n",
    "- Comprendre une série chronologique\n",
    "- Décrire la série chronologique\n",
    "- Visualiser et Analyser une série chronologique\n",
    "- Décomposition de la série chronologique (tendance, saisonnalité, erreur)\n",
    "\n",
    "## La structure de TP :\n",
    "\n",
    "- Importation de la série\n",
    "- Description de la série\n",
    "- Visualisation de la série\n",
    "- Décomposition de la série\n",
    "- Modélisation de la tendance\n",
    "- Etude du bruit\n",
    "\n",
    "\n"
   ]
  },
  {
   "cell_type": "markdown",
   "metadata": {},
   "source": [
    "Lors de ce TP, nous allons utiliser les librairie pandas, numpy, matplotlib et dateutil.parser (en python).\n",
    "\n",
    "Il faut compléter (si nécessaire) le code puis l'exécuter, des commentaires vous sont demandés.\n",
    "\n",
    "A l'issu du TP, vous sauvegardez le notebook sous le nom TP1_nom1_prenom1_nom2_prenom2_n°_groupe.ipynb.\n",
    "\n",
    "Vous le sauvegarderez en local sur votre compte, vous le compresserez puis vous le déposerez sur le dépot moodle correspondant.\n"
   ]
  },
  {
   "cell_type": "code",
   "execution_count": 2,
   "metadata": {},
   "outputs": [],
   "source": [
    "# librairies python importée pour ce tp\n",
    "import dateutil.parser # conversion date - string - année\n",
    "from dateutil.parser import parse \n",
    "import pandas as pd  # panda (dataframe,...)\n",
    "import numpy as np\n",
    "import matplotlib.pyplot as plt # affichage de type matlab\n",
    "\n",
    "from pandas import Series\n"
   ]
  },
  {
   "cell_type": "markdown",
   "metadata": {},
   "source": [
    "# Importation et Lecture des données\n",
    "\n",
    "La 1ère étape consiste à importer le contenu du fichier 'consommation-quotidienne-brute_tr1.csv' et à l'étudier.\n",
    "\n",
    "- Importer le contenu du fichier dans un DataFrame par le biais \"read_csv\" (librairie pandas).\n",
    "\n",
    "https://pandas.pydata.org/pandas-docs/stable/reference/api/pandas.read_csv.html#pandas.read_csv\n",
    "\n",
    "Le séparateur de champ dans le fichier \"csv\" est le ';'. Les dates et les horaires sont contenues dans deux colonnes qu'il ne faudra pas oublier de parser. \n",
    "\n",
    "- Compléter la fonction read_csv (separateur, parser les dates)\n",
    "- Afficher les premières lignes du DataFrame à l'aide de la fonction \"print()\".\n",
    "- Commenter"
   ]
  },
  {
   "cell_type": "code",
   "execution_count": 35,
   "metadata": {},
   "outputs": [],
   "source": [
    "# lecture d'un fichier csv \n",
    "# le séparateur est un ';' fonction \"sep=';'\"\n",
    "# la fonction \"parse_dates=['nom de la colonne']\" permet de parser une date \n",
    "#                                  (format string vers format date)\n",
    "dfb = pd.read_csv('consommation-quotidienne-brute_tr1.csv')\n",
    "\n",
    "# remplace la ligne précédente et à compléter\n",
    "# dfb = pd.read_csv('consommation-quotidienne-brute_tr1.csv',sep='à completer ',parse_dates=['Date - Heure','Date'])\n",
    "\n",
    "# affichage du data frame\n",
    "# print(dfb)\n",
    "\n",
    "# compléter les variables sep='?',parse_dates=['?','?'] dans la fonction \"read_csv\"."
   ]
  },
  {
   "cell_type": "markdown",
   "metadata": {},
   "source": [
    "# Création de stat. descriptives permettant de décrire le fichier et les données qui le compose.\n",
    "\n",
    "L'objectif est de décrire le contenu des données qui ont été importées.\n",
    "\n",
    "On commencera par la lecture des informations du dataframe. \n",
    "\n",
    "\n",
    "- Afficher les paramètres 'dtypes' et 'info' du dataframe afin de connaître les noms et le type de chaque colonnes, d'avoir un aperçu des premières lignes. \n",
    "\n",
    "\n",
    "https://pandas.pydata.org/pandas-docs/stable/reference/frame.html\n",
    "\n",
    "\n",
    "# Description des données"
   ]
  },
  {
   "cell_type": "code",
   "execution_count": 12,
   "metadata": {},
   "outputs": [
    {
     "name": "stdout",
     "output_type": "stream",
     "text": [
      "\n"
     ]
    }
   ],
   "source": [
    "#print( dfb. 'à completer et decommenter')\n",
    "#print( dfb.'à completer et decommenter')"
   ]
  },
  {
   "cell_type": "markdown",
   "metadata": {},
   "source": [
    "- Indiquer les noms et les type de chaque colonne, la dimension des données\n",
    "\n",
    "(compléter la cellule)\n",
    "\n"
   ]
  },
  {
   "cell_type": "markdown",
   "metadata": {},
   "source": [
    "# Statistique descriptive\n",
    "\n",
    "Dans le dataframe, on a remarquer la présence de variable de type float. \n",
    "\n",
    "- Calculer à l'iade de la commande 'describe()' appliquée au dataframe 'dfb'  un certain nombre de paramètres.\n",
    "\n"
   ]
  },
  {
   "cell_type": "code",
   "execution_count": 13,
   "metadata": {},
   "outputs": [],
   "source": [
    "#dfb.describe() # décommenter"
   ]
  },
  {
   "cell_type": "markdown",
   "metadata": {},
   "source": [
    "- Lister les paramètres calculés\n",
    "- Commenter les résultats obtenus"
   ]
  },
  {
   "cell_type": "markdown",
   "metadata": {},
   "source": [
    "# Tranformation des données\n",
    "\n",
    "\n",
    "\n",
    "\n",
    "On se concentrera sur la colonne 'Consommation brute électricité (MW) - RTE'.\n",
    "- Créer une data frame ne contenant que les colonnes 'Date - Heure' et 'Consommation brute électricité (MW) - RTE' que l'on nommera dftr.\n",
    "\n",
    "- Trier les données par date."
   ]
  },
  {
   "cell_type": "code",
   "execution_count": 24,
   "metadata": {},
   "outputs": [],
   "source": [
    "dft = dfb.sort_values(by='Date - Heure') \n",
    "# c'est ici que l'on voit l'importance de parser la date\n",
    "\n",
    "dftr = dft[['Date - Heure','Consommation brute électricité (MW) - RTE']]\n",
    "\n",
    "dftdiff = dftr.diff()\n"
   ]
  },
  {
   "cell_type": "code",
   "execution_count": 25,
   "metadata": {},
   "outputs": [],
   "source": [
    "# trier dftdiff par 'Date - Heure'\n",
    "dftdiff.sort_values(by='Date - Heure')\n",
    "\n"
   ]
  },
  {
   "cell_type": "code",
   "execution_count": 26,
   "metadata": {},
   "outputs": [],
   "source": [
    "dftdiff = dftdiff.assign(d=dfb[['Date - Heure']])\n",
    "\n",
    "# afficher le résultat et il sera peut être nécesseraire de retrier la colonne 'Date - Heure' afin d'avoir un classement par variation\n"
   ]
  },
  {
   "cell_type": "markdown",
   "metadata": {},
   "source": [
    "- Peut-on expliquer que des variations temporelles d'une durée de 0:00 et de 1:30 apparaissent ?"
   ]
  },
  {
   "cell_type": "markdown",
   "metadata": {},
   "source": [
    "# Visualisation des données"
   ]
  },
  {
   "cell_type": "code",
   "execution_count": 29,
   "metadata": {},
   "outputs": [],
   "source": [
    "# Définition d'une fonction affichage, permet d'indiquer les différents label, et un titre\n",
    "def plot_df(df, x, y, title=\"qu'est-ce ?\", xlabel='Date', ylabel='Value', dpi=100):\n",
    "    plt.figure(figsize=(16,5), dpi=dpi)\n",
    "    plt.plot(x, y, color='tab:red')\n",
    "    plt.gca().set(title=title, xlabel=xlabel, ylabel=ylabel)\n",
    "    plt.show()\n"
   ]
  },
  {
   "cell_type": "markdown",
   "metadata": {},
   "source": [
    "- En utilisant la fonction précédente, afficher la consommation élecrtique entre :\n",
    "  - 01/01/2012 - 30/06/2019 (plusieurs années)\n",
    "  - 28/05/2012 - 29/07/2012 (5-6 semaines)\n",
    "  - 28/05/2012 - 3/06/2012 (1 semaine)\n",
    "  \n",
    "- Observer ces 3 courbes et commenter "
   ]
  },
  {
   "cell_type": "code",
   "execution_count": 30,
   "metadata": {},
   "outputs": [],
   "source": [
    "# plot_df(dft, x=dft[['Date - Heure'], y = dft['Nom de la colonne']] à compléter\n",
    "# plot_df(dft, x=dft[7104:10128][['Date - Heure'] à compléter\n",
    "# plot_df(dft, x=dft[7104:7440][['Date - Heure'] à comlpéter\n",
    "\n"
   ]
  },
  {
   "cell_type": "markdown",
   "metadata": {},
   "source": [
    "- Creer trois nouvelles séries permettant d'afficher les variations journamlière, mensuelle et annuelles de la consommmation électrique.\n",
    "\n",
    "- Pour cela on vérifie que 'Date - Heure' est au format date et non string\n",
    "- on applique une resample('D') (resp. 'M', 'Y') à la serie suivi d'une fonction 'sum()'\n",
    "- Affichez les 3 séries et commenter (pour la série mensuelle, vous n'afficherez qu'un intervalle de 1 an)"
   ]
  },
  {
   "cell_type": "code",
   "execution_count": null,
   "metadata": {},
   "outputs": [],
   "source": [
    "dftr['Date - Heure'] = pd.to_datetime(dftr['Date - Heure'],utc=True)\n",
    "dftr.index = dftr['Date - Heure']\n",
    "\n",
    "# serie journalière\n",
    "#dftd = dftr.resample('???').sum() à compléter\n",
    "\n",
    "# série mensuelle\n",
    "#dftm = dftr. à compléter\n",
    "\n",
    "# série annuelle\n",
    "# dfty = dftr. à compléter\n",
    "\n",
    "\n"
   ]
  },
  {
   "cell_type": "markdown",
   "metadata": {},
   "source": [
    "Nous allons maintenant étudier la série journalière\n"
   ]
  },
  {
   "cell_type": "code",
   "execution_count": null,
   "metadata": {},
   "outputs": [],
   "source": [
    "# Import Data\n",
    "#df = pd.read_csv('https://raw.githubusercontent.com/selva86/datasets/master/a10.csv', parse_dates=['date'], index_col='date')\n",
    "#df.reset_index(inplace=True)\n",
    "#dft2 = dft.copy()\n",
    "# Prepare data\n",
    "#dft2.insert('year')\n",
    "#dft2.insert('month')\n",
    "import matplotlib as mpl\n",
    "dftd.reset_index(inplace=True)\n",
    "dftd['year'] = pd.DatetimeIndex(dftd['Date - Heure']).year  \n",
    "#dftd['year'] = dftd['Date - Heure'].apply(lambda x:x.strftime('%y'))\n",
    "#dftm['month'] = '%-%'.format(dftm['Date - Heure']),\"moth\",\"day\")  \n",
    "\n",
    "dftd['MonthDay'] = dftd['Date - Heure'].apply(lambda x:x.strftime('%m%d'))\n",
    "years = dftd['year'].unique()\n",
    "\n",
    "dftd = dftd.sort_values(by='Date - Heure')\n",
    "\n",
    "# Prep Colors\n",
    "np.random.seed(100)\n",
    "mycolors = np.random.choice(list(mpl.colors.XKCD_COLORS.keys()), len(years), replace=False)\n",
    "\n",
    "# Draw Plot\n",
    "plt.figure(figsize=(16,12), dpi= 80)\n",
    "for i, y in enumerate(years):\n",
    "    if i > 0:        \n",
    "        plt.plot('MonthDay', 'Consommation brute électricité (MW) - RTE', data=dftd.loc[dftd.year==y, :], color=mycolors[i], label=y)\n",
    "        plt.text(dftd.loc[dftd.year==y, :].shape[0]-.9, dftd.loc[dftd.year==y, 'Consommation brute électricité (MW) - RTE'][-1:].values[0], y, fontsize=12, color=mycolors[i])\n",
    "\n",
    "# Decoration\n",
    "#plt.gca().set(xlim=(-0.3, 11), ylim=(2, 30), ylabel='$Drug Sales$', xlabel='$Month$')\n",
    "#plt.yticks(fontsize=12, alpha=.7)\n",
    "#plt.title(\"Seasonal Plot of Drug Sales Time Series\", fontsize=20)\n",
    "#plt.show()"
   ]
  },
  {
   "cell_type": "code",
   "execution_count": null,
   "metadata": {},
   "outputs": [],
   "source": [
    "import matplotlib as mpl\n",
    "dftm.reset_index(inplace=True)\n",
    "dftm['year'] = pd.DatetimeIndex(dftm['Date - Heure']).year  \n",
    "dftm['month'] = pd.DatetimeIndex(dftm['Date - Heure']).month  \n",
    "\n",
    "#dftd['MonthDay'] = dftd['Date - Heure'].apply(lambda x:x.strftime('%m%d'))\n",
    "years = dftd['year'].unique()\n",
    "\n",
    "dftm = dftm.sort_values(by='Date - Heure')\n",
    "\n",
    "# Prep Colors\n",
    "np.random.seed(100)\n",
    "mycolors = np.random.choice(list(mpl.colors.XKCD_COLORS.keys()), len(years), replace=False)\n",
    "\n",
    "# Draw Plot\n",
    "plt.figure(figsize=(16,12), dpi= 80)\n",
    "for i, y in enumerate(years):\n",
    "    if i > 0:        \n",
    "        plt.plot('month', 'Consommation brute électricité (MW) - RTE', data=dftm.loc[dftm.year==y, :], color=mycolors[i], label=y)\n",
    "        plt.text(dftm.loc[dftm.year==y, :].shape[0]-.9, dftm.loc[dftm.year==y, 'Consommation brute électricité (MW) - RTE'][-1:].values[0], y, fontsize=12, color=mycolors[i])\n",
    "\n",
    "\n"
   ]
  },
  {
   "cell_type": "markdown",
   "metadata": {},
   "source": [
    "Commenter les figures\n",
    "\n",
    "Doit-on transformer les données ?\n"
   ]
  },
  {
   "cell_type": "code",
   "execution_count": null,
   "metadata": {},
   "outputs": [],
   "source": [
    "\n",
    "dftr['Date - Heure'] = pd.to_datetime(dftr['Date - Heure'],utc=True)\n",
    "dftr.index = dftr['Date - Heure']\n",
    "\n",
    "dftd = dftr.resample('D').sum()\n",
    "dftd[0:352][['Consommation brute électricité (MW) - RTE']].plot()\n",
    "\n",
    "dftm = dftr.resample('M').sum()\n",
    "dftm[['Consommation brute électricité (MW) - RTE']].plot()\n",
    "\n",
    "dfty = dftr.resample('Y').sum()\n",
    "dfty[['Consommation brute électricité (MW) - RTE']].plot()\n",
    "\n",
    "\n",
    "#print(dftd)\n",
    "#print(dftm)\n",
    "#print(dfty)"
   ]
  },
  {
   "cell_type": "markdown",
   "metadata": {},
   "source": [
    "$\\bullet$ Affichage des corrélations des séries annuel, mensuel et journalières (2 intervalles sont considérés). "
   ]
  },
  {
   "cell_type": "code",
   "execution_count": null,
   "metadata": {},
   "outputs": [],
   "source": [
    "from pandas.plotting import autocorrelation_plot\n",
    "\n",
    "autocorrelation_plot(dftr[['Consommation brute électricité (MW) - RTE']])"
   ]
  },
  {
   "cell_type": "code",
   "execution_count": null,
   "metadata": {},
   "outputs": [],
   "source": [
    "autocorrelation_plot(dftd[['Consommation brute électricité (MW) - RTE']])"
   ]
  },
  {
   "cell_type": "code",
   "execution_count": null,
   "metadata": {},
   "outputs": [],
   "source": [
    "autocorrelation_plot(dftm[['Consommation brute électricité (MW) - RTE']])"
   ]
  },
  {
   "cell_type": "code",
   "execution_count": null,
   "metadata": {},
   "outputs": [],
   "source": [
    "autocorrelation_plot(dftr[7104:10128][['Consommation brute électricité (MW) - RTE']])"
   ]
  },
  {
   "cell_type": "code",
   "execution_count": null,
   "metadata": {},
   "outputs": [],
   "source": [
    "autocorrelation_plot(dftr[7104:7440][['Consommation brute électricité (MW) - RTE']])"
   ]
  },
  {
   "cell_type": "markdown",
   "metadata": {},
   "source": [
    "# Modèlisation de la série mensuelle\n",
    "\n",
    "\n",
    "$\\bullet$ Affichage de la série mensuel où la tendance est supprimée\n",
    "\n",
    "(utilisation de la fonction detrend de scipy)"
   ]
  },
  {
   "cell_type": "code",
   "execution_count": null,
   "metadata": {},
   "outputs": [],
   "source": [
    "# Using scipy: Subtract the line of best fit\n",
    "from scipy import signal\n",
    "\n",
    "\n",
    "detrended = signal.detrend(dftm[1:]['Consommation brute électricité (MW) - RTE'].values)\n",
    "plt.plot(detrended)\n",
    "\n"
   ]
  },
  {
   "cell_type": "markdown",
   "metadata": {},
   "source": [
    "$\\bullet$ Utilisation de la fonction \"seasonal_decompose\" de statsmodels pour décomposer la série selon la composante tendance, saisonnalité et perturbation.\n",
    "\n",
    "Utilisation d'un modèle additif, faire varier les paramètres\n"
   ]
  },
  {
   "cell_type": "code",
   "execution_count": null,
   "metadata": {},
   "outputs": [],
   "source": [
    "\n",
    "# Using statmodels: Subtracting the Trend Component.\n",
    "from statsmodels.tsa.seasonal import seasonal_decompose\n",
    "\n",
    "\n",
    "result_mul1 = seasonal_decompose(dftm[1:]['Consommation brute électricité (MW) - RTE'], model='additive', freq=12)\n",
    "result_mul1.plot()\n",
    "#detrended = dftm[1:]['Consommation brute électricité (MW) - RTE'].values - result_mul.trend\n",
    "#plt.plot(detrended)"
   ]
  },
  {
   "cell_type": "markdown",
   "metadata": {},
   "source": [
    "$\\bullet$ Modélisation de la tendance par un polynome"
   ]
  },
  {
   "cell_type": "code",
   "execution_count": null,
   "metadata": {},
   "outputs": [],
   "source": [
    "coefficients, residuals, _, _, _ = np.polyfit(range(len(dftm.index)),dftm,1,full=True)\n",
    "mse = residuals[0]/(len(dftm.index))\n",
    "nrmse = np.sqrt(mse)/(dftm.max() - dftm.min())\n",
    "print('Slope ' + str(coefficients[0]))\n",
    "print('NRMSE: ' + str(nrmse))\n",
    "\n",
    "plt.plot(dftm[1:]['Consommation brute électricité (MW) - RTE'])\n",
    "\n",
    "res = [coefficients[0]*x + coefficients[1] for x in range(len(dftm))]\n",
    "dfr = pd.DataFrame(res,index = dftm.index,columns=['A'])\n",
    "print(dfr.dtypes)\n",
    "\n",
    "plt.plot(dftm.index,res)\n",
    "plt.show()"
   ]
  },
  {
   "cell_type": "markdown",
   "metadata": {},
   "source": [
    "$\\bullet$ Soustraire la tendance\n",
    "\n",
    "$\\bullet$ Calcul d'une saison moyenne sur 12 mois qui soit de moyenne nulle (modifier la tendance)\n",
    "\n",
    "$\\bullet$ Etude du signal résultant (bruit/perturbation)"
   ]
  },
  {
   "cell_type": "code",
   "execution_count": null,
   "metadata": {},
   "outputs": [],
   "source": [
    "dftm = dftm.assign(E=dftm['Consommation brute électricité (MW) - RTE']-dfr['A'])\n",
    "\n",
    "#E=dftm['Consommation brute électricité (MW) - RTE']-dfr['A']\n",
    "#print(dftm)\n",
    "\n",
    "\n",
    "#for x in range(len(dftm)):\n",
    "    #print(x)\n",
    "   # print(dftm[x]['Consommation brute électricité (MW) - RTE'])\n",
    "   # res1 = dftm[x]['Consommation brute électricité (MW) - RTE'].values - coefficients[0]*x - coefficients[1]\n",
    "\n",
    "plt.plot(dftm[1:].index,dftm[1:]['E'])\n",
    "#plt.show()"
   ]
  },
  {
   "cell_type": "code",
   "execution_count": null,
   "metadata": {},
   "outputs": [],
   "source": [
    "X = [i%12 for i in range(0, len(dftm))]\n",
    "y = dftm['E'].values\n",
    "\n",
    "#to fill\n"
   ]
  }
 ],
 "metadata": {
  "kernelspec": {
   "display_name": "Python 3",
   "language": "python",
   "name": "python3"
  },
  "language_info": {
   "codemirror_mode": {
    "name": "ipython",
    "version": 3
   },
   "file_extension": ".py",
   "mimetype": "text/x-python",
   "name": "python",
   "nbconvert_exporter": "python",
   "pygments_lexer": "ipython3",
   "version": "3.7.4"
  }
 },
 "nbformat": 4,
 "nbformat_minor": 2
}
