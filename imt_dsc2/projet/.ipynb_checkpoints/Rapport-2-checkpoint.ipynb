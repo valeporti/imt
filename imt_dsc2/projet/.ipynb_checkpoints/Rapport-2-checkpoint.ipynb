{
 "cells": [
  {
   "cell_type": "markdown",
   "metadata": {},
   "source": [
    "# Rapport Nº 2"
   ]
  },
  {
   "cell_type": "markdown",
   "metadata": {},
   "source": [
    "PORTILLO Valentín, RODRIGUEZ Ricardo, YUAN Zheng, Wang Xue"
   ]
  },
  {
   "cell_type": "markdown",
   "metadata": {},
   "source": [
    "## I. Contexte\n",
    "League of Legends (LOL) en l’un des sports électroniques les plus populaires au monde. La finale mondiale cette année a eu lieu à Paris. Ces jours-ci, cette compétition est mature et régulière en ayant des centaines de clubs autour du monde inscrits, actifs et subventionnés. "
   ]
  },
  {
   "cell_type": "markdown",
   "metadata": {},
   "source": [
    "\n",
    "### Déroulement du jeu\n",
    "Le jeu LOL est un jeu de confrontation. Il y a deux équipes dans le jeu, chaque équipe est composée de 5 personnes. Chaque personne choisira un personnage pour jouer au jeu. Avant de commencer le jeu, 5 personagges sont bloqués et le choix des caractères se fait en ping pong, en choisissant un par un.\n",
    "\n",
    "### Les champions et leurs compétences\n",
    "\n",
    "Dans le jeu il existe au total 127 personnages, nommés aussi comme champions. Chaque champion possède des capacités différentes, ces capacités sont très spécifiques pour chaque champion, mais elles peuvent aussi être regroupées en compétences techniques.\n",
    "\n",
    "Dans le tableau suivant, nous montrons quelques exemples de compétences des champions.\n",
    "\n",
    "|ID| Champion | Abilities | Compétences techniques|\n",
    "| --- | --- | --- | --- |\n",
    "| 1 | Annie | Pyromania, Disintegrate, Incinerate, Molten Shields | Attacker (type Magic), Control Skill, Attack in long distance, Start fight Control|\n",
    "| 2 | Olaf | Undertow, Vicious Strike, Reckless Swing, Ragnarok | Defender, Attacker (type Physic), Start fight Control |\n",
    "| 3 | Galio | Winds of war, Shield of Durand, Justice Punch, Hero's Entrance | Defender, Control Skill, Displacement, Teleportation|\n",
    "| ... | ... | ... | ... |\n",
    "\n",
    "### Description des compéténces techniques:\n",
    "\n",
    "La reagrupation des compétences techniques permet de décrire les compétences des champions d'une manière générale. Un ensemble de techniques de compétences peut être trouvé ou non chez certains champions, une description de ces compétences est présentée dans le tableau suivant. \n",
    "\n",
    "|ID| Compétence | Description |\n",
    "| --- | --- | --- |\n",
    "| 1 | Difficulty (fault/fallibility) | Si est un champion facile a controler|\n",
    "| 2 | Defender | Si est un champion denfensor |\n",
    "| 3 | Attacker (Type 1) | Si le type de attack est physique|\n",
    "| 4 | Attacker (Type 2) | Si le type de attack est magique|\n",
    "| 5 | Control skill (large-scale) | Si le champion peut controler plusieurs champions dans le meme temp|\n",
    "| 6 | Control skill  (monocase) | Si le champion ne peut controler que un seul champion|\n",
    "| 7 | Displacement | Si le champion peut se déplacer en sautant|\n",
    "| 8 | Teleportation | Si le champion peut aller dans n'importe quelle direction en se téléportant|\n",
    "| 9 | Teleportation with others | Si le champion peut échanger ses positions avec un autre champion de la même équipe|\n",
    "| 10 | Support in long distance |  Si le champion peut defender a distance|\n",
    "| 11 | Attack in long distance | Si le champion peut ataquer a distance|\n",
    "| 12 | Start Fight | Si le champion peut commencer un batre|\n",
    "\n",
    "\n",
    "\n"
   ]
  },
  {
   "cell_type": "markdown",
   "metadata": {},
   "source": [
    "## II. Definition des objectives\n",
    "Nous avons trouvé plusieurs jeux de données contenant des Go d’information milliers de lignes. Comme première idée, nous pourrions utiliser cet ensemble de données pour prédire qui gagnera en fonction du comportement des joueurs tout au long du match. Mais finalement, notre objectif a changé pour étudier la combinaison de compétences la plus susceptible de gagner (dans chaque match, chaque équipe choisira 5 des 140 personnages). En outre, les rôles ont des propriétés similaires: certains personnages sont des attaquants, certains sont des défenseurs, certains sont des supporters, certains possèdent des compétences de contrôle, certains possèdent des compétences de mouvement instantané, etc. Bien qu'aucun jeu de données préparé ne puisse pas être retrouvé en ligne, les données pertinentes sont sur le site officiel du jeu et ne contiennent que 140 champions au total. Nous pouvons créer manuellement un jeu de données de compétences, puis, faire un mélange avec celui téléchargé pour ainsi avoir un dataset pertinent. En fin de compte, nous pouvons savoir quels types de combinaisons de compétences sont plus susceptibles de gagner.\n",
    "\n",
    "### Objectif du projet: \n",
    "Recommandation du quatrième et cinquième champion (les derniers, les plus importants) à partir des compétences manquantes considérant les compétences déjà choisies, celles de l’adversaire incluses."
   ]
  },
  {
   "cell_type": "markdown",
   "metadata": {},
   "source": [
    "## III. Les Datasets"
   ]
  },
  {
   "cell_type": "markdown",
   "metadata": {},
   "source": [
    "Nous allons utiliser deux types des datasets, des datasets obtenues de la webpage \"Zenodo.org\" [1] et un dataset genere pour un integrant de l'equipe en tant que jouer experimenté de League of Legends"
   ]
  },
  {
   "cell_type": "markdown",
   "metadata": {},
   "source": [
    "### Zenodo Dataset\n",
    "Nous avons trouvé plusieurs datasets contenant information concernant la composition du jeu League of Legends. Ces datasets sont classifiés **by region** en étant \"na\" - \"North American server\" et \"euw\" - \"Europe west server\". De plus **by play mode** en étant \"ai\" = \"Artificial Intelligence\" (i.e. contre l'ordinateur), normal_blind = Normal Blind (PvP), normal_draft = Normal Draft (PvP), ranked_solo = Ranked Solo Queue (PvP), ranked_team = Ranked Team Queue (PvP), group_finder = Group Finder mode (PvP). \n",
    "\n",
    "Étant donné que nous sommes intéressés en jeux réels, nous avons choisi 4 datasets spécifiques:\n",
    " - euw_ranked_team.csv\n",
    " - euw_ranked_solo.csv\n",
    " - na_ranked_team.csv\n",
    " - na_ranked_solo.csv\n",
    " "
   ]
  },
  {
   "cell_type": "markdown",
   "metadata": {},
   "source": [
    "Ces datasets contiennent les détails de chaque jeu dans 80 colonnes. La description de chaque colonne se trouve dans le fichier ReadMe, qui est également joint à la fin de ce cahier.\n",
    "\n",
    "De toutes ces colonnes, nous nous concentrons sur 'matchId', 'winner','championId' et 'championName'."
   ]
  },
  {
   "cell_type": "code",
   "execution_count": 1,
   "metadata": {},
   "outputs": [],
   "source": [
    "import pandas as pd\n",
    "import seaborn as sns\n",
    "import pprint as pp"
   ]
  },
  {
   "cell_type": "code",
   "execution_count": 2,
   "metadata": {},
   "outputs": [],
   "source": [
    "file = './euw_ranked_solo.csv'"
   ]
  },
  {
   "cell_type": "code",
   "execution_count": 3,
   "metadata": {},
   "outputs": [],
   "source": [
    "df = pd.read_csv(file, sep=',')"
   ]
  },
  {
   "cell_type": "code",
   "execution_count": 5,
   "metadata": {},
   "outputs": [
    {
     "data": {
      "text/html": [
       "<div>\n",
       "<style scoped>\n",
       "    .dataframe tbody tr th:only-of-type {\n",
       "        vertical-align: middle;\n",
       "    }\n",
       "\n",
       "    .dataframe tbody tr th {\n",
       "        vertical-align: top;\n",
       "    }\n",
       "\n",
       "    .dataframe thead th {\n",
       "        text-align: right;\n",
       "    }\n",
       "</style>\n",
       "<table border=\"1\" class=\"dataframe\">\n",
       "  <thead>\n",
       "    <tr style=\"text-align: right;\">\n",
       "      <th></th>\n",
       "      <th>summonerId</th>\n",
       "      <th>matchId</th>\n",
       "      <th>winner</th>\n",
       "      <th>kill</th>\n",
       "      <th>death</th>\n",
       "      <th>assist</th>\n",
       "      <th>timeCreated</th>\n",
       "      <th>duration</th>\n",
       "      <th>matchType</th>\n",
       "      <th>spell0</th>\n",
       "      <th>...</th>\n",
       "      <th>Teleport</th>\n",
       "      <th>Ignite</th>\n",
       "      <th>Ghost</th>\n",
       "      <th>Heal</th>\n",
       "      <th>Smite</th>\n",
       "      <th>Exhaust</th>\n",
       "      <th>Clarity</th>\n",
       "      <th>Clairvoyance</th>\n",
       "      <th>Barrier</th>\n",
       "      <th>Flash</th>\n",
       "    </tr>\n",
       "  </thead>\n",
       "  <tbody>\n",
       "    <tr>\n",
       "      <th>0</th>\n",
       "      <td>22181497</td>\n",
       "      <td>1833914602</td>\n",
       "      <td>0</td>\n",
       "      <td>8</td>\n",
       "      <td>7</td>\n",
       "      <td>10</td>\n",
       "      <td>2014-11-20 13:23:01</td>\n",
       "      <td>2911</td>\n",
       "      <td>RANKED_SOLO_5x5</td>\n",
       "      <td>21</td>\n",
       "      <td>...</td>\n",
       "      <td>0</td>\n",
       "      <td>0</td>\n",
       "      <td>0</td>\n",
       "      <td>0</td>\n",
       "      <td>0</td>\n",
       "      <td>0</td>\n",
       "      <td>0</td>\n",
       "      <td>0</td>\n",
       "      <td>1</td>\n",
       "      <td>1</td>\n",
       "    </tr>\n",
       "    <tr>\n",
       "      <th>1</th>\n",
       "      <td>32178732</td>\n",
       "      <td>1833914602</td>\n",
       "      <td>1</td>\n",
       "      <td>2</td>\n",
       "      <td>14</td>\n",
       "      <td>17</td>\n",
       "      <td>2014-11-20 13:23:01</td>\n",
       "      <td>2911</td>\n",
       "      <td>RANKED_SOLO_5x5</td>\n",
       "      <td>11</td>\n",
       "      <td>...</td>\n",
       "      <td>0</td>\n",
       "      <td>0</td>\n",
       "      <td>0</td>\n",
       "      <td>0</td>\n",
       "      <td>1</td>\n",
       "      <td>0</td>\n",
       "      <td>0</td>\n",
       "      <td>0</td>\n",
       "      <td>0</td>\n",
       "      <td>1</td>\n",
       "    </tr>\n",
       "    <tr>\n",
       "      <th>2</th>\n",
       "      <td>39676699</td>\n",
       "      <td>1833914602</td>\n",
       "      <td>0</td>\n",
       "      <td>6</td>\n",
       "      <td>11</td>\n",
       "      <td>19</td>\n",
       "      <td>2014-11-20 13:23:01</td>\n",
       "      <td>2911</td>\n",
       "      <td>RANKED_SOLO_5x5</td>\n",
       "      <td>6</td>\n",
       "      <td>...</td>\n",
       "      <td>0</td>\n",
       "      <td>0</td>\n",
       "      <td>1</td>\n",
       "      <td>0</td>\n",
       "      <td>1</td>\n",
       "      <td>0</td>\n",
       "      <td>0</td>\n",
       "      <td>0</td>\n",
       "      <td>0</td>\n",
       "      <td>0</td>\n",
       "    </tr>\n",
       "    <tr>\n",
       "      <th>3</th>\n",
       "      <td>40449970</td>\n",
       "      <td>1833914602</td>\n",
       "      <td>0</td>\n",
       "      <td>17</td>\n",
       "      <td>10</td>\n",
       "      <td>7</td>\n",
       "      <td>2014-11-20 13:23:01</td>\n",
       "      <td>2911</td>\n",
       "      <td>RANKED_SOLO_5x5</td>\n",
       "      <td>14</td>\n",
       "      <td>...</td>\n",
       "      <td>0</td>\n",
       "      <td>1</td>\n",
       "      <td>0</td>\n",
       "      <td>0</td>\n",
       "      <td>0</td>\n",
       "      <td>0</td>\n",
       "      <td>0</td>\n",
       "      <td>0</td>\n",
       "      <td>0</td>\n",
       "      <td>1</td>\n",
       "    </tr>\n",
       "    <tr>\n",
       "      <th>4</th>\n",
       "      <td>41675660</td>\n",
       "      <td>1833914602</td>\n",
       "      <td>0</td>\n",
       "      <td>1</td>\n",
       "      <td>7</td>\n",
       "      <td>24</td>\n",
       "      <td>2014-11-20 13:23:01</td>\n",
       "      <td>2911</td>\n",
       "      <td>RANKED_SOLO_5x5</td>\n",
       "      <td>3</td>\n",
       "      <td>...</td>\n",
       "      <td>0</td>\n",
       "      <td>0</td>\n",
       "      <td>0</td>\n",
       "      <td>0</td>\n",
       "      <td>0</td>\n",
       "      <td>1</td>\n",
       "      <td>0</td>\n",
       "      <td>0</td>\n",
       "      <td>0</td>\n",
       "      <td>1</td>\n",
       "    </tr>\n",
       "  </tbody>\n",
       "</table>\n",
       "<p>5 rows × 80 columns</p>\n",
       "</div>"
      ],
      "text/plain": [
       "   summonerId     matchId  winner  kill  death  assist          timeCreated  \\\n",
       "0    22181497  1833914602       0     8      7      10  2014-11-20 13:23:01   \n",
       "1    32178732  1833914602       1     2     14      17  2014-11-20 13:23:01   \n",
       "2    39676699  1833914602       0     6     11      19  2014-11-20 13:23:01   \n",
       "3    40449970  1833914602       0    17     10       7  2014-11-20 13:23:01   \n",
       "4    41675660  1833914602       0     1      7      24  2014-11-20 13:23:01   \n",
       "\n",
       "   duration        matchType  spell0  ...  Teleport  Ignite Ghost  Heal  \\\n",
       "0      2911  RANKED_SOLO_5x5      21  ...         0       0     0     0   \n",
       "1      2911  RANKED_SOLO_5x5      11  ...         0       0     0     0   \n",
       "2      2911  RANKED_SOLO_5x5       6  ...         0       0     1     0   \n",
       "3      2911  RANKED_SOLO_5x5      14  ...         0       1     0     0   \n",
       "4      2911  RANKED_SOLO_5x5       3  ...         0       0     0     0   \n",
       "\n",
       "   Smite  Exhaust  Clarity  Clairvoyance  Barrier  Flash  \n",
       "0      0        0        0             0        1      1  \n",
       "1      1        0        0             0        0      1  \n",
       "2      1        0        0             0        0      0  \n",
       "3      0        0        0             0        0      1  \n",
       "4      0        1        0             0        0      1  \n",
       "\n",
       "[5 rows x 80 columns]"
      ]
     },
     "execution_count": 5,
     "metadata": {},
     "output_type": "execute_result"
    }
   ],
   "source": [
    "df."
   ]
  },
  {
   "cell_type": "code",
   "execution_count": 4,
   "metadata": {},
   "outputs": [],
   "source": [
    "small_df=df.loc[:100000,['summonerId', 'matchId','winner','matchType','championId','championName']]"
   ]
  },
  {
   "cell_type": "code",
   "execution_count": 23,
   "metadata": {},
   "outputs": [
    {
     "data": {
      "text/html": [
       "<div>\n",
       "<style scoped>\n",
       "    .dataframe tbody tr th:only-of-type {\n",
       "        vertical-align: middle;\n",
       "    }\n",
       "\n",
       "    .dataframe tbody tr th {\n",
       "        vertical-align: top;\n",
       "    }\n",
       "\n",
       "    .dataframe thead th {\n",
       "        text-align: right;\n",
       "    }\n",
       "</style>\n",
       "<table border=\"1\" class=\"dataframe\">\n",
       "  <thead>\n",
       "    <tr style=\"text-align: right;\">\n",
       "      <th></th>\n",
       "      <th>summonerId</th>\n",
       "      <th>matchId</th>\n",
       "      <th>winner</th>\n",
       "      <th>matchType</th>\n",
       "      <th>championId</th>\n",
       "      <th>championName</th>\n",
       "    </tr>\n",
       "  </thead>\n",
       "  <tbody>\n",
       "    <tr>\n",
       "      <th>0</th>\n",
       "      <td>22181497</td>\n",
       "      <td>1833914602</td>\n",
       "      <td>0</td>\n",
       "      <td>RANKED_SOLO_5x5</td>\n",
       "      <td>51</td>\n",
       "      <td>Caitlyn</td>\n",
       "    </tr>\n",
       "    <tr>\n",
       "      <th>1</th>\n",
       "      <td>32178732</td>\n",
       "      <td>1833914602</td>\n",
       "      <td>1</td>\n",
       "      <td>RANKED_SOLO_5x5</td>\n",
       "      <td>64</td>\n",
       "      <td>Lee Sin</td>\n",
       "    </tr>\n",
       "    <tr>\n",
       "      <th>2</th>\n",
       "      <td>39676699</td>\n",
       "      <td>1833914602</td>\n",
       "      <td>0</td>\n",
       "      <td>RANKED_SOLO_5x5</td>\n",
       "      <td>23</td>\n",
       "      <td>Tryndamere</td>\n",
       "    </tr>\n",
       "    <tr>\n",
       "      <th>3</th>\n",
       "      <td>40449970</td>\n",
       "      <td>1833914602</td>\n",
       "      <td>0</td>\n",
       "      <td>RANKED_SOLO_5x5</td>\n",
       "      <td>55</td>\n",
       "      <td>Katarina</td>\n",
       "    </tr>\n",
       "    <tr>\n",
       "      <th>4</th>\n",
       "      <td>41675660</td>\n",
       "      <td>1833914602</td>\n",
       "      <td>0</td>\n",
       "      <td>RANKED_SOLO_5x5</td>\n",
       "      <td>89</td>\n",
       "      <td>Leona</td>\n",
       "    </tr>\n",
       "    <tr>\n",
       "      <th>...</th>\n",
       "      <td>...</td>\n",
       "      <td>...</td>\n",
       "      <td>...</td>\n",
       "      <td>...</td>\n",
       "      <td>...</td>\n",
       "      <td>...</td>\n",
       "    </tr>\n",
       "    <tr>\n",
       "      <th>99996</th>\n",
       "      <td>44875499</td>\n",
       "      <td>2150731815</td>\n",
       "      <td>1</td>\n",
       "      <td>RANKED_SOLO_5x5</td>\n",
       "      <td>254</td>\n",
       "      <td>Vi</td>\n",
       "    </tr>\n",
       "    <tr>\n",
       "      <th>99997</th>\n",
       "      <td>50377707</td>\n",
       "      <td>2150731815</td>\n",
       "      <td>0</td>\n",
       "      <td>RANKED_SOLO_5x5</td>\n",
       "      <td>28</td>\n",
       "      <td>Evelynn</td>\n",
       "    </tr>\n",
       "    <tr>\n",
       "      <th>99998</th>\n",
       "      <td>58503990</td>\n",
       "      <td>2150731815</td>\n",
       "      <td>0</td>\n",
       "      <td>RANKED_SOLO_5x5</td>\n",
       "      <td>29</td>\n",
       "      <td>Twitch</td>\n",
       "    </tr>\n",
       "    <tr>\n",
       "      <th>99999</th>\n",
       "      <td>65088986</td>\n",
       "      <td>2150731815</td>\n",
       "      <td>1</td>\n",
       "      <td>RANKED_SOLO_5x5</td>\n",
       "      <td>67</td>\n",
       "      <td>Vayne</td>\n",
       "    </tr>\n",
       "    <tr>\n",
       "      <th>100000</th>\n",
       "      <td>327337</td>\n",
       "      <td>2150731823</td>\n",
       "      <td>1</td>\n",
       "      <td>RANKED_SOLO_5x5</td>\n",
       "      <td>75</td>\n",
       "      <td>Nasus</td>\n",
       "    </tr>\n",
       "  </tbody>\n",
       "</table>\n",
       "<p>100001 rows × 6 columns</p>\n",
       "</div>"
      ],
      "text/plain": [
       "        summonerId     matchId  winner        matchType  championId  \\\n",
       "0         22181497  1833914602       0  RANKED_SOLO_5x5          51   \n",
       "1         32178732  1833914602       1  RANKED_SOLO_5x5          64   \n",
       "2         39676699  1833914602       0  RANKED_SOLO_5x5          23   \n",
       "3         40449970  1833914602       0  RANKED_SOLO_5x5          55   \n",
       "4         41675660  1833914602       0  RANKED_SOLO_5x5          89   \n",
       "...            ...         ...     ...              ...         ...   \n",
       "99996     44875499  2150731815       1  RANKED_SOLO_5x5         254   \n",
       "99997     50377707  2150731815       0  RANKED_SOLO_5x5          28   \n",
       "99998     58503990  2150731815       0  RANKED_SOLO_5x5          29   \n",
       "99999     65088986  2150731815       1  RANKED_SOLO_5x5          67   \n",
       "100000      327337  2150731823       1  RANKED_SOLO_5x5          75   \n",
       "\n",
       "       championName  \n",
       "0           Caitlyn  \n",
       "1           Lee Sin  \n",
       "2        Tryndamere  \n",
       "3          Katarina  \n",
       "4             Leona  \n",
       "...             ...  \n",
       "99996            Vi  \n",
       "99997       Evelynn  \n",
       "99998        Twitch  \n",
       "99999         Vayne  \n",
       "100000        Nasus  \n",
       "\n",
       "[100001 rows x 6 columns]"
      ]
     },
     "execution_count": 23,
     "metadata": {},
     "output_type": "execute_result"
    }
   ],
   "source": [
    "small_df"
   ]
  },
  {
   "cell_type": "code",
   "execution_count": 41,
   "metadata": {},
   "outputs": [
    {
     "data": {
      "text/plain": [
       "<matplotlib.axes._subplots.AxesSubplot at 0x1a24fd5978>"
      ]
     },
     "execution_count": 41,
     "metadata": {},
     "output_type": "execute_result"
    },
    {
     "data": {
      "image/png": "[encoded data removed]",
      "text/plain": [
       "<Figure size 432x288 with 1 Axes>"
      ]
     },
     "metadata": {
      "needs_background": "light"
     },
     "output_type": "display_data"
    }
   ],
   "source": [
    "res=small_df.loc[:,['championId']]\n",
    "res.plot.hist(bins=432, alpha=0.5)"
   ]
  },
  {
   "cell_type": "code",
   "execution_count": 42,
   "metadata": {},
   "outputs": [
    {
     "data": {
      "text/plain": [
       "championId    432\n",
       "dtype: int64"
      ]
     },
     "execution_count": 42,
     "metadata": {},
     "output_type": "execute_result"
    }
   ],
   "source": [
    "res.max()"
   ]
  },
  {
   "cell_type": "markdown",
   "metadata": {},
   "source": [
    "### Joueur experimenté dataset"
   ]
  },
  {
   "cell_type": "markdown",
   "metadata": {},
   "source": [
    "## III. Définition de la stratégie"
   ]
  },
  {
   "cell_type": "markdown",
   "metadata": {},
   "source": [
    "Nous devons d’abord combiner le jeu de données trouvé et le jeu de données que nous avons créé nous-mêmes en fonction du champion afin d’obtenir un jeu de données idéal.  Dans ce jeu de donnée, chaque ligne du jeu de données est un jeu et chaque colonne représente si une compétence est compris par une équipe. La dernière colonne représente quelle équipe gagne le jeu. Nous avons déjà réussi cette étape, voici un exemple.\n",
    "\n",
    "Dans la pratique, nous voulons seulement recommander la compétence requise par les quatrième et cinquième choix, qui seront basés sur les trois premiers champions sélectionnés dans notre équipe et dans l’autre équipe. \n",
    "\n",
    "L'entrée sera donc les compétences des trois champions sélectionnés de notre équipe et aussi les compétences des trois champions sélectionnés de l’autre équipe, et la sortie sera les compétences envies des quatrième et cinquième champions de notre équipe car notre objectif est de remplir les deux champions restants afin de maximiser notre capacité et d'obtenir une bonne combinaison. \n",
    "Une autre part, comme nous avons déjà connaissons que les cinq champions du équipée 1 gagne, nous pouvons supposer que l’ordre de choix est 1,2,3 et puis 4 et 5, nous pouvons également supposer que c’est 1,3,4 est sélectionné et nous devons recommander 2 et 5, notre volume de données augmente de ce façon, et de sorte que les performances du modèle final soient encore améliorées.\n",
    "\n",
    "Nous avons l'intention d'utiliser des réseaux de neurones pour mettre en œuvre ce système de recommandation (modèle 1). Cependant, ce système et le système de recommandation du vidéo, ou le système de recommandation d'achat n'est pas exactement le même, car le dernier est de tendre à recommander les choses qui sont similaires à des choses vous avez sélectionné.\n",
    "Nous prévoyons d’utiliser des réseaux neuronaux profonds (DNN) pour la formation des données, mais l’inconvénient de cette approche est qu’il a besoin de beaucoup de données et il a des exigences plus élevées sur les performances de l'ordinateur. Nous allons essayer cette méthode et, si les résultats ne sont pas satisfaisants, nous allons penser s’il est possible d’utiliser un algorithme similaire au système de recommandation vidéo.\n",
    " \n",
    "De plus, afin de valider nos résultats, nous allons mettre en place un autre modèle (modèle 2) permettant de prédire quelle équipe gagnera en fonction des compétences de les deux équipe. Ainsi, l’entrée de ce modèle sera l’ensemble des compétences que les deux équipes ont sélectionné (cinq champions), et la sortie sera quelle équipe gagnera (1 ou 2). Nous prévoyons toujours d'utiliser DNN pour mettre en œuvre ce modèle. Ce système sera relativement simple à faire. Son exactitude est également facile à mesurer, tant qu'il est utilisé pour prédire le jeu terminé, nous pouvons obtenir le taux correct de ce modèle. .\n",
    " \n",
    "Une fois que ce modèle 2 est réalisé, nous pouvons utiliser ce modèle pour tester la fiabilité du modèle 1. Plus précisément, Nous pouvons sélectionner trois champions au hasard et entrer leur compétences dans le modèle 1 pour obtenir le résultat. Nous utilisons la combinaison de la compétence des trois champions et la sortie du modèle 1 en tant qu’équipe 1, la combinaison des compétence des trois champions et la compétences des deux champions au hasard comme l’équipe 2. Ensuite, nous entrons ces deux équipes dans le modèle 2. Si l’équipe 1 a toujours un pourcentage de victoire supérieur à celui de l’équipe 2, cela prouve que la sortie de compétition du modèle 1 correspond davantage à la compétition sélectionnée.\n"
   ]
  },
  {
   "cell_type": "markdown",
   "metadata": {},
   "source": [
    "## IV. Proposition des modeles"
   ]
  },
  {
   "cell_type": "code",
   "execution_count": null,
   "metadata": {},
   "outputs": [],
   "source": [
    "from keras import layers, models\n",
    "from keras import initializers , preprocessing, utils\n",
    "import numpy as np\n",
    "import pandas as pd\n",
    "import math\n",
    "import matplotlib.pyplot as plt"
   ]
  },
  {
   "cell_type": "markdown",
   "metadata": {},
   "source": [
    "### Model 1 (skills output)\n"
   ]
  },
  {
   "cell_type": "code",
   "execution_count": null,
   "metadata": {},
   "outputs": [],
   "source": [
    "class LOLModel:\n",
    "    \n",
    "    def __init__(self, model_info):\n",
    "        self.input_shape = model_info['input_shape']\n",
    "        self.units_first = model_info['units_first']\n",
    "        self.activation_first = model_info['activation_first']\n",
    "        self.units_hidden = model_info['units_hidden']\n",
    "        self.activations_hidden = model_info['activations_hidden']\n",
    "        self.units_last = model_info['units_last']\n",
    "        self.activation_last = model_info['activation_last']\n",
    "    \n",
    "    def create(self):\n",
    "    \n",
    "        model = models.Sequential()\n",
    "        # first layer\n",
    "        model.add( layers.Dense(units=self.units_first, input_shape=self.input_shape))\n",
    "        # hidden layers\n",
    "        if (len(self.units_hidden) != len(self.activations_hidden)): raise ValueError(\"missing info to create hidden layers\")\n",
    "        for units, activation in zip(self.units_hidden, self.activations_hidden):\n",
    "            model.add( layers.Dense(units=units, activation=activation) )\n",
    "        # last layer\n",
    "        model.add( layers.Dense(units=self.units_last, activation=self.activation_last))\n",
    "        return model"
   ]
  },
  {
   "cell_type": "code",
   "execution_count": null,
   "metadata": {},
   "outputs": [],
   "source": [
    "model_skills = LOLModel({\n",
    "    # input info\n",
    "    'input_shape': (20,),\n",
    "    # Layers info\n",
    "    'units_first': 64,        'activation_first': 'relu',\n",
    "    'units_hidden': [32, 16], 'activations_hidden': ['relu', 'relu'],\n",
    "    'units_last': 10,         'activation_last': 'softmax',\n",
    "}).create()\n",
    "model_skills.summary()"
   ]
  },
  {
   "cell_type": "markdown",
   "metadata": {},
   "source": [
    "### Model 2 (winner output)"
   ]
  },
  {
   "cell_type": "code",
   "execution_count": null,
   "metadata": {},
   "outputs": [],
   "source": [
    "model_winner = LOLModel({\n",
    "    # input info\n",
    "    'input_shape': (20,),\n",
    "    # Layers info\n",
    "    'units_first': 64,        'activation_first': 'relu',\n",
    "    'units_hidden': [32, 16], 'activations_hidden': ['relu', 'relu'],\n",
    "    'units_last': 1,         'activation_last': 'softmax',\n",
    "}).create()\n",
    "model_winner.summary()"
   ]
  },
  {
   "cell_type": "markdown",
   "metadata": {},
   "source": [
    "## References\n",
    "[1] Lee, Choong-Soo, & Ramler, Ivan. (2017). League of Legends Team Composition Data [Data set]. Zenodo. http://doi.org/10.5281/zenodo.582666"
   ]
  },
  {
   "cell_type": "markdown",
   "metadata": {},
   "source": [
    "## Annexe \n",
    "**README file**\n",
    "\n",
    "- summonerId: Summoner Identification number\n",
    "- matchId: Match ID number\n",
    "- winner: 1 = won match, 0 lost\n",
    "- kill: number of kills\n",
    "- death: number of deaths\n",
    "- assist: number of assists\n",
    "- timeCreated: time stamp of match\n",
    "- duration: duration of match (seconds)\n",
    "- matchType: match type\n",
    "- spell0: summoner spell ID in slot (0,1)\n",
    "- spell1\n",
    "- championId: champion ID\n",
    "- championName: Champion's name\n",
    "- item0: item ID in slot (0 - 6)\n",
    "- item1\n",
    "- item2\n",
    "- item3\n",
    "- item4\n",
    "- item5\n",
    "- item6\n",
    "- goldEarned: gold earned during match\n",
    "- goldSpent: gold psent during match\n",
    "- inhibitorKills: number of inhibitor kills\n",
    "- towerKills: number of tower kills\n",
    "- sightWardsBought: sight wards purchased\n",
    "- visionWardsBought: vision wards purchased\n",
    "- wardsKilled: number of wards killed\n",
    "- wardsPlaced: number of wards placed\n",
    "- minionsKilled: total minons kills\n",
    "- neutralMinionsKilled: number of neutral minions kills\n",
    "- neutralMinionsKilledEnemyJungle: neutral minions killed in enemy team's jungle\n",
    "- neutralMinionsKilledTeamJungle: neutral minions killed in own team's jungle\n",
    "- totalDamageDealt: total damage dealt\n",
    "- totalDamageDealtToChampions: total damage dealt to enemy champions\n",
    "- totalDamageTaken: total damage taken\n",
    "- trueDamageDealt: true damage dealt\n",
    "- trueDamageDealtToChampions: true damage dealt to champions\n",
    "- trueDamageTaken: true damage taken\n",
    "- physicalDamageDealt: physical damage dealt\n",
    "- physicalDamageDealtToChampions: physical damage dealt to enemy champions\n",
    "- physicalDamageTaken: physical damage taken\n",
    "- magicDamageDealt: magic damage dealt\n",
    "- magicDamageDealtToChampions: magic damage dealt to enemy champions\n",
    "- magicDamageTaken: magic damage taken\n",
    "- totalHeal: total heal amount\n",
    "- totalUnitsHealed: total number of units healed\n",
    "- totalTimeCrowdControlDealt: total dealth crowd control time\n",
    "- predictedRole: predicted role according to SVM model (0 = T, 1 = J, 2 = M, 3 = A, 4 = S)\n",
    "- potentialRoles: 5 digit value with potential roles according to ChampionGG, following TJMAS order with 1 = primary, 2 = secondary, 0 = not listed as a role by ChampionGG\n",
    "- Ability.Power: Number of items with \"Variable name\" bonus (0 - 6)\n",
    "- Armor\n",
    "- Armor.Penetration\n",
    "- Attack.Damage\n",
    "- Attack.Speed\n",
    "- Bonus.Gold.per.Large.Monster.Kill\n",
    "- Cooldown.Reduction\n",
    "- Critical.Strike\n",
    "- Damage.taken.from.Critical.Strikes\n",
    "- Gold.per.10.seconds\n",
    "- Health\n",
    "- Health.Regen\n",
    "- Life.Steal\n",
    "- Magic.Damage.on.Hit\n",
    "- Magic.Penetration\n",
    "- Magic.Resistance\n",
    "- Mana\n",
    "- Mana.Regen\n",
    "- Movement.Speed\n",
    "- JungleItem: Number of items designated as a jungle item\n",
    "- Cleanse: 1 = \"Spell\" selected, 0 not selected\n",
    "- Teleport\n",
    "- Ignite\n",
    "- Ghost\n",
    "- Heal\n",
    "- Smite\n",
    "- Exhaust\n",
    "- Clarity\n",
    "- Clairvoyance\n",
    "- Barrier\n",
    "- Flash\n",
    "\n",
    "\n"
   ]
  }
 ],
 "metadata": {
  "kernelspec": {
   "display_name": "Python 3",
   "language": "python",
   "name": "python3"
  },
  "language_info": {
   "codemirror_mode": {
    "name": "ipython",
    "version": 3
   },
   "file_extension": ".py",
   "mimetype": "text/x-python",
   "name": "python",
   "nbconvert_exporter": "python",
   "pygments_lexer": "ipython3",
   "version": "3.6.8"
  }
 },
 "nbformat": 4,
 "nbformat_minor": 2
}
