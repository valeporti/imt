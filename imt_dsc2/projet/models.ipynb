{
 "cells": [
  {
   "cell_type": "code",
   "execution_count": 1,
   "metadata": {},
   "outputs": [
    {
     "name": "stderr",
     "output_type": "stream",
     "text": [
      "Using TensorFlow backend.\n"
     ]
    }
   ],
   "source": [
    "from keras import layers, models\n",
    "from keras import initializers , preprocessing, utils\n",
    "import numpy as np\n",
    "import pandas as pd\n",
    "import math\n",
    "import matplotlib.pyplot as plt"
   ]
  },
  {
   "cell_type": "markdown",
   "metadata": {},
   "source": [
    "## Model 1 (skills output)"
   ]
  },
  {
   "cell_type": "code",
   "execution_count": 26,
   "metadata": {},
   "outputs": [],
   "source": [
    "class LOLModel:\n",
    "    \n",
    "    def __init__(self, model_info):\n",
    "        self.input_shape = model_info['input_shape']\n",
    "        self.units_first = model_info['units_first']\n",
    "        self.activation_first = model_info['activation_first']\n",
    "        self.units_hidden = model_info['units_hidden']\n",
    "        self.activations_hidden = model_info['activations_hidden']\n",
    "        self.units_last = model_info['units_last']\n",
    "        self.activation_last = model_info['activation_last']\n",
    "    \n",
    "    def create(self):\n",
    "    \n",
    "        model = models.Sequential()\n",
    "        # first layer\n",
    "        model.add( layers.Dense(units=self.units_first, input_shape=self.input_shape))\n",
    "        # hidden layers\n",
    "        if (len(self.units_hidden) != len(self.activations_hidden)): raise ValueError(\"missing info to create hidden layers\")\n",
    "        for units, activation in zip(self.units_hidden, self.activations_hidden):\n",
    "            model.add( layers.Dense(units=units, activation=activation) )\n",
    "        # last layer\n",
    "        model.add( layers.Dense(units=self.units_last, activation=self.activation_last))\n",
    "        return model"
   ]
  },
  {
   "cell_type": "code",
   "execution_count": 29,
   "metadata": {},
   "outputs": [
    {
     "name": "stdout",
     "output_type": "stream",
     "text": [
      "_________________________________________________________________\n",
      "Layer (type)                 Output Shape              Param #   \n",
      "=================================================================\n",
      "dense_24 (Dense)             (None, 64)                1344      \n",
      "_________________________________________________________________\n",
      "dense_25 (Dense)             (None, 32)                2080      \n",
      "_________________________________________________________________\n",
      "dense_26 (Dense)             (None, 16)                528       \n",
      "_________________________________________________________________\n",
      "dense_27 (Dense)             (None, 10)                170       \n",
      "=================================================================\n",
      "Total params: 4,122\n",
      "Trainable params: 4,122\n",
      "Non-trainable params: 0\n",
      "_________________________________________________________________\n"
     ]
    }
   ],
   "source": [
    "model_skills = LOLModel({\n",
    "    # input info\n",
    "    'input_shape': (20,),\n",
    "    # Layers info\n",
    "    'units_first': 64,        'activation_first': 'relu',\n",
    "    'units_hidden': [32, 16], 'activations_hidden': ['relu', 'relu'],\n",
    "    'units_last': 10,         'activation_last': 'softmax',\n",
    "}).create()\n",
    "model_skills.summary()"
   ]
  },
  {
   "cell_type": "code",
   "execution_count": 28,
   "metadata": {},
   "outputs": [
    {
     "name": "stdout",
     "output_type": "stream",
     "text": [
      "_________________________________________________________________\n",
      "Layer (type)                 Output Shape              Param #   \n",
      "=================================================================\n",
      "dense_20 (Dense)             (None, 64)                1344      \n",
      "_________________________________________________________________\n",
      "dense_21 (Dense)             (None, 32)                2080      \n",
      "_________________________________________________________________\n",
      "dense_22 (Dense)             (None, 16)                528       \n",
      "_________________________________________________________________\n",
      "dense_23 (Dense)             (None, 1)                 17        \n",
      "=================================================================\n",
      "Total params: 3,969\n",
      "Trainable params: 3,969\n",
      "Non-trainable params: 0\n",
      "_________________________________________________________________\n"
     ]
    }
   ],
   "source": [
    "model_winner = LOLModel({\n",
    "    # input info\n",
    "    'input_shape': (20,),\n",
    "    # Layers info\n",
    "    'units_first': 64,        'activation_first': 'relu',\n",
    "    'units_hidden': [32, 16], 'activations_hidden': ['relu', 'relu'],\n",
    "    'units_last': 1,         'activation_last': 'softmax',\n",
    "}).create()\n",
    "model_winner.summary()"
   ]
  },
  {
   "cell_type": "code",
   "execution_count": null,
   "metadata": {},
   "outputs": [],
   "source": []
  }
 ],
 "metadata": {
  "kernelspec": {
   "display_name": "Python 3",
   "language": "python",
   "name": "python3"
  },
  "language_info": {
   "codemirror_mode": {
    "name": "ipython",
    "version": 3
   },
   "file_extension": ".py",
   "mimetype": "text/x-python",
   "name": "python",
   "nbconvert_exporter": "python",
   "pygments_lexer": "ipython3",
   "version": "3.6.9"
  }
 },
 "nbformat": 4,
 "nbformat_minor": 2
}
