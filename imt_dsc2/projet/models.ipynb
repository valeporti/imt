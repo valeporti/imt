{
 "cells": [
  {
   "cell_type": "code",
   "execution_count": 1,
   "metadata": {},
   "outputs": [
    {
     "name": "stderr",
     "output_type": "stream",
     "text": [
      "Using TensorFlow backend.\n"
     ]
    }
   ],
   "source": [
    "from keras import layers, models, optimizers\n",
    "from keras import initializers , preprocessing, utils\n",
    "import numpy as np\n",
    "import pandas as pd\n",
    "import math\n",
    "import matplotlib.pyplot as plt\n",
    "import gc\n",
    "import seaborn as sns\n",
    "from keras.layers.advanced_activations import LeakyReLU\n",
    "from keras.callbacks import EarlyStopping\n",
    "from sklearn.preprocessing import normalize\n",
    "import pprint as pp\n",
    "from sklearn.preprocessing import normalize"
   ]
  },
  {
   "cell_type": "markdown",
   "metadata": {},
   "source": [
    "## Model 1 (skills output)"
   ]
  },
  {
   "cell_type": "code",
   "execution_count": 2,
   "metadata": {},
   "outputs": [],
   "source": [
    "class LOLModel:\n",
    "    \n",
    "    def __init__(self, model_info):\n",
    "        self.input_shape = model_info['input_shape'] \n",
    "        self.units_first = model_info['units_first'] if 'units_first' in model_info else None\n",
    "        self.activation_first = model_info['activation_first']\n",
    "        self.units_hidden = model_info['units_hidden'] if 'units_hidden' in model_info else None\n",
    "        self.activations_hidden = model_info['activations_hidden']\n",
    "        self.units_last = model_info['units_last'] if 'units_last' in model_info else None\n",
    "        self.activation_last = model_info['activation_last']\n",
    "        self.filters_first = model_info['filters_first'] if 'filters_first' in model_info else None\n",
    "        self.filters = model_info['filters'] if 'filters' in model_info else None\n",
    "        self.kernel_size_first = model_info['kernel_size_first'] if 'kernel_size_first' in model_info else None\n",
    "        self.kernel_sizes = model_info['kernel_sizes'] if 'kernel_sizes' in model_info else None\n",
    "        self.activations_conv = model_info['activations_conv'] if 'activations_conv' in model_info else None\n",
    "        \n",
    "    \n",
    "    def createDense(self):\n",
    "        model = models.Sequential()\n",
    "        # first layer\n",
    "        model.add( layers.Dense(units=self.units_first, input_shape=self.input_shape, activation=self.activation_first))\n",
    "        # hidden layers\n",
    "        if (len(self.units_hidden) != len(self.activations_hidden)): raise ValueError(\"missing info to create hidden layers\")\n",
    "        for units, activation in zip(self.units_hidden, self.activations_hidden):\n",
    "            model.add( layers.Dense(units=units, activation=activation) )\n",
    "        # last layer\n",
    "        model.add( layers.Dense(units=self.units_last, activation=self.activation_last) )\n",
    "        return model\n",
    "    \n",
    "    def createConv2D(self):\n",
    "        model = models.Sequential()\n",
    "        # first layer\n",
    "        model.add( layers.Conv2D(filters=self.filters_first, kernel_size=self.kernel_size_first, \n",
    "                                 strides=(1,1), activation=self.activation_first, \n",
    "                                 input_shape=self.input_shape, padding='valid') )\n",
    "        # conv layers\n",
    "        if (len(self.kernel_sizes) != len(self.filters) and len(self.filters) != len(self.activations_conv) ): raise ValueError(\"missing info to create conv layers\")\n",
    "        for ks, f, a  in zip(self.kernel_sizes, self.filters, self.activations_conv):\n",
    "            model.add( layers.Conv2D(filters=f, kernel_size=ks, strides=(1,1), activation=a, padding='valid' ))\n",
    "        # flatten\n",
    "        model.add( layers.Flatten() )\n",
    "        if (len(self.units_hidden) != len(self.activations_hidden)): raise ValueError(\"missing info to create dense layers\")\n",
    "        for units, a in zip(self.units_hidden, self.activations_hidden):\n",
    "            model.add( layers.Dense(units=units, activation=a) )\n",
    "        # last layer\n",
    "        model.add( layers.Dense(units=self.units_last, activation=self.activation_last) )\n",
    "        return model\n",
    "    \n",
    "    def createConv1D(self):\n",
    "        model = models.Sequential()\n",
    "        # first layer\n",
    "        model.add( layers.Conv1D(filters=self.filters_first, kernel_size=self.kernel_size_first, \n",
    "                                 strides=1, activation=self.activation_first, \n",
    "                                 input_shape=self.input_shape, padding='valid' ))\n",
    "        # conv layers\n",
    "        if (len(self.kernel_sizes) != len(self.filters) and len(self.filters) != len(self.activations_conv) ): raise ValueError(\"missing info to create conv layers\")\n",
    "        for ks, f, a  in zip(self.kernel_sizes, self.filters, self.activations_conv):\n",
    "            model.add( layers.Conv1D(filters=f, kernel_size=ks, strides=1, \n",
    "                                     activation=a, padding='valid' ))\n",
    "        # flatten\n",
    "        model.add( layers.Flatten() )\n",
    "        model.add( layers.Dropout(0.2) )\n",
    "        if (len(self.units_hidden) != len(self.activations_hidden)): raise ValueError(\"missing info to create dense layers\")\n",
    "        for units, a in zip(self.units_hidden, self.activations_hidden):\n",
    "            model.add( layers.Dense(units=units, activation=a) )\n",
    "        # Dropout\n",
    "        model.add( layers.Dropout(0.2) )\n",
    "        # last layer\n",
    "        model.add( layers.Dense(units=self.units_last, activation=self.activation_last) )\n",
    "        return model\n",
    "    \n",
    "def createEvaluationModel_1(n_cols):\n",
    "    model = models.Sequential()\n",
    "    model.add(layers.Dropout(0.1, seed = 42, input_shape = (n_cols, )))\n",
    "    # model.add(Dense(51, activation = 'relu', input_shape = (n_cols, ), kernel_constraint = max_norm(2.)))\n",
    "    model.add(layers.Dense(30, activation = 'relu'))\n",
    "    model.add(layers.Dense(50, activation = 'relu'))\n",
    "    model.add(layers.Dense(70, activation = 'relu'))\n",
    "    model.add(layers.Dense(40, activation = 'relu'))\n",
    "    model.add(layers.Dense(1, activation = 'sigmoid'))\n",
    "    return model\n"
   ]
  },
  {
   "cell_type": "code",
   "execution_count": 3,
   "metadata": {},
   "outputs": [],
   "source": [
    "def printHistory(h, title = None, save = False, name = None):\n",
    "    acc = h['acc']\n",
    "    val_acc = h['val_acc']\n",
    "    loss = h['loss']\n",
    "    val_loss = h['val_loss']\n",
    "\n",
    "    epochs = range(1, len(acc) + 1)\n",
    "    \n",
    "    fig, ax1 = plt.subplots()\n",
    "    \n",
    "    ax1.set_xlabel('Epochs')\n",
    "    ax1.set_ylabel('Loss', color='r')\n",
    "    ax1.plot(epochs, loss, color='r')\n",
    "    ax1.scatter(epochs, val_loss, color='r')\n",
    "    ax1.tick_params(axis='y', labelcolor='r')\n",
    "    \n",
    "    ax2 = ax1.twinx()  # instantiate a second axes that shares the same x-axis\n",
    "    \n",
    "    ax2.set_ylabel('Accuracy', color='b')\n",
    "    ax2.plot(epochs, acc, color='b')\n",
    "    ax2.scatter(epochs, val_acc, color='b')\n",
    "    ax2.tick_params(axis='y', labelcolor='b')\n",
    "    \n",
    "    fig.tight_layout()\n",
    "    \n",
    "    if title != None: plt.title(title)\n",
    "    if save and name != None: plt.savefig(name)\n",
    "    \n",
    "    plt.show()"
   ]
  },
  {
   "cell_type": "code",
   "execution_count": 4,
   "metadata": {},
   "outputs": [],
   "source": [
    "n_abilities = 25"
   ]
  },
  {
   "cell_type": "code",
   "execution_count": 47,
   "metadata": {},
   "outputs": [],
   "source": [
    "df33 = pd.read_excel('./data/dataset 1 (3+3+2 people，25 competences)2.xlsx', index_col=0, usecols=\"B:AA, AB:AZ, BA:BY\")\n",
    "#df33 = df33.sample(n = 20000)\n",
    "\n",
    "win33 = df33.iloc[:, :n_abilities]\n",
    "los33 = df33.iloc[:, n_abilities:n_abilities*2]\n",
    "win22 = df33.iloc[:, n_abilities*2:n_abilities*3 ]"
   ]
  },
  {
   "cell_type": "code",
   "execution_count": 6,
   "metadata": {},
   "outputs": [
    {
     "name": "stderr",
     "output_type": "stream",
     "text": [
      "WARNING: Logging before flag parsing goes to stderr.\n",
      "W1216 00:24:30.278575 140156537091904 deprecation_wrapper.py:119] From /home/valeporti/.local/lib/python3.6/site-packages/keras/backend/tensorflow_backend.py:74: The name tf.get_default_graph is deprecated. Please use tf.compat.v1.get_default_graph instead.\n",
      "\n",
      "W1216 00:24:30.306563 140156537091904 deprecation_wrapper.py:119] From /home/valeporti/.local/lib/python3.6/site-packages/keras/backend/tensorflow_backend.py:517: The name tf.placeholder is deprecated. Please use tf.compat.v1.placeholder instead.\n",
      "\n",
      "W1216 00:24:30.310710 140156537091904 deprecation_wrapper.py:119] From /home/valeporti/.local/lib/python3.6/site-packages/keras/backend/tensorflow_backend.py:4138: The name tf.random_uniform is deprecated. Please use tf.random.uniform instead.\n",
      "\n",
      "W1216 00:24:30.412332 140156537091904 deprecation_wrapper.py:119] From /home/valeporti/.local/lib/python3.6/site-packages/keras/optimizers.py:790: The name tf.train.Optimizer is deprecated. Please use tf.compat.v1.train.Optimizer instead.\n",
      "\n"
     ]
    },
    {
     "name": "stdout",
     "output_type": "stream",
     "text": [
      "_________________________________________________________________\n",
      "Layer (type)                 Output Shape              Param #   \n",
      "=================================================================\n",
      "dense_1 (Dense)              (None, 256)               13056     \n",
      "_________________________________________________________________\n",
      "dense_2 (Dense)              (None, 128)               32896     \n",
      "_________________________________________________________________\n",
      "dense_3 (Dense)              (None, 64)                8256      \n",
      "_________________________________________________________________\n",
      "dense_4 (Dense)              (None, 25)                1625      \n",
      "=================================================================\n",
      "Total params: 55,833\n",
      "Trainable params: 55,833\n",
      "Non-trainable params: 0\n",
      "_________________________________________________________________\n"
     ]
    }
   ],
   "source": [
    "model_skills_dense = LOLModel({\n",
    "    # input info\n",
    "    'input_shape': (n_abilities*2, ),\n",
    "    # Layers info\n",
    "    'units_first': 256,        'activation_first': 'relu',\n",
    "    'units_hidden': [128, 64], 'activations_hidden': ['relu', 'relu'],\n",
    "    'units_last': n_abilities,  'activation_last': 'softmax',\n",
    "}).createDense()\n",
    "model_skills_dense.compile(loss='mse', optimizer=optimizers.RMSprop(), metrics=['accuracy'])\n",
    "model_skills_dense.summary()"
   ]
  },
  {
   "cell_type": "code",
   "execution_count": 7,
   "metadata": {},
   "outputs": [
    {
     "name": "stdout",
     "output_type": "stream",
     "text": [
      "_________________________________________________________________\n",
      "Layer (type)                 Output Shape              Param #   \n",
      "=================================================================\n",
      "conv2d_1 (Conv2D)            (None, 1, 2, 64)          1664      \n",
      "_________________________________________________________________\n",
      "conv2d_2 (Conv2D)            (None, 1, 2, 128)         8320      \n",
      "_________________________________________________________________\n",
      "flatten_1 (Flatten)          (None, 256)               0         \n",
      "_________________________________________________________________\n",
      "dense_5 (Dense)              (None, 128)               32896     \n",
      "_________________________________________________________________\n",
      "dense_6 (Dense)              (None, 64)                8256      \n",
      "_________________________________________________________________\n",
      "dense_7 (Dense)              (None, 25)                1625      \n",
      "=================================================================\n",
      "Total params: 52,761\n",
      "Trainable params: 52,761\n",
      "Non-trainable params: 0\n",
      "_________________________________________________________________\n"
     ]
    }
   ],
   "source": [
    "model_skills_conv2d = LOLModel({\n",
    "    # input info\n",
    "    'input_shape': (1, 2, n_abilities),\n",
    "    # -- Layers info --\n",
    "    # fist layer\n",
    "    'filters_first': 64, 'kernel_size_first': (1, 1), 'activation_first': 'relu',\n",
    "    # intermediate\n",
    "    'filters': [128], 'kernel_sizes': [(1,1)], 'activations_conv': ['relu'],\n",
    "    # dense hidden\n",
    "    'units_hidden': [128, 64], 'activations_hidden': ['relu', 'relu'],\n",
    "    # last layer\n",
    "    'units_last': n_abilities, 'activation_last': 'softmax',\n",
    "}).createConv2D()\n",
    "model_skills_conv2d.compile(loss='mse', optimizer=optimizers.Adam(0.0005, 0.7), metrics=['accuracy'])\n",
    "model_skills_conv2d.summary()"
   ]
  },
  {
   "cell_type": "code",
   "execution_count": 48,
   "metadata": {},
   "outputs": [
    {
     "name": "stdout",
     "output_type": "stream",
     "text": [
      "_________________________________________________________________\n",
      "Layer (type)                 Output Shape              Param #   \n",
      "=================================================================\n",
      "conv1d_5 (Conv1D)            (None, 2, 64)             1664      \n",
      "_________________________________________________________________\n",
      "conv1d_6 (Conv1D)            (None, 2, 64)             4160      \n",
      "_________________________________________________________________\n",
      "flatten_3 (Flatten)          (None, 128)               0         \n",
      "_________________________________________________________________\n",
      "dropout_4 (Dropout)          (None, 128)               0         \n",
      "_________________________________________________________________\n",
      "dense_9 (Dense)              (None, 128)               16512     \n",
      "_________________________________________________________________\n",
      "dense_10 (Dense)             (None, 64)                8256      \n",
      "_________________________________________________________________\n",
      "dense_11 (Dense)             (None, 32)                2080      \n",
      "_________________________________________________________________\n",
      "dropout_5 (Dropout)          (None, 32)                0         \n",
      "_________________________________________________________________\n",
      "dense_12 (Dense)             (None, 25)                825       \n",
      "=================================================================\n",
      "Total params: 33,497\n",
      "Trainable params: 33,497\n",
      "Non-trainable params: 0\n",
      "_________________________________________________________________\n"
     ]
    }
   ],
   "source": [
    "model_skills_conv1d = LOLModel({\n",
    "    # input info\n",
    "    'input_shape': (2, n_abilities),\n",
    "    # -- Layers info --\n",
    "    # fist layer\n",
    "    'filters_first': 64, 'kernel_size_first': 1, 'activation_first': 'relu',\n",
    "    # intermediate\n",
    "    'filters': [64], 'kernel_sizes': [1], 'activations_conv': ['relu'],\n",
    "    # dense hidden\n",
    "    'units_hidden': [128, 64, 32], 'activations_hidden': ['relu', 'relu', 'relu'],\n",
    "    # last layer\n",
    "    'units_last': n_abilities, 'activation_last': 'softmax',\n",
    "}).createConv1D()\n",
    "model_skills_conv1d.compile(loss='mse', optimizer=optimizers.Adam(0.0005, 0.7), metrics=['accuracy'])\n",
    "model_skills_conv1d.summary()"
   ]
  },
  {
   "cell_type": "code",
   "execution_count": 49,
   "metadata": {},
   "outputs": [],
   "source": [
    "X = np.concatenate((win33.values, los33.values), 1)\n",
    "Y = win22.values\n",
    "\n",
    "#X = normalize(X, norm='max', axis=1)\n",
    "#Y = normalize(Y, norm='max', axis=1)\n",
    "\n",
    "x_train_c1d = np.reshape(X, (len(X), 2, n_abilities))\n",
    "x_train_c2d = np.reshape(X, (len(X), 1, 2, n_abilities))"
   ]
  },
  {
   "cell_type": "code",
   "execution_count": 50,
   "metadata": {
    "scrolled": true
   },
   "outputs": [
    {
     "name": "stdout",
     "output_type": "stream",
     "text": [
      "Train on 104790 samples, validate on 26198 samples\n",
      "Epoch 1/50\n",
      "104790/104790 [==============================] - 25s 242us/step - loss: 0.2838 - acc: 0.0795 - val_loss: 0.2714 - val_acc: 0.0690\n",
      "Epoch 2/50\n",
      "104790/104790 [==============================] - 21s 204us/step - loss: 0.2706 - acc: 0.0716 - val_loss: 0.2702 - val_acc: 0.0744\n",
      "Epoch 3/50\n",
      "104790/104790 [==============================] - 18s 174us/step - loss: 0.2687 - acc: 0.0724 - val_loss: 0.2697 - val_acc: 0.0754\n",
      "Epoch 4/50\n",
      "104790/104790 [==============================] - 18s 171us/step - loss: 0.2676 - acc: 0.0739 - val_loss: 0.2693 - val_acc: 0.0739\n",
      "Epoch 5/50\n",
      "104790/104790 [==============================] - 19s 183us/step - loss: 0.2670 - acc: 0.0747 - val_loss: 0.2692 - val_acc: 0.0750\n",
      "Epoch 6/50\n",
      "104790/104790 [==============================] - 19s 181us/step - loss: 0.2664 - acc: 0.0743 - val_loss: 0.2690 - val_acc: 0.0747\n",
      "Epoch 7/50\n",
      "104790/104790 [==============================] - 19s 182us/step - loss: 0.2661 - acc: 0.0749 - val_loss: 0.2685 - val_acc: 0.0791\n",
      "Epoch 8/50\n",
      "104790/104790 [==============================] - 15s 145us/step - loss: 0.2658 - acc: 0.0760 - val_loss: 0.2686 - val_acc: 0.0768\n",
      "Epoch 9/50\n",
      "104790/104790 [==============================] - 20s 188us/step - loss: 0.2656 - acc: 0.0759 - val_loss: 0.2686 - val_acc: 0.0760\n",
      "Epoch 10/50\n",
      "104790/104790 [==============================] - 23s 220us/step - loss: 0.2654 - acc: 0.0759 - val_loss: 0.2685 - val_acc: 0.0760\n",
      "Epoch 11/50\n",
      "104790/104790 [==============================] - 21s 205us/step - loss: 0.2653 - acc: 0.0763 - val_loss: 0.2683 - val_acc: 0.0779\n",
      "Epoch 12/50\n",
      "104790/104790 [==============================] - 20s 191us/step - loss: 0.2651 - acc: 0.0768 - val_loss: 0.2685 - val_acc: 0.0779\n",
      "Epoch 13/50\n",
      "104790/104790 [==============================] - 20s 193us/step - loss: 0.2650 - acc: 0.0769 - val_loss: 0.2683 - val_acc: 0.0800\n",
      "Epoch 14/50\n",
      "104790/104790 [==============================] - 22s 206us/step - loss: 0.2648 - acc: 0.0764 - val_loss: 0.2684 - val_acc: 0.0789\n",
      "Epoch 15/50\n",
      "104790/104790 [==============================] - 20s 189us/step - loss: 0.2647 - acc: 0.0776 - val_loss: 0.2681 - val_acc: 0.0797\n",
      "Epoch 16/50\n",
      "104790/104790 [==============================] - 18s 173us/step - loss: 0.2645 - acc: 0.0776 - val_loss: 0.2681 - val_acc: 0.0786\n",
      "Epoch 17/50\n",
      "104790/104790 [==============================] - 19s 181us/step - loss: 0.2644 - acc: 0.0770 - val_loss: 0.2683 - val_acc: 0.0792\n",
      "Epoch 18/50\n",
      "104790/104790 [==============================] - 18s 171us/step - loss: 0.2644 - acc: 0.0777 - val_loss: 0.2687 - val_acc: 0.0768\n",
      "Epoch 19/50\n",
      "104790/104790 [==============================] - 19s 183us/step - loss: 0.2642 - acc: 0.0778 - val_loss: 0.2684 - val_acc: 0.0768\n",
      "Epoch 20/50\n",
      "104790/104790 [==============================] - 24s 227us/step - loss: 0.2641 - acc: 0.0780 - val_loss: 0.2684 - val_acc: 0.0769\n",
      "Epoch 21/50\n",
      "104790/104790 [==============================] - 23s 219us/step - loss: 0.2640 - acc: 0.0783 - val_loss: 0.2686 - val_acc: 0.0778\n",
      "Epoch 22/50\n",
      "104790/104790 [==============================] - 19s 177us/step - loss: 0.2639 - acc: 0.0782 - val_loss: 0.2684 - val_acc: 0.0794\n",
      "Epoch 23/50\n",
      "104790/104790 [==============================] - 24s 230us/step - loss: 0.2638 - acc: 0.0785 - val_loss: 0.2681 - val_acc: 0.0795\n",
      "Epoch 24/50\n",
      "104790/104790 [==============================] - 23s 223us/step - loss: 0.2638 - acc: 0.0785 - val_loss: 0.2684 - val_acc: 0.0792\n",
      "Epoch 25/50\n",
      "104790/104790 [==============================] - 19s 179us/step - loss: 0.2636 - acc: 0.0786 - val_loss: 0.2688 - val_acc: 0.0771\n",
      "Epoch 26/50\n",
      "104790/104790 [==============================] - 18s 170us/step - loss: 0.2636 - acc: 0.0785 - val_loss: 0.2688 - val_acc: 0.0794\n",
      "Epoch 27/50\n",
      "104790/104790 [==============================] - 18s 177us/step - loss: 0.2634 - acc: 0.0801 - val_loss: 0.2683 - val_acc: 0.0800\n",
      "Epoch 28/50\n",
      "104790/104790 [==============================] - 19s 177us/step - loss: 0.2634 - acc: 0.0798 - val_loss: 0.2683 - val_acc: 0.0778\n",
      "Epoch 29/50\n",
      "104790/104790 [==============================] - 20s 186us/step - loss: 0.2632 - acc: 0.0798 - val_loss: 0.2687 - val_acc: 0.0795\n",
      "Epoch 30/50\n",
      "104790/104790 [==============================] - 22s 209us/step - loss: 0.2631 - acc: 0.0806 - val_loss: 0.2686 - val_acc: 0.0758\n",
      "Epoch 31/50\n",
      "104790/104790 [==============================] - 21s 200us/step - loss: 0.2631 - acc: 0.0799 - val_loss: 0.2686 - val_acc: 0.0769\n",
      "Epoch 32/50\n",
      "104790/104790 [==============================] - 23s 217us/step - loss: 0.2630 - acc: 0.0806 - val_loss: 0.2689 - val_acc: 0.0813\n",
      "Epoch 33/50\n",
      "104790/104790 [==============================] - 20s 191us/step - loss: 0.2630 - acc: 0.0812 - val_loss: 0.2689 - val_acc: 0.0799\n",
      "Epoch 34/50\n",
      "104790/104790 [==============================] - 21s 198us/step - loss: 0.2629 - acc: 0.0810 - val_loss: 0.2688 - val_acc: 0.0796\n",
      "Epoch 35/50\n",
      "104790/104790 [==============================] - 19s 184us/step - loss: 0.2628 - acc: 0.0814 - val_loss: 0.2689 - val_acc: 0.0803\n",
      "Epoch 36/50\n",
      "104790/104790 [==============================] - 20s 190us/step - loss: 0.2627 - acc: 0.0817 - val_loss: 0.2690 - val_acc: 0.0784\n",
      "Epoch 37/50\n",
      "104790/104790 [==============================] - 21s 198us/step - loss: 0.2627 - acc: 0.0807 - val_loss: 0.2690 - val_acc: 0.0804\n",
      "Epoch 38/50\n",
      "104790/104790 [==============================] - 22s 212us/step - loss: 0.2626 - acc: 0.0812 - val_loss: 0.2692 - val_acc: 0.0798\n",
      "Epoch 39/50\n",
      "104790/104790 [==============================] - 25s 240us/step - loss: 0.2625 - acc: 0.0813 - val_loss: 0.2687 - val_acc: 0.0822\n",
      "Epoch 40/50\n",
      "104790/104790 [==============================] - 22s 209us/step - loss: 0.2624 - acc: 0.0814 - val_loss: 0.2689 - val_acc: 0.0810\n",
      "Epoch 41/50\n",
      "104790/104790 [==============================] - 27s 261us/step - loss: 0.2624 - acc: 0.0817 - val_loss: 0.2691 - val_acc: 0.0776\n",
      "Epoch 42/50\n",
      "104790/104790 [==============================] - 27s 254us/step - loss: 0.2622 - acc: 0.0815 - val_loss: 0.2690 - val_acc: 0.0818\n",
      "Epoch 43/50\n",
      "104790/104790 [==============================] - 23s 216us/step - loss: 0.2622 - acc: 0.0812 - val_loss: 0.2691 - val_acc: 0.0790\n",
      "Epoch 44/50\n",
      "104790/104790 [==============================] - 25s 237us/step - loss: 0.2621 - acc: 0.0827 - val_loss: 0.2694 - val_acc: 0.0773\n",
      "Epoch 45/50\n",
      "104790/104790 [==============================] - 25s 236us/step - loss: 0.2620 - acc: 0.0817 - val_loss: 0.2690 - val_acc: 0.0790\n",
      "Epoch 46/50\n",
      "104790/104790 [==============================] - 26s 246us/step - loss: 0.2620 - acc: 0.0818 - val_loss: 0.2691 - val_acc: 0.0798\n",
      "Epoch 47/50\n",
      "104790/104790 [==============================] - 23s 223us/step - loss: 0.2620 - acc: 0.0820 - val_loss: 0.2694 - val_acc: 0.0775\n",
      "Epoch 48/50\n",
      "104790/104790 [==============================] - 18s 176us/step - loss: 0.2620 - acc: 0.0822 - val_loss: 0.2691 - val_acc: 0.0798\n",
      "Epoch 49/50\n",
      "104790/104790 [==============================] - 19s 178us/step - loss: 0.2619 - acc: 0.0823 - val_loss: 0.2692 - val_acc: 0.0792\n",
      "Epoch 50/50\n",
      "104790/104790 [==============================] - 18s 176us/step - loss: 0.2618 - acc: 0.0820 - val_loss: 0.2693 - val_acc: 0.0789\n"
     ]
    }
   ],
   "source": [
    "history = model_skills_conv1d.fit(x_train_c1d, Y, validation_split=0.2, epochs=50, verbose=1)"
   ]
  },
  {
   "cell_type": "code",
   "execution_count": 51,
   "metadata": {},
   "outputs": [
    {
     "data": {
      "image/png": "[encoded data removed]",
      "text/plain": [
       "<Figure size 432x288 with 2 Axes>"
      ]
     },
     "metadata": {
      "needs_background": "light"
     },
     "output_type": "display_data"
    }
   ],
   "source": [
    "printHistory(history.history)"
   ]
  },
  {
   "cell_type": "code",
   "execution_count": 17,
   "metadata": {},
   "outputs": [
    {
     "data": {
      "image/png": "[encoded data removed]",
      "text/plain": [
       "<Figure size 432x288 with 2 Axes>"
      ]
     },
     "metadata": {
      "needs_background": "light"
     },
     "output_type": "display_data"
    }
   ],
   "source": [
    "printHistory(history.history)"
   ]
  },
  {
   "cell_type": "code",
   "execution_count": null,
   "metadata": {},
   "outputs": [],
   "source": []
  },
  {
   "cell_type": "code",
   "execution_count": null,
   "metadata": {},
   "outputs": [],
   "source": []
  },
  {
   "cell_type": "code",
   "execution_count": 52,
   "metadata": {},
   "outputs": [],
   "source": [
    "model_skills_conv1d.save('./models/model_skills_conv1d2.h5')"
   ]
  },
  {
   "cell_type": "code",
   "execution_count": 84,
   "metadata": {},
   "outputs": [
    {
     "name": "stdout",
     "output_type": "stream",
     "text": [
      "_________________________________________________________________\n",
      "Layer (type)                 Output Shape              Param #   \n",
      "=================================================================\n",
      "dropout_7 (Dropout)          (None, 50)                0         \n",
      "_________________________________________________________________\n",
      "dense_31 (Dense)             (None, 30)                1530      \n",
      "_________________________________________________________________\n",
      "dense_32 (Dense)             (None, 50)                1550      \n",
      "_________________________________________________________________\n",
      "dense_33 (Dense)             (None, 70)                3570      \n",
      "_________________________________________________________________\n",
      "dense_34 (Dense)             (None, 40)                2840      \n",
      "_________________________________________________________________\n",
      "dense_35 (Dense)             (None, 1)                 41        \n",
      "=================================================================\n",
      "Total params: 9,531\n",
      "Trainable params: 9,531\n",
      "Non-trainable params: 0\n",
      "_________________________________________________________________\n"
     ]
    }
   ],
   "source": [
    "model_eval = createEvaluationModel_1(n_abilities*2)\n",
    "model_eval.summary()"
   ]
  },
  {
   "cell_type": "code",
   "execution_count": 7,
   "metadata": {},
   "outputs": [
    {
     "data": {
      "text/html": [
       "<div>\n",
       "<style scoped>\n",
       "    .dataframe tbody tr th:only-of-type {\n",
       "        vertical-align: middle;\n",
       "    }\n",
       "\n",
       "    .dataframe tbody tr th {\n",
       "        vertical-align: top;\n",
       "    }\n",
       "\n",
       "    .dataframe thead th {\n",
       "        text-align: right;\n",
       "    }\n",
       "</style>\n",
       "<table border=\"1\" class=\"dataframe\">\n",
       "  <thead>\n",
       "    <tr style=\"text-align: right;\">\n",
       "      <th></th>\n",
       "      <th>1</th>\n",
       "      <th>2</th>\n",
       "      <th>3</th>\n",
       "      <th>4</th>\n",
       "      <th>5</th>\n",
       "      <th>6</th>\n",
       "      <th>7</th>\n",
       "      <th>8</th>\n",
       "      <th>9</th>\n",
       "      <th>10</th>\n",
       "      <th>...</th>\n",
       "      <th>42</th>\n",
       "      <th>43</th>\n",
       "      <th>44</th>\n",
       "      <th>45</th>\n",
       "      <th>46</th>\n",
       "      <th>47</th>\n",
       "      <th>48</th>\n",
       "      <th>49</th>\n",
       "      <th>50</th>\n",
       "      <th>51</th>\n",
       "    </tr>\n",
       "    <tr>\n",
       "      <th>0</th>\n",
       "      <th></th>\n",
       "      <th></th>\n",
       "      <th></th>\n",
       "      <th></th>\n",
       "      <th></th>\n",
       "      <th></th>\n",
       "      <th></th>\n",
       "      <th></th>\n",
       "      <th></th>\n",
       "      <th></th>\n",
       "      <th></th>\n",
       "      <th></th>\n",
       "      <th></th>\n",
       "      <th></th>\n",
       "      <th></th>\n",
       "      <th></th>\n",
       "      <th></th>\n",
       "      <th></th>\n",
       "      <th></th>\n",
       "      <th></th>\n",
       "      <th></th>\n",
       "    </tr>\n",
       "  </thead>\n",
       "  <tbody>\n",
       "    <tr>\n",
       "      <td>1857075079</td>\n",
       "      <td>2</td>\n",
       "      <td>1</td>\n",
       "      <td>1</td>\n",
       "      <td>3</td>\n",
       "      <td>2</td>\n",
       "      <td>1</td>\n",
       "      <td>1</td>\n",
       "      <td>0</td>\n",
       "      <td>0</td>\n",
       "      <td>0</td>\n",
       "      <td>...</td>\n",
       "      <td>1</td>\n",
       "      <td>2</td>\n",
       "      <td>0</td>\n",
       "      <td>2</td>\n",
       "      <td>2</td>\n",
       "      <td>0</td>\n",
       "      <td>0</td>\n",
       "      <td>1</td>\n",
       "      <td>1</td>\n",
       "      <td>0</td>\n",
       "    </tr>\n",
       "    <tr>\n",
       "      <td>1886474639</td>\n",
       "      <td>2</td>\n",
       "      <td>1</td>\n",
       "      <td>3</td>\n",
       "      <td>0</td>\n",
       "      <td>0</td>\n",
       "      <td>1</td>\n",
       "      <td>2</td>\n",
       "      <td>1</td>\n",
       "      <td>0</td>\n",
       "      <td>2</td>\n",
       "      <td>...</td>\n",
       "      <td>2</td>\n",
       "      <td>0</td>\n",
       "      <td>0</td>\n",
       "      <td>1</td>\n",
       "      <td>1</td>\n",
       "      <td>0</td>\n",
       "      <td>0</td>\n",
       "      <td>1</td>\n",
       "      <td>0</td>\n",
       "      <td>0</td>\n",
       "    </tr>\n",
       "    <tr>\n",
       "      <td>1919021946</td>\n",
       "      <td>2</td>\n",
       "      <td>2</td>\n",
       "      <td>1</td>\n",
       "      <td>2</td>\n",
       "      <td>1</td>\n",
       "      <td>2</td>\n",
       "      <td>2</td>\n",
       "      <td>0</td>\n",
       "      <td>0</td>\n",
       "      <td>0</td>\n",
       "      <td>...</td>\n",
       "      <td>0</td>\n",
       "      <td>1</td>\n",
       "      <td>0</td>\n",
       "      <td>1</td>\n",
       "      <td>1</td>\n",
       "      <td>0</td>\n",
       "      <td>2</td>\n",
       "      <td>1</td>\n",
       "      <td>0</td>\n",
       "      <td>0</td>\n",
       "    </tr>\n",
       "    <tr>\n",
       "      <td>1944067475</td>\n",
       "      <td>1</td>\n",
       "      <td>2</td>\n",
       "      <td>2</td>\n",
       "      <td>1</td>\n",
       "      <td>2</td>\n",
       "      <td>2</td>\n",
       "      <td>3</td>\n",
       "      <td>0</td>\n",
       "      <td>0</td>\n",
       "      <td>1</td>\n",
       "      <td>...</td>\n",
       "      <td>1</td>\n",
       "      <td>0</td>\n",
       "      <td>1</td>\n",
       "      <td>0</td>\n",
       "      <td>1</td>\n",
       "      <td>0</td>\n",
       "      <td>0</td>\n",
       "      <td>2</td>\n",
       "      <td>0</td>\n",
       "      <td>1</td>\n",
       "    </tr>\n",
       "    <tr>\n",
       "      <td>1950365896</td>\n",
       "      <td>4</td>\n",
       "      <td>2</td>\n",
       "      <td>2</td>\n",
       "      <td>1</td>\n",
       "      <td>0</td>\n",
       "      <td>3</td>\n",
       "      <td>4</td>\n",
       "      <td>1</td>\n",
       "      <td>0</td>\n",
       "      <td>1</td>\n",
       "      <td>...</td>\n",
       "      <td>0</td>\n",
       "      <td>1</td>\n",
       "      <td>1</td>\n",
       "      <td>1</td>\n",
       "      <td>1</td>\n",
       "      <td>0</td>\n",
       "      <td>0</td>\n",
       "      <td>2</td>\n",
       "      <td>0</td>\n",
       "      <td>0</td>\n",
       "    </tr>\n",
       "  </tbody>\n",
       "</table>\n",
       "<p>5 rows × 51 columns</p>\n",
       "</div>"
      ],
      "text/plain": [
       "            1   2   3   4   5   6   7   8   9   10  ...  42  43  44  45  46  \\\n",
       "0                                                   ...                       \n",
       "1857075079   2   1   1   3   2   1   1   0   0   0  ...   1   2   0   2   2   \n",
       "1886474639   2   1   3   0   0   1   2   1   0   2  ...   2   0   0   1   1   \n",
       "1919021946   2   2   1   2   1   2   2   0   0   0  ...   0   1   0   1   1   \n",
       "1944067475   1   2   2   1   2   2   3   0   0   1  ...   1   0   1   0   1   \n",
       "1950365896   4   2   2   1   0   3   4   1   0   1  ...   0   1   1   1   1   \n",
       "\n",
       "            47  48  49  50  51  \n",
       "0                               \n",
       "1857075079   0   0   1   1   0  \n",
       "1886474639   0   0   1   0   0  \n",
       "1919021946   0   2   1   0   0  \n",
       "1944067475   0   0   2   0   1  \n",
       "1950365896   0   0   2   0   0  \n",
       "\n",
       "[5 rows x 51 columns]"
      ]
     },
     "execution_count": 7,
     "metadata": {},
     "output_type": "execute_result"
    }
   ],
   "source": [
    "dfwinloose = pd.read_excel('./data/dataset 3 (10 people，25 competences, label)2.xlsx', index_col=0, usecols=\"B:BA\")\n",
    "dfwinloose.head()"
   ]
  },
  {
   "cell_type": "code",
   "execution_count": 8,
   "metadata": {},
   "outputs": [],
   "source": [
    "left = dfwinloose.iloc[:, :n_abilities]\n",
    "righ = dfwinloose.iloc[:, n_abilities:n_abilities*2]\n",
    "label = dfwinloose.iloc[:, n_abilities*2:n_abilities*2+1 ]\n",
    "X = np.concatenate((left.values, righ.values), 1)\n",
    "Y = label.values"
   ]
  },
  {
   "cell_type": "code",
   "execution_count": 93,
   "metadata": {},
   "outputs": [
    {
     "data": {
      "text/plain": [
       "(130988, 50)"
      ]
     },
     "execution_count": 93,
     "metadata": {},
     "output_type": "execute_result"
    }
   ],
   "source": [
    "X.shape"
   ]
  },
  {
   "cell_type": "code",
   "execution_count": 86,
   "metadata": {
    "scrolled": true
   },
   "outputs": [
    {
     "name": "stdout",
     "output_type": "stream",
     "text": [
      "Train on 91691 samples, validate on 39297 samples\n",
      "Epoch 1/30\n",
      "91691/91691 [==============================] - 13s 142us/step - loss: 0.6892 - acc: 0.5394 - val_loss: 0.6906 - val_acc: 0.5331\n",
      "Epoch 2/30\n",
      "91691/91691 [==============================] - 13s 141us/step - loss: 0.6888 - acc: 0.5403 - val_loss: 0.6914 - val_acc: 0.5330\n",
      "Epoch 3/30\n",
      "91691/91691 [==============================] - 15s 163us/step - loss: 0.6887 - acc: 0.5400 - val_loss: 0.6908 - val_acc: 0.5331\n",
      "Epoch 4/30\n",
      "91691/91691 [==============================] - 15s 166us/step - loss: 0.6887 - acc: 0.5403 - val_loss: 0.6912 - val_acc: 0.5337\n",
      "Epoch 5/30\n",
      "91691/91691 [==============================] - 14s 157us/step - loss: 0.6886 - acc: 0.5405 - val_loss: 0.6910 - val_acc: 0.5328\n",
      "Epoch 6/30\n",
      "91691/91691 [==============================] - 13s 137us/step - loss: 0.6884 - acc: 0.5404 - val_loss: 0.6905 - val_acc: 0.5341\n",
      "Epoch 7/30\n",
      "91691/91691 [==============================] - 13s 139us/step - loss: 0.6882 - acc: 0.5426 - val_loss: 0.6904 - val_acc: 0.5327\n",
      "Epoch 8/30\n",
      "91691/91691 [==============================] - 13s 140us/step - loss: 0.6883 - acc: 0.5415 - val_loss: 0.6907 - val_acc: 0.5302\n",
      "Epoch 9/30\n",
      "91691/91691 [==============================] - 13s 142us/step - loss: 0.6879 - acc: 0.5416 - val_loss: 0.6906 - val_acc: 0.5290\n",
      "Epoch 10/30\n",
      "91691/91691 [==============================] - 14s 147us/step - loss: 0.6878 - acc: 0.5427 - val_loss: 0.6905 - val_acc: 0.5335\n",
      "Epoch 11/30\n",
      "91691/91691 [==============================] - 16s 175us/step - loss: 0.6879 - acc: 0.5438 - val_loss: 0.6903 - val_acc: 0.5343\n",
      "Epoch 12/30\n",
      "91691/91691 [==============================] - 16s 172us/step - loss: 0.6877 - acc: 0.5431 - val_loss: 0.6914 - val_acc: 0.5334\n",
      "Epoch 13/30\n",
      "91691/91691 [==============================] - 16s 176us/step - loss: 0.6874 - acc: 0.5443 - val_loss: 0.6906 - val_acc: 0.5298\n",
      "Epoch 14/30\n",
      "91691/91691 [==============================] - 18s 194us/step - loss: 0.6875 - acc: 0.5445 - val_loss: 0.6904 - val_acc: 0.5319\n",
      "Epoch 15/30\n",
      "91691/91691 [==============================] - 14s 149us/step - loss: 0.6873 - acc: 0.5459 - val_loss: 0.6905 - val_acc: 0.5322\n",
      "Epoch 16/30\n",
      "91691/91691 [==============================] - 16s 173us/step - loss: 0.6875 - acc: 0.5431 - val_loss: 0.6903 - val_acc: 0.5318\n",
      "Epoch 17/30\n",
      "91691/91691 [==============================] - 14s 149us/step - loss: 0.6872 - acc: 0.5443 - val_loss: 0.6914 - val_acc: 0.5317\n",
      "Epoch 18/30\n",
      "91691/91691 [==============================] - 13s 145us/step - loss: 0.6871 - acc: 0.5445 - val_loss: 0.6905 - val_acc: 0.5308\n",
      "Epoch 19/30\n",
      "91691/91691 [==============================] - 13s 144us/step - loss: 0.6869 - acc: 0.5454 - val_loss: 0.6904 - val_acc: 0.5328\n",
      "Epoch 20/30\n",
      "91691/91691 [==============================] - 13s 144us/step - loss: 0.6872 - acc: 0.5452 - val_loss: 0.6904 - val_acc: 0.5302\n",
      "Epoch 21/30\n",
      "91691/91691 [==============================] - 13s 143us/step - loss: 0.6872 - acc: 0.5453 - val_loss: 0.6902 - val_acc: 0.5320\n",
      "Epoch 22/30\n",
      "91691/91691 [==============================] - 13s 143us/step - loss: 0.6868 - acc: 0.5465 - val_loss: 0.6902 - val_acc: 0.5338\n",
      "Epoch 23/30\n",
      "91691/91691 [==============================] - 13s 142us/step - loss: 0.6866 - acc: 0.5460 - val_loss: 0.6912 - val_acc: 0.5312\n",
      "Epoch 24/30\n",
      "91691/91691 [==============================] - 13s 142us/step - loss: 0.6868 - acc: 0.5455 - val_loss: 0.6907 - val_acc: 0.5310\n",
      "Epoch 25/30\n",
      "91691/91691 [==============================] - 13s 142us/step - loss: 0.6865 - acc: 0.5451 - val_loss: 0.6904 - val_acc: 0.5312\n",
      "Epoch 26/30\n",
      "91691/91691 [==============================] - 13s 143us/step - loss: 0.6868 - acc: 0.5470 - val_loss: 0.6907 - val_acc: 0.5332\n",
      "Epoch 27/30\n",
      "91691/91691 [==============================] - 13s 142us/step - loss: 0.6863 - acc: 0.5474 - val_loss: 0.6905 - val_acc: 0.5306\n",
      "Epoch 28/30\n",
      "91691/91691 [==============================] - 14s 155us/step - loss: 0.6867 - acc: 0.5458 - val_loss: 0.6907 - val_acc: 0.5311\n",
      "Epoch 29/30\n",
      "91691/91691 [==============================] - 15s 160us/step - loss: 0.6863 - acc: 0.5475 - val_loss: 0.6911 - val_acc: 0.5301\n",
      "Epoch 30/30\n",
      "91691/91691 [==============================] - 14s 158us/step - loss: 0.6863 - acc: 0.5470 - val_loss: 0.6906 - val_acc: 0.5316\n"
     ]
    }
   ],
   "source": [
    "model_eval.compile(optimizer = 'adam', loss = 'binary_crossentropy', metrics = ['accuracy'])\n",
    "early_stopping = EarlyStopping(monitor = 'val_loss', patience = 4)\n",
    "history = model_eval.fit(X, Y, epochs = 30, validation_split = 0.3) #, batch_size = 128, callbacks = [early_stopping])"
   ]
  },
  {
   "cell_type": "code",
   "execution_count": 87,
   "metadata": {},
   "outputs": [
    {
     "data": {
      "image/png": "[encoded data removed]",
      "text/plain": [
       "<Figure size 432x288 with 2 Axes>"
      ]
     },
     "metadata": {
      "needs_background": "light"
     },
     "output_type": "display_data"
    }
   ],
   "source": [
    "printHistory(history.history)"
   ]
  },
  {
   "cell_type": "code",
   "execution_count": 88,
   "metadata": {},
   "outputs": [],
   "source": [
    "model_eval.save('./models/model_eval.h5')"
   ]
  },
  {
   "cell_type": "code",
   "execution_count": null,
   "metadata": {},
   "outputs": [],
   "source": [
    "printHistory(history.history) # conv1d [32 64] [64 32] "
   ]
  },
  {
   "cell_type": "code",
   "execution_count": 45,
   "metadata": {},
   "outputs": [
    {
     "data": {
      "image/png": "[encoded data removed]",
      "text/plain": [
       "<Figure size 432x288 with 2 Axes>"
      ]
     },
     "metadata": {
      "needs_background": "light"
     },
     "output_type": "display_data"
    }
   ],
   "source": [
    "printHistory(history.history) # conv1d [64 128 256 Leaky] [256, 128, 64] "
   ]
  },
  {
   "cell_type": "code",
   "execution_count": 41,
   "metadata": {},
   "outputs": [
    {
     "data": {
      "image/png": "[encoded data removed]",
      "text/plain": [
       "<Figure size 432x288 with 2 Axes>"
      ]
     },
     "metadata": {
      "needs_background": "light"
     },
     "output_type": "display_data"
    }
   ],
   "source": [
    "printHistory(history.history) # conv1d [64 128 256] [256, 128, 64]"
   ]
  },
  {
   "cell_type": "code",
   "execution_count": 38,
   "metadata": {},
   "outputs": [
    {
     "data": {
      "image/png": "[encoded data removed]",
      "text/plain": [
       "<Figure size 432x288 with 2 Axes>"
      ]
     },
     "metadata": {
      "needs_background": "light"
     },
     "output_type": "display_data"
    }
   ],
   "source": [
    "printHistory(history.history) # conv1d [64 128] [256, 128, 64]"
   ]
  },
  {
   "cell_type": "code",
   "execution_count": 25,
   "metadata": {},
   "outputs": [
    {
     "data": {
      "image/png": "[encoded data removed]",
      "text/plain": [
       "<Figure size 432x288 with 2 Axes>"
      ]
     },
     "metadata": {
      "needs_background": "light"
     },
     "output_type": "display_data"
    }
   ],
   "source": [
    "printHistory(history.history)"
   ]
  },
  {
   "cell_type": "code",
   "execution_count": 171,
   "metadata": {},
   "outputs": [
    {
     "data": {
      "image/png": "[encoded data removed]",
      "text/plain": [
       "<Figure size 432x288 with 2 Axes>"
      ]
     },
     "metadata": {
      "needs_background": "light"
     },
     "output_type": "display_data"
    }
   ],
   "source": [
    "printHistory(history.history) # Conv2d loss='mse', optimizer=optimizers.RMSprop() [32 64] [64 32] input type (1, 2, n)"
   ]
  },
  {
   "cell_type": "code",
   "execution_count": 157,
   "metadata": {},
   "outputs": [
    {
     "data": {
      "image/png": "[encoded data removed]",
      "text/plain": [
       "<Figure size 432x288 with 2 Axes>"
      ]
     },
     "metadata": {
      "needs_background": "light"
     },
     "output_type": "display_data"
    }
   ],
   "source": [
    "printHistory(history.history) # Conv2d loss='mse', optimizer=optimizers.RMSprop() [32 64] [64 32] input type (2, n, 1)"
   ]
  },
  {
   "cell_type": "code",
   "execution_count": 155,
   "metadata": {},
   "outputs": [
    {
     "data": {
      "image/png": "[encoded data removed]",
      "text/plain": [
       "<Figure size 432x288 with 2 Axes>"
      ]
     },
     "metadata": {
      "needs_background": "light"
     },
     "output_type": "display_data"
    }
   ],
   "source": [
    "printHistory(history.history) # Dense loss='mse', optimizer=optimizers.RMSprop() [256 128 64]"
   ]
  },
  {
   "cell_type": "code",
   "execution_count": 152,
   "metadata": {},
   "outputs": [
    {
     "data": {
      "image/png": "[encoded data removed]",
      "text/plain": [
       "<Figure size 432x288 with 2 Axes>"
      ]
     },
     "metadata": {
      "needs_background": "light"
     },
     "output_type": "display_data"
    }
   ],
   "source": [
    "printHistory(history.history) # Conv1d loss='mse', optimizer=optimizers.Adam(0.0002, 0.5), [64 64],[128,64,32]"
   ]
  },
  {
   "cell_type": "code",
   "execution_count": 137,
   "metadata": {},
   "outputs": [
    {
     "data": {
      "image/png": "[encoded data removed]",
      "text/plain": [
       "<Figure size 432x288 with 2 Axes>"
      ]
     },
     "metadata": {
      "needs_background": "light"
     },
     "output_type": "display_data"
    }
   ],
   "source": [
    "printHistory(history.history) # Conv1d loss='mse', optimizer=optimizers.RMSprop(), [64 64],[128,64,32]"
   ]
  },
  {
   "cell_type": "markdown",
   "metadata": {},
   "source": [
    "# IGNORE NEXT CHARTS (could be used as failure examples though) "
   ]
  },
  {
   "cell_type": "code",
   "execution_count": 118,
   "metadata": {},
   "outputs": [
    {
     "data": {
      "image/png": "[encoded data removed]",
      "text/plain": [
       "<Figure size 432x288 with 2 Axes>"
      ]
     },
     "metadata": {
      "needs_background": "light"
     },
     "output_type": "display_data"
    }
   ],
   "source": [
    "printHistory(history.history) # Conv "
   ]
  },
  {
   "cell_type": "code",
   "execution_count": 35,
   "metadata": {},
   "outputs": [
    {
     "data": {
      "image/png": "[encoded data removed]",
      "text/plain": [
       "<Figure size 432x288 with 2 Axes>"
      ]
     },
     "metadata": {
      "needs_background": "light"
     },
     "output_type": "display_data"
    }
   ],
   "source": [
    "printHistory(history.history) # mae, adam, [64, 128, 64] (corrected activation first)"
   ]
  },
  {
   "cell_type": "code",
   "execution_count": 53,
   "metadata": {},
   "outputs": [
    {
     "data": {
      "image/png": "[encoded data removed]",
      "text/plain": [
       "<Figure size 432x288 with 2 Axes>"
      ]
     },
     "metadata": {
      "needs_background": "light"
     },
     "output_type": "display_data"
    }
   ],
   "source": [
    "printHistory(history.history) # mae, adam, [128, 128, 64]"
   ]
  },
  {
   "cell_type": "code",
   "execution_count": 45,
   "metadata": {},
   "outputs": [
    {
     "data": {
      "image/png": "[encoded data removed]",
      "text/plain": [
       "<Figure size 432x288 with 2 Axes>"
      ]
     },
     "metadata": {
      "needs_background": "light"
     },
     "output_type": "display_data"
    }
   ],
   "source": [
    "printHistory(history.history) # mae, adam, [64, 64, 32]"
   ]
  },
  {
   "cell_type": "code",
   "execution_count": 38,
   "metadata": {},
   "outputs": [
    {
     "data": {
      "text/plain": [
       "Text(0.5, 1.0, 'Learning rate')"
      ]
     },
     "execution_count": 38,
     "metadata": {},
     "output_type": "execute_result"
    },
    {
     "data": {
      "image/png": "[encoded data removed]",
      "text/plain": [
       "<Figure size 432x288 with 1 Axes>"
      ]
     },
     "metadata": {
      "needs_background": "light"
     },
     "output_type": "display_data"
    }
   ],
   "source": [
    "# mae adam 128 64 32\n",
    "plt.plot(history.history['loss'], 'r')\n",
    "plt.plot(history.history['val_loss'], 'b')\n",
    "plt.plot(history.history['acc'], 'ro')\n",
    "plt.plot(history.history['val_acc'], 'bo')\n",
    "plt.ylabel('Loss', size=20)\n",
    "plt.xlabel('Epoch', size=20)\n",
    "plt.legend(['train loss', 'test loss', 'train acc', 'test acc'])\n",
    "plt.title('Learning rate', size=20)"
   ]
  },
  {
   "cell_type": "code",
   "execution_count": 34,
   "metadata": {},
   "outputs": [
    {
     "data": {
      "text/plain": [
       "Text(0.5, 1.0, 'Learning rate')"
      ]
     },
     "execution_count": 34,
     "metadata": {},
     "output_type": "execute_result"
    },
    {
     "data": {
      "image/png": "[encoded data removed]",
      "text/plain": [
       "<Figure size 432x288 with 1 Axes>"
      ]
     },
     "metadata": {
      "needs_background": "light"
     },
     "output_type": "display_data"
    }
   ],
   "source": [
    "# mse adam 128 64 32\n",
    "plt.plot(history.history['loss'], 'r')\n",
    "plt.plot(history.history['val_loss'], 'b')\n",
    "plt.plot(history.history['acc'], 'ro')\n",
    "plt.plot(history.history['val_acc'], 'bo')\n",
    "plt.ylabel('Loss', size=20)\n",
    "plt.xlabel('Epoch', size=20)\n",
    "plt.legend(['train loss', 'test loss', 'train acc', 'test_acc'])\n",
    "plt.title('Learning rate', size=20)"
   ]
  },
  {
   "cell_type": "code",
   "execution_count": null,
   "metadata": {},
   "outputs": [],
   "source": []
  },
  {
   "cell_type": "code",
   "execution_count": null,
   "metadata": {},
   "outputs": [],
   "source": []
  },
  {
   "cell_type": "code",
   "execution_count": 28,
   "metadata": {},
   "outputs": [
    {
     "name": "stdout",
     "output_type": "stream",
     "text": [
      "_________________________________________________________________\n",
      "Layer (type)                 Output Shape              Param #   \n",
      "=================================================================\n",
      "dense_20 (Dense)             (None, 64)                1344      \n",
      "_________________________________________________________________\n",
      "dense_21 (Dense)             (None, 32)                2080      \n",
      "_________________________________________________________________\n",
      "dense_22 (Dense)             (None, 16)                528       \n",
      "_________________________________________________________________\n",
      "dense_23 (Dense)             (None, 1)                 17        \n",
      "=================================================================\n",
      "Total params: 3,969\n",
      "Trainable params: 3,969\n",
      "Non-trainable params: 0\n",
      "_________________________________________________________________\n"
     ]
    }
   ],
   "source": [
    "model_winner = LOLModel({\n",
    "    # input info\n",
    "    'input_shape': (20,),\n",
    "    # Layers info\n",
    "    'units_first': 64,        'activation_first': 'relu',\n",
    "    'units_hidden': [32, 16], 'activations_hidden': ['relu', 'relu'],\n",
    "    'units_last': 1,         'activation_last': 'softmax',\n",
    "}).create()\n",
    "model_winner.summary()"
   ]
  },
  {
   "cell_type": "code",
   "execution_count": 5,
   "metadata": {},
   "outputs": [
    {
     "name": "stderr",
     "output_type": "stream",
     "text": [
      "WARNING: Logging before flag parsing goes to stderr.\n",
      "W1217 17:46:38.248809 140474648766272 deprecation_wrapper.py:119] From /home/valeporti/.local/lib/python3.6/site-packages/keras/backend/tensorflow_backend.py:517: The name tf.placeholder is deprecated. Please use tf.compat.v1.placeholder instead.\n",
      "\n",
      "W1217 17:46:38.297717 140474648766272 deprecation_wrapper.py:119] From /home/valeporti/.local/lib/python3.6/site-packages/keras/backend/tensorflow_backend.py:4138: The name tf.random_uniform is deprecated. Please use tf.random.uniform instead.\n",
      "\n",
      "W1217 17:46:38.345044 140474648766272 deprecation_wrapper.py:119] From /home/valeporti/.local/lib/python3.6/site-packages/keras/backend/tensorflow_backend.py:131: The name tf.get_default_graph is deprecated. Please use tf.compat.v1.get_default_graph instead.\n",
      "\n",
      "W1217 17:46:38.345810 140474648766272 deprecation_wrapper.py:119] From /home/valeporti/.local/lib/python3.6/site-packages/keras/backend/tensorflow_backend.py:133: The name tf.placeholder_with_default is deprecated. Please use tf.compat.v1.placeholder_with_default instead.\n",
      "\n",
      "W1217 17:46:38.354522 140474648766272 deprecation.py:506] From /home/valeporti/.local/lib/python3.6/site-packages/keras/backend/tensorflow_backend.py:3445: calling dropout (from tensorflow.python.ops.nn_ops) with keep_prob is deprecated and will be removed in a future version.\n",
      "Instructions for updating:\n",
      "Please use `rate` instead of `keep_prob`. Rate should be set to `rate = 1 - keep_prob`.\n",
      "W1217 17:46:38.438646 140474648766272 deprecation_wrapper.py:119] From /home/valeporti/.local/lib/python3.6/site-packages/keras/backend/tensorflow_backend.py:174: The name tf.get_default_session is deprecated. Please use tf.compat.v1.get_default_session instead.\n",
      "\n",
      "W1217 17:46:42.220904 140474648766272 deprecation_wrapper.py:119] From /home/valeporti/.local/lib/python3.6/site-packages/keras/optimizers.py:790: The name tf.train.Optimizer is deprecated. Please use tf.compat.v1.train.Optimizer instead.\n",
      "\n",
      "W1217 17:46:43.252611 140474648766272 deprecation.py:323] From /home/valeporti/.local/lib/python3.6/site-packages/tensorflow/python/ops/nn_impl.py:180: add_dispatch_support.<locals>.wrapper (from tensorflow.python.ops.array_ops) is deprecated and will be removed in a future version.\n",
      "Instructions for updating:\n",
      "Use tf.where in 2.0, which has the same broadcast rule as np.where\n"
     ]
    }
   ],
   "source": [
    "#model_skills = models.load_model('./models/model_skills_conv1d.h5')\n",
    "model_skills = models.load_model('./models/model_skills_conv1d2.h5')\n",
    "model_eval = models.load_model('./models/model_eval.h5')"
   ]
  },
  {
   "cell_type": "code",
   "execution_count": 6,
   "metadata": {},
   "outputs": [
    {
     "name": "stdout",
     "output_type": "stream",
     "text": [
      "_________________________________________________________________\n",
      "Layer (type)                 Output Shape              Param #   \n",
      "=================================================================\n",
      "conv1d_5 (Conv1D)            (None, 2, 64)             1664      \n",
      "_________________________________________________________________\n",
      "conv1d_6 (Conv1D)            (None, 2, 64)             4160      \n",
      "_________________________________________________________________\n",
      "flatten_3 (Flatten)          (None, 128)               0         \n",
      "_________________________________________________________________\n",
      "dropout_4 (Dropout)          (None, 128)               0         \n",
      "_________________________________________________________________\n",
      "dense_9 (Dense)              (None, 128)               16512     \n",
      "_________________________________________________________________\n",
      "dense_10 (Dense)             (None, 64)                8256      \n",
      "_________________________________________________________________\n",
      "dense_11 (Dense)             (None, 32)                2080      \n",
      "_________________________________________________________________\n",
      "dropout_5 (Dropout)          (None, 32)                0         \n",
      "_________________________________________________________________\n",
      "dense_12 (Dense)             (None, 25)                825       \n",
      "=================================================================\n",
      "Total params: 33,497\n",
      "Trainable params: 33,497\n",
      "Non-trainable params: 0\n",
      "_________________________________________________________________\n"
     ]
    }
   ],
   "source": [
    "model_skills.summary()"
   ]
  },
  {
   "cell_type": "code",
   "execution_count": 7,
   "metadata": {},
   "outputs": [
    {
     "data": {
      "text/html": [
       "<div>\n",
       "<style scoped>\n",
       "    .dataframe tbody tr th:only-of-type {\n",
       "        vertical-align: middle;\n",
       "    }\n",
       "\n",
       "    .dataframe tbody tr th {\n",
       "        vertical-align: top;\n",
       "    }\n",
       "\n",
       "    .dataframe thead th {\n",
       "        text-align: right;\n",
       "    }\n",
       "</style>\n",
       "<table border=\"1\" class=\"dataframe\">\n",
       "  <thead>\n",
       "    <tr style=\"text-align: right;\">\n",
       "      <th></th>\n",
       "      <th>difficulty (fault/fallibility)</th>\n",
       "      <th>defender</th>\n",
       "      <th>attacker (type 1)</th>\n",
       "      <th>attacker (type 2)</th>\n",
       "      <th>control skill (large-scale)</th>\n",
       "      <th>control skill  (monocase)</th>\n",
       "      <th>displacement</th>\n",
       "      <th>telesportation</th>\n",
       "      <th>telesportation with others</th>\n",
       "      <th>support in long distance</th>\n",
       "      <th>...</th>\n",
       "      <th>shield</th>\n",
       "      <th>hook</th>\n",
       "      <th>trap陷阱</th>\n",
       "      <th>rush</th>\n",
       "      <th>dammage in large scale</th>\n",
       "      <th>视野view</th>\n",
       "      <th>地形change landforme</th>\n",
       "      <th>召唤师 summoner</th>\n",
       "      <th>单秒 kill in one seconde</th>\n",
       "      <th>bleed</th>\n",
       "    </tr>\n",
       "    <tr>\n",
       "      <th>championName</th>\n",
       "      <th></th>\n",
       "      <th></th>\n",
       "      <th></th>\n",
       "      <th></th>\n",
       "      <th></th>\n",
       "      <th></th>\n",
       "      <th></th>\n",
       "      <th></th>\n",
       "      <th></th>\n",
       "      <th></th>\n",
       "      <th></th>\n",
       "      <th></th>\n",
       "      <th></th>\n",
       "      <th></th>\n",
       "      <th></th>\n",
       "      <th></th>\n",
       "      <th></th>\n",
       "      <th></th>\n",
       "      <th></th>\n",
       "      <th></th>\n",
       "      <th></th>\n",
       "    </tr>\n",
       "  </thead>\n",
       "  <tbody>\n",
       "    <tr>\n",
       "      <td>Annie</td>\n",
       "      <td>0.0</td>\n",
       "      <td>0.0</td>\n",
       "      <td>0.0</td>\n",
       "      <td>1.0</td>\n",
       "      <td>1.0</td>\n",
       "      <td>1.0</td>\n",
       "      <td>0.0</td>\n",
       "      <td>0.0</td>\n",
       "      <td>0.0</td>\n",
       "      <td>0.0</td>\n",
       "      <td>...</td>\n",
       "      <td>0.0</td>\n",
       "      <td>0.0</td>\n",
       "      <td>0.0</td>\n",
       "      <td>0.0</td>\n",
       "      <td>1.0</td>\n",
       "      <td>0.0</td>\n",
       "      <td>0.0</td>\n",
       "      <td>1.0</td>\n",
       "      <td>1.0</td>\n",
       "      <td>0.0</td>\n",
       "    </tr>\n",
       "    <tr>\n",
       "      <td>Olaf</td>\n",
       "      <td>0.0</td>\n",
       "      <td>1.0</td>\n",
       "      <td>1.0</td>\n",
       "      <td>0.0</td>\n",
       "      <td>0.0</td>\n",
       "      <td>0.0</td>\n",
       "      <td>0.0</td>\n",
       "      <td>0.0</td>\n",
       "      <td>0.0</td>\n",
       "      <td>0.0</td>\n",
       "      <td>...</td>\n",
       "      <td>0.0</td>\n",
       "      <td>0.0</td>\n",
       "      <td>0.0</td>\n",
       "      <td>1.0</td>\n",
       "      <td>0.0</td>\n",
       "      <td>0.0</td>\n",
       "      <td>0.0</td>\n",
       "      <td>0.0</td>\n",
       "      <td>0.0</td>\n",
       "      <td>0.0</td>\n",
       "    </tr>\n",
       "    <tr>\n",
       "      <td>Galio</td>\n",
       "      <td>0.0</td>\n",
       "      <td>1.0</td>\n",
       "      <td>0.0</td>\n",
       "      <td>0.0</td>\n",
       "      <td>1.0</td>\n",
       "      <td>1.0</td>\n",
       "      <td>1.0</td>\n",
       "      <td>1.0</td>\n",
       "      <td>0.0</td>\n",
       "      <td>1.0</td>\n",
       "      <td>...</td>\n",
       "      <td>0.0</td>\n",
       "      <td>1.0</td>\n",
       "      <td>0.0</td>\n",
       "      <td>0.0</td>\n",
       "      <td>0.0</td>\n",
       "      <td>0.0</td>\n",
       "      <td>0.0</td>\n",
       "      <td>0.0</td>\n",
       "      <td>0.0</td>\n",
       "      <td>0.0</td>\n",
       "    </tr>\n",
       "    <tr>\n",
       "      <td>Twisted Fate</td>\n",
       "      <td>1.0</td>\n",
       "      <td>0.0</td>\n",
       "      <td>0.0</td>\n",
       "      <td>1.0</td>\n",
       "      <td>0.0</td>\n",
       "      <td>1.0</td>\n",
       "      <td>0.0</td>\n",
       "      <td>1.0</td>\n",
       "      <td>0.0</td>\n",
       "      <td>1.0</td>\n",
       "      <td>...</td>\n",
       "      <td>0.0</td>\n",
       "      <td>0.0</td>\n",
       "      <td>0.0</td>\n",
       "      <td>0.0</td>\n",
       "      <td>0.0</td>\n",
       "      <td>1.0</td>\n",
       "      <td>0.0</td>\n",
       "      <td>0.0</td>\n",
       "      <td>0.0</td>\n",
       "      <td>0.0</td>\n",
       "    </tr>\n",
       "    <tr>\n",
       "      <td>Xin Zhao</td>\n",
       "      <td>0.0</td>\n",
       "      <td>1.0</td>\n",
       "      <td>1.0</td>\n",
       "      <td>0.0</td>\n",
       "      <td>0.0</td>\n",
       "      <td>1.0</td>\n",
       "      <td>1.0</td>\n",
       "      <td>0.0</td>\n",
       "      <td>0.0</td>\n",
       "      <td>0.0</td>\n",
       "      <td>...</td>\n",
       "      <td>0.0</td>\n",
       "      <td>0.0</td>\n",
       "      <td>0.0</td>\n",
       "      <td>1.0</td>\n",
       "      <td>0.0</td>\n",
       "      <td>0.0</td>\n",
       "      <td>0.0</td>\n",
       "      <td>0.0</td>\n",
       "      <td>0.0</td>\n",
       "      <td>0.0</td>\n",
       "    </tr>\n",
       "  </tbody>\n",
       "</table>\n",
       "<p>5 rows × 25 columns</p>\n",
       "</div>"
      ],
      "text/plain": [
       "              difficulty (fault/fallibility)  defender  attacker (type 1)  \\\n",
       "championName                                                                \n",
       "Annie                                    0.0       0.0                0.0   \n",
       "Olaf                                     0.0       1.0                1.0   \n",
       "Galio                                    0.0       1.0                0.0   \n",
       "Twisted Fate                             1.0       0.0                0.0   \n",
       "Xin Zhao                                 0.0       1.0                1.0   \n",
       "\n",
       "              attacker (type 2)  control skill (large-scale)  \\\n",
       "championName                                                   \n",
       "Annie                       1.0                          1.0   \n",
       "Olaf                        0.0                          0.0   \n",
       "Galio                       0.0                          1.0   \n",
       "Twisted Fate                1.0                          0.0   \n",
       "Xin Zhao                    0.0                          0.0   \n",
       "\n",
       "              control skill  (monocase)  displacement  telesportation  \\\n",
       "championName                                                            \n",
       "Annie                               1.0           0.0             0.0   \n",
       "Olaf                                0.0           0.0             0.0   \n",
       "Galio                               1.0           1.0             1.0   \n",
       "Twisted Fate                        1.0           0.0             1.0   \n",
       "Xin Zhao                            1.0           1.0             0.0   \n",
       "\n",
       "              telesportation with others  support in long distance  ...  \\\n",
       "championName                                                        ...   \n",
       "Annie                                0.0                       0.0  ...   \n",
       "Olaf                                 0.0                       0.0  ...   \n",
       "Galio                                0.0                       1.0  ...   \n",
       "Twisted Fate                         0.0                       1.0  ...   \n",
       "Xin Zhao                             0.0                       0.0  ...   \n",
       "\n",
       "              shield  hook  trap陷阱  rush  dammage in large scale  视野view  \\\n",
       "championName                                                               \n",
       "Annie            0.0   0.0     0.0   0.0                     1.0     0.0   \n",
       "Olaf             0.0   0.0     0.0   1.0                     0.0     0.0   \n",
       "Galio            0.0   1.0     0.0   0.0                     0.0     0.0   \n",
       "Twisted Fate     0.0   0.0     0.0   0.0                     0.0     1.0   \n",
       "Xin Zhao         0.0   0.0     0.0   1.0                     0.0     0.0   \n",
       "\n",
       "              地形change landforme  召唤师 summoner  单秒 kill in one seconde  bleed  \n",
       "championName                                                                   \n",
       "Annie                        0.0           1.0                     1.0    0.0  \n",
       "Olaf                         0.0           0.0                     0.0    0.0  \n",
       "Galio                        0.0           0.0                     0.0    0.0  \n",
       "Twisted Fate                 0.0           0.0                     0.0    0.0  \n",
       "Xin Zhao                     0.0           0.0                     0.0    0.0  \n",
       "\n",
       "[5 rows x 25 columns]"
      ]
     },
     "execution_count": 7,
     "metadata": {},
     "output_type": "execute_result"
    }
   ],
   "source": [
    "skillsdf = pd.read_excel('./data/lol_dataset_24.xlsx', index_col=0, \n",
    "                         usecols=\"B:B, D:H, J:O, Q:U, W:AA, AC:AE, AG\",\n",
    "                         skiprows=[1, 129, 130, 131]\n",
    "                        )\n",
    "skillsdf = skillsdf.replace(np.nan, 0)\n",
    "skillsdf.head()"
   ]
  },
  {
   "cell_type": "code",
   "execution_count": 18,
   "metadata": {},
   "outputs": [],
   "source": [
    "class LOLProduct: \n",
    "    def __init__(self, model_skills, model_eval, player_skills, n_abilities = 25):\n",
    "        self.model_skills = model_skills # Model\n",
    "        self.model_eval = model_eval # Model\n",
    "        self.player_skills = player_skills # Dataframe Chamipon -> skills\n",
    "        self.n_abilities = n_abilities\n",
    "        \n",
    "    def getChampionAbilities(self, champion = ''):\n",
    "        return self.player_skills.loc[champion]\n",
    "    \n",
    "    def aggregateAbilities(self, abilities = []):\n",
    "        agg = abilities[0]\n",
    "        for i in range(1, len(abilities)): agg = agg + abilities[i]\n",
    "        return agg\n",
    "    \n",
    "    def getAllChampionsAbilities(self, champions = []):\n",
    "        abilities = [ self.getChampionAbilities(ch) for ch in champions ]\n",
    "        return self.aggregateAbilities(abilities)\n",
    "    \n",
    "    def extractRecommendations(self, titles, rec):\n",
    "        rec = normalize(rec, norm='max') * 2\n",
    "        rec = np.around( rec, 0 )\n",
    "        return { titles[i]: rec[0][i]  for i in range(len(rec[0])) if rec[0][i] > 0 }, rec[0]\n",
    "            \n",
    "    def recommend(self, players_team = [], players_adv = [], model_ty = 'conv1D', display = True, is_abilities = False):\n",
    "        if len(players_team) != len(players_adv) and len(players_adv) != 3: raise ValueError(\"missing players\")\n",
    "        if model_ty != 'conv1D' and model_ty != 'conv2D' and model_ty != 'dense': raise ValueError('Wrong model type')\n",
    "        # get habilties\n",
    "        team = self.getAllChampionsAbilities(players_team) if not is_abilities else players_team\n",
    "        adv = self.getAllChampionsAbilities(players_adv) if not is_abilities else players_adv\n",
    "        \n",
    "        X = np.concatenate((team.values, adv.values))\n",
    "        x_train = None\n",
    "        if model_ty == 'conv1D': x_train = np.reshape(X, (1, 2, self.n_abilities))\n",
    "        elif model_ty == 'conv2D': x_train = np.reshape(X, (1, 1, 2, self.n_abilities))\n",
    "        else: x_train = X\n",
    "        # introduce to the model\n",
    "        y_skills = self.model_skills.predict(x_train)\n",
    "        to_print_rec, y_skills = self.extractRecommendations( team.index.values, y_skills )\n",
    "        # Show recommandations\n",
    "        if display: \n",
    "            print('the recommendations are: ')\n",
    "            pp.pprint( to_print_rec )\n",
    "        # add recommandation\n",
    "        team_total_abilities = self.aggregateAbilities([ y_skills, team ])\n",
    "\n",
    "        return y_skills, team_total_abilities\n",
    "    \n",
    "    def getRandomChampions(self, n=2):\n",
    "        rand_index = np.random.randint(0, len(self.player_skills)+1, size=n)\n",
    "        return self.player_skills.iloc[ rand_index - 1 ]\n",
    "    \n",
    "    def createAdversaryAbilitiesCombo(self, players_adv = [], real_adv_ab = []):\n",
    "        new_champs = None; new_abi = None; adv = None\n",
    "        if len(real_adv_ab) == 0:\n",
    "            n = 5 - len(players_adv)\n",
    "            adv = self.getAllChampionsAbilities(players_adv)\n",
    "            new_champs = self.getRandomChampions(n)\n",
    "            new_abi = self.aggregateAbilities(new_champs.values)\n",
    "        else :\n",
    "            adv = players_adv\n",
    "            new_abi = real_adv_ab\n",
    "        return self.aggregateAbilities([ adv, new_abi ])\n",
    "    \n",
    "    def compete(self, players_team = [], players_adv = [], model_ty = 'conv1D', display = True, real_adv_ab = [],\n",
    "                is_abilities = False, recommend=True):\n",
    "        # get teams' abilities\n",
    "        y_skills = None; team_total_abilities = None; adv_total_abilities = None;\n",
    "        if recommend: \n",
    "            y_skills, team_total_abilities = self.recommend(players_team, players_adv, model_ty, display=display, is_abilities=is_abilities)\n",
    "            adv_total_abilities = self.createAdversaryAbilitiesCombo(players_adv, real_adv_ab)\n",
    "        else:\n",
    "            team = self.getAllChampionsAbilities(players_team)\n",
    "            new_champs = self.getRandomChampions(2)\n",
    "            y_skills = self.aggregateAbilities(new_champs.values)\n",
    "            team_total_abilities = self.aggregateAbilities([ team, y_skills ])\n",
    "            adv_total_abilities = players_adv\n",
    "        \n",
    "        X = np.concatenate((team_total_abilities.values, adv_total_abilities.values))\n",
    "        X = np.reshape(X, (1, 50))\n",
    "\n",
    "        y_compete = self.model_eval.predict(X)\n",
    "        win_loose = round(y_compete[0][0])\n",
    "        \n",
    "        if display:\n",
    "            print('Won!!') if win_loose == 0 else print('Looooost!')\n",
    "        return win_loose, y_compete[0][0], y_skills, adv_total_abilities\n",
    "    \n",
    "    def simulateRandom(self, simulations = 100, compare=False, champions = 3, result_display=True, display=False):\n",
    "        scores = []; recommantations = [0] * self.n_abilities; comparisons = []\n",
    "        for i in range(simulations):\n",
    "            team = self.getRandomChampions(champions)\n",
    "            adve = self.getRandomChampions(champions)\n",
    "            win_loose, wl_by, y_skills, adv_ab = self.compete(team.index.values, adve.index.values, display=display)\n",
    "            scores.append(win_loose)\n",
    "            recommantations = recommantations + y_skills\n",
    "            if compare: \n",
    "                win_loose2, wl_by2, y_skills2, _ = self.compete(team.index.values, adv_ab, \n",
    "                                                      display=display, recommend=False)\n",
    "                #print(wl_by, wl_by2, (wl_by > wl_by2), win_loose )\n",
    "                comparisons.append( (wl_by > wl_by2) )\n",
    "            \n",
    "        mark = 1 - sum(scores) / len(scores)\n",
    "        comp_mark = 1 - sum(comparisons) / len(comparisons) if compare else 0\n",
    "        if result_display: print(f' { round(10000 * mark) / 100 } % of simulations were won')\n",
    "        if result_display and compare: print(f' { round(10000 * comp_mark) / 100 } % of simulations were won by comparing')\n",
    "        return scores, mark, recommantations, comparisons\n",
    "    \n",
    "    def simulateReal(self, df_first_3, dfwinloose, real_adv=True,  \n",
    "                     simulations=100, result_display=True, display=False):\n",
    "        scores = []\n",
    "        for i in range(simulations):\n",
    "            win33, los33, los22, win, los = self.getRealChampions( df_first_3, dfwinloose )\n",
    "            if real_adv:\n",
    "                print(los22, win33)\n",
    "                win_loose, _, y_skills = self.compete(win33, los33, display=display, real_adv_ab=los22, is_abilities=True)\n",
    "            else:\n",
    "                win_loose, _, y_skills = self.compete(win33, los33, display=display, is_abilities=True)\n",
    "            scores.append(win_loose)\n",
    "        return scores\n",
    "    \n",
    "    def getRealChampions(self, df_first_3, dfwinloose):\n",
    "        rand_index = np.random.randint(0, len(dfwinloose.index.values)+1, size=1)\n",
    "        row = dfwinloose.iloc[rand_index[0], :]\n",
    "        label = row[len(row)] #indexed with number 1-51\n",
    "        len_teams = int(len(row) - 1)\n",
    "        win = row[ 0 : int(len_teams/2) ] if label == 0 else row[ int(len_teams/2) : len_teams ]\n",
    "        los = row[ 0 : int(len_teams/2) ] if label == 1 else row[ int(len_teams/2) : len_teams ]\n",
    "        rand_team = row.name\n",
    "        row33 = df_first_3.loc[rand_team]\n",
    "        win33 = row33[ 0 : int(len_teams/2) ]\n",
    "        los33 = row33[ int(len_teams/2) : len_teams ]\n",
    "        los22 = los.subtract(los33)\n",
    "        print(los33, los22)\n",
    "        return win33, los33, los22, win, los\n",
    "        "
   ]
  },
  {
   "cell_type": "code",
   "execution_count": 20,
   "metadata": {},
   "outputs": [
    {
     "name": "stdout",
     "output_type": "stream",
     "text": [
      " 92.41 % of simulations were won\n",
      " 55.28 % of simulations were won by comparing\n"
     ]
    }
   ],
   "source": [
    "prod = LOLProduct(model_skills, model_eval, skillsdf)\n",
    "score, mark, rec, comp = prod.simulateRandom(simulations=10000, compare=True)"
   ]
  },
  {
   "cell_type": "code",
   "execution_count": 57,
   "metadata": {},
   "outputs": [],
   "source": [
    "v = pd.DataFrame(rec)"
   ]
  },
  {
   "cell_type": "code",
   "execution_count": 58,
   "metadata": {},
   "outputs": [
    {
     "data": {
      "text/plain": [
       "<matplotlib.axes._subplots.AxesSubplot at 0x7f216c80bcf8>"
      ]
     },
     "execution_count": 58,
     "metadata": {},
     "output_type": "execute_result"
    },
    {
     "data": {
      "image/png": "[encoded data removed]",
      "text/plain": [
       "<Figure size 432x288 with 1 Axes>"
      ]
     },
     "metadata": {
      "needs_background": "light"
     },
     "output_type": "display_data"
    }
   ],
   "source": [
    "v.plot(kind='bar')"
   ]
  },
  {
   "cell_type": "code",
   "execution_count": null,
   "metadata": {},
   "outputs": [],
   "source": [
    "prod = LOLProduct(model_skills, model_eval, skillsdf)\n",
    "score = prod.simulateReal(df33, dfwinloose, simulations=10000)"
   ]
  },
  {
   "cell_type": "code",
   "execution_count": 87,
   "metadata": {},
   "outputs": [
    {
     "name": "stdout",
     "output_type": "stream",
     "text": [
      "the recommendations are: \n",
      "{'attack in Long distance': 9.0,\n",
      " 'attacker (type 1)': 9.0,\n",
      " 'attacker (type 2)': 5.0,\n",
      " 'bleed': 1.0,\n",
      " 'control skill  (monocase)': 8.0,\n",
      " 'control skill (large-scale)': 2.0,\n",
      " 'cure others': 1.0,\n",
      " 'dammage in large scale': 4.0,\n",
      " 'defender': 6.0,\n",
      " 'difficulty (fault/fallibility)': 9.0,\n",
      " 'displacement': 11.0,\n",
      " 'hook': 3.0,\n",
      " 'rush': 7.0,\n",
      " 'self cure': 3.0,\n",
      " 'self shield': 4.0,\n",
      " 'shield': 2.0,\n",
      " 'start fight': 11.0,\n",
      " 'support in long distance': 2.0,\n",
      " 'telesportation': 1.0,\n",
      " 'trap陷阱': 1.0,\n",
      " '单秒 kill in one seconde': 3.0,\n",
      " '召唤师 summoner': 1.0,\n",
      " '地形change landforme': 1.0,\n",
      " '视野view': 3.0}\n"
     ]
    }
   ],
   "source": [
    "team_champs = ['Bard', 'Fiora', 'Galio']\n",
    "adv_champs = ['Nautilus', \"Vel'Koz\", 'Syndra']\n",
    "prod = LOLProduct(model_skills, model_eval, skillsdf)\n",
    "v = prod.recommend(team_champs, adv_champs)"
   ]
  },
  {
   "cell_type": "code",
   "execution_count": 123,
   "metadata": {},
   "outputs": [
    {
     "data": {
      "text/plain": [
       "0.1203"
      ]
     },
     "execution_count": 123,
     "metadata": {},
     "output_type": "execute_result"
    }
   ],
   "source": [
    "left = dfwinloose.iloc[:, :n_abilities]\n",
    "righ = dfwinloose.iloc[:, n_abilities:n_abilities*2]\n",
    "label = dfwinloose.iloc[:, n_abilities*2:n_abilities*2+1 ]\n",
    "X = np.concatenate((left.values, righ.values), 1)\n",
    "Y = label.values"
   ]
  },
  {
   "cell_type": "code",
   "execution_count": 12,
   "metadata": {},
   "outputs": [
    {
     "data": {
      "text/plain": [
       "array([[0.5       , 0.83333333, 1.        ]])"
      ]
     },
     "execution_count": 12,
     "metadata": {},
     "output_type": "execute_result"
    }
   ],
   "source": [
    "a = np.array([3, 5, 6]).reshape(1,-1)\n",
    "normalize(a, norm='max')"
   ]
  },
  {
   "cell_type": "code",
   "execution_count": 72,
   "metadata": {},
   "outputs": [
    {
     "data": {
      "text/html": [
       "<div>\n",
       "<style scoped>\n",
       "    .dataframe tbody tr th:only-of-type {\n",
       "        vertical-align: middle;\n",
       "    }\n",
       "\n",
       "    .dataframe tbody tr th {\n",
       "        vertical-align: top;\n",
       "    }\n",
       "\n",
       "    .dataframe thead th {\n",
       "        text-align: right;\n",
       "    }\n",
       "</style>\n",
       "<table border=\"1\" class=\"dataframe\">\n",
       "  <thead>\n",
       "    <tr style=\"text-align: right;\">\n",
       "      <th></th>\n",
       "      <th>difficulty (fault/fallibility)</th>\n",
       "      <th>defender</th>\n",
       "      <th>attacker (type 1)</th>\n",
       "      <th>attacker (type 2)</th>\n",
       "      <th>control skill (large-scale)</th>\n",
       "      <th>control skill  (monocase)</th>\n",
       "      <th>displacement</th>\n",
       "      <th>telesportation</th>\n",
       "      <th>telesportation with others</th>\n",
       "      <th>support in long distance</th>\n",
       "      <th>...</th>\n",
       "      <th>shield</th>\n",
       "      <th>hook</th>\n",
       "      <th>trap陷阱</th>\n",
       "      <th>rush</th>\n",
       "      <th>dammage in large scale</th>\n",
       "      <th>视野view</th>\n",
       "      <th>地形change landforme</th>\n",
       "      <th>召唤师 summoner</th>\n",
       "      <th>单秒 kill in one seconde</th>\n",
       "      <th>bleed</th>\n",
       "    </tr>\n",
       "    <tr>\n",
       "      <th>championName</th>\n",
       "      <th></th>\n",
       "      <th></th>\n",
       "      <th></th>\n",
       "      <th></th>\n",
       "      <th></th>\n",
       "      <th></th>\n",
       "      <th></th>\n",
       "      <th></th>\n",
       "      <th></th>\n",
       "      <th></th>\n",
       "      <th></th>\n",
       "      <th></th>\n",
       "      <th></th>\n",
       "      <th></th>\n",
       "      <th></th>\n",
       "      <th></th>\n",
       "      <th></th>\n",
       "      <th></th>\n",
       "      <th></th>\n",
       "      <th></th>\n",
       "      <th></th>\n",
       "    </tr>\n",
       "  </thead>\n",
       "  <tbody>\n",
       "    <tr>\n",
       "      <td>Jayce</td>\n",
       "      <td>1.0</td>\n",
       "      <td>0.0</td>\n",
       "      <td>1.0</td>\n",
       "      <td>0.0</td>\n",
       "      <td>0.0</td>\n",
       "      <td>0.0</td>\n",
       "      <td>0.0</td>\n",
       "      <td>0.0</td>\n",
       "      <td>0.0</td>\n",
       "      <td>0.0</td>\n",
       "      <td>...</td>\n",
       "      <td>0.0</td>\n",
       "      <td>0.0</td>\n",
       "      <td>0.0</td>\n",
       "      <td>0.0</td>\n",
       "      <td>0.0</td>\n",
       "      <td>0.0</td>\n",
       "      <td>0.0</td>\n",
       "      <td>0.0</td>\n",
       "      <td>0.0</td>\n",
       "      <td>0.0</td>\n",
       "    </tr>\n",
       "    <tr>\n",
       "      <td>Azir</td>\n",
       "      <td>1.0</td>\n",
       "      <td>0.0</td>\n",
       "      <td>0.0</td>\n",
       "      <td>1.0</td>\n",
       "      <td>0.0</td>\n",
       "      <td>1.0</td>\n",
       "      <td>1.0</td>\n",
       "      <td>0.0</td>\n",
       "      <td>0.0</td>\n",
       "      <td>0.0</td>\n",
       "      <td>...</td>\n",
       "      <td>0.0</td>\n",
       "      <td>1.0</td>\n",
       "      <td>0.0</td>\n",
       "      <td>1.0</td>\n",
       "      <td>0.0</td>\n",
       "      <td>0.0</td>\n",
       "      <td>0.0</td>\n",
       "      <td>0.0</td>\n",
       "      <td>0.0</td>\n",
       "      <td>0.0</td>\n",
       "    </tr>\n",
       "    <tr>\n",
       "      <td>Alistar</td>\n",
       "      <td>1.0</td>\n",
       "      <td>1.0</td>\n",
       "      <td>0.0</td>\n",
       "      <td>0.0</td>\n",
       "      <td>0.0</td>\n",
       "      <td>1.0</td>\n",
       "      <td>1.0</td>\n",
       "      <td>0.0</td>\n",
       "      <td>0.0</td>\n",
       "      <td>0.0</td>\n",
       "      <td>...</td>\n",
       "      <td>0.0</td>\n",
       "      <td>0.0</td>\n",
       "      <td>0.0</td>\n",
       "      <td>0.0</td>\n",
       "      <td>0.0</td>\n",
       "      <td>0.0</td>\n",
       "      <td>0.0</td>\n",
       "      <td>0.0</td>\n",
       "      <td>0.0</td>\n",
       "      <td>0.0</td>\n",
       "    </tr>\n",
       "  </tbody>\n",
       "</table>\n",
       "<p>3 rows × 25 columns</p>\n",
       "</div>"
      ],
      "text/plain": [
       "              difficulty (fault/fallibility)  defender  attacker (type 1)  \\\n",
       "championName                                                                \n",
       "Jayce                                    1.0       0.0                1.0   \n",
       "Azir                                     1.0       0.0                0.0   \n",
       "Alistar                                  1.0       1.0                0.0   \n",
       "\n",
       "              attacker (type 2)  control skill (large-scale)  \\\n",
       "championName                                                   \n",
       "Jayce                       0.0                          0.0   \n",
       "Azir                        1.0                          0.0   \n",
       "Alistar                     0.0                          0.0   \n",
       "\n",
       "              control skill  (monocase)  displacement  telesportation  \\\n",
       "championName                                                            \n",
       "Jayce                               0.0           0.0             0.0   \n",
       "Azir                                1.0           1.0             0.0   \n",
       "Alistar                             1.0           1.0             0.0   \n",
       "\n",
       "              telesportation with others  support in long distance  ...  \\\n",
       "championName                                                        ...   \n",
       "Jayce                                0.0                       0.0  ...   \n",
       "Azir                                 0.0                       0.0  ...   \n",
       "Alistar                              0.0                       0.0  ...   \n",
       "\n",
       "              shield  hook  trap陷阱  rush  dammage in large scale  视野view  \\\n",
       "championName                                                               \n",
       "Jayce            0.0   0.0     0.0   0.0                     0.0     0.0   \n",
       "Azir             0.0   1.0     0.0   1.0                     0.0     0.0   \n",
       "Alistar          0.0   0.0     0.0   0.0                     0.0     0.0   \n",
       "\n",
       "              地形change landforme  召唤师 summoner  单秒 kill in one seconde  bleed  \n",
       "championName                                                                   \n",
       "Jayce                        0.0           0.0                     0.0    0.0  \n",
       "Azir                         0.0           0.0                     0.0    0.0  \n",
       "Alistar                      0.0           0.0                     0.0    0.0  \n",
       "\n",
       "[3 rows x 25 columns]"
      ]
     },
     "execution_count": 72,
     "metadata": {},
     "output_type": "execute_result"
    }
   ],
   "source": [
    "prod.getRandomChampions(3)"
   ]
  },
  {
   "cell_type": "code",
   "execution_count": 182,
   "metadata": {},
   "outputs": [
    {
     "name": "stdout",
     "output_type": "stream",
     "text": [
      "[40664]\n",
      "2289454189 2289454189\n",
      "[2 2 2 0 0 3 1 0 0 0 1 2 0 0 1 0 1 0 2 0 0 0 0 0 0 2 3 2 0 1 3 3 0 0 0 1 4\n",
      " 0 0 1 0 2 0 2 0 0 0 0 2 0 1]\n",
      "[1 1 1 0 0 2 1 0 0 0 0 1 0 0 1 0 0 0 2 0 0 0 0 0 0 1 1 2 0 1 1 2 0 0 0 1 2\n",
      " 0 0 0 0 0 0 1 0 0 0 0 0 0 1 1 1 0 0 1 0 0 0 0 1 1 0 0 0 0 1 0 1 0 0 0 0 2\n",
      " 0]\n",
      "[2 2 2 0 0 3 1 0 0 0 1 2 0 0 1 0 1 0 2 0 0 0 0 0 0]\n",
      "[1 1 2 0 1 1 2 0 0 0 1 2 0 0 0 0 0 0 1 0 0 0 0 0 0]\n",
      "[ 1  1  0  0 -1  2 -1  0  0  0  0  0  0  0  1  0  1  0  1  0  0  0  0  0\n",
      "  0]\n"
     ]
    }
   ],
   "source": [
    "tot_index = len(dfwinloose.index.values)\n",
    "rand_index = np.random.randint(0, len(dfwinloose.index.values)+1, size=1)\n",
    "print(rand_index)\n",
    "row = dfwinloose.iloc[rand_index[0], :]\n",
    "label = int(row[len(row)]) #indexed with number 1-51\n",
    "len_teams = int(len(row) - 1)\n",
    "win = row[ 0 : int(len_teams/2) ] if label == 0 else row[ int(len_teams/2) : len_teams ]\n",
    "los = row[ 0 : int(len_teams/2) ] if label == 1 else row[ int(len_teams/2) : len_teams ]\n",
    "row33 = df33.loc[ row.name ]\n",
    "win33 = row33[ 0 : int(len_teams/2) ]\n",
    "los33 = row33[ int(len_teams/2) : len_teams ]\n",
    "los22 = los.values - los33.values\n",
    "print(row.name, row33.name)\n",
    "print(row.values)\n",
    "print(row33.values)\n",
    "print(los.values)\n",
    "print(los33.values)\n",
    "print(los22)\n",
    "\n"
   ]
  },
  {
   "cell_type": "code",
   "execution_count": 143,
   "metadata": {},
   "outputs": [
    {
     "data": {
      "text/plain": [
       "25"
      ]
     },
     "execution_count": 143,
     "metadata": {},
     "output_type": "execute_result"
    }
   ],
   "source": [
    "len(los33)"
   ]
  },
  {
   "cell_type": "code",
   "execution_count": 68,
   "metadata": {},
   "outputs": [
    {
     "data": {
      "text/plain": [
       "26    2\n",
       "27    2\n",
       "28    1\n",
       "29    1\n",
       "30    0\n",
       "31    2\n",
       "32    2\n",
       "33    1\n",
       "34    0\n",
       "35    1\n",
       "36    3\n",
       "37    2\n",
       "38    1\n",
       "39    0\n",
       "40    1\n",
       "41    1\n",
       "42    2\n",
       "43    0\n",
       "44    1\n",
       "45    2\n",
       "46    1\n",
       "47    1\n",
       "48    0\n",
       "49    0\n",
       "50    0\n",
       "Name: 2348298435, dtype: int64"
      ]
     },
     "execution_count": 68,
     "metadata": {},
     "output_type": "execute_result"
    }
   ],
   "source": [
    "los33"
   ]
  },
  {
   "cell_type": "code",
   "execution_count": 69,
   "metadata": {},
   "outputs": [
    {
     "data": {
      "text/plain": [
       "26    2\n",
       "27    2\n",
       "28    1\n",
       "29    1\n",
       "30    0\n",
       "31    2\n",
       "32    2\n",
       "33    1\n",
       "34    0\n",
       "35    1\n",
       "36    3\n",
       "37    2\n",
       "38    1\n",
       "39    0\n",
       "40    1\n",
       "41    1\n",
       "42    2\n",
       "43    0\n",
       "44    1\n",
       "45    2\n",
       "46    1\n",
       "47    1\n",
       "48    0\n",
       "49    0\n",
       "50    0\n",
       "Name: 2348298435, dtype: int64"
      ]
     },
     "execution_count": 69,
     "metadata": {},
     "output_type": "execute_result"
    }
   ],
   "source": [
    "los"
   ]
  },
  {
   "cell_type": "code",
   "execution_count": 49,
   "metadata": {},
   "outputs": [
    {
     "data": {
      "text/html": [
       "<div>\n",
       "<style scoped>\n",
       "    .dataframe tbody tr th:only-of-type {\n",
       "        vertical-align: middle;\n",
       "    }\n",
       "\n",
       "    .dataframe tbody tr th {\n",
       "        vertical-align: top;\n",
       "    }\n",
       "\n",
       "    .dataframe thead th {\n",
       "        text-align: right;\n",
       "    }\n",
       "</style>\n",
       "<table border=\"1\" class=\"dataframe\">\n",
       "  <thead>\n",
       "    <tr style=\"text-align: right;\">\n",
       "      <th></th>\n",
       "      <th>difficulty (fault/fallibility)</th>\n",
       "      <th>defender</th>\n",
       "      <th>attacker (type 1)</th>\n",
       "      <th>attacker (type 2)</th>\n",
       "      <th>control skill (large-scale)</th>\n",
       "      <th>control skill  (monocase)</th>\n",
       "      <th>displacement</th>\n",
       "      <th>telesportation</th>\n",
       "      <th>telesportation with others</th>\n",
       "      <th>support in long distance</th>\n",
       "      <th>...</th>\n",
       "      <th>shield</th>\n",
       "      <th>hook</th>\n",
       "      <th>trap陷阱</th>\n",
       "      <th>rush</th>\n",
       "      <th>dammage in large scale</th>\n",
       "      <th>视野view</th>\n",
       "      <th>地形change landforme</th>\n",
       "      <th>召唤师 summoner</th>\n",
       "      <th>单秒 kill in one seconde</th>\n",
       "      <th>bleed</th>\n",
       "    </tr>\n",
       "    <tr>\n",
       "      <th>championName</th>\n",
       "      <th></th>\n",
       "      <th></th>\n",
       "      <th></th>\n",
       "      <th></th>\n",
       "      <th></th>\n",
       "      <th></th>\n",
       "      <th></th>\n",
       "      <th></th>\n",
       "      <th></th>\n",
       "      <th></th>\n",
       "      <th></th>\n",
       "      <th></th>\n",
       "      <th></th>\n",
       "      <th></th>\n",
       "      <th></th>\n",
       "      <th></th>\n",
       "      <th></th>\n",
       "      <th></th>\n",
       "      <th></th>\n",
       "      <th></th>\n",
       "      <th></th>\n",
       "    </tr>\n",
       "  </thead>\n",
       "  <tbody>\n",
       "    <tr>\n",
       "      <td>Annie</td>\n",
       "      <td>0.0</td>\n",
       "      <td>0.0</td>\n",
       "      <td>0.0</td>\n",
       "      <td>1.0</td>\n",
       "      <td>1.0</td>\n",
       "      <td>1.0</td>\n",
       "      <td>0.0</td>\n",
       "      <td>0.0</td>\n",
       "      <td>0.0</td>\n",
       "      <td>0.0</td>\n",
       "      <td>...</td>\n",
       "      <td>0.0</td>\n",
       "      <td>0.0</td>\n",
       "      <td>0.0</td>\n",
       "      <td>0.0</td>\n",
       "      <td>1.0</td>\n",
       "      <td>0.0</td>\n",
       "      <td>0.0</td>\n",
       "      <td>1.0</td>\n",
       "      <td>1.0</td>\n",
       "      <td>0.0</td>\n",
       "    </tr>\n",
       "    <tr>\n",
       "      <td>Olaf</td>\n",
       "      <td>0.0</td>\n",
       "      <td>1.0</td>\n",
       "      <td>1.0</td>\n",
       "      <td>0.0</td>\n",
       "      <td>0.0</td>\n",
       "      <td>0.0</td>\n",
       "      <td>0.0</td>\n",
       "      <td>0.0</td>\n",
       "      <td>0.0</td>\n",
       "      <td>0.0</td>\n",
       "      <td>...</td>\n",
       "      <td>0.0</td>\n",
       "      <td>0.0</td>\n",
       "      <td>0.0</td>\n",
       "      <td>1.0</td>\n",
       "      <td>0.0</td>\n",
       "      <td>0.0</td>\n",
       "      <td>0.0</td>\n",
       "      <td>0.0</td>\n",
       "      <td>0.0</td>\n",
       "      <td>0.0</td>\n",
       "    </tr>\n",
       "    <tr>\n",
       "      <td>Galio</td>\n",
       "      <td>0.0</td>\n",
       "      <td>1.0</td>\n",
       "      <td>0.0</td>\n",
       "      <td>0.0</td>\n",
       "      <td>1.0</td>\n",
       "      <td>1.0</td>\n",
       "      <td>1.0</td>\n",
       "      <td>1.0</td>\n",
       "      <td>0.0</td>\n",
       "      <td>1.0</td>\n",
       "      <td>...</td>\n",
       "      <td>0.0</td>\n",
       "      <td>1.0</td>\n",
       "      <td>0.0</td>\n",
       "      <td>0.0</td>\n",
       "      <td>0.0</td>\n",
       "      <td>0.0</td>\n",
       "      <td>0.0</td>\n",
       "      <td>0.0</td>\n",
       "      <td>0.0</td>\n",
       "      <td>0.0</td>\n",
       "    </tr>\n",
       "    <tr>\n",
       "      <td>Twisted Fate</td>\n",
       "      <td>1.0</td>\n",
       "      <td>0.0</td>\n",
       "      <td>0.0</td>\n",
       "      <td>1.0</td>\n",
       "      <td>0.0</td>\n",
       "      <td>1.0</td>\n",
       "      <td>0.0</td>\n",
       "      <td>1.0</td>\n",
       "      <td>0.0</td>\n",
       "      <td>1.0</td>\n",
       "      <td>...</td>\n",
       "      <td>0.0</td>\n",
       "      <td>0.0</td>\n",
       "      <td>0.0</td>\n",
       "      <td>0.0</td>\n",
       "      <td>0.0</td>\n",
       "      <td>1.0</td>\n",
       "      <td>0.0</td>\n",
       "      <td>0.0</td>\n",
       "      <td>0.0</td>\n",
       "      <td>0.0</td>\n",
       "    </tr>\n",
       "    <tr>\n",
       "      <td>Xin Zhao</td>\n",
       "      <td>0.0</td>\n",
       "      <td>1.0</td>\n",
       "      <td>1.0</td>\n",
       "      <td>0.0</td>\n",
       "      <td>0.0</td>\n",
       "      <td>1.0</td>\n",
       "      <td>1.0</td>\n",
       "      <td>0.0</td>\n",
       "      <td>0.0</td>\n",
       "      <td>0.0</td>\n",
       "      <td>...</td>\n",
       "      <td>0.0</td>\n",
       "      <td>0.0</td>\n",
       "      <td>0.0</td>\n",
       "      <td>1.0</td>\n",
       "      <td>0.0</td>\n",
       "      <td>0.0</td>\n",
       "      <td>0.0</td>\n",
       "      <td>0.0</td>\n",
       "      <td>0.0</td>\n",
       "      <td>0.0</td>\n",
       "    </tr>\n",
       "    <tr>\n",
       "      <td>...</td>\n",
       "      <td>...</td>\n",
       "      <td>...</td>\n",
       "      <td>...</td>\n",
       "      <td>...</td>\n",
       "      <td>...</td>\n",
       "      <td>...</td>\n",
       "      <td>...</td>\n",
       "      <td>...</td>\n",
       "      <td>...</td>\n",
       "      <td>...</td>\n",
       "      <td>...</td>\n",
       "      <td>...</td>\n",
       "      <td>...</td>\n",
       "      <td>...</td>\n",
       "      <td>...</td>\n",
       "      <td>...</td>\n",
       "      <td>...</td>\n",
       "      <td>...</td>\n",
       "      <td>...</td>\n",
       "      <td>...</td>\n",
       "      <td>...</td>\n",
       "    </tr>\n",
       "    <tr>\n",
       "      <td>Azir</td>\n",
       "      <td>1.0</td>\n",
       "      <td>0.0</td>\n",
       "      <td>0.0</td>\n",
       "      <td>1.0</td>\n",
       "      <td>0.0</td>\n",
       "      <td>1.0</td>\n",
       "      <td>1.0</td>\n",
       "      <td>0.0</td>\n",
       "      <td>0.0</td>\n",
       "      <td>0.0</td>\n",
       "      <td>...</td>\n",
       "      <td>0.0</td>\n",
       "      <td>1.0</td>\n",
       "      <td>0.0</td>\n",
       "      <td>1.0</td>\n",
       "      <td>0.0</td>\n",
       "      <td>0.0</td>\n",
       "      <td>0.0</td>\n",
       "      <td>0.0</td>\n",
       "      <td>0.0</td>\n",
       "      <td>0.0</td>\n",
       "    </tr>\n",
       "    <tr>\n",
       "      <td>Thresh</td>\n",
       "      <td>1.0</td>\n",
       "      <td>1.0</td>\n",
       "      <td>0.0</td>\n",
       "      <td>0.0</td>\n",
       "      <td>0.0</td>\n",
       "      <td>1.0</td>\n",
       "      <td>1.0</td>\n",
       "      <td>0.0</td>\n",
       "      <td>0.0</td>\n",
       "      <td>0.0</td>\n",
       "      <td>...</td>\n",
       "      <td>1.0</td>\n",
       "      <td>1.0</td>\n",
       "      <td>0.0</td>\n",
       "      <td>0.0</td>\n",
       "      <td>0.0</td>\n",
       "      <td>1.0</td>\n",
       "      <td>0.0</td>\n",
       "      <td>0.0</td>\n",
       "      <td>0.0</td>\n",
       "      <td>0.0</td>\n",
       "    </tr>\n",
       "    <tr>\n",
       "      <td>Rek'Sai</td>\n",
       "      <td>1.0</td>\n",
       "      <td>0.0</td>\n",
       "      <td>1.0</td>\n",
       "      <td>0.0</td>\n",
       "      <td>0.0</td>\n",
       "      <td>0.0</td>\n",
       "      <td>1.0</td>\n",
       "      <td>1.0</td>\n",
       "      <td>0.0</td>\n",
       "      <td>1.0</td>\n",
       "      <td>...</td>\n",
       "      <td>0.0</td>\n",
       "      <td>0.0</td>\n",
       "      <td>0.0</td>\n",
       "      <td>1.0</td>\n",
       "      <td>0.0</td>\n",
       "      <td>0.0</td>\n",
       "      <td>0.0</td>\n",
       "      <td>0.0</td>\n",
       "      <td>0.0</td>\n",
       "      <td>0.0</td>\n",
       "    </tr>\n",
       "    <tr>\n",
       "      <td>Kalista</td>\n",
       "      <td>1.0</td>\n",
       "      <td>0.0</td>\n",
       "      <td>1.0</td>\n",
       "      <td>0.0</td>\n",
       "      <td>0.0</td>\n",
       "      <td>0.0</td>\n",
       "      <td>1.0</td>\n",
       "      <td>0.0</td>\n",
       "      <td>0.0</td>\n",
       "      <td>0.0</td>\n",
       "      <td>...</td>\n",
       "      <td>0.0</td>\n",
       "      <td>0.0</td>\n",
       "      <td>1.0</td>\n",
       "      <td>1.0</td>\n",
       "      <td>0.0</td>\n",
       "      <td>1.0</td>\n",
       "      <td>0.0</td>\n",
       "      <td>0.0</td>\n",
       "      <td>0.0</td>\n",
       "      <td>0.0</td>\n",
       "    </tr>\n",
       "    <tr>\n",
       "      <td>Bard</td>\n",
       "      <td>1.0</td>\n",
       "      <td>0.0</td>\n",
       "      <td>0.0</td>\n",
       "      <td>0.0</td>\n",
       "      <td>0.0</td>\n",
       "      <td>1.0</td>\n",
       "      <td>0.0</td>\n",
       "      <td>0.0</td>\n",
       "      <td>0.0</td>\n",
       "      <td>1.0</td>\n",
       "      <td>...</td>\n",
       "      <td>0.0</td>\n",
       "      <td>0.0</td>\n",
       "      <td>0.0</td>\n",
       "      <td>0.0</td>\n",
       "      <td>0.0</td>\n",
       "      <td>1.0</td>\n",
       "      <td>1.0</td>\n",
       "      <td>0.0</td>\n",
       "      <td>0.0</td>\n",
       "      <td>0.0</td>\n",
       "    </tr>\n",
       "  </tbody>\n",
       "</table>\n",
       "<p>127 rows × 25 columns</p>\n",
       "</div>"
      ],
      "text/plain": [
       "              difficulty (fault/fallibility)  defender  attacker (type 1)  \\\n",
       "championName                                                                \n",
       "Annie                                    0.0       0.0                0.0   \n",
       "Olaf                                     0.0       1.0                1.0   \n",
       "Galio                                    0.0       1.0                0.0   \n",
       "Twisted Fate                             1.0       0.0                0.0   \n",
       "Xin Zhao                                 0.0       1.0                1.0   \n",
       "...                                      ...       ...                ...   \n",
       "Azir                                     1.0       0.0                0.0   \n",
       "Thresh                                   1.0       1.0                0.0   \n",
       "Rek'Sai                                  1.0       0.0                1.0   \n",
       "Kalista                                  1.0       0.0                1.0   \n",
       "Bard                                     1.0       0.0                0.0   \n",
       "\n",
       "              attacker (type 2)  control skill (large-scale)  \\\n",
       "championName                                                   \n",
       "Annie                       1.0                          1.0   \n",
       "Olaf                        0.0                          0.0   \n",
       "Galio                       0.0                          1.0   \n",
       "Twisted Fate                1.0                          0.0   \n",
       "Xin Zhao                    0.0                          0.0   \n",
       "...                         ...                          ...   \n",
       "Azir                        1.0                          0.0   \n",
       "Thresh                      0.0                          0.0   \n",
       "Rek'Sai                     0.0                          0.0   \n",
       "Kalista                     0.0                          0.0   \n",
       "Bard                        0.0                          0.0   \n",
       "\n",
       "              control skill  (monocase)  displacement  telesportation  \\\n",
       "championName                                                            \n",
       "Annie                               1.0           0.0             0.0   \n",
       "Olaf                                0.0           0.0             0.0   \n",
       "Galio                               1.0           1.0             1.0   \n",
       "Twisted Fate                        1.0           0.0             1.0   \n",
       "Xin Zhao                            1.0           1.0             0.0   \n",
       "...                                 ...           ...             ...   \n",
       "Azir                                1.0           1.0             0.0   \n",
       "Thresh                              1.0           1.0             0.0   \n",
       "Rek'Sai                             0.0           1.0             1.0   \n",
       "Kalista                             0.0           1.0             0.0   \n",
       "Bard                                1.0           0.0             0.0   \n",
       "\n",
       "              telesportation with others  support in long distance  ...  \\\n",
       "championName                                                        ...   \n",
       "Annie                                0.0                       0.0  ...   \n",
       "Olaf                                 0.0                       0.0  ...   \n",
       "Galio                                0.0                       1.0  ...   \n",
       "Twisted Fate                         0.0                       1.0  ...   \n",
       "Xin Zhao                             0.0                       0.0  ...   \n",
       "...                                  ...                       ...  ...   \n",
       "Azir                                 0.0                       0.0  ...   \n",
       "Thresh                               0.0                       0.0  ...   \n",
       "Rek'Sai                              0.0                       1.0  ...   \n",
       "Kalista                              0.0                       0.0  ...   \n",
       "Bard                                 0.0                       1.0  ...   \n",
       "\n",
       "              shield  hook  trap陷阱  rush  dammage in large scale  视野view  \\\n",
       "championName                                                               \n",
       "Annie            0.0   0.0     0.0   0.0                     1.0     0.0   \n",
       "Olaf             0.0   0.0     0.0   1.0                     0.0     0.0   \n",
       "Galio            0.0   1.0     0.0   0.0                     0.0     0.0   \n",
       "Twisted Fate     0.0   0.0     0.0   0.0                     0.0     1.0   \n",
       "Xin Zhao         0.0   0.0     0.0   1.0                     0.0     0.0   \n",
       "...              ...   ...     ...   ...                     ...     ...   \n",
       "Azir             0.0   1.0     0.0   1.0                     0.0     0.0   \n",
       "Thresh           1.0   1.0     0.0   0.0                     0.0     1.0   \n",
       "Rek'Sai          0.0   0.0     0.0   1.0                     0.0     0.0   \n",
       "Kalista          0.0   0.0     1.0   1.0                     0.0     1.0   \n",
       "Bard             0.0   0.0     0.0   0.0                     0.0     1.0   \n",
       "\n",
       "              地形change landforme  召唤师 summoner  单秒 kill in one seconde  bleed  \n",
       "championName                                                                   \n",
       "Annie                        0.0           1.0                     1.0    0.0  \n",
       "Olaf                         0.0           0.0                     0.0    0.0  \n",
       "Galio                        0.0           0.0                     0.0    0.0  \n",
       "Twisted Fate                 0.0           0.0                     0.0    0.0  \n",
       "Xin Zhao                     0.0           0.0                     0.0    0.0  \n",
       "...                          ...           ...                     ...    ...  \n",
       "Azir                         0.0           0.0                     0.0    0.0  \n",
       "Thresh                       0.0           0.0                     0.0    0.0  \n",
       "Rek'Sai                      0.0           0.0                     0.0    0.0  \n",
       "Kalista                      0.0           0.0                     0.0    0.0  \n",
       "Bard                         1.0           0.0                     0.0    0.0  \n",
       "\n",
       "[127 rows x 25 columns]"
      ]
     },
     "execution_count": 49,
     "metadata": {},
     "output_type": "execute_result"
    }
   ],
   "source": [
    "skillsdf"
   ]
  },
  {
   "cell_type": "code",
   "execution_count": 41,
   "metadata": {},
   "outputs": [],
   "source": [
    "v = np.around(v, 0)"
   ]
  },
  {
   "cell_type": "code",
   "execution_count": 54,
   "metadata": {},
   "outputs": [
    {
     "data": {
      "text/plain": [
       "array([0., 2., 1., 1., 2., 2., 1., 1., 0., 1., 1., 2., 0., 0., 1., 0., 1.,\n",
       "       0., 1., 1., 0., 0., 1., 1., 0.])"
      ]
     },
     "execution_count": 54,
     "metadata": {},
     "output_type": "execute_result"
    }
   ],
   "source": [
    "team_ab.values"
   ]
  },
  {
   "cell_type": "code",
   "execution_count": 37,
   "metadata": {},
   "outputs": [
    {
     "data": {
      "text/plain": [
       "{'difficulty (fault/fallibility)': 2.0,\n",
       " 'control skill  (monocase)': 3.0,\n",
       " 'displacement': 1.0,\n",
       " 'start fight': 4.0}"
      ]
     },
     "execution_count": 37,
     "metadata": {},
     "output_type": "execute_result"
    }
   ],
   "source": [
    "abilities = team_ab.index.values\n",
    "{ abilities[i]: v[0][i]  for i in range(len(v[0])) if v[0][i] > 0 }\n"
   ]
  },
  {
   "cell_type": "code",
   "execution_count": 91,
   "metadata": {},
   "outputs": [],
   "source": [
    "prod = LOLProduct(model_skills, model_eval, skillsdf)"
   ]
  },
  {
   "cell_type": "code",
   "execution_count": 102,
   "metadata": {},
   "outputs": [
    {
     "data": {
      "text/plain": [
       "array([1., 1., 1., 2., 1., 3., 1., 1., 0., 1., 2., 3., 0., 0., 0., 0., 0.,\n",
       "       0., 1., 1., 1., 0., 1., 1., 0.])"
      ]
     },
     "execution_count": 102,
     "metadata": {},
     "output_type": "execute_result"
    }
   ],
   "source": [
    "adv_ab.values"
   ]
  },
  {
   "cell_type": "code",
   "execution_count": 111,
   "metadata": {},
   "outputs": [],
   "source": [
    "X = np.concatenate((team_ab.values, adv_ab.values))"
   ]
  },
  {
   "cell_type": "code",
   "execution_count": 109,
   "metadata": {},
   "outputs": [
    {
     "data": {
      "text/plain": [
       "array([0., 2., 1., 1., 2., 2., 1., 1., 0., 1., 1., 2., 0., 0., 1., 0., 1.,\n",
       "       0., 1., 1., 0., 0., 1., 1., 0.])"
      ]
     },
     "execution_count": 109,
     "metadata": {},
     "output_type": "execute_result"
    }
   ],
   "source": []
  },
  {
   "cell_type": "code",
   "execution_count": 105,
   "metadata": {},
   "outputs": [
    {
     "data": {
      "text/plain": [
       "array([0., 2., 1., 1., 2., 2., 1., 1., 0., 1., 1., 2., 0., 0., 1., 0., 1.,\n",
       "       0., 1., 1., 0., 0., 1., 1., 0., 1., 1., 1., 2., 1., 3., 1., 1., 0.,\n",
       "       1., 2., 3., 0., 0., 0., 0., 0., 0., 1., 1., 1., 0., 1., 1., 0.])"
      ]
     },
     "execution_count": 105,
     "metadata": {},
     "output_type": "execute_result"
    }
   ],
   "source": [
    "team_ab"
   ]
  },
  {
   "cell_type": "code",
   "execution_count": 113,
   "metadata": {},
   "outputs": [],
   "source": [
    "x_train_c1d = np.reshape(X, (2, n_abilities))"
   ]
  },
  {
   "cell_type": "code",
   "execution_count": 114,
   "metadata": {},
   "outputs": [
    {
     "data": {
      "text/plain": [
       "array([[0., 2., 1., 1., 2., 2., 1., 1., 0., 1., 1., 2., 0., 0., 1., 0.,\n",
       "        1., 0., 1., 1., 0., 0., 1., 1., 0.],\n",
       "       [1., 1., 1., 2., 1., 3., 1., 1., 0., 1., 2., 3., 0., 0., 0., 0.,\n",
       "        0., 0., 1., 1., 1., 0., 1., 1., 0.]])"
      ]
     },
     "execution_count": 114,
     "metadata": {},
     "output_type": "execute_result"
    }
   ],
   "source": [
    "x_train_c1d"
   ]
  }
 ],
 "metadata": {
  "kernelspec": {
   "display_name": "Python 3",
   "language": "python",
   "name": "python3"
  },
  "language_info": {
   "codemirror_mode": {
    "name": "ipython",
    "version": 3
   },
   "file_extension": ".py",
   "mimetype": "text/x-python",
   "name": "python",
   "nbconvert_exporter": "python",
   "pygments_lexer": "ipython3",
   "version": "3.6.9"
  }
 },
 "nbformat": 4,
 "nbformat_minor": 2
}
